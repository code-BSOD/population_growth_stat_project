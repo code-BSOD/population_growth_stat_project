{
  "cells": [
    {
      "cell_type": "markdown",
      "metadata": {
        "id": "jH1qznXSojWz"
      },
      "source": [
        "# Data set location\n",
        "https://drive.google.com/drive/folders/1ghuOUxZWLuQaYzdSHeOjab4f8wTyOmKI?usp=sharing"
      ]
    },
    {
      "cell_type": "markdown",
      "metadata": {
        "id": "-hTdearEyK2R"
      },
      "source": [
        "For Importing Necessary Libraries"
      ]
    },
    {
      "cell_type": "code",
      "execution_count": 1,
      "metadata": {
        "id": "jzmkVJkyyAcQ",
        "vscode": {
          "languageId": "python"
        }
      },
      "outputs": [],
      "source": [
        "import pandas as pd\n",
        "import numpy as np\n",
        "import math"
      ]
    },
    {
      "cell_type": "markdown",
      "metadata": {
        "id": "kBoXhet6yPoP"
      },
      "source": [
        "For importing all the Stata data files to Pandas Library"
      ]
    },
    {
      "cell_type": "code",
      "execution_count": null,
      "metadata": {
        "id": "xqWziKOQyO-Z",
        "vscode": {
          "languageId": "python"
        }
      },
      "outputs": [],
      "source": [
        "# 2007 data\n",
        "data_7 = pd.read_stata(\"/content/drive/My Drive/Thesis Data/updated BDKR51FL.DTA\")\n",
        "# 2011 data\n",
        "data_11 = pd.read_stata(\"/content/drive/My Drive/Thesis Data/updated BDKR61FL.DTA\")\n",
        "# 2014 data\n",
        "data_14 = pd.read_stata(\"/content/drive/My Drive/Thesis Data/updated BDKR72FL.DTA\")"
      ]
    },
    {
      "cell_type": "markdown",
      "metadata": {
        "id": "TgCzCZwOzLN8"
      },
      "source": [
        "Need to add constant value 2007 to col v007"
      ]
    },
    {
      "cell_type": "code",
      "execution_count": null,
      "metadata": {
        "id": "B-9EmPgWzRnZ",
        "vscode": {
          "languageId": "python"
        }
      },
      "outputs": [],
      "source": [
        "data_7[\"v007\"] = 2007\n",
        "data_7['xyz'] = 2537.111 # GDP bla bla bla\n",
        "data_7[\"log_xyz\"] = math.log(2537.111)"
      ]
    },
    {
      "cell_type": "markdown",
      "metadata": {
        "id": "ZUPWyL7Fy5i9"
      },
      "source": [
        "Data validation checking"
      ]
    },
    {
      "cell_type": "code",
      "execution_count": null,
      "metadata": {
        "id": "ybPqxaDG8Ixg",
        "vscode": {
          "languageId": "python"
        }
      },
      "outputs": [],
      "source": [
        "data_11[\"xyz\"] = 3034.938\n",
        "data_11[\"log_xyz\"] = math.log(3034.938)"
      ]
    },
    {
      "cell_type": "code",
      "execution_count": null,
      "metadata": {
        "id": "MYXMQ70Cyov3",
        "vscode": {
          "languageId": "python"
        }
      },
      "outputs": [],
      "source": [
        "data_7.head()"
      ]
    },
    {
      "cell_type": "code",
      "execution_count": null,
      "metadata": {
        "id": "vWke4_Aay9pL",
        "vscode": {
          "languageId": "python"
        }
      },
      "outputs": [],
      "source": [
        "data_11.head()"
      ]
    },
    {
      "cell_type": "code",
      "execution_count": null,
      "metadata": {
        "id": "W8YxS82N8O0U",
        "vscode": {
          "languageId": "python"
        }
      },
      "outputs": [],
      "source": [
        "data_14[\"xyz\"] = 3511.582\n",
        "data_14[\"log_xyz\"] = math.log(3511.582)"
      ]
    },
    {
      "cell_type": "code",
      "execution_count": null,
      "metadata": {
        "id": "ZG5bRkgfy_I_",
        "vscode": {
          "languageId": "python"
        }
      },
      "outputs": [],
      "source": [
        "data_14.head()"
      ]
    },
    {
      "cell_type": "markdown",
      "metadata": {
        "id": "a-j9FFg0zbw4"
      },
      "source": [
        "Concatenating or Merging all 3 years of data"
      ]
    },
    {
      "cell_type": "code",
      "execution_count": null,
      "metadata": {
        "id": "CC9ennZJzBba",
        "vscode": {
          "languageId": "python"
        }
      },
      "outputs": [],
      "source": [
        "# concat data\n",
        "concat_data = pd.concat([data_7, data_11, data_14], join=\"inner\", ignore_index=True)"
      ]
    },
    {
      "cell_type": "markdown",
      "metadata": {
        "id": "9H7T4quPzu-x"
      },
      "source": [
        "Now we will only be selecting the necessary cols and create a new dataframe"
      ]
    },
    {
      "cell_type": "code",
      "execution_count": null,
      "metadata": {
        "id": "lE2ZhL-Ozkc6",
        "vscode": {
          "languageId": "python"
        }
      },
      "outputs": [],
      "source": [
        "selected_data = concat_data[[\"caseid\",'v190', 'v116', 'v113', 'v136', 'v025', 'v137', 'v151', 'v212', 'v501', 'v106', 'v438', 'v437', 'v445', 'v701', \"v714\", 'v704', 'hw1', 'b4', 'b0', 'v001', 'v007', 'logGDPpc', 'GDPpc','stunted', 'underweight', 'wasted', \"xyz\", 'log_xyz']]"
      ]
    },
    {
      "cell_type": "code",
      "execution_count": null,
      "metadata": {
        "id": "eqgRA2gP0AM1",
        "vscode": {
          "languageId": "python"
        }
      },
      "outputs": [],
      "source": [
        "# Checking data type and information\n",
        "selected_data.info()"
      ]
    },
    {
      "cell_type": "code",
      "execution_count": null,
      "metadata": {
        "id": "1KYZuu6Lz-sh",
        "vscode": {
          "languageId": "python"
        }
      },
      "outputs": [],
      "source": [
        "# Checking all the columns with Null/NaN values\n",
        "selected_data.isna().sum()"
      ]
    },
    {
      "cell_type": "code",
      "execution_count": null,
      "metadata": {
        "id": "u9b-Q48n0hVp",
        "vscode": {
          "languageId": "python"
        }
      },
      "outputs": [],
      "source": [
        "# Now, we are going to drop all the Null/NaN valus from the dataframe\n",
        "selected_data = selected_data.dropna()\n",
        "# Total rows dropped 2927"
      ]
    },
    {
      "cell_type": "code",
      "execution_count": null,
      "metadata": {
        "id": "KWVNsSVq0qdZ",
        "vscode": {
          "languageId": "python"
        }
      },
      "outputs": [],
      "source": [
        "# checking data again for NaN/misssing values\n",
        "selected_data.isna().sum()"
      ]
    },
    {
      "cell_type": "code",
      "execution_count": null,
      "metadata": {
        "id": "y_S1a6-c116j",
        "vscode": {
          "languageId": "python"
        }
      },
      "outputs": [],
      "source": [
        "# Checking data types for the df\n",
        "selected_data.info()"
      ]
    },
    {
      "cell_type": "markdown",
      "metadata": {
        "id": "1pOrPl9n5agI"
      },
      "source": [
        "# Converting types of columns to categorical"
      ]
    },
    {
      "cell_type": "code",
      "execution_count": null,
      "metadata": {
        "id": "eyqusNWo2IP7",
        "vscode": {
          "languageId": "python"
        }
      },
      "outputs": [],
      "source": [
        "# Converting object to type category\n",
        "# 3 cols with numerical data has textual data as well.\n",
        "# Need to remove those data first before converting to int\n",
        "\n",
        "selected_data = selected_data.astype({\"v116\": \"category\", \"v113\" : \"category\"})\n",
        "selected_data = selected_data.astype({\"v025\": \"category\", \"v501\" : \"category\"})\n",
        "selected_data = selected_data.astype({\"v106\": \"category\"})\n",
        "selected_data = selected_data.astype({\"v701\": \"category\", \"v714\" : \"category\"})\n",
        "selected_data = selected_data.astype({\"v704\": \"category\", \"b0\" : \"category\"})"
      ]
    },
    {
      "cell_type": "code",
      "execution_count": null,
      "metadata": {
        "id": "ouR7kvcn2OXb",
        "vscode": {
          "languageId": "python"
        }
      },
      "outputs": [],
      "source": [
        "selected_data.info()"
      ]
    },
    {
      "cell_type": "markdown",
      "metadata": {
        "id": "cDt1P4dr5iFL"
      },
      "source": [
        "### Finding textual data in the numerical column"
      ]
    },
    {
      "cell_type": "code",
      "execution_count": null,
      "metadata": {
        "id": "BoOV3dz54A51",
        "vscode": {
          "languageId": "python"
        }
      },
      "outputs": [],
      "source": [
        "# creating a separte df\n",
        "numeric_data = selected_data[[\"v437\", \"v438\", \"v445\"]]\n",
        "# Finding only the non numerical values\n",
        "flag_cases = numeric_data[~numeric_data.applymap(np.isreal).all(1)]\n",
        "# printing out to csv file\n",
        "flag_cases.to_csv(\"flag.csv\")"
      ]
    },
    {
      "cell_type": "markdown",
      "metadata": {
        "id": "w-X8lGdREy65"
      },
      "source": [
        "Now will remove rows that has those text datas."
      ]
    },
    {
      "cell_type": "code",
      "execution_count": null,
      "metadata": {
        "id": "oOFbsSg5FKf_",
        "vscode": {
          "languageId": "python"
        }
      },
      "outputs": [],
      "source": [
        "# all removal will be inplace\n",
        "selected_data = selected_data[~selected_data['v437'].isin(['refused', 'not present', 'other'])]\n",
        "selected_data = selected_data[~selected_data['v438'].isin(['refused', 'not present', 'other'])]\n",
        "selected_data = selected_data[~selected_data['v445'].isin(['refused', 'not present', 'other', 'flagged cases'])]"
      ]
    },
    {
      "cell_type": "code",
      "execution_count": null,
      "metadata": {
        "id": "otoHabQLFgtk",
        "vscode": {
          "languageId": "python"
        }
      },
      "outputs": [],
      "source": [
        "# Converting the remaining cols to appropriate dtypes\n",
        "selected_data = selected_data.astype({\"v437\": \"int\", \"v438\" : \"int\", \"v445\":\"int\"})"
      ]
    },
    {
      "cell_type": "code",
      "execution_count": null,
      "metadata": {
        "id": "9JYhZWbtFuHW",
        "vscode": {
          "languageId": "python"
        }
      },
      "outputs": [],
      "source": [
        "# Final check of the data types for the data frame\n",
        "selected_data.info()"
      ]
    },
    {
      "cell_type": "code",
      "execution_count": null,
      "metadata": {
        "id": "KuPOXkbrF7tH",
        "vscode": {
          "languageId": "python"
        }
      },
      "outputs": [],
      "source": [
        "final_dataset = selected_data"
      ]
    },
    {
      "cell_type": "code",
      "execution_count": null,
      "metadata": {
        "id": "MqMiAiAHF-m1",
        "vscode": {
          "languageId": "python"
        }
      },
      "outputs": [],
      "source": [
        "# Now dropping the caseid\n",
        "final_dataset.drop(\"caseid\", axis=1, inplace=True)"
      ]
    },
    {
      "cell_type": "code",
      "execution_count": null,
      "metadata": {
        "id": "eHWtyaVjGJVM",
        "vscode": {
          "languageId": "python"
        }
      },
      "outputs": [],
      "source": [
        "final_dataset.info()"
      ]
    },
    {
      "cell_type": "code",
      "execution_count": null,
      "metadata": {
        "id": "N2btaz2PGi7t",
        "vscode": {
          "languageId": "python"
        }
      },
      "outputs": [],
      "source": [
        "final_dataset.to_csv(\"final_data.csv\")"
      ]
    },
    {
      "cell_type": "code",
      "execution_count": null,
      "metadata": {
        "id": "u7qjN0N9tnFV",
        "vscode": {
          "languageId": "python"
        }
      },
      "outputs": [],
      "source": [
        "final_dataset.describe().to_csv(\"final_des_stat.csv\")"
      ]
    },
    {
      "cell_type": "markdown",
      "metadata": {
        "id": "EB79FbZbq0Yl"
      },
      "source": [
        "# Now, will work from data modified from SQL"
      ]
    },
    {
      "cell_type": "code",
      "execution_count": null,
      "metadata": {
        "id": "r1Fq5QNxq7ZA",
        "vscode": {
          "languageId": "python"
        }
      },
      "outputs": [],
      "source": [
        "ultimate_data = pd.read_csv(\"/content/bq-results-20200810-213605-eg3i3636vhdu.csv\")"
      ]
    },
    {
      "cell_type": "code",
      "execution_count": null,
      "metadata": {
        "id": "HkD1Z-qN2dVR",
        "vscode": {
          "languageId": "python"
        }
      },
      "outputs": [],
      "source": [
        "ultimate_data.to_stata(\"thesis_fix_data.dta\")"
      ]
    },
    {
      "cell_type": "code",
      "execution_count": null,
      "metadata": {
        "colab": {
          "base_uri": "https://localhost:8080/",
          "height": 622
        },
        "id": "A3t89BNcrIn5",
        "outputId": "29bdf629-1e77-4ce2-d212-525e86b7713a",
        "vscode": {
          "languageId": "python"
        }
      },
      "outputs": [
        {
          "name": "stdout",
          "output_type": "stream",
          "text": [
            "<class 'pandas.core.frame.DataFrame'>\n",
            "RangeIndex: 19752 entries, 0 to 19751\n",
            "Data columns (total 28 columns):\n",
            " #   Column                     Non-Null Count  Dtype  \n",
            "---  ------                     --------------  -----  \n",
            " 0   int64_field_0              19752 non-null  int64  \n",
            " 1   wealth_index_v190          19752 non-null  object \n",
            " 2   place_of_residence_v025    19752 non-null  object \n",
            " 3   sex_house_head_v151        19752 non-null  object \n",
            " 4   work_of_mom_v714           19752 non-null  bool   \n",
            " 5   sex_of_child_b4            19752 non-null  object \n",
            " 6   is_twin_child_b0           19752 non-null  object \n",
            " 7   cluster_numer_v001         19752 non-null  int64  \n",
            " 8   year_interview_v007        19752 non-null  int64  \n",
            " 9   logGDPpc                   19752 non-null  float64\n",
            " 10  GDPpc                      19752 non-null  float64\n",
            " 11  type_of_toilet_v116        19752 non-null  object \n",
            " 12  water_type_v113            19752 non-null  object \n",
            " 13  partner_occupation_v704    19752 non-null  bool   \n",
            " 14  partner_education_v701     19752 non-null  object \n",
            " 15  num_of_house_members_v136  19752 non-null  object \n",
            " 16  num_under_five_child_v137  19752 non-null  object \n",
            " 17  mothers_age_at_birth_v212  19752 non-null  object \n",
            " 18  maternal_height_v438       19752 non-null  object \n",
            " 19  mothers_bmi_v445           19752 non-null  object \n",
            " 20  mother_education_v701      19752 non-null  object \n",
            " 21  children_age_v212          19752 non-null  object \n",
            " 22  GDP_PC_PPP                 19752 non-null  float64\n",
            " 23  log_GDP_PC_PPP             19752 non-null  float64\n",
            " 24  mom_marital_stats_v501     19752 non-null  object \n",
            " 25  stunted                    19752 non-null  int64  \n",
            " 26  underweight                19752 non-null  int64  \n",
            " 27  wasted                     19752 non-null  int64  \n",
            "dtypes: bool(2), float64(4), int64(6), object(16)\n",
            "memory usage: 4.0+ MB\n"
          ]
        }
      ],
      "source": [
        "ultimate_data.info()"
      ]
    },
    {
      "cell_type": "code",
      "execution_count": null,
      "metadata": {
        "colab": {
          "base_uri": "https://localhost:8080/",
          "height": 218
        },
        "id": "mBtz3fDHrOnJ",
        "outputId": "638071b4-e15c-409a-88be-7ad430d51283",
        "vscode": {
          "languageId": "python"
        }
      },
      "outputs": [
        {
          "data": {
            "text/html": [
              "<div>\n",
              "<style scoped>\n",
              "    .dataframe tbody tr th:only-of-type {\n",
              "        vertical-align: middle;\n",
              "    }\n",
              "\n",
              "    .dataframe tbody tr th {\n",
              "        vertical-align: top;\n",
              "    }\n",
              "\n",
              "    .dataframe thead th {\n",
              "        text-align: right;\n",
              "    }\n",
              "</style>\n",
              "<table border=\"1\" class=\"dataframe\">\n",
              "  <thead>\n",
              "    <tr style=\"text-align: right;\">\n",
              "      <th></th>\n",
              "      <th>int64_field_0</th>\n",
              "      <th>wealth_index_v190</th>\n",
              "      <th>place_of_residence_v025</th>\n",
              "      <th>sex_house_head_v151</th>\n",
              "      <th>work_of_mom_v714</th>\n",
              "      <th>sex_of_child_b4</th>\n",
              "      <th>is_twin_child_b0</th>\n",
              "      <th>cluster_numer_v001</th>\n",
              "      <th>year_interview_v007</th>\n",
              "      <th>logGDPpc</th>\n",
              "      <th>GDPpc</th>\n",
              "      <th>type_of_toilet_v116</th>\n",
              "      <th>water_type_v113</th>\n",
              "      <th>partner_occupation_v704</th>\n",
              "      <th>partner_education_v701</th>\n",
              "      <th>num_of_house_members_v136</th>\n",
              "      <th>num_under_five_child_v137</th>\n",
              "      <th>mothers_age_at_birth_v212</th>\n",
              "      <th>maternal_height_v438</th>\n",
              "      <th>mothers_bmi_v445</th>\n",
              "      <th>mother_education_v701</th>\n",
              "      <th>children_age_v212</th>\n",
              "      <th>GDP_PC_PPP</th>\n",
              "      <th>log_GDP_PC_PPP</th>\n",
              "      <th>mom_marital_stats_v501</th>\n",
              "      <th>stunted</th>\n",
              "      <th>underweight</th>\n",
              "      <th>wasted</th>\n",
              "    </tr>\n",
              "  </thead>\n",
              "  <tbody>\n",
              "    <tr>\n",
              "      <th>19747</th>\n",
              "      <td>22621</td>\n",
              "      <td>richest</td>\n",
              "      <td>urban</td>\n",
              "      <td>male</td>\n",
              "      <td>False</td>\n",
              "      <td>male</td>\n",
              "      <td>single birth</td>\n",
              "      <td>590</td>\n",
              "      <td>2014</td>\n",
              "      <td>6.857845</td>\n",
              "      <td>951.315</td>\n",
              "      <td>improved</td>\n",
              "      <td>safe</td>\n",
              "      <td>True</td>\n",
              "      <td>higher</td>\n",
              "      <td>&gt;6</td>\n",
              "      <td>&lt;=2</td>\n",
              "      <td>20-24</td>\n",
              "      <td>&gt;=145</td>\n",
              "      <td>&gt;=18.5</td>\n",
              "      <td>secondary</td>\n",
              "      <td>48-53</td>\n",
              "      <td>3511.582</td>\n",
              "      <td>8.163822</td>\n",
              "      <td>married</td>\n",
              "      <td>0</td>\n",
              "      <td>0</td>\n",
              "      <td>0</td>\n",
              "    </tr>\n",
              "    <tr>\n",
              "      <th>19748</th>\n",
              "      <td>22627</td>\n",
              "      <td>richest</td>\n",
              "      <td>urban</td>\n",
              "      <td>male</td>\n",
              "      <td>False</td>\n",
              "      <td>male</td>\n",
              "      <td>single birth</td>\n",
              "      <td>590</td>\n",
              "      <td>2014</td>\n",
              "      <td>6.857845</td>\n",
              "      <td>951.315</td>\n",
              "      <td>improved</td>\n",
              "      <td>safe</td>\n",
              "      <td>True</td>\n",
              "      <td>higher</td>\n",
              "      <td>4-6</td>\n",
              "      <td>&lt;=2</td>\n",
              "      <td>15-19</td>\n",
              "      <td>&gt;=145</td>\n",
              "      <td>&lt;18.5</td>\n",
              "      <td>higher</td>\n",
              "      <td>24-29</td>\n",
              "      <td>3511.582</td>\n",
              "      <td>8.163822</td>\n",
              "      <td>married</td>\n",
              "      <td>0</td>\n",
              "      <td>0</td>\n",
              "      <td>0</td>\n",
              "    </tr>\n",
              "    <tr>\n",
              "      <th>19749</th>\n",
              "      <td>22628</td>\n",
              "      <td>richest</td>\n",
              "      <td>urban</td>\n",
              "      <td>male</td>\n",
              "      <td>False</td>\n",
              "      <td>female</td>\n",
              "      <td>single birth</td>\n",
              "      <td>590</td>\n",
              "      <td>2014</td>\n",
              "      <td>6.857845</td>\n",
              "      <td>951.315</td>\n",
              "      <td>improved</td>\n",
              "      <td>safe</td>\n",
              "      <td>True</td>\n",
              "      <td>higher</td>\n",
              "      <td>4-6</td>\n",
              "      <td>&lt;=2</td>\n",
              "      <td>15-19</td>\n",
              "      <td>&gt;=145</td>\n",
              "      <td>&lt;18.5</td>\n",
              "      <td>higher</td>\n",
              "      <td>54-59</td>\n",
              "      <td>3511.582</td>\n",
              "      <td>8.163822</td>\n",
              "      <td>married</td>\n",
              "      <td>0</td>\n",
              "      <td>0</td>\n",
              "      <td>0</td>\n",
              "    </tr>\n",
              "    <tr>\n",
              "      <th>19750</th>\n",
              "      <td>22629</td>\n",
              "      <td>richest</td>\n",
              "      <td>urban</td>\n",
              "      <td>female</td>\n",
              "      <td>False</td>\n",
              "      <td>female</td>\n",
              "      <td>single birth</td>\n",
              "      <td>590</td>\n",
              "      <td>2014</td>\n",
              "      <td>6.857845</td>\n",
              "      <td>951.315</td>\n",
              "      <td>improved</td>\n",
              "      <td>safe</td>\n",
              "      <td>True</td>\n",
              "      <td>secondary</td>\n",
              "      <td>4-6</td>\n",
              "      <td>&lt;=2</td>\n",
              "      <td>15-19</td>\n",
              "      <td>&lt;145</td>\n",
              "      <td>&gt;=18.5</td>\n",
              "      <td>secondary</td>\n",
              "      <td>48-53</td>\n",
              "      <td>3511.582</td>\n",
              "      <td>8.163822</td>\n",
              "      <td>married</td>\n",
              "      <td>1</td>\n",
              "      <td>1</td>\n",
              "      <td>1</td>\n",
              "    </tr>\n",
              "    <tr>\n",
              "      <th>19751</th>\n",
              "      <td>22770</td>\n",
              "      <td>richest</td>\n",
              "      <td>urban</td>\n",
              "      <td>male</td>\n",
              "      <td>False</td>\n",
              "      <td>female</td>\n",
              "      <td>single birth</td>\n",
              "      <td>600</td>\n",
              "      <td>2014</td>\n",
              "      <td>6.857845</td>\n",
              "      <td>951.315</td>\n",
              "      <td>improved</td>\n",
              "      <td>safe</td>\n",
              "      <td>True</td>\n",
              "      <td>secondary</td>\n",
              "      <td>1-3</td>\n",
              "      <td>&lt;=2</td>\n",
              "      <td>15-19</td>\n",
              "      <td>&gt;=145</td>\n",
              "      <td>&gt;=18.5</td>\n",
              "      <td>secondary</td>\n",
              "      <td>30-35</td>\n",
              "      <td>3511.582</td>\n",
              "      <td>8.163822</td>\n",
              "      <td>married</td>\n",
              "      <td>0</td>\n",
              "      <td>0</td>\n",
              "      <td>0</td>\n",
              "    </tr>\n",
              "  </tbody>\n",
              "</table>\n",
              "</div>"
            ],
            "text/plain": [
              "       int64_field_0 wealth_index_v190  ... underweight wasted\n",
              "19747          22621           richest  ...           0      0\n",
              "19748          22627           richest  ...           0      0\n",
              "19749          22628           richest  ...           0      0\n",
              "19750          22629           richest  ...           1      1\n",
              "19751          22770           richest  ...           0      0\n",
              "\n",
              "[5 rows x 28 columns]"
            ]
          },
          "execution_count": 79,
          "metadata": {
            "tags": []
          },
          "output_type": "execute_result"
        }
      ],
      "source": [
        "ultimate_data.tail()"
      ]
    },
    {
      "cell_type": "code",
      "execution_count": null,
      "metadata": {
        "colab": {
          "base_uri": "https://localhost:8080/",
          "height": 308
        },
        "id": "MeVpjSY2sGGg",
        "outputId": "50cb8e95-7b51-47ff-9426-b8e59573aa68",
        "vscode": {
          "languageId": "python"
        }
      },
      "outputs": [
        {
          "data": {
            "text/html": [
              "<div>\n",
              "<style scoped>\n",
              "    .dataframe tbody tr th:only-of-type {\n",
              "        vertical-align: middle;\n",
              "    }\n",
              "\n",
              "    .dataframe tbody tr th {\n",
              "        vertical-align: top;\n",
              "    }\n",
              "\n",
              "    .dataframe thead th {\n",
              "        text-align: right;\n",
              "    }\n",
              "</style>\n",
              "<table border=\"1\" class=\"dataframe\">\n",
              "  <thead>\n",
              "    <tr style=\"text-align: right;\">\n",
              "      <th></th>\n",
              "      <th>int64_field_0</th>\n",
              "      <th>cluster_numer_v001</th>\n",
              "      <th>year_interview_v007</th>\n",
              "      <th>logGDPpc</th>\n",
              "      <th>GDPpc</th>\n",
              "      <th>GDP_PC_PPP</th>\n",
              "      <th>log_GDP_PC_PPP</th>\n",
              "      <th>stunted</th>\n",
              "      <th>underweight</th>\n",
              "      <th>wasted</th>\n",
              "    </tr>\n",
              "  </thead>\n",
              "  <tbody>\n",
              "    <tr>\n",
              "      <th>count</th>\n",
              "      <td>19752.000000</td>\n",
              "      <td>19752.000000</td>\n",
              "      <td>19752.000000</td>\n",
              "      <td>19752.000000</td>\n",
              "      <td>19752.000000</td>\n",
              "      <td>19752.000000</td>\n",
              "      <td>19752.000000</td>\n",
              "      <td>19752.000000</td>\n",
              "      <td>19752.000000</td>\n",
              "      <td>19752.000000</td>\n",
              "    </tr>\n",
              "    <tr>\n",
              "      <th>mean</th>\n",
              "      <td>11435.579232</td>\n",
              "      <td>269.622519</td>\n",
              "      <td>2010.977876</td>\n",
              "      <td>6.713434</td>\n",
              "      <td>830.141827</td>\n",
              "      <td>3068.245587</td>\n",
              "      <td>8.020972</td>\n",
              "      <td>0.395200</td>\n",
              "      <td>0.357078</td>\n",
              "      <td>0.155124</td>\n",
              "    </tr>\n",
              "    <tr>\n",
              "      <th>std</th>\n",
              "      <td>6577.913249</td>\n",
              "      <td>173.715642</td>\n",
              "      <td>2.724181</td>\n",
              "      <td>0.128770</td>\n",
              "      <td>104.480382</td>\n",
              "      <td>380.134279</td>\n",
              "      <td>0.126516</td>\n",
              "      <td>0.488906</td>\n",
              "      <td>0.479150</td>\n",
              "      <td>0.362032</td>\n",
              "    </tr>\n",
              "    <tr>\n",
              "      <th>min</th>\n",
              "      <td>0.000000</td>\n",
              "      <td>1.000000</td>\n",
              "      <td>2007.000000</td>\n",
              "      <td>6.526968</td>\n",
              "      <td>683.323000</td>\n",
              "      <td>2537.111000</td>\n",
              "      <td>7.838781</td>\n",
              "      <td>0.000000</td>\n",
              "      <td>0.000000</td>\n",
              "      <td>0.000000</td>\n",
              "    </tr>\n",
              "    <tr>\n",
              "      <th>25%</th>\n",
              "      <td>5724.750000</td>\n",
              "      <td>121.000000</td>\n",
              "      <td>2007.000000</td>\n",
              "      <td>6.526968</td>\n",
              "      <td>683.323000</td>\n",
              "      <td>2537.111000</td>\n",
              "      <td>7.838781</td>\n",
              "      <td>0.000000</td>\n",
              "      <td>0.000000</td>\n",
              "      <td>0.000000</td>\n",
              "    </tr>\n",
              "    <tr>\n",
              "      <th>50%</th>\n",
              "      <td>11458.500000</td>\n",
              "      <td>248.000000</td>\n",
              "      <td>2011.000000</td>\n",
              "      <td>6.711969</td>\n",
              "      <td>822.188000</td>\n",
              "      <td>3034.938000</td>\n",
              "      <td>8.017946</td>\n",
              "      <td>0.000000</td>\n",
              "      <td>0.000000</td>\n",
              "      <td>0.000000</td>\n",
              "    </tr>\n",
              "    <tr>\n",
              "      <th>75%</th>\n",
              "      <td>17152.250000</td>\n",
              "      <td>409.000000</td>\n",
              "      <td>2014.000000</td>\n",
              "      <td>6.857845</td>\n",
              "      <td>951.315000</td>\n",
              "      <td>3511.582000</td>\n",
              "      <td>8.163822</td>\n",
              "      <td>1.000000</td>\n",
              "      <td>1.000000</td>\n",
              "      <td>0.000000</td>\n",
              "    </tr>\n",
              "    <tr>\n",
              "      <th>max</th>\n",
              "      <td>22787.000000</td>\n",
              "      <td>600.000000</td>\n",
              "      <td>2014.000000</td>\n",
              "      <td>6.857845</td>\n",
              "      <td>951.315000</td>\n",
              "      <td>3511.582000</td>\n",
              "      <td>8.163822</td>\n",
              "      <td>1.000000</td>\n",
              "      <td>1.000000</td>\n",
              "      <td>1.000000</td>\n",
              "    </tr>\n",
              "  </tbody>\n",
              "</table>\n",
              "</div>"
            ],
            "text/plain": [
              "       int64_field_0  cluster_numer_v001  ...   underweight        wasted\n",
              "count   19752.000000        19752.000000  ...  19752.000000  19752.000000\n",
              "mean    11435.579232          269.622519  ...      0.357078      0.155124\n",
              "std      6577.913249          173.715642  ...      0.479150      0.362032\n",
              "min         0.000000            1.000000  ...      0.000000      0.000000\n",
              "25%      5724.750000          121.000000  ...      0.000000      0.000000\n",
              "50%     11458.500000          248.000000  ...      0.000000      0.000000\n",
              "75%     17152.250000          409.000000  ...      1.000000      0.000000\n",
              "max     22787.000000          600.000000  ...      1.000000      1.000000\n",
              "\n",
              "[8 rows x 10 columns]"
            ]
          },
          "execution_count": 6,
          "metadata": {
            "tags": []
          },
          "output_type": "execute_result"
        }
      ],
      "source": [
        "ultimate_data.describe()"
      ]
    },
    {
      "cell_type": "markdown",
      "metadata": {
        "id": "7w5wQVZFm8eg"
      },
      "source": [
        "## Now converting datatype to categorical\n"
      ]
    },
    {
      "cell_type": "code",
      "execution_count": null,
      "metadata": {
        "id": "tUo6xrFmm7_w",
        "vscode": {
          "languageId": "python"
        }
      },
      "outputs": [],
      "source": [
        "ultimate_data = ultimate_data.astype({\"wealth_index_v190\": \"category\", \"place_of_residence_v025\" : \"category\",\n",
        "                                      \"sex_house_head_v151\": \"category\", \"sex_of_child_b4\":\"category\",\n",
        "                                      \"is_twin_child_b0\":\"category\", \"type_of_toilet_v116\":\"category\",\n",
        "                                      \"water_type_v113\":\"category\", \"partner_education_v701\":\"category\",\n",
        "                                      \"num_of_house_members_v136\":\"category\", \"num_under_five_child_v137\":\"category\",\n",
        "                                      \"mothers_age_at_birth_v212\":\"category\", \"maternal_height_v438\":\"category\",\n",
        "                                      \"mothers_bmi_v445\":\"category\", \"mother_education_v701\":\"category\",\n",
        "                                      \"children_age_v212\":\"category\", \"mom_marital_stats_v501\":\"category\",\n",
        "                                      \"partner_occupation_v704\":\"category\", \"work_of_mom_v714\":\"category\"\n",
        "                                      })"
      ]
    },
    {
      "cell_type": "code",
      "execution_count": null,
      "metadata": {
        "colab": {
          "base_uri": "https://localhost:8080/",
          "height": 622
        },
        "id": "t5OfTa2dr_WC",
        "outputId": "61038c69-eebd-4433-afc5-b8e0a458c190",
        "vscode": {
          "languageId": "python"
        }
      },
      "outputs": [
        {
          "name": "stdout",
          "output_type": "stream",
          "text": [
            "<class 'pandas.core.frame.DataFrame'>\n",
            "RangeIndex: 19752 entries, 0 to 19751\n",
            "Data columns (total 28 columns):\n",
            " #   Column                     Non-Null Count  Dtype   \n",
            "---  ------                     --------------  -----   \n",
            " 0   int64_field_0              19752 non-null  int64   \n",
            " 1   wealth_index_v190          19752 non-null  category\n",
            " 2   place_of_residence_v025    19752 non-null  category\n",
            " 3   sex_house_head_v151        19752 non-null  category\n",
            " 4   work_of_mom_v714           19752 non-null  category\n",
            " 5   sex_of_child_b4            19752 non-null  category\n",
            " 6   is_twin_child_b0           19752 non-null  category\n",
            " 7   cluster_numer_v001         19752 non-null  int64   \n",
            " 8   year_interview_v007        19752 non-null  int64   \n",
            " 9   logGDPpc                   19752 non-null  float64 \n",
            " 10  GDPpc                      19752 non-null  float64 \n",
            " 11  type_of_toilet_v116        19752 non-null  category\n",
            " 12  water_type_v113            19752 non-null  category\n",
            " 13  partner_occupation_v704    19752 non-null  category\n",
            " 14  partner_education_v701     19752 non-null  category\n",
            " 15  num_of_house_members_v136  19752 non-null  category\n",
            " 16  num_under_five_child_v137  19752 non-null  category\n",
            " 17  mothers_age_at_birth_v212  19752 non-null  category\n",
            " 18  maternal_height_v438       19752 non-null  category\n",
            " 19  mothers_bmi_v445           19752 non-null  category\n",
            " 20  mother_education_v701      19752 non-null  category\n",
            " 21  children_age_v212          19752 non-null  category\n",
            " 22  GDP_PC_PPP                 19752 non-null  float64 \n",
            " 23  log_GDP_PC_PPP             19752 non-null  float64 \n",
            " 24  mom_marital_stats_v501     19752 non-null  category\n",
            " 25  stunted                    19752 non-null  int64   \n",
            " 26  underweight                19752 non-null  int64   \n",
            " 27  wasted                     19752 non-null  int64   \n",
            "dtypes: category(18), float64(4), int64(6)\n",
            "memory usage: 1.8 MB\n"
          ]
        }
      ],
      "source": [
        "ultimate_data.info()"
      ]
    },
    {
      "cell_type": "markdown",
      "metadata": {
        "id": "8MI1fihO6-M8"
      },
      "source": [
        "# variable children_age_v212 is actually the value for hw1\n",
        "# That is children age"
      ]
    },
    {
      "cell_type": "markdown",
      "metadata": {
        "id": "LSz6t6tQtPVW"
      },
      "source": [
        "# Regression Model"
      ]
    },
    {
      "cell_type": "code",
      "execution_count": null,
      "metadata": {
        "colab": {
          "base_uri": "https://localhost:8080/",
          "height": 72
        },
        "id": "mEa-D3UWtRU-",
        "outputId": "5d4e81ba-7eb4-428a-dadf-1b93ace68d83",
        "vscode": {
          "languageId": "python"
        }
      },
      "outputs": [
        {
          "name": "stderr",
          "output_type": "stream",
          "text": [
            "/usr/local/lib/python3.6/dist-packages/statsmodels/tools/_testing.py:19: FutureWarning: pandas.util.testing is deprecated. Use the functions in the public API at pandas.testing instead.\n",
            "  import pandas.util.testing as tm\n"
          ]
        }
      ],
      "source": [
        "# importing libraries\n",
        "# import numpy as np \n",
        "# import matplotlib.pyplot as plt\n",
        "# %matplotlib inline\n",
        "# from sklearn.linear_model import LogisticRegression\n",
        "# from sklearn.model_selection import train_test_split\n",
        "# from sklearn.preprocessing import LabelEncoder\n",
        "import statsmodels.api as sm\n",
        "import statsmodels.formula.api as smf"
      ]
    },
    {
      "cell_type": "markdown",
      "metadata": {
        "id": "pAeruCxX9U4j"
      },
      "source": [
        "## Model 1 Stunted"
      ]
    },
    {
      "cell_type": "code",
      "execution_count": null,
      "metadata": {
        "id": "GvzGmDRY9evW",
        "vscode": {
          "languageId": "python"
        }
      },
      "outputs": [],
      "source": [
        "# Model 1 with Stunting\n",
        "model_1_data = ultimate_data[['log_GDP_PC_PPP', 'stunted']]"
      ]
    },
    {
      "cell_type": "code",
      "execution_count": null,
      "metadata": {
        "colab": {
          "base_uri": "https://localhost:8080/",
          "height": 198
        },
        "id": "ihEMRqTv93DW",
        "outputId": "13e2aeac-456b-42c9-bcbf-73edf12278ff",
        "vscode": {
          "languageId": "python"
        }
      },
      "outputs": [
        {
          "data": {
            "text/html": [
              "<div>\n",
              "<style scoped>\n",
              "    .dataframe tbody tr th:only-of-type {\n",
              "        vertical-align: middle;\n",
              "    }\n",
              "\n",
              "    .dataframe tbody tr th {\n",
              "        vertical-align: top;\n",
              "    }\n",
              "\n",
              "    .dataframe thead th {\n",
              "        text-align: right;\n",
              "    }\n",
              "</style>\n",
              "<table border=\"1\" class=\"dataframe\">\n",
              "  <thead>\n",
              "    <tr style=\"text-align: right;\">\n",
              "      <th></th>\n",
              "      <th>log_GDP_PC_PPP</th>\n",
              "      <th>stunted</th>\n",
              "    </tr>\n",
              "  </thead>\n",
              "  <tbody>\n",
              "    <tr>\n",
              "      <th>0</th>\n",
              "      <td>7.838781</td>\n",
              "      <td>0</td>\n",
              "    </tr>\n",
              "    <tr>\n",
              "      <th>1</th>\n",
              "      <td>7.838781</td>\n",
              "      <td>0</td>\n",
              "    </tr>\n",
              "    <tr>\n",
              "      <th>2</th>\n",
              "      <td>7.838781</td>\n",
              "      <td>0</td>\n",
              "    </tr>\n",
              "    <tr>\n",
              "      <th>3</th>\n",
              "      <td>7.838781</td>\n",
              "      <td>0</td>\n",
              "    </tr>\n",
              "    <tr>\n",
              "      <th>4</th>\n",
              "      <td>7.838781</td>\n",
              "      <td>0</td>\n",
              "    </tr>\n",
              "  </tbody>\n",
              "</table>\n",
              "</div>"
            ],
            "text/plain": [
              "   log_GDP_PC_PPP  stunted\n",
              "0        7.838781        0\n",
              "1        7.838781        0\n",
              "2        7.838781        0\n",
              "3        7.838781        0\n",
              "4        7.838781        0"
            ]
          },
          "execution_count": 11,
          "metadata": {
            "tags": []
          },
          "output_type": "execute_result"
        }
      ],
      "source": [
        "model_1_data.head()"
      ]
    },
    {
      "cell_type": "code",
      "execution_count": null,
      "metadata": {
        "id": "nsinoB4F9rt6",
        "vscode": {
          "languageId": "python"
        }
      },
      "outputs": [],
      "source": [
        "model_1_data.info()"
      ]
    },
    {
      "cell_type": "code",
      "execution_count": null,
      "metadata": {
        "id": "IaYHrJ6Q97Ls",
        "vscode": {
          "languageId": "python"
        }
      },
      "outputs": [],
      "source": [
        "X = model_1_data.iloc[:, :-1].values # independent\n",
        "y = model_1_data.iloc[:, 1].values # dependent"
      ]
    },
    {
      "cell_type": "code",
      "execution_count": null,
      "metadata": {
        "colab": {
          "base_uri": "https://localhost:8080/",
          "height": 69
        },
        "id": "i-bf-vcF-FKu",
        "outputId": "434bbbba-2ee8-49a3-b24c-394ed7a5f2ab",
        "vscode": {
          "languageId": "python"
        }
      },
      "outputs": [
        {
          "name": "stdout",
          "output_type": "stream",
          "text": [
            "Optimization terminated successfully.\n",
            "         Current function value: 0.670885\n",
            "         Iterations 4\n"
          ]
        }
      ],
      "source": [
        "logit_model = sm.Logit(y,X)\n",
        "result = logit_model.fit()"
      ]
    },
    {
      "cell_type": "code",
      "execution_count": null,
      "metadata": {
        "colab": {
          "base_uri": "https://localhost:8080/",
          "height": 311
        },
        "id": "rtlqS8jO-MN4",
        "outputId": "7fcec66f-318b-4605-b166-e2902d254bb6",
        "vscode": {
          "languageId": "python"
        }
      },
      "outputs": [
        {
          "name": "stdout",
          "output_type": "stream",
          "text": [
            "                         Results: Logit\n",
            "=================================================================\n",
            "Model:              Logit            Pseudo R-squared: 0.000     \n",
            "Dependent Variable: y                AIC:              26504.6536\n",
            "Date:               2020-08-10 14:34 BIC:              26512.5446\n",
            "No. Observations:   19752            Log-Likelihood:   -13251.   \n",
            "Df Model:           0                LL-Null:          -13254.   \n",
            "Df Residuals:       19751            LLR p-value:      nan       \n",
            "Converged:          1.0000           Scale:            1.0000    \n",
            "No. Iterations:     4.0000                                       \n",
            "-------------------------------------------------------------------\n",
            "          Coef.    Std.Err.      z       P>|z|     [0.025    0.975]\n",
            "-------------------------------------------------------------------\n",
            "x1       -0.0532     0.0018   -29.3213   0.0000   -0.0568   -0.0496\n",
            "=================================================================\n",
            "\n",
            "Odd Ratios are:  [0.94818581]\n"
          ]
        }
      ],
      "source": [
        "print(result.summary2())\n",
        "# For odd ration:\n",
        "print(\"Odd Ratios are: \", np.exp(result.params))"
      ]
    },
    {
      "cell_type": "code",
      "execution_count": null,
      "metadata": {
        "colab": {
          "base_uri": "https://localhost:8080/",
          "height": 190
        },
        "id": "tPMMDAh3XEIF",
        "outputId": "e39e805b-be2f-450b-dc68-d2b8dedcb84f",
        "vscode": {
          "languageId": "python"
        }
      },
      "outputs": [
        {
          "name": "stdout",
          "output_type": "stream",
          "text": [
            "        Logit Marginal Effects       \n",
            "=====================================\n",
            "Dep. Variable:                      y\n",
            "Method:                          dydx\n",
            "At:                           overall\n",
            "==============================================================================\n",
            "                dy/dx    std err          z      P>|z|      [0.025      0.975]\n",
            "------------------------------------------------------------------------------\n",
            "x1            -0.0127      0.000    -32.211      0.000      -0.013      -0.012\n",
            "==============================================================================\n"
          ]
        }
      ],
      "source": [
        "# for marginal effects\n",
        "merge_eff = result.get_margeff() # default overwall with method dydx\n",
        "print(merge_eff.summary())"
      ]
    },
    {
      "cell_type": "markdown",
      "metadata": {
        "id": "EPUkI2vn9Yuw"
      },
      "source": [
        "## Model 1 Underweight"
      ]
    },
    {
      "cell_type": "code",
      "execution_count": null,
      "metadata": {
        "colab": {
          "base_uri": "https://localhost:8080/",
          "height": 69
        },
        "id": "F6PRJLe0-00f",
        "outputId": "79d0cceb-9672-4fd1-b177-281ad0c44c85",
        "vscode": {
          "languageId": "python"
        }
      },
      "outputs": [
        {
          "name": "stdout",
          "output_type": "stream",
          "text": [
            "Optimization terminated successfully.\n",
            "         Current function value: 0.651461\n",
            "         Iterations 4\n"
          ]
        }
      ],
      "source": [
        "# Model 1 with Stunting\n",
        "model_1_data = ultimate_data[['log_GDP_PC_PPP', 'underweight']]\n",
        "\n",
        "X = model_1_data.iloc[:, :-1].values # independent\n",
        "y = model_1_data.iloc[:, 1].values # dependent\n",
        "\n",
        "logit_model = sm.Logit(y,X)\n",
        "result = logit_model.fit()"
      ]
    },
    {
      "cell_type": "code",
      "execution_count": null,
      "metadata": {
        "colab": {
          "base_uri": "https://localhost:8080/",
          "height": 311
        },
        "id": "tkDR8O4A-_nI",
        "outputId": "b684bc95-bfb7-4324-b454-1e94d2d5ef41",
        "vscode": {
          "languageId": "python"
        }
      },
      "outputs": [
        {
          "name": "stdout",
          "output_type": "stream",
          "text": [
            "                         Results: Logit\n",
            "=================================================================\n",
            "Model:              Logit            Pseudo R-squared: 0.000     \n",
            "Dependent Variable: y                AIC:              25737.3098\n",
            "Date:               2020-08-10 14:35 BIC:              25745.2008\n",
            "No. Observations:   19752            Log-Likelihood:   -12868.   \n",
            "Df Model:           0                LL-Null:          -12873.   \n",
            "Df Residuals:       19751            LLR p-value:      nan       \n",
            "Converged:          1.0000           Scale:            1.0000    \n",
            "No. Iterations:     4.0000                                       \n",
            "-------------------------------------------------------------------\n",
            "          Coef.    Std.Err.      z       P>|z|     [0.025    0.975]\n",
            "-------------------------------------------------------------------\n",
            "x1       -0.0735     0.0019   -39.7166   0.0000   -0.0772   -0.0699\n",
            "=================================================================\n",
            "\n",
            "Odd Ratios are:  [0.92909305]\n"
          ]
        }
      ],
      "source": [
        "print(result.summary2())\n",
        "# For odd ration:\n",
        "print(\"Odd Ratios are: \", np.exp(result.params))"
      ]
    },
    {
      "cell_type": "code",
      "execution_count": null,
      "metadata": {
        "colab": {
          "base_uri": "https://localhost:8080/",
          "height": 190
        },
        "id": "W3beyUedXG9R",
        "outputId": "0640da8d-1718-427b-a438-68abcfb2deb1",
        "vscode": {
          "languageId": "python"
        }
      },
      "outputs": [
        {
          "name": "stdout",
          "output_type": "stream",
          "text": [
            "        Logit Marginal Effects       \n",
            "=====================================\n",
            "Dep. Variable:                      y\n",
            "Method:                          dydx\n",
            "At:                           overall\n",
            "==============================================================================\n",
            "                dy/dx    std err          z      P>|z|      [0.025      0.975]\n",
            "------------------------------------------------------------------------------\n",
            "x1            -0.0169      0.000    -47.802      0.000      -0.018      -0.016\n",
            "==============================================================================\n"
          ]
        }
      ],
      "source": [
        "# for marginal effects\n",
        "merge_eff = result.get_margeff() # default overwall with method dydx\n",
        "print(merge_eff.summary())"
      ]
    },
    {
      "cell_type": "markdown",
      "metadata": {
        "id": "Nx7LuWB59b2X"
      },
      "source": [
        "# Model 1 Wasted"
      ]
    },
    {
      "cell_type": "code",
      "execution_count": null,
      "metadata": {
        "colab": {
          "base_uri": "https://localhost:8080/",
          "height": 69
        },
        "id": "PggcHJs3_TVN",
        "outputId": "0c2b96b1-b377-4b7c-e9eb-7ca4ed162998",
        "vscode": {
          "languageId": "python"
        }
      },
      "outputs": [
        {
          "name": "stdout",
          "output_type": "stream",
          "text": [
            "Optimization terminated successfully.\n",
            "         Current function value: 0.431274\n",
            "         Iterations 5\n"
          ]
        }
      ],
      "source": [
        "# Model 1 with Stunting\n",
        "model_1_data = ultimate_data[['log_GDP_PC_PPP', 'wasted']]\n",
        "\n",
        "X = model_1_data.iloc[:, :-1].values # independent\n",
        "y = model_1_data.iloc[:, 1].values # dependent\n",
        "\n",
        "logit_model = sm.Logit(y,X)\n",
        "result = logit_model.fit()"
      ]
    },
    {
      "cell_type": "code",
      "execution_count": null,
      "metadata": {
        "colab": {
          "base_uri": "https://localhost:8080/",
          "height": 311
        },
        "id": "k7L-0q8n_WLT",
        "outputId": "cde8b8d5-83c6-4742-b4fc-edfa7054094c",
        "vscode": {
          "languageId": "python"
        }
      },
      "outputs": [
        {
          "name": "stdout",
          "output_type": "stream",
          "text": [
            "                         Results: Logit\n",
            "=================================================================\n",
            "Model:              Logit            Pseudo R-squared: 0.001     \n",
            "Dependent Variable: y                AIC:              17039.0473\n",
            "Date:               2020-08-10 14:35 BIC:              17046.9383\n",
            "No. Observations:   19752            Log-Likelihood:   -8518.5   \n",
            "Df Model:           0                LL-Null:          -8522.9   \n",
            "Df Residuals:       19751            LLR p-value:      nan       \n",
            "Converged:          1.0000           Scale:            1.0000    \n",
            "No. Iterations:     5.0000                                       \n",
            "-------------------------------------------------------------------\n",
            "          Coef.    Std.Err.      z       P>|z|     [0.025    0.975]\n",
            "-------------------------------------------------------------------\n",
            "x1       -0.2114     0.0025   -86.2494   0.0000   -0.2163   -0.2066\n",
            "=================================================================\n",
            "\n",
            "Odd Ratios are:  [0.80941361]\n"
          ]
        }
      ],
      "source": [
        "print(result.summary2())\n",
        "# For odd ration:\n",
        "print(\"Odd Ratios are: \", np.exp(result.params))"
      ]
    },
    {
      "cell_type": "code",
      "execution_count": null,
      "metadata": {
        "colab": {
          "base_uri": "https://localhost:8080/",
          "height": 190
        },
        "id": "lrSyMeAFXIq4",
        "outputId": "04965320-8260-473a-b97a-e3f44c63dbd1",
        "vscode": {
          "languageId": "python"
        }
      },
      "outputs": [
        {
          "name": "stdout",
          "output_type": "stream",
          "text": [
            "        Logit Marginal Effects       \n",
            "=====================================\n",
            "Dep. Variable:                      y\n",
            "Method:                          dydx\n",
            "At:                           overall\n",
            "==============================================================================\n",
            "                dy/dx    std err          z      P>|z|      [0.025      0.975]\n",
            "------------------------------------------------------------------------------\n",
            "x1            -0.0277   5.45e-05   -507.968      0.000      -0.028      -0.028\n",
            "==============================================================================\n"
          ]
        }
      ],
      "source": [
        "# for marginal effects\n",
        "merge_eff = result.get_margeff() # default overwall with method dydx\n",
        "print(merge_eff.summary())"
      ]
    },
    {
      "attachments": {},
      "cell_type": "markdown",
      "metadata": {
        "id": "_W6Q9Sz3UiU3"
      },
      "source": [
        "# Model 2 test after error recognize: fixed now"
      ]
    },
    {
      "cell_type": "markdown",
      "metadata": {
        "id": "V2-3TUdGzYw7"
      },
      "source": [
        "## Model 2 Stunted new"
      ]
    },
    {
      "cell_type": "code",
      "execution_count": null,
      "metadata": {
        "colab": {
          "base_uri": "https://localhost:8080/",
          "height": 225
        },
        "id": "I_GOhQ9AUmkC",
        "outputId": "99fe1935-e4d7-4db2-e42e-b5553eeb4908",
        "vscode": {
          "languageId": "python"
        }
      },
      "outputs": [
        {
          "name": "stdout",
          "output_type": "stream",
          "text": [
            "<class 'pandas.core.frame.DataFrame'>\n",
            "RangeIndex: 19752 entries, 0 to 19751\n",
            "Data columns (total 5 columns):\n",
            " #   Column             Non-Null Count  Dtype   \n",
            "---  ------             --------------  -----   \n",
            " 0   log_GDP_PC_PPP     19752 non-null  float64 \n",
            " 1   children_age_v212  19752 non-null  category\n",
            " 2   sex_of_child_b4    19752 non-null  category\n",
            " 3   is_twin_child_b0   19752 non-null  category\n",
            " 4   stunted            19752 non-null  int64   \n",
            "dtypes: category(3), float64(1), int64(1)\n",
            "memory usage: 367.3 KB\n"
          ]
        }
      ],
      "source": [
        "# Model 2 with Stunting\n",
        "model_2_data = ultimate_data[['log_GDP_PC_PPP','children_age_v212', 'sex_of_child_b4', \"is_twin_child_b0\", 'stunted']]\n",
        "model_2_data.info()"
      ]
    },
    {
      "cell_type": "code",
      "execution_count": null,
      "metadata": {
        "id": "3HZFJT16U0Rh",
        "vscode": {
          "languageId": "python"
        }
      },
      "outputs": [],
      "source": [
        "mod = smf.logit(formula=\"stunted ~ log_GDP_PC_PPP + C(children_age_v212, Treatment(reference='0-5')) + C(sex_of_child_b4, Treatment(reference='male')) + C(is_twin_child_b0, Treatment(reference='single birth'))\", data=model_2_data)"
      ]
    },
    {
      "cell_type": "code",
      "execution_count": null,
      "metadata": {
        "colab": {
          "base_uri": "https://localhost:8080/",
          "height": 124
        },
        "id": "WIJWqwftVniC",
        "outputId": "4d4b629c-5aa1-49f1-d672-849aa06fddd8",
        "vscode": {
          "languageId": "python"
        }
      },
      "outputs": [
        {
          "name": "stdout",
          "output_type": "stream",
          "text": [
            "Warning: Maximum number of iterations has been exceeded.\n",
            "         Current function value: 0.644071\n",
            "         Iterations: 35\n"
          ]
        },
        {
          "name": "stderr",
          "output_type": "stream",
          "text": [
            "/usr/local/lib/python3.6/dist-packages/statsmodels/base/model.py:512: ConvergenceWarning: Maximum Likelihood optimization failed to converge. Check mle_retvals\n",
            "  \"Check mle_retvals\", ConvergenceWarning)\n"
          ]
        }
      ],
      "source": [
        "result = mod.fit()"
      ]
    },
    {
      "cell_type": "code",
      "execution_count": null,
      "metadata": {
        "colab": {
          "base_uri": "https://localhost:8080/",
          "height": 521
        },
        "id": "tQLuKNLUVqd5",
        "outputId": "35685321-0f2c-47df-bb91-594d65548f46",
        "vscode": {
          "languageId": "python"
        }
      },
      "outputs": [
        {
          "name": "stdout",
          "output_type": "stream",
          "text": [
            "                           Logit Regression Results                           \n",
            "==============================================================================\n",
            "Dep. Variable:                stunted   No. Observations:                19752\n",
            "Model:                          Logit   Df Residuals:                    19737\n",
            "Method:                           MLE   Df Model:                           14\n",
            "Date:                Mon, 10 Aug 2020   Pseudo R-squ.:                 0.04016\n",
            "Time:                        14:42:06   Log-Likelihood:                -12722.\n",
            "converged:                      False   LL-Null:                       -13254.\n",
            "Covariance Type:            nonrobust   LLR p-value:                2.229e-218\n",
            "===============================================================================================================================================\n",
            "                                                                                  coef    std err          z      P>|z|      [0.025      0.975]\n",
            "-----------------------------------------------------------------------------------------------------------------------------------------------\n",
            "Intercept                                                                       4.0818      0.947      4.311      0.000       2.226       5.938\n",
            "C(children_age_v212, Treatment(reference='0-5'))[T.12-17]                       1.2195      0.081     14.991      0.000       1.060       1.379\n",
            "C(children_age_v212, Treatment(reference='0-5'))[T.18-23]                       1.6081      0.081     19.772      0.000       1.449       1.768\n",
            "C(children_age_v212, Treatment(reference='0-5'))[T.24-29]                       1.5061      0.082     18.434      0.000       1.346       1.666\n",
            "C(children_age_v212, Treatment(reference='0-5'))[T.30-35]                       1.6327      0.081     20.206      0.000       1.474       1.791\n",
            "C(children_age_v212, Treatment(reference='0-5'))[T.36-41]                       1.6407      0.081     20.228      0.000       1.482       1.800\n",
            "C(children_age_v212, Treatment(reference='0-5'))[T.42-47]                       1.5983      0.080     19.926      0.000       1.441       1.755\n",
            "C(children_age_v212, Treatment(reference='0-5'))[T.48-53]                       1.2688      0.081     15.576      0.000       1.109       1.428\n",
            "C(children_age_v212, Treatment(reference='0-5'))[T.54-59]                       1.4232      0.081     17.551      0.000       1.264       1.582\n",
            "C(children_age_v212, Treatment(reference='0-5'))[T.6-11]                        0.4692      0.085      5.529      0.000       0.303       0.635\n",
            "C(sex_of_child_b4, Treatment(reference='male'))[T.female]                      -0.0494      0.030     -1.654      0.098      -0.108       0.009\n",
            "C(is_twin_child_b0, Treatment(reference='single birth'))[T.1st of multiple]     0.5469      0.191      2.869      0.004       0.173       0.920\n",
            "C(is_twin_child_b0, Treatment(reference='single birth'))[T.2nd of multiple]     0.4911      0.184      2.663      0.008       0.130       0.853\n",
            "C(is_twin_child_b0, Treatment(reference='single birth'))[T.3rd of multiple]   -22.9411   9.45e+04     -0.000      1.000   -1.85e+05    1.85e+05\n",
            "log_GDP_PC_PPP                                                                 -0.7202      0.118     -6.106      0.000      -0.951      -0.489\n",
            "===============================================================================================================================================\n"
          ]
        }
      ],
      "source": [
        "print(result.summary())"
      ]
    },
    {
      "cell_type": "code",
      "execution_count": null,
      "metadata": {
        "colab": {
          "base_uri": "https://localhost:8080/",
          "height": 311
        },
        "id": "XgvE8zGpW3Km",
        "outputId": "083a0e0b-87be-4054-dd98-3aca57202994",
        "vscode": {
          "languageId": "python"
        }
      },
      "outputs": [
        {
          "name": "stdout",
          "output_type": "stream",
          "text": [
            "Odd Ratio:\n",
            "Intercept                                                                      5.925467e+01\n",
            "C(children_age_v212, Treatment(reference='0-5'))[T.12-17]                      3.385331e+00\n",
            "C(children_age_v212, Treatment(reference='0-5'))[T.18-23]                      4.993436e+00\n",
            "C(children_age_v212, Treatment(reference='0-5'))[T.24-29]                      4.509045e+00\n",
            "C(children_age_v212, Treatment(reference='0-5'))[T.30-35]                      5.117521e+00\n",
            "C(children_age_v212, Treatment(reference='0-5'))[T.36-41]                      5.158718e+00\n",
            "C(children_age_v212, Treatment(reference='0-5'))[T.42-47]                      4.944554e+00\n",
            "C(children_age_v212, Treatment(reference='0-5'))[T.48-53]                      3.556415e+00\n",
            "C(children_age_v212, Treatment(reference='0-5'))[T.54-59]                      4.150517e+00\n",
            "C(children_age_v212, Treatment(reference='0-5'))[T.6-11]                       1.598644e+00\n",
            "C(sex_of_child_b4, Treatment(reference='male'))[T.female]                      9.517772e-01\n",
            "C(is_twin_child_b0, Treatment(reference='single birth'))[T.1st of multiple]    1.727806e+00\n",
            "C(is_twin_child_b0, Treatment(reference='single birth'))[T.2nd of multiple]    1.634144e+00\n",
            "C(is_twin_child_b0, Treatment(reference='single birth'))[T.3rd of multiple]    1.088474e-10\n",
            "log_GDP_PC_PPP                                                                 4.866749e-01\n",
            "dtype: float64\n"
          ]
        }
      ],
      "source": [
        "# For odd ration:\n",
        "print(\"Odd Ratio:\")\n",
        "print(np.exp(result.params))"
      ]
    },
    {
      "cell_type": "code",
      "execution_count": null,
      "metadata": {
        "colab": {
          "base_uri": "https://localhost:8080/",
          "height": 435
        },
        "id": "Syuuj7rzXEEN",
        "outputId": "a952dd24-adf9-4a4c-c988-f117b054452c",
        "vscode": {
          "languageId": "python"
        }
      },
      "outputs": [
        {
          "name": "stdout",
          "output_type": "stream",
          "text": [
            "        Logit Marginal Effects       \n",
            "=====================================\n",
            "Dep. Variable:                stunted\n",
            "Method:                          dydx\n",
            "At:                           overall\n",
            "===============================================================================================================================================\n",
            "                                                                                 dy/dx    std err          z      P>|z|      [0.025      0.975]\n",
            "-----------------------------------------------------------------------------------------------------------------------------------------------\n",
            "C(children_age_v212, Treatment(reference='0-5'))[T.12-17]                       0.2769      0.018     15.253      0.000       0.241       0.312\n",
            "C(children_age_v212, Treatment(reference='0-5'))[T.18-23]                       0.3651      0.018     20.437      0.000       0.330       0.400\n",
            "C(children_age_v212, Treatment(reference='0-5'))[T.24-29]                       0.3420      0.018     18.960      0.000       0.307       0.377\n",
            "C(children_age_v212, Treatment(reference='0-5'))[T.30-35]                       0.3707      0.018     20.920      0.000       0.336       0.405\n",
            "C(children_age_v212, Treatment(reference='0-5'))[T.36-41]                       0.3725      0.018     20.945      0.000       0.338       0.407\n",
            "C(children_age_v212, Treatment(reference='0-5'))[T.42-47]                       0.3629      0.018     20.606      0.000       0.328       0.397\n",
            "C(children_age_v212, Treatment(reference='0-5'))[T.48-53]                       0.2881      0.018     15.874      0.000       0.253       0.324\n",
            "C(children_age_v212, Treatment(reference='0-5'))[T.54-59]                       0.3232      0.018     17.995      0.000       0.288       0.358\n",
            "C(children_age_v212, Treatment(reference='0-5'))[T.6-11]                        0.1065      0.019      5.540      0.000       0.069       0.144\n",
            "C(sex_of_child_b4, Treatment(reference='male'))[T.female]                      -0.0112      0.007     -1.654      0.098      -0.025       0.002\n",
            "C(is_twin_child_b0, Treatment(reference='single birth'))[T.1st of multiple]     0.1242      0.043      2.871      0.004       0.039       0.209\n",
            "C(is_twin_child_b0, Treatment(reference='single birth'))[T.2nd of multiple]     0.1115      0.042      2.664      0.008       0.029       0.194\n",
            "C(is_twin_child_b0, Treatment(reference='single birth'))[T.3rd of multiple]    -5.2089   2.15e+04     -0.000      1.000   -4.21e+04    4.21e+04\n",
            "log_GDP_PC_PPP                                                                 -0.1635      0.027     -6.128      0.000      -0.216      -0.111\n",
            "===============================================================================================================================================\n"
          ]
        }
      ],
      "source": [
        "# for marginal effects\n",
        "merge_eff = result.get_margeff() # default overwall with method dydx\n",
        "print(merge_eff.summary())"
      ]
    },
    {
      "cell_type": "markdown",
      "metadata": {
        "id": "PsVDCX_v1ATV"
      },
      "source": [
        "## Model 2 underweight new"
      ]
    },
    {
      "cell_type": "code",
      "execution_count": null,
      "metadata": {
        "colab": {
          "base_uri": "https://localhost:8080/",
          "height": 225
        },
        "id": "_TpzYWuY1Cb_",
        "outputId": "edc983b5-7291-4e44-df2f-bffd7b0ac0c0",
        "vscode": {
          "languageId": "python"
        }
      },
      "outputs": [
        {
          "name": "stdout",
          "output_type": "stream",
          "text": [
            "<class 'pandas.core.frame.DataFrame'>\n",
            "RangeIndex: 19752 entries, 0 to 19751\n",
            "Data columns (total 5 columns):\n",
            " #   Column             Non-Null Count  Dtype   \n",
            "---  ------             --------------  -----   \n",
            " 0   log_GDP_PC_PPP     19752 non-null  float64 \n",
            " 1   children_age_v212  19752 non-null  category\n",
            " 2   sex_of_child_b4    19752 non-null  category\n",
            " 3   is_twin_child_b0   19752 non-null  category\n",
            " 4   underweight        19752 non-null  int64   \n",
            "dtypes: category(3), float64(1), int64(1)\n",
            "memory usage: 367.3 KB\n"
          ]
        }
      ],
      "source": [
        "# Model 2 with Stunting\n",
        "model_2_data = ultimate_data[['log_GDP_PC_PPP','children_age_v212', 'sex_of_child_b4', \"is_twin_child_b0\", 'underweight']]\n",
        "model_2_data.info()"
      ]
    },
    {
      "cell_type": "code",
      "execution_count": null,
      "metadata": {
        "id": "5BEfYI6g1NU-",
        "vscode": {
          "languageId": "python"
        }
      },
      "outputs": [],
      "source": [
        "mod = smf.logit(formula=\"underweight ~ log_GDP_PC_PPP + C(children_age_v212, Treatment(reference='0-5')) + C(sex_of_child_b4, Treatment(reference='male')) + C(is_twin_child_b0, Treatment(reference='single birth'))\", data=model_2_data)"
      ]
    },
    {
      "cell_type": "code",
      "execution_count": null,
      "metadata": {
        "colab": {
          "base_uri": "https://localhost:8080/",
          "height": 124
        },
        "id": "OO-Z3XqX1QXj",
        "outputId": "1ebe9d7d-4623-483c-a9ac-0701b9ae9295",
        "vscode": {
          "languageId": "python"
        }
      },
      "outputs": [
        {
          "name": "stdout",
          "output_type": "stream",
          "text": [
            "Warning: Maximum number of iterations has been exceeded.\n",
            "         Current function value: 0.635848\n",
            "         Iterations: 35\n"
          ]
        },
        {
          "name": "stderr",
          "output_type": "stream",
          "text": [
            "/usr/local/lib/python3.6/dist-packages/statsmodels/base/model.py:512: ConvergenceWarning: Maximum Likelihood optimization failed to converge. Check mle_retvals\n",
            "  \"Check mle_retvals\", ConvergenceWarning)\n"
          ]
        }
      ],
      "source": [
        "result = mod.fit()"
      ]
    },
    {
      "cell_type": "code",
      "execution_count": null,
      "metadata": {
        "colab": {
          "base_uri": "https://localhost:8080/",
          "height": 521
        },
        "id": "hKNXCXYM1alP",
        "outputId": "d7442830-6424-43ae-c023-fcbf78080236",
        "vscode": {
          "languageId": "python"
        }
      },
      "outputs": [
        {
          "name": "stdout",
          "output_type": "stream",
          "text": [
            "                           Logit Regression Results                           \n",
            "==============================================================================\n",
            "Dep. Variable:            underweight   No. Observations:                19752\n",
            "Model:                          Logit   Df Residuals:                    19737\n",
            "Method:                           MLE   Df Model:                           14\n",
            "Date:                Mon, 10 Aug 2020   Pseudo R-squ.:                 0.02435\n",
            "Time:                        14:48:53   Log-Likelihood:                -12559.\n",
            "converged:                      False   LL-Null:                       -12873.\n",
            "Covariance Type:            nonrobust   LLR p-value:                9.853e-125\n",
            "===============================================================================================================================================\n",
            "                                                                                  coef    std err          z      P>|z|      [0.025      0.975]\n",
            "-----------------------------------------------------------------------------------------------------------------------------------------------\n",
            "Intercept                                                                       6.6764      0.954      6.997      0.000       4.806       8.546\n",
            "C(children_age_v212, Treatment(reference='0-5'))[T.12-17]                       0.7199      0.078      9.209      0.000       0.567       0.873\n",
            "C(children_age_v212, Treatment(reference='0-5'))[T.18-23]                       0.9404      0.078     12.061      0.000       0.788       1.093\n",
            "C(children_age_v212, Treatment(reference='0-5'))[T.24-29]                       0.9967      0.078     12.765      0.000       0.844       1.150\n",
            "C(children_age_v212, Treatment(reference='0-5'))[T.30-35]                       1.1049      0.077     14.361      0.000       0.954       1.256\n",
            "C(children_age_v212, Treatment(reference='0-5'))[T.36-41]                       1.0625      0.077     13.730      0.000       0.911       1.214\n",
            "C(children_age_v212, Treatment(reference='0-5'))[T.42-47]                       1.1320      0.076     14.852      0.000       0.983       1.281\n",
            "C(children_age_v212, Treatment(reference='0-5'))[T.48-53]                       1.0374      0.077     13.441      0.000       0.886       1.189\n",
            "C(children_age_v212, Treatment(reference='0-5'))[T.54-59]                       1.1777      0.077     15.327      0.000       1.027       1.328\n",
            "C(children_age_v212, Treatment(reference='0-5'))[T.6-11]                        0.2743      0.080      3.415      0.001       0.117       0.432\n",
            "C(sex_of_child_b4, Treatment(reference='male'))[T.female]                       0.0832      0.030      2.759      0.006       0.024       0.142\n",
            "C(is_twin_child_b0, Treatment(reference='single birth'))[T.1st of multiple]     0.4030      0.189      2.129      0.033       0.032       0.774\n",
            "C(is_twin_child_b0, Treatment(reference='single birth'))[T.2nd of multiple]     0.4816      0.182      2.640      0.008       0.124       0.839\n",
            "C(is_twin_child_b0, Treatment(reference='single birth'))[T.3rd of multiple]   -18.3745   1.07e+04     -0.002      0.999    -2.1e+04    2.09e+04\n",
            "log_GDP_PC_PPP                                                                 -1.0209      0.119     -8.584      0.000      -1.254      -0.788\n",
            "===============================================================================================================================================\n"
          ]
        }
      ],
      "source": [
        "print(result.summary())"
      ]
    },
    {
      "cell_type": "code",
      "execution_count": null,
      "metadata": {
        "colab": {
          "base_uri": "https://localhost:8080/",
          "height": 311
        },
        "id": "AmJ-n3xG1ea7",
        "outputId": "c986082d-e062-4047-d089-04298b48f15d",
        "vscode": {
          "languageId": "python"
        }
      },
      "outputs": [
        {
          "name": "stdout",
          "output_type": "stream",
          "text": [
            "Odd Ratio:\n",
            "Intercept                                                                      7.934189e+02\n",
            "C(children_age_v212, Treatment(reference='0-5'))[T.12-17]                      2.054198e+00\n",
            "C(children_age_v212, Treatment(reference='0-5'))[T.18-23]                      2.561101e+00\n",
            "C(children_age_v212, Treatment(reference='0-5'))[T.24-29]                      2.709199e+00\n",
            "C(children_age_v212, Treatment(reference='0-5'))[T.30-35]                      3.019071e+00\n",
            "C(children_age_v212, Treatment(reference='0-5'))[T.36-41]                      2.893480e+00\n",
            "C(children_age_v212, Treatment(reference='0-5'))[T.42-47]                      3.101860e+00\n",
            "C(children_age_v212, Treatment(reference='0-5'))[T.48-53]                      2.821865e+00\n",
            "C(children_age_v212, Treatment(reference='0-5'))[T.54-59]                      3.246918e+00\n",
            "C(children_age_v212, Treatment(reference='0-5'))[T.6-11]                       1.315615e+00\n",
            "C(sex_of_child_b4, Treatment(reference='male'))[T.female]                      1.086808e+00\n",
            "C(is_twin_child_b0, Treatment(reference='single birth'))[T.1st of multiple]    1.496271e+00\n",
            "C(is_twin_child_b0, Treatment(reference='single birth'))[T.2nd of multiple]    1.618601e+00\n",
            "C(is_twin_child_b0, Treatment(reference='single birth'))[T.3rd of multiple]    1.047234e-08\n",
            "log_GDP_PC_PPP                                                                 3.602753e-01\n",
            "dtype: float64\n"
          ]
        }
      ],
      "source": [
        "# For odd ration:\n",
        "print(\"Odd Ratio:\")\n",
        "print(np.exp(result.params))"
      ]
    },
    {
      "cell_type": "code",
      "execution_count": null,
      "metadata": {
        "colab": {
          "base_uri": "https://localhost:8080/",
          "height": 435
        },
        "id": "3uwcJcf-1kyv",
        "outputId": "7df462fc-58d6-4fca-b88a-2285d5707e94",
        "vscode": {
          "languageId": "python"
        }
      },
      "outputs": [
        {
          "name": "stdout",
          "output_type": "stream",
          "text": [
            "        Logit Marginal Effects       \n",
            "=====================================\n",
            "Dep. Variable:            underweight\n",
            "Method:                          dydx\n",
            "At:                           overall\n",
            "===============================================================================================================================================\n",
            "                                                                                 dy/dx    std err          z      P>|z|      [0.025      0.975]\n",
            "-----------------------------------------------------------------------------------------------------------------------------------------------\n",
            "C(children_age_v212, Treatment(reference='0-5'))[T.12-17]                       0.1603      0.017      9.268      0.000       0.126       0.194\n",
            "C(children_age_v212, Treatment(reference='0-5'))[T.18-23]                       0.2094      0.017     12.202      0.000       0.176       0.243\n",
            "C(children_age_v212, Treatment(reference='0-5'))[T.24-29]                       0.2219      0.017     12.934      0.000       0.188       0.256\n",
            "C(children_age_v212, Treatment(reference='0-5'))[T.30-35]                       0.2460      0.017     14.609      0.000       0.213       0.279\n",
            "C(children_age_v212, Treatment(reference='0-5'))[T.36-41]                       0.2365      0.017     13.944      0.000       0.203       0.270\n",
            "C(children_age_v212, Treatment(reference='0-5'))[T.42-47]                       0.2520      0.017     15.128      0.000       0.219       0.285\n",
            "C(children_age_v212, Treatment(reference='0-5'))[T.48-53]                       0.2310      0.017     13.641      0.000       0.198       0.264\n",
            "C(children_age_v212, Treatment(reference='0-5'))[T.54-59]                       0.2622      0.017     15.634      0.000       0.229       0.295\n",
            "C(children_age_v212, Treatment(reference='0-5'))[T.6-11]                        0.0611      0.018      3.417      0.001       0.026       0.096\n",
            "C(sex_of_child_b4, Treatment(reference='male'))[T.female]                       0.0185      0.007      2.761      0.006       0.005       0.032\n",
            "C(is_twin_child_b0, Treatment(reference='single birth'))[T.1st of multiple]     0.0897      0.042      2.130      0.033       0.007       0.172\n",
            "C(is_twin_child_b0, Treatment(reference='single birth'))[T.2nd of multiple]     0.1072      0.041      2.642      0.008       0.028       0.187\n",
            "C(is_twin_child_b0, Treatment(reference='single birth'))[T.3rd of multiple]    -4.0909   2381.035     -0.002      0.999   -4670.834    4662.652\n",
            "log_GDP_PC_PPP                                                                 -0.2273      0.026     -8.644      0.000      -0.279      -0.176\n",
            "===============================================================================================================================================\n"
          ]
        }
      ],
      "source": [
        "# for marginal effects\n",
        "merge_eff = result.get_margeff() # default overwall with method dydx\n",
        "print(merge_eff.summary())"
      ]
    },
    {
      "cell_type": "markdown",
      "metadata": {
        "id": "bBiHtVGn1ldn"
      },
      "source": [
        "## Model 2 wasted new"
      ]
    },
    {
      "cell_type": "code",
      "execution_count": null,
      "metadata": {
        "colab": {
          "base_uri": "https://localhost:8080/",
          "height": 225
        },
        "id": "Vlz6Njlx1n2r",
        "outputId": "c1c6b593-2d6b-44b0-ee62-5bee0e3a73a9",
        "vscode": {
          "languageId": "python"
        }
      },
      "outputs": [
        {
          "name": "stdout",
          "output_type": "stream",
          "text": [
            "<class 'pandas.core.frame.DataFrame'>\n",
            "RangeIndex: 19752 entries, 0 to 19751\n",
            "Data columns (total 5 columns):\n",
            " #   Column             Non-Null Count  Dtype   \n",
            "---  ------             --------------  -----   \n",
            " 0   log_GDP_PC_PPP     19752 non-null  float64 \n",
            " 1   children_age_v212  19752 non-null  category\n",
            " 2   sex_of_child_b4    19752 non-null  category\n",
            " 3   is_twin_child_b0   19752 non-null  category\n",
            " 4   wasted             19752 non-null  int64   \n",
            "dtypes: category(3), float64(1), int64(1)\n",
            "memory usage: 367.3 KB\n"
          ]
        }
      ],
      "source": [
        "# Model 2 with Stunting\n",
        "model_2_data = ultimate_data[['log_GDP_PC_PPP','children_age_v212', 'sex_of_child_b4', \"is_twin_child_b0\", 'wasted']]\n",
        "model_2_data.info()"
      ]
    },
    {
      "cell_type": "code",
      "execution_count": null,
      "metadata": {
        "id": "UVjfQy1N1ql3",
        "vscode": {
          "languageId": "python"
        }
      },
      "outputs": [],
      "source": [
        "mod = smf.logit(formula=\"wasted ~ log_GDP_PC_PPP + C(children_age_v212, Treatment(reference='0-5')) + C(sex_of_child_b4, Treatment(reference='male')) + C(is_twin_child_b0, Treatment(reference='single birth'))\", data=model_2_data)"
      ]
    },
    {
      "cell_type": "code",
      "execution_count": null,
      "metadata": {
        "colab": {
          "base_uri": "https://localhost:8080/",
          "height": 124
        },
        "id": "48L-PUjX1wIE",
        "outputId": "ebd4e750-b857-41bf-df48-46e4c7d5a809",
        "vscode": {
          "languageId": "python"
        }
      },
      "outputs": [
        {
          "name": "stdout",
          "output_type": "stream",
          "text": [
            "Warning: Maximum number of iterations has been exceeded.\n",
            "         Current function value: 0.430135\n",
            "         Iterations: 35\n"
          ]
        },
        {
          "name": "stderr",
          "output_type": "stream",
          "text": [
            "/usr/local/lib/python3.6/dist-packages/statsmodels/base/model.py:512: ConvergenceWarning: Maximum Likelihood optimization failed to converge. Check mle_retvals\n",
            "  \"Check mle_retvals\", ConvergenceWarning)\n"
          ]
        }
      ],
      "source": [
        "result = mod.fit()"
      ]
    },
    {
      "cell_type": "code",
      "execution_count": null,
      "metadata": {
        "colab": {
          "base_uri": "https://localhost:8080/",
          "height": 521
        },
        "id": "wMgio-ny1yjA",
        "outputId": "90d8d56a-612b-402c-a2f8-da2b50a84fd3",
        "vscode": {
          "languageId": "python"
        }
      },
      "outputs": [
        {
          "name": "stdout",
          "output_type": "stream",
          "text": [
            "                           Logit Regression Results                           \n",
            "==============================================================================\n",
            "Dep. Variable:                 wasted   No. Observations:                19752\n",
            "Model:                          Logit   Df Residuals:                    19737\n",
            "Method:                           MLE   Df Model:                           14\n",
            "Date:                Mon, 10 Aug 2020   Pseudo R-squ.:                0.003151\n",
            "Time:                        14:52:38   Log-Likelihood:                -8496.0\n",
            "converged:                      False   LL-Null:                       -8522.9\n",
            "Covariance Type:            nonrobust   LLR p-value:                 1.440e-06\n",
            "===============================================================================================================================================\n",
            "                                                                                  coef    std err          z      P>|z|      [0.025      0.975]\n",
            "-----------------------------------------------------------------------------------------------------------------------------------------------\n",
            "Intercept                                                                       3.2563      1.240      2.626      0.009       0.826       5.687\n",
            "C(children_age_v212, Treatment(reference='0-5'))[T.12-17]                       0.0775      0.087      0.892      0.372      -0.093       0.248\n",
            "C(children_age_v212, Treatment(reference='0-5'))[T.18-23]                       0.0354      0.089      0.400      0.689      -0.138       0.209\n",
            "C(children_age_v212, Treatment(reference='0-5'))[T.24-29]                      -0.1884      0.092     -2.040      0.041      -0.369      -0.007\n",
            "C(children_age_v212, Treatment(reference='0-5'))[T.30-35]                      -0.1925      0.091     -2.115      0.034      -0.371      -0.014\n",
            "C(children_age_v212, Treatment(reference='0-5'))[T.36-41]                      -0.2064      0.092     -2.249      0.025      -0.386      -0.027\n",
            "C(children_age_v212, Treatment(reference='0-5'))[T.42-47]                      -0.2083      0.090     -2.312      0.021      -0.385      -0.032\n",
            "C(children_age_v212, Treatment(reference='0-5'))[T.48-53]                      -0.1182      0.090     -1.313      0.189      -0.295       0.058\n",
            "C(children_age_v212, Treatment(reference='0-5'))[T.54-59]                      -0.1021      0.090     -1.138      0.255      -0.278       0.074\n",
            "C(children_age_v212, Treatment(reference='0-5'))[T.6-11]                       -0.0738      0.088     -0.841      0.400      -0.246       0.098\n",
            "C(sex_of_child_b4, Treatment(reference='male'))[T.female]                      -0.1157      0.039     -2.933      0.003      -0.193      -0.038\n",
            "C(is_twin_child_b0, Treatment(reference='single birth'))[T.1st of multiple]    -0.1421      0.270     -0.526      0.599      -0.671       0.387\n",
            "C(is_twin_child_b0, Treatment(reference='single birth'))[T.2nd of multiple]    -0.0265      0.250     -0.106      0.916      -0.517       0.464\n",
            "C(is_twin_child_b0, Treatment(reference='single birth'))[T.3rd of multiple]    16.8244   1868.861      0.009      0.993   -3646.075    3679.724\n",
            "log_GDP_PC_PPP                                                                 -0.5986      0.155     -3.872      0.000      -0.902      -0.296\n",
            "===============================================================================================================================================\n"
          ]
        }
      ],
      "source": [
        "print(result.summary())"
      ]
    },
    {
      "cell_type": "code",
      "execution_count": null,
      "metadata": {
        "colab": {
          "base_uri": "https://localhost:8080/",
          "height": 311
        },
        "id": "TeKm_bMZ10Si",
        "outputId": "e91adc49-4e60-42c0-e621-5f6bfb0467cc",
        "vscode": {
          "languageId": "python"
        }
      },
      "outputs": [
        {
          "name": "stdout",
          "output_type": "stream",
          "text": [
            "Odd Ratio:\n",
            "Intercept                                                                      2.595415e+01\n",
            "C(children_age_v212, Treatment(reference='0-5'))[T.12-17]                      1.080579e+00\n",
            "C(children_age_v212, Treatment(reference='0-5'))[T.18-23]                      1.036050e+00\n",
            "C(children_age_v212, Treatment(reference='0-5'))[T.24-29]                      8.283095e-01\n",
            "C(children_age_v212, Treatment(reference='0-5'))[T.30-35]                      8.249106e-01\n",
            "C(children_age_v212, Treatment(reference='0-5'))[T.36-41]                      8.135233e-01\n",
            "C(children_age_v212, Treatment(reference='0-5'))[T.42-47]                      8.119424e-01\n",
            "C(children_age_v212, Treatment(reference='0-5'))[T.48-53]                      8.885569e-01\n",
            "C(children_age_v212, Treatment(reference='0-5'))[T.54-59]                      9.029778e-01\n",
            "C(children_age_v212, Treatment(reference='0-5'))[T.6-11]                       9.288239e-01\n",
            "C(sex_of_child_b4, Treatment(reference='male'))[T.female]                      8.907311e-01\n",
            "C(is_twin_child_b0, Treatment(reference='single birth'))[T.1st of multiple]    8.675460e-01\n",
            "C(is_twin_child_b0, Treatment(reference='single birth'))[T.2nd of multiple]    9.738267e-01\n",
            "C(is_twin_child_b0, Treatment(reference='single birth'))[T.3rd of multiple]    2.026579e+07\n",
            "log_GDP_PC_PPP                                                                 5.495651e-01\n",
            "dtype: float64\n"
          ]
        }
      ],
      "source": [
        "# For odd ration:\n",
        "print(\"Odd Ratio:\")\n",
        "print(np.exp(result.params))"
      ]
    },
    {
      "cell_type": "code",
      "execution_count": null,
      "metadata": {
        "colab": {
          "base_uri": "https://localhost:8080/",
          "height": 435
        },
        "id": "JwxUMOTD11Jo",
        "outputId": "e96e6a41-bb47-4ebd-b342-bf338e636ad4",
        "vscode": {
          "languageId": "python"
        }
      },
      "outputs": [
        {
          "name": "stdout",
          "output_type": "stream",
          "text": [
            "        Logit Marginal Effects       \n",
            "=====================================\n",
            "Dep. Variable:                 wasted\n",
            "Method:                          dydx\n",
            "At:                           overall\n",
            "===============================================================================================================================================\n",
            "                                                                                 dy/dx    std err          z      P>|z|      [0.025      0.975]\n",
            "-----------------------------------------------------------------------------------------------------------------------------------------------\n",
            "C(children_age_v212, Treatment(reference='0-5'))[T.12-17]                       0.0101      0.011      0.892      0.372      -0.012       0.032\n",
            "C(children_age_v212, Treatment(reference='0-5'))[T.18-23]                       0.0046      0.012      0.400      0.689      -0.018       0.027\n",
            "C(children_age_v212, Treatment(reference='0-5'))[T.24-29]                      -0.0246      0.012     -2.040      0.041      -0.048      -0.001\n",
            "C(children_age_v212, Treatment(reference='0-5'))[T.30-35]                      -0.0252      0.012     -2.115      0.034      -0.048      -0.002\n",
            "C(children_age_v212, Treatment(reference='0-5'))[T.36-41]                      -0.0270      0.012     -2.249      0.025      -0.050      -0.003\n",
            "C(children_age_v212, Treatment(reference='0-5'))[T.42-47]                      -0.0272      0.012     -2.312      0.021      -0.050      -0.004\n",
            "C(children_age_v212, Treatment(reference='0-5'))[T.48-53]                      -0.0154      0.012     -1.313      0.189      -0.038       0.008\n",
            "C(children_age_v212, Treatment(reference='0-5'))[T.54-59]                      -0.0133      0.012     -1.138      0.255      -0.036       0.010\n",
            "C(children_age_v212, Treatment(reference='0-5'))[T.6-11]                       -0.0096      0.011     -0.841      0.400      -0.032       0.013\n",
            "C(sex_of_child_b4, Treatment(reference='male'))[T.female]                      -0.0151      0.005     -2.933      0.003      -0.025      -0.005\n",
            "C(is_twin_child_b0, Treatment(reference='single birth'))[T.1st of multiple]    -0.0186      0.035     -0.526      0.599      -0.088       0.051\n",
            "C(is_twin_child_b0, Treatment(reference='single birth'))[T.2nd of multiple]    -0.0035      0.033     -0.106      0.916      -0.068       0.061\n",
            "C(is_twin_child_b0, Treatment(reference='single birth'))[T.3rd of multiple]     2.1988    244.241      0.009      0.993    -476.504     480.902\n",
            "log_GDP_PC_PPP                                                                 -0.0782      0.020     -3.873      0.000      -0.118      -0.039\n",
            "===============================================================================================================================================\n"
          ]
        }
      ],
      "source": [
        "# for marginal effects\n",
        "merge_eff = result.get_margeff() # default overwall with method dydx\n",
        "print(merge_eff.summary())"
      ]
    },
    {
      "cell_type": "markdown",
      "metadata": {
        "id": "VoVdOJnEBZHS"
      },
      "source": [
        "# Model 3 added new csv file to fix mom_marital_stats_v501"
      ]
    },
    {
      "cell_type": "markdown",
      "metadata": {
        "id": "ooaSSLhT3DbS"
      },
      "source": [
        "## Model 3 Stunted new"
      ]
    },
    {
      "cell_type": "code",
      "execution_count": null,
      "metadata": {
        "colab": {
          "base_uri": "https://localhost:8080/",
          "height": 363
        },
        "id": "OfvSBKRy3F_K",
        "outputId": "32983425-8bb6-4ead-8d25-4f169a467ec7",
        "vscode": {
          "languageId": "python"
        }
      },
      "outputs": [
        {
          "name": "stdout",
          "output_type": "stream",
          "text": [
            "<class 'pandas.core.frame.DataFrame'>\n",
            "RangeIndex: 19752 entries, 0 to 19751\n",
            "Data columns (total 13 columns):\n",
            " #   Column                     Non-Null Count  Dtype   \n",
            "---  ------                     --------------  -----   \n",
            " 0   log_GDP_PC_PPP             19752 non-null  float64 \n",
            " 1   children_age_v212          19752 non-null  category\n",
            " 2   sex_of_child_b4            19752 non-null  category\n",
            " 3   is_twin_child_b0           19752 non-null  category\n",
            " 4   mothers_age_at_birth_v212  19752 non-null  category\n",
            " 5   mom_marital_stats_v501     19752 non-null  category\n",
            " 6   mother_education_v701      19752 non-null  category\n",
            " 7   maternal_height_v438       19752 non-null  category\n",
            " 8   mothers_bmi_v445           19752 non-null  category\n",
            " 9   work_of_mom_v714           19752 non-null  category\n",
            " 10  partner_occupation_v704    19752 non-null  category\n",
            " 11  partner_education_v701     19752 non-null  category\n",
            " 12  stunted                    19752 non-null  int64   \n",
            "dtypes: category(11), float64(1), int64(1)\n",
            "memory usage: 522.8 KB\n"
          ]
        }
      ],
      "source": [
        "# Model 3 with Stunting\n",
        "# Added new data as marital status was missing\n",
        "# v106 wrongly named as mother_education_v701\n",
        "\n",
        "model_3_data = ultimate_data[['log_GDP_PC_PPP','children_age_v212', \n",
        "                              'sex_of_child_b4', \"is_twin_child_b0\", \n",
        "                              \"mothers_age_at_birth_v212\", \n",
        "                              'mom_marital_stats_v501', \n",
        "                              'mother_education_v701', \n",
        "                              'maternal_height_v438', \n",
        "                              'mothers_bmi_v445', \n",
        "                              'work_of_mom_v714', \n",
        "                              'partner_occupation_v704', \n",
        "                              'partner_education_v701',\n",
        "                              'stunted']]\n",
        "model_3_data.info()"
      ]
    },
    {
      "cell_type": "code",
      "execution_count": null,
      "metadata": {
        "id": "TH2A9Xm93URI",
        "vscode": {
          "languageId": "python"
        }
      },
      "outputs": [],
      "source": [
        "mod = smf.logit(formula=\"stunted ~ log_GDP_PC_PPP + C(children_age_v212, Treatment(reference='0-5')) + C(sex_of_child_b4, Treatment(reference='male')) + C(is_twin_child_b0, Treatment(reference='single birth')) + C(mothers_age_at_birth_v212, Treatment(reference='10-14')) + C(mom_marital_stats_v501, Treatment(reference='married')) + C(mother_education_v701, Treatment(reference='no education')) + C(maternal_height_v438, Treatment(reference='>=145')) + C(mothers_bmi_v445, Treatment(reference='>=18.5')) + C(maternal_height_v438, Treatment(reference='>=145')) + C(mothers_bmi_v445, Treatment(reference='>=18.5')) + C(work_of_mom_v714) + C(partner_occupation_v704) + C(partner_education_v701, Treatment(reference='no education'))\", data=model_3_data)"
      ]
    },
    {
      "cell_type": "code",
      "execution_count": null,
      "metadata": {
        "colab": {
          "base_uri": "https://localhost:8080/",
          "height": 124
        },
        "id": "Y8ZWXOzj3X2Y",
        "outputId": "8b03d111-c611-46ea-9c2b-0561131e1659",
        "vscode": {
          "languageId": "python"
        }
      },
      "outputs": [
        {
          "name": "stdout",
          "output_type": "stream",
          "text": [
            "Warning: Maximum number of iterations has been exceeded.\n",
            "         Current function value: 0.604101\n",
            "         Iterations: 35\n"
          ]
        },
        {
          "name": "stderr",
          "output_type": "stream",
          "text": [
            "/usr/local/lib/python3.6/dist-packages/statsmodels/base/model.py:512: ConvergenceWarning: Maximum Likelihood optimization failed to converge. Check mle_retvals\n",
            "  \"Check mle_retvals\", ConvergenceWarning)\n"
          ]
        }
      ],
      "source": [
        "result = mod.fit()"
      ]
    },
    {
      "cell_type": "code",
      "execution_count": null,
      "metadata": {
        "colab": {
          "base_uri": "https://localhost:8080/",
          "height": 832
        },
        "id": "PlV7MoBW3a3v",
        "outputId": "52d2e296-82fc-4bff-b5e4-722ff6e2b537",
        "vscode": {
          "languageId": "python"
        }
      },
      "outputs": [
        {
          "name": "stdout",
          "output_type": "stream",
          "text": [
            "                           Logit Regression Results                           \n",
            "==============================================================================\n",
            "Dep. Variable:                stunted   No. Observations:                19752\n",
            "Model:                          Logit   Df Residuals:                    19719\n",
            "Method:                           MLE   Df Model:                           32\n",
            "Date:                Mon, 10 Aug 2020   Pseudo R-squ.:                 0.09972\n",
            "Time:                        15:42:22   Log-Likelihood:                -11932.\n",
            "converged:                      False   LL-Null:                       -13254.\n",
            "Covariance Type:            nonrobust   LLR p-value:                     0.000\n",
            "===============================================================================================================================================\n",
            "                                                                                  coef    std err          z      P>|z|      [0.025      0.975]\n",
            "-----------------------------------------------------------------------------------------------------------------------------------------------\n",
            "Intercept                                                                       0.9301      1.001      0.929      0.353      -1.032       2.893\n",
            "C(children_age_v212, Treatment(reference='0-5'))[T.12-17]                       1.2825      0.084     15.207      0.000       1.117       1.448\n",
            "C(children_age_v212, Treatment(reference='0-5'))[T.18-23]                       1.6874      0.085     19.968      0.000       1.522       1.853\n",
            "C(children_age_v212, Treatment(reference='0-5'))[T.24-29]                       1.5690      0.085     18.493      0.000       1.403       1.735\n",
            "C(children_age_v212, Treatment(reference='0-5'))[T.30-35]                       1.7131      0.084     20.416      0.000       1.549       1.878\n",
            "C(children_age_v212, Treatment(reference='0-5'))[T.36-41]                       1.6905      0.084     20.071      0.000       1.525       1.856\n",
            "C(children_age_v212, Treatment(reference='0-5'))[T.42-47]                       1.6758      0.083     20.105      0.000       1.512       1.839\n",
            "C(children_age_v212, Treatment(reference='0-5'))[T.48-53]                       1.2751      0.085     15.076      0.000       1.109       1.441\n",
            "C(children_age_v212, Treatment(reference='0-5'))[T.54-59]                       1.4425      0.084     17.135      0.000       1.278       1.608\n",
            "C(children_age_v212, Treatment(reference='0-5'))[T.6-11]                        0.4429      0.088      5.052      0.000       0.271       0.615\n",
            "C(sex_of_child_b4, Treatment(reference='male'))[T.female]                      -0.0692      0.031     -2.220      0.026      -0.130      -0.008\n",
            "C(is_twin_child_b0, Treatment(reference='single birth'))[T.1st of multiple]     0.7861      0.200      3.932      0.000       0.394       1.178\n",
            "C(is_twin_child_b0, Treatment(reference='single birth'))[T.2nd of multiple]     0.7098      0.194      3.665      0.000       0.330       1.089\n",
            "C(is_twin_child_b0, Treatment(reference='single birth'))[T.3rd of multiple]   -13.4105   1367.450     -0.010      0.992   -2693.564    2666.743\n",
            "C(mothers_age_at_birth_v212, Treatment(reference='10-14'))[T.15-19]            -0.0720      0.053     -1.357      0.175      -0.176       0.032\n",
            "C(mothers_age_at_birth_v212, Treatment(reference='10-14'))[T.20-24]            -0.1081      0.062     -1.755      0.079      -0.229       0.013\n",
            "C(mothers_age_at_birth_v212, Treatment(reference='10-14'))[T.25-29]            -0.2098      0.104     -2.021      0.043      -0.413      -0.006\n",
            "C(mothers_age_at_birth_v212, Treatment(reference='10-14'))[T.30-34]            -0.3825      0.234     -1.638      0.101      -0.840       0.075\n",
            "C(mothers_age_at_birth_v212, Treatment(reference='10-14'))[T.35-39]            -0.2100      0.500     -0.420      0.675      -1.190       0.770\n",
            "C(mothers_age_at_birth_v212, Treatment(reference='10-14'))[T.40-44]             0.0536      0.980      0.055      0.956      -1.868       1.975\n",
            "C(mothers_age_at_birth_v212, Treatment(reference='10-14'))[T.45-49]            37.3619   6.71e+07   5.57e-07      1.000   -1.32e+08    1.32e+08\n",
            "C(mom_marital_stats_v501, Treatment(reference='married'))[T.non-married]        0.0322      0.127      0.253      0.800      -0.217       0.281\n",
            "C(mother_education_v701, Treatment(reference='no education'))[T.higher]        -0.6496      0.088     -7.363      0.000      -0.822      -0.477\n",
            "C(mother_education_v701, Treatment(reference='no education'))[T.primary]       -0.0696      0.045     -1.546      0.122      -0.158       0.019\n",
            "C(mother_education_v701, Treatment(reference='no education'))[T.secondary]     -0.3458      0.048     -7.184      0.000      -0.440      -0.251\n",
            "C(maternal_height_v438, Treatment(reference='>=145'))[T.<145]                   0.9768      0.046     21.045      0.000       0.886       1.068\n",
            "C(mothers_bmi_v445, Treatment(reference='>=18.5'))[T.<18.5]                     0.3611      0.035     10.259      0.000       0.292       0.430\n",
            "C(work_of_mom_v714)[T.True]                                                    -0.0006      0.040     -0.015      0.988      -0.079       0.078\n",
            "C(partner_occupation_v704)[T.True]                                              0.2033      0.102      1.988      0.047       0.003       0.404\n",
            "C(partner_education_v701, Treatment(reference='no education'))[T.higher]       -0.8140      0.070    -11.563      0.000      -0.952      -0.676\n",
            "C(partner_education_v701, Treatment(reference='no education'))[T.primary]      -0.1200      0.042     -2.882      0.004      -0.202      -0.038\n",
            "C(partner_education_v701, Treatment(reference='no education'))[T.secondary]    -0.4377      0.046     -9.435      0.000      -0.529      -0.347\n",
            "log_GDP_PC_PPP                                                                 -0.3175      0.124     -2.552      0.011      -0.561      -0.074\n",
            "===============================================================================================================================================\n"
          ]
        }
      ],
      "source": [
        "print(result.summary())"
      ]
    },
    {
      "cell_type": "code",
      "execution_count": null,
      "metadata": {
        "colab": {
          "base_uri": "https://localhost:8080/",
          "height": 622
        },
        "id": "ks8XtJ0v3fYQ",
        "outputId": "8b7e5e24-deac-4277-b18b-3f493f80604f",
        "vscode": {
          "languageId": "python"
        }
      },
      "outputs": [
        {
          "name": "stdout",
          "output_type": "stream",
          "text": [
            "Odd Ratio:\n",
            "Intercept                                                                      2.534877e+00\n",
            "C(children_age_v212, Treatment(reference='0-5'))[T.12-17]                      3.605729e+00\n",
            "C(children_age_v212, Treatment(reference='0-5'))[T.18-23]                      5.405301e+00\n",
            "C(children_age_v212, Treatment(reference='0-5'))[T.24-29]                      4.801614e+00\n",
            "C(children_age_v212, Treatment(reference='0-5'))[T.30-35]                      5.546363e+00\n",
            "C(children_age_v212, Treatment(reference='0-5'))[T.36-41]                      5.422038e+00\n",
            "C(children_age_v212, Treatment(reference='0-5'))[T.42-47]                      5.342812e+00\n",
            "C(children_age_v212, Treatment(reference='0-5'))[T.48-53]                      3.579213e+00\n",
            "C(children_age_v212, Treatment(reference='0-5'))[T.54-59]                      4.231289e+00\n",
            "C(children_age_v212, Treatment(reference='0-5'))[T.6-11]                       1.557177e+00\n",
            "C(sex_of_child_b4, Treatment(reference='male'))[T.female]                      9.331318e-01\n",
            "C(is_twin_child_b0, Treatment(reference='single birth'))[T.1st of multiple]    2.194859e+00\n",
            "C(is_twin_child_b0, Treatment(reference='single birth'))[T.2nd of multiple]    2.033612e+00\n",
            "C(is_twin_child_b0, Treatment(reference='single birth'))[T.3rd of multiple]    1.499384e-06\n",
            "C(mothers_age_at_birth_v212, Treatment(reference='10-14'))[T.15-19]            9.305340e-01\n",
            "C(mothers_age_at_birth_v212, Treatment(reference='10-14'))[T.20-24]            8.975767e-01\n",
            "C(mothers_age_at_birth_v212, Treatment(reference='10-14'))[T.25-29]            8.107538e-01\n",
            "C(mothers_age_at_birth_v212, Treatment(reference='10-14'))[T.30-34]            6.821487e-01\n",
            "C(mothers_age_at_birth_v212, Treatment(reference='10-14'))[T.35-39]            8.105861e-01\n",
            "C(mothers_age_at_birth_v212, Treatment(reference='10-14'))[T.40-44]            1.055027e+00\n",
            "C(mothers_age_at_birth_v212, Treatment(reference='10-14'))[T.45-49]            1.683002e+16\n",
            "C(mom_marital_stats_v501, Treatment(reference='married'))[T.non-married]       1.032732e+00\n",
            "C(mother_education_v701, Treatment(reference='no education'))[T.higher]        5.222777e-01\n",
            "C(mother_education_v701, Treatment(reference='no education'))[T.primary]       9.328008e-01\n",
            "C(mother_education_v701, Treatment(reference='no education'))[T.secondary]     7.076784e-01\n",
            "C(maternal_height_v438, Treatment(reference='>=145'))[T.<145]                  2.655920e+00\n",
            "C(mothers_bmi_v445, Treatment(reference='>=18.5'))[T.<18.5]                    1.434864e+00\n",
            "C(work_of_mom_v714)[T.True]                                                    9.993951e-01\n",
            "C(partner_occupation_v704)[T.True]                                             1.225467e+00\n",
            "C(partner_education_v701, Treatment(reference='no education'))[T.higher]       4.430900e-01\n",
            "C(partner_education_v701, Treatment(reference='no education'))[T.primary]      8.869041e-01\n",
            "C(partner_education_v701, Treatment(reference='no education'))[T.secondary]    6.455323e-01\n",
            "log_GDP_PC_PPP                                                                 7.279816e-01\n",
            "dtype: float64\n"
          ]
        }
      ],
      "source": [
        "# For odd ration:\n",
        "print(\"Odd Ratio:\")\n",
        "print(np.exp(result.params))"
      ]
    },
    {
      "cell_type": "code",
      "execution_count": null,
      "metadata": {
        "colab": {
          "base_uri": "https://localhost:8080/",
          "height": 745
        },
        "id": "Zxg87yQ13gOC",
        "outputId": "d476a237-d9f6-4bde-855a-bc9a646ca7ff",
        "vscode": {
          "languageId": "python"
        }
      },
      "outputs": [
        {
          "name": "stdout",
          "output_type": "stream",
          "text": [
            "        Logit Marginal Effects       \n",
            "=====================================\n",
            "Dep. Variable:                stunted\n",
            "Method:                          dydx\n",
            "At:                           overall\n",
            "===============================================================================================================================================\n",
            "                                                                                 dy/dx    std err          z      P>|z|      [0.025      0.975]\n",
            "-----------------------------------------------------------------------------------------------------------------------------------------------\n",
            "C(children_age_v212, Treatment(reference='0-5'))[T.12-17]                       0.2681      0.017     15.486      0.000       0.234       0.302\n",
            "C(children_age_v212, Treatment(reference='0-5'))[T.18-23]                       0.3527      0.017     20.651      0.000       0.319       0.386\n",
            "C(children_age_v212, Treatment(reference='0-5'))[T.24-29]                       0.3279      0.017     19.024      0.000       0.294       0.362\n",
            "C(children_age_v212, Treatment(reference='0-5'))[T.30-35]                       0.3581      0.017     21.151      0.000       0.325       0.391\n",
            "C(children_age_v212, Treatment(reference='0-5'))[T.36-41]                       0.3533      0.017     20.767      0.000       0.320       0.387\n",
            "C(children_age_v212, Treatment(reference='0-5'))[T.42-47]                       0.3502      0.017     20.802      0.000       0.317       0.383\n",
            "C(children_age_v212, Treatment(reference='0-5'))[T.48-53]                       0.2665      0.017     15.348      0.000       0.232       0.301\n",
            "C(children_age_v212, Treatment(reference='0-5'))[T.54-59]                       0.3015      0.017     17.548      0.000       0.268       0.335\n",
            "C(children_age_v212, Treatment(reference='0-5'))[T.6-11]                        0.0926      0.018      5.060      0.000       0.057       0.128\n",
            "C(sex_of_child_b4, Treatment(reference='male'))[T.female]                      -0.0145      0.007     -2.221      0.026      -0.027      -0.002\n",
            "C(is_twin_child_b0, Treatment(reference='single birth'))[T.1st of multiple]     0.1643      0.042      3.937      0.000       0.083       0.246\n",
            "C(is_twin_child_b0, Treatment(reference='single birth'))[T.2nd of multiple]     0.1484      0.040      3.669      0.000       0.069       0.228\n",
            "C(is_twin_child_b0, Treatment(reference='single birth'))[T.3rd of multiple]    -2.8029    285.807     -0.010      0.992    -562.973     557.368\n",
            "C(mothers_age_at_birth_v212, Treatment(reference='10-14'))[T.15-19]            -0.0150      0.011     -1.357      0.175      -0.037       0.007\n",
            "C(mothers_age_at_birth_v212, Treatment(reference='10-14'))[T.20-24]            -0.0226      0.013     -1.756      0.079      -0.048       0.003\n",
            "C(mothers_age_at_birth_v212, Treatment(reference='10-14'))[T.25-29]            -0.0438      0.022     -2.022      0.043      -0.086      -0.001\n",
            "C(mothers_age_at_birth_v212, Treatment(reference='10-14'))[T.30-34]            -0.0799      0.049     -1.638      0.101      -0.176       0.016\n",
            "C(mothers_age_at_birth_v212, Treatment(reference='10-14'))[T.35-39]            -0.0439      0.105     -0.420      0.675      -0.249       0.161\n",
            "C(mothers_age_at_birth_v212, Treatment(reference='10-14'))[T.40-44]             0.0112      0.205      0.055      0.956      -0.390       0.413\n",
            "C(mothers_age_at_birth_v212, Treatment(reference='10-14'))[T.45-49]             7.8089    1.4e+07   5.57e-07      1.000   -2.75e+07    2.75e+07\n",
            "C(mom_marital_stats_v501, Treatment(reference='married'))[T.non-married]        0.0067      0.027      0.253      0.800      -0.045       0.059\n",
            "C(mother_education_v701, Treatment(reference='no education'))[T.higher]        -0.1358      0.018     -7.398      0.000      -0.172      -0.100\n",
            "C(mother_education_v701, Treatment(reference='no education'))[T.primary]       -0.0145      0.009     -1.546      0.122      -0.033       0.004\n",
            "C(mother_education_v701, Treatment(reference='no education'))[T.secondary]     -0.0723      0.010     -7.220      0.000      -0.092      -0.053\n",
            "C(maternal_height_v438, Treatment(reference='>=145'))[T.<145]                   0.2042      0.009     21.972      0.000       0.186       0.222\n",
            "C(mothers_bmi_v445, Treatment(reference='>=18.5'))[T.<18.5]                     0.0755      0.007     10.362      0.000       0.061       0.090\n",
            "C(work_of_mom_v714)[T.True]                                                    -0.0001      0.008     -0.015      0.988      -0.016       0.016\n",
            "C(partner_occupation_v704)[T.True]                                              0.0425      0.021      1.989      0.047       0.001       0.084\n",
            "C(partner_education_v701, Treatment(reference='no education'))[T.higher]       -0.1701      0.015    -11.703      0.000      -0.199      -0.142\n",
            "C(partner_education_v701, Treatment(reference='no education'))[T.primary]      -0.0251      0.009     -2.884      0.004      -0.042      -0.008\n",
            "C(partner_education_v701, Treatment(reference='no education'))[T.secondary]    -0.0915      0.010     -9.516      0.000      -0.110      -0.073\n",
            "log_GDP_PC_PPP                                                                 -0.0664      0.026     -2.554      0.011      -0.117      -0.015\n",
            "===============================================================================================================================================\n"
          ]
        }
      ],
      "source": [
        "# for marginal effects\n",
        "merge_eff = result.get_margeff() # default overwall with method dydx\n",
        "print(merge_eff.summary())"
      ]
    },
    {
      "cell_type": "markdown",
      "metadata": {
        "id": "FnQJ-IGK-EEM"
      },
      "source": [
        "## Model 3 Underweight new"
      ]
    },
    {
      "cell_type": "code",
      "execution_count": null,
      "metadata": {
        "colab": {
          "base_uri": "https://localhost:8080/",
          "height": 363
        },
        "id": "Y27QgfMe-iuJ",
        "outputId": "9a846279-2feb-4130-b0b8-5a55ed7075f8",
        "vscode": {
          "languageId": "python"
        }
      },
      "outputs": [
        {
          "name": "stdout",
          "output_type": "stream",
          "text": [
            "<class 'pandas.core.frame.DataFrame'>\n",
            "RangeIndex: 19752 entries, 0 to 19751\n",
            "Data columns (total 13 columns):\n",
            " #   Column                     Non-Null Count  Dtype   \n",
            "---  ------                     --------------  -----   \n",
            " 0   log_GDP_PC_PPP             19752 non-null  float64 \n",
            " 1   children_age_v212          19752 non-null  category\n",
            " 2   sex_of_child_b4            19752 non-null  category\n",
            " 3   is_twin_child_b0           19752 non-null  category\n",
            " 4   mothers_age_at_birth_v212  19752 non-null  category\n",
            " 5   mom_marital_stats_v501     19752 non-null  category\n",
            " 6   mother_education_v701      19752 non-null  category\n",
            " 7   maternal_height_v438       19752 non-null  category\n",
            " 8   mothers_bmi_v445           19752 non-null  category\n",
            " 9   work_of_mom_v714           19752 non-null  category\n",
            " 10  partner_occupation_v704    19752 non-null  category\n",
            " 11  partner_education_v701     19752 non-null  category\n",
            " 12  underweight                19752 non-null  int64   \n",
            "dtypes: category(11), float64(1), int64(1)\n",
            "memory usage: 522.8 KB\n"
          ]
        }
      ],
      "source": [
        "# Model 3 with Stunting\n",
        "# Added new data as marital status was missing\n",
        "# v106 wrongly named as mother_education_v701\n",
        "\n",
        "model_3_data = ultimate_data[['log_GDP_PC_PPP','children_age_v212', \n",
        "                              'sex_of_child_b4', \"is_twin_child_b0\", \n",
        "                              \"mothers_age_at_birth_v212\", \n",
        "                              'mom_marital_stats_v501', \n",
        "                              'mother_education_v701', \n",
        "                              'maternal_height_v438', \n",
        "                              'mothers_bmi_v445', \n",
        "                              'work_of_mom_v714', \n",
        "                              'partner_occupation_v704', \n",
        "                              'partner_education_v701',\n",
        "                              'underweight']]\n",
        "model_3_data.info()"
      ]
    },
    {
      "cell_type": "code",
      "execution_count": null,
      "metadata": {
        "id": "qkVt9IiC-ulv",
        "vscode": {
          "languageId": "python"
        }
      },
      "outputs": [],
      "source": [
        "mod = smf.logit(formula=\"underweight ~ log_GDP_PC_PPP + C(children_age_v212, Treatment(reference='0-5')) + C(sex_of_child_b4, Treatment(reference='male')) + C(is_twin_child_b0, Treatment(reference='single birth')) + C(mothers_age_at_birth_v212, Treatment(reference='10-14')) + C(mom_marital_stats_v501, Treatment(reference='married')) + C(mother_education_v701, Treatment(reference='no education')) + C(maternal_height_v438, Treatment(reference='>=145')) + C(mothers_bmi_v445, Treatment(reference='>=18.5')) + C(maternal_height_v438, Treatment(reference='>=145')) + C(mothers_bmi_v445, Treatment(reference='>=18.5')) + C(work_of_mom_v714) + C(partner_occupation_v704) + C(partner_education_v701, Treatment(reference='no education'))\", data=model_3_data)"
      ]
    },
    {
      "cell_type": "code",
      "execution_count": null,
      "metadata": {
        "colab": {
          "base_uri": "https://localhost:8080/",
          "height": 918
        },
        "id": "ipqPLwWr_Ab2",
        "outputId": "5ed1cccb-1dea-42e1-914d-9a8e0c1965ca",
        "vscode": {
          "languageId": "python"
        }
      },
      "outputs": [
        {
          "name": "stdout",
          "output_type": "stream",
          "text": [
            "Warning: Maximum number of iterations has been exceeded.\n",
            "         Current function value: 0.599118\n",
            "         Iterations: 35\n",
            "                           Logit Regression Results                           \n",
            "==============================================================================\n",
            "Dep. Variable:            underweight   No. Observations:                19752\n",
            "Model:                          Logit   Df Residuals:                    19719\n",
            "Method:                           MLE   Df Model:                           32\n",
            "Date:                Mon, 10 Aug 2020   Pseudo R-squ.:                 0.08071\n",
            "Time:                        15:46:09   Log-Likelihood:                -11834.\n",
            "converged:                      False   LL-Null:                       -12873.\n",
            "Covariance Type:            nonrobust   LLR p-value:                     0.000\n",
            "===============================================================================================================================================\n",
            "                                                                                  coef    std err          z      P>|z|      [0.025      0.975]\n",
            "-----------------------------------------------------------------------------------------------------------------------------------------------\n",
            "Intercept                                                                       3.1310      1.005      3.115      0.002       1.161       5.101\n",
            "C(children_age_v212, Treatment(reference='0-5'))[T.12-17]                       0.6886      0.081      8.520      0.000       0.530       0.847\n",
            "C(children_age_v212, Treatment(reference='0-5'))[T.18-23]                       0.9211      0.081     11.409      0.000       0.763       1.079\n",
            "C(children_age_v212, Treatment(reference='0-5'))[T.24-29]                       0.9842      0.081     12.172      0.000       0.826       1.143\n",
            "C(children_age_v212, Treatment(reference='0-5'))[T.30-35]                       1.1158      0.080     14.004      0.000       0.960       1.272\n",
            "C(children_age_v212, Treatment(reference='0-5'))[T.36-41]                       1.0412      0.080     12.987      0.000       0.884       1.198\n",
            "C(children_age_v212, Treatment(reference='0-5'))[T.42-47]                       1.1564      0.079     14.636      0.000       1.002       1.311\n",
            "C(children_age_v212, Treatment(reference='0-5'))[T.48-53]                       1.0050      0.080     12.554      0.000       0.848       1.162\n",
            "C(children_age_v212, Treatment(reference='0-5'))[T.54-59]                       1.1648      0.080     14.624      0.000       1.009       1.321\n",
            "C(children_age_v212, Treatment(reference='0-5'))[T.6-11]                        0.1978      0.083      2.386      0.017       0.035       0.360\n",
            "C(sex_of_child_b4, Treatment(reference='male'))[T.female]                       0.0752      0.031      2.398      0.016       0.014       0.137\n",
            "C(is_twin_child_b0, Treatment(reference='single birth'))[T.1st of multiple]     0.6144      0.197      3.123      0.002       0.229       1.000\n",
            "C(is_twin_child_b0, Treatment(reference='single birth'))[T.2nd of multiple]     0.6839      0.190      3.596      0.000       0.311       1.057\n",
            "C(is_twin_child_b0, Treatment(reference='single birth'))[T.3rd of multiple]   -15.4359   4056.835     -0.004      0.997   -7966.687    7935.815\n",
            "C(mothers_age_at_birth_v212, Treatment(reference='10-14'))[T.15-19]            -0.0631      0.053     -1.191      0.234      -0.167       0.041\n",
            "C(mothers_age_at_birth_v212, Treatment(reference='10-14'))[T.20-24]            -0.1248      0.062     -2.021      0.043      -0.246      -0.004\n",
            "C(mothers_age_at_birth_v212, Treatment(reference='10-14'))[T.25-29]            -0.0284      0.103     -0.275      0.783      -0.231       0.174\n",
            "C(mothers_age_at_birth_v212, Treatment(reference='10-14'))[T.30-34]            -0.3502      0.241     -1.456      0.145      -0.822       0.121\n",
            "C(mothers_age_at_birth_v212, Treatment(reference='10-14'))[T.35-39]             0.0565      0.504      0.112      0.911      -0.930       1.044\n",
            "C(mothers_age_at_birth_v212, Treatment(reference='10-14'))[T.40-44]             0.1181      0.961      0.123      0.902      -1.765       2.001\n",
            "C(mothers_age_at_birth_v212, Treatment(reference='10-14'))[T.45-49]            10.8688    102.800      0.106      0.916    -190.616     212.354\n",
            "C(mom_marital_stats_v501, Treatment(reference='married'))[T.non-married]        0.1201      0.126      0.956      0.339      -0.126       0.366\n",
            "C(mother_education_v701, Treatment(reference='no education'))[T.higher]        -0.7098      0.091     -7.833      0.000      -0.887      -0.532\n",
            "C(mother_education_v701, Treatment(reference='no education'))[T.primary]       -0.0493      0.045     -1.102      0.270      -0.137       0.038\n",
            "C(mother_education_v701, Treatment(reference='no education'))[T.secondary]     -0.3477      0.048     -7.215      0.000      -0.442      -0.253\n",
            "C(maternal_height_v438, Treatment(reference='>=145'))[T.<145]                   0.7095      0.045     15.779      0.000       0.621       0.798\n",
            "C(mothers_bmi_v445, Treatment(reference='>=18.5'))[T.<18.5]                     0.6665      0.035     19.112      0.000       0.598       0.735\n",
            "C(work_of_mom_v714)[T.True]                                                     0.0248      0.040      0.618      0.537      -0.054       0.104\n",
            "C(partner_occupation_v704)[T.True]                                              0.2058      0.104      1.978      0.048       0.002       0.410\n",
            "C(partner_education_v701, Treatment(reference='no education'))[T.higher]       -0.5654      0.071     -7.952      0.000      -0.705      -0.426\n",
            "C(partner_education_v701, Treatment(reference='no education'))[T.primary]      -0.0657      0.042     -1.580      0.114      -0.147       0.016\n",
            "C(partner_education_v701, Treatment(reference='no education'))[T.secondary]    -0.3351      0.047     -7.174      0.000      -0.427      -0.244\n",
            "log_GDP_PC_PPP                                                                 -0.5818      0.125     -4.657      0.000      -0.827      -0.337\n",
            "===============================================================================================================================================\n"
          ]
        },
        {
          "name": "stderr",
          "output_type": "stream",
          "text": [
            "/usr/local/lib/python3.6/dist-packages/statsmodels/base/model.py:512: ConvergenceWarning: Maximum Likelihood optimization failed to converge. Check mle_retvals\n",
            "  \"Check mle_retvals\", ConvergenceWarning)\n"
          ]
        }
      ],
      "source": [
        "result = mod.fit()\n",
        "print(result.summary())"
      ]
    },
    {
      "cell_type": "code",
      "execution_count": null,
      "metadata": {
        "colab": {
          "base_uri": "https://localhost:8080/",
          "height": 622
        },
        "id": "Cabye-pZCqvr",
        "outputId": "3cf774dd-a0e2-4ec9-ecf1-1b43e5254f6c",
        "vscode": {
          "languageId": "python"
        }
      },
      "outputs": [
        {
          "name": "stdout",
          "output_type": "stream",
          "text": [
            "Odd Ratio:\n",
            "Intercept                                                                      2.289756e+01\n",
            "C(children_age_v212, Treatment(reference='0-5'))[T.12-17]                      1.990984e+00\n",
            "C(children_age_v212, Treatment(reference='0-5'))[T.18-23]                      2.512058e+00\n",
            "C(children_age_v212, Treatment(reference='0-5'))[T.24-29]                      2.675620e+00\n",
            "C(children_age_v212, Treatment(reference='0-5'))[T.30-35]                      3.052112e+00\n",
            "C(children_age_v212, Treatment(reference='0-5'))[T.36-41]                      2.832732e+00\n",
            "C(children_age_v212, Treatment(reference='0-5'))[T.42-47]                      3.178528e+00\n",
            "C(children_age_v212, Treatment(reference='0-5'))[T.48-53]                      2.731805e+00\n",
            "C(children_age_v212, Treatment(reference='0-5'))[T.54-59]                      3.205177e+00\n",
            "C(children_age_v212, Treatment(reference='0-5'))[T.6-11]                       1.218727e+00\n",
            "C(sex_of_child_b4, Treatment(reference='male'))[T.female]                      1.078106e+00\n",
            "C(is_twin_child_b0, Treatment(reference='single birth'))[T.1st of multiple]    1.848492e+00\n",
            "C(is_twin_child_b0, Treatment(reference='single birth'))[T.2nd of multiple]    1.981494e+00\n",
            "C(is_twin_child_b0, Treatment(reference='single birth'))[T.3rd of multiple]    1.978196e-07\n",
            "C(mothers_age_at_birth_v212, Treatment(reference='10-14'))[T.15-19]            9.388562e-01\n",
            "C(mothers_age_at_birth_v212, Treatment(reference='10-14'))[T.20-24]            8.826815e-01\n",
            "C(mothers_age_at_birth_v212, Treatment(reference='10-14'))[T.25-29]            9.719517e-01\n",
            "C(mothers_age_at_birth_v212, Treatment(reference='10-14'))[T.30-34]            7.045499e-01\n",
            "C(mothers_age_at_birth_v212, Treatment(reference='10-14'))[T.35-39]            1.058167e+00\n",
            "C(mothers_age_at_birth_v212, Treatment(reference='10-14'))[T.40-44]            1.125377e+00\n",
            "C(mothers_age_at_birth_v212, Treatment(reference='10-14'))[T.45-49]            5.250967e+04\n",
            "C(mom_marital_stats_v501, Treatment(reference='married'))[T.non-married]       1.127645e+00\n",
            "C(mother_education_v701, Treatment(reference='no education'))[T.higher]        4.917187e-01\n",
            "C(mother_education_v701, Treatment(reference='no education'))[T.primary]       9.519186e-01\n",
            "C(mother_education_v701, Treatment(reference='no education'))[T.secondary]     7.063387e-01\n",
            "C(maternal_height_v438, Treatment(reference='>=145'))[T.<145]                  2.032943e+00\n",
            "C(mothers_bmi_v445, Treatment(reference='>=18.5'))[T.<18.5]                    1.947396e+00\n",
            "C(work_of_mom_v714)[T.True]                                                    1.025118e+00\n",
            "C(partner_occupation_v704)[T.True]                                             1.228458e+00\n",
            "C(partner_education_v701, Treatment(reference='no education'))[T.higher]       5.681323e-01\n",
            "C(partner_education_v701, Treatment(reference='no education'))[T.primary]      9.363838e-01\n",
            "C(partner_education_v701, Treatment(reference='no education'))[T.secondary]    7.152938e-01\n",
            "log_GDP_PC_PPP                                                                 5.589141e-01\n",
            "dtype: float64\n"
          ]
        }
      ],
      "source": [
        "# For odd ration:\n",
        "print(\"Odd Ratio:\")\n",
        "print(np.exp(result.params))"
      ]
    },
    {
      "cell_type": "code",
      "execution_count": null,
      "metadata": {
        "colab": {
          "base_uri": "https://localhost:8080/",
          "height": 745
        },
        "id": "m1IusfRKCucI",
        "outputId": "69827697-350c-4b64-b0d0-79b4c8020b75",
        "vscode": {
          "languageId": "python"
        }
      },
      "outputs": [
        {
          "name": "stdout",
          "output_type": "stream",
          "text": [
            "        Logit Marginal Effects       \n",
            "=====================================\n",
            "Dep. Variable:            underweight\n",
            "Method:                          dydx\n",
            "At:                           overall\n",
            "===============================================================================================================================================\n",
            "                                                                                 dy/dx    std err          z      P>|z|      [0.025      0.975]\n",
            "-----------------------------------------------------------------------------------------------------------------------------------------------\n",
            "C(children_age_v212, Treatment(reference='0-5'))[T.12-17]                       0.1421      0.017      8.567      0.000       0.110       0.175\n",
            "C(children_age_v212, Treatment(reference='0-5'))[T.18-23]                       0.1900      0.016     11.529      0.000       0.158       0.222\n",
            "C(children_age_v212, Treatment(reference='0-5'))[T.24-29]                       0.2031      0.016     12.320      0.000       0.171       0.235\n",
            "C(children_age_v212, Treatment(reference='0-5'))[T.30-35]                       0.2302      0.016     14.233      0.000       0.199       0.262\n",
            "C(children_age_v212, Treatment(reference='0-5'))[T.36-41]                       0.2148      0.016     13.168      0.000       0.183       0.247\n",
            "C(children_age_v212, Treatment(reference='0-5'))[T.42-47]                       0.2386      0.016     14.900      0.000       0.207       0.270\n",
            "C(children_age_v212, Treatment(reference='0-5'))[T.48-53]                       0.2073      0.016     12.716      0.000       0.175       0.239\n",
            "C(children_age_v212, Treatment(reference='0-5'))[T.54-59]                       0.2403      0.016     14.888      0.000       0.209       0.272\n",
            "C(children_age_v212, Treatment(reference='0-5'))[T.6-11]                        0.0408      0.017      2.387      0.017       0.007       0.074\n",
            "C(sex_of_child_b4, Treatment(reference='male'))[T.female]                       0.0155      0.006      2.399      0.016       0.003       0.028\n",
            "C(is_twin_child_b0, Treatment(reference='single birth'))[T.1st of multiple]     0.1268      0.041      3.126      0.002       0.047       0.206\n",
            "C(is_twin_child_b0, Treatment(reference='single birth'))[T.2nd of multiple]     0.1411      0.039      3.600      0.000       0.064       0.218\n",
            "C(is_twin_child_b0, Treatment(reference='single birth'))[T.3rd of multiple]    -3.1847    837.002     -0.004      0.997   -1643.678    1637.309\n",
            "C(mothers_age_at_birth_v212, Treatment(reference='10-14'))[T.15-19]            -0.0130      0.011     -1.191      0.234      -0.034       0.008\n",
            "C(mothers_age_at_birth_v212, Treatment(reference='10-14'))[T.20-24]            -0.0257      0.013     -2.022      0.043      -0.051      -0.001\n",
            "C(mothers_age_at_birth_v212, Treatment(reference='10-14'))[T.25-29]            -0.0059      0.021     -0.275      0.783      -0.048       0.036\n",
            "C(mothers_age_at_birth_v212, Treatment(reference='10-14'))[T.30-34]            -0.0723      0.050     -1.456      0.145      -0.170       0.025\n",
            "C(mothers_age_at_birth_v212, Treatment(reference='10-14'))[T.35-39]             0.0117      0.104      0.112      0.911      -0.192       0.215\n",
            "C(mothers_age_at_birth_v212, Treatment(reference='10-14'))[T.40-44]             0.0244      0.198      0.123      0.902      -0.364       0.413\n",
            "C(mothers_age_at_birth_v212, Treatment(reference='10-14'))[T.45-49]             2.2424     21.210      0.106      0.916     -39.328      43.813\n",
            "C(mom_marital_stats_v501, Treatment(reference='married'))[T.non-married]        0.0248      0.026      0.956      0.339      -0.026       0.076\n",
            "C(mother_education_v701, Treatment(reference='no education'))[T.higher]        -0.1465      0.019     -7.871      0.000      -0.183      -0.110\n",
            "C(mother_education_v701, Treatment(reference='no education'))[T.primary]       -0.0102      0.009     -1.103      0.270      -0.028       0.008\n",
            "C(mother_education_v701, Treatment(reference='no education'))[T.secondary]     -0.0717      0.010     -7.251      0.000      -0.091      -0.052\n",
            "C(maternal_height_v438, Treatment(reference='>=145'))[T.<145]                   0.1464      0.009     16.162      0.000       0.129       0.164\n",
            "C(mothers_bmi_v445, Treatment(reference='>=18.5'))[T.<18.5]                     0.1375      0.007     19.806      0.000       0.124       0.151\n",
            "C(work_of_mom_v714)[T.True]                                                     0.0051      0.008      0.618      0.537      -0.011       0.021\n",
            "C(partner_occupation_v704)[T.True]                                              0.0425      0.021      1.979      0.048       0.000       0.084\n",
            "C(partner_education_v701, Treatment(reference='no education'))[T.higher]       -0.1167      0.015     -7.994      0.000      -0.145      -0.088\n",
            "C(partner_education_v701, Treatment(reference='no education'))[T.primary]      -0.0136      0.009     -1.581      0.114      -0.030       0.003\n",
            "C(partner_education_v701, Treatment(reference='no education'))[T.secondary]    -0.0691      0.010     -7.208      0.000      -0.088      -0.050\n",
            "log_GDP_PC_PPP                                                                 -0.1200      0.026     -4.666      0.000      -0.170      -0.070\n",
            "===============================================================================================================================================\n"
          ]
        }
      ],
      "source": [
        "# for marginal effects\n",
        "merge_eff = result.get_margeff() # default overwall with method dydx\n",
        "print(merge_eff.summary())"
      ]
    },
    {
      "cell_type": "markdown",
      "metadata": {
        "id": "lqRHJw24C6fR"
      },
      "source": [
        "## Model 3 wasted new"
      ]
    },
    {
      "cell_type": "code",
      "execution_count": null,
      "metadata": {
        "colab": {
          "base_uri": "https://localhost:8080/",
          "height": 363
        },
        "id": "4pJ4W6SAC809",
        "outputId": "2adda812-ace7-40aa-c87f-64fc4c20b54f",
        "vscode": {
          "languageId": "python"
        }
      },
      "outputs": [
        {
          "name": "stdout",
          "output_type": "stream",
          "text": [
            "<class 'pandas.core.frame.DataFrame'>\n",
            "RangeIndex: 19752 entries, 0 to 19751\n",
            "Data columns (total 13 columns):\n",
            " #   Column                     Non-Null Count  Dtype   \n",
            "---  ------                     --------------  -----   \n",
            " 0   log_GDP_PC_PPP             19752 non-null  float64 \n",
            " 1   children_age_v212          19752 non-null  category\n",
            " 2   sex_of_child_b4            19752 non-null  category\n",
            " 3   is_twin_child_b0           19752 non-null  category\n",
            " 4   mothers_age_at_birth_v212  19752 non-null  category\n",
            " 5   mom_marital_stats_v501     19752 non-null  category\n",
            " 6   mother_education_v701      19752 non-null  category\n",
            " 7   maternal_height_v438       19752 non-null  category\n",
            " 8   mothers_bmi_v445           19752 non-null  category\n",
            " 9   work_of_mom_v714           19752 non-null  category\n",
            " 10  partner_occupation_v704    19752 non-null  category\n",
            " 11  partner_education_v701     19752 non-null  category\n",
            " 12  wasted                     19752 non-null  int64   \n",
            "dtypes: category(11), float64(1), int64(1)\n",
            "memory usage: 522.8 KB\n"
          ]
        }
      ],
      "source": [
        "# Model 3 with Stunting\n",
        "# Added new data as marital status was missing\n",
        "# v106 wrongly named as mother_education_v701\n",
        "\n",
        "model_3_data = ultimate_data[['log_GDP_PC_PPP','children_age_v212', \n",
        "                              'sex_of_child_b4', \"is_twin_child_b0\", \n",
        "                              \"mothers_age_at_birth_v212\", \n",
        "                              'mom_marital_stats_v501', \n",
        "                              'mother_education_v701', \n",
        "                              'maternal_height_v438', \n",
        "                              'mothers_bmi_v445', \n",
        "                              'work_of_mom_v714', \n",
        "                              'partner_occupation_v704', \n",
        "                              'partner_education_v701',\n",
        "                              'wasted']]\n",
        "model_3_data.info()"
      ]
    },
    {
      "cell_type": "code",
      "execution_count": null,
      "metadata": {
        "id": "rfyiTYfhC_6u",
        "vscode": {
          "languageId": "python"
        }
      },
      "outputs": [],
      "source": [
        "mod = smf.logit(formula=\"wasted ~ log_GDP_PC_PPP + C(children_age_v212, Treatment(reference='0-5')) + C(sex_of_child_b4, Treatment(reference='male')) + C(is_twin_child_b0, Treatment(reference='single birth')) + C(mothers_age_at_birth_v212, Treatment(reference='10-14')) + C(mom_marital_stats_v501, Treatment(reference='married')) + C(mother_education_v701, Treatment(reference='no education')) + C(maternal_height_v438, Treatment(reference='>=145')) + C(mothers_bmi_v445, Treatment(reference='>=18.5')) + C(maternal_height_v438, Treatment(reference='>=145')) + C(mothers_bmi_v445, Treatment(reference='>=18.5')) + C(work_of_mom_v714) + C(partner_occupation_v704) + C(partner_education_v701, Treatment(reference='no education'))\", data=model_3_data)"
      ]
    },
    {
      "cell_type": "code",
      "execution_count": null,
      "metadata": {
        "colab": {
          "base_uri": "https://localhost:8080/",
          "height": 918
        },
        "id": "a2FoVJbXDE8M",
        "outputId": "487ef8e1-5a45-4be6-e3a9-3d70427cbf20",
        "vscode": {
          "languageId": "python"
        }
      },
      "outputs": [
        {
          "name": "stdout",
          "output_type": "stream",
          "text": [
            "Warning: Maximum number of iterations has been exceeded.\n",
            "         Current function value: 0.424310\n",
            "         Iterations: 35\n",
            "                           Logit Regression Results                           \n",
            "==============================================================================\n",
            "Dep. Variable:                 wasted   No. Observations:                19752\n",
            "Model:                          Logit   Df Residuals:                    19719\n",
            "Method:                           MLE   Df Model:                           32\n",
            "Date:                Mon, 10 Aug 2020   Pseudo R-squ.:                 0.01665\n",
            "Time:                        15:46:49   Log-Likelihood:                -8381.0\n",
            "converged:                      False   LL-Null:                       -8522.9\n",
            "Covariance Type:            nonrobust   LLR p-value:                 3.803e-42\n",
            "===============================================================================================================================================\n",
            "                                                                                  coef    std err          z      P>|z|      [0.025      0.975]\n",
            "-----------------------------------------------------------------------------------------------------------------------------------------------\n",
            "Intercept                                                                       0.8447      1.268      0.666      0.505      -1.641       3.330\n",
            "C(children_age_v212, Treatment(reference='0-5'))[T.12-17]                       0.0094      0.088      0.108      0.914      -0.162       0.181\n",
            "C(children_age_v212, Treatment(reference='0-5'))[T.18-23]                      -0.0253      0.089     -0.283      0.777      -0.200       0.150\n",
            "C(children_age_v212, Treatment(reference='0-5'))[T.24-29]                      -0.2438      0.093     -2.618      0.009      -0.426      -0.061\n",
            "C(children_age_v212, Treatment(reference='0-5'))[T.30-35]                      -0.2406      0.092     -2.622      0.009      -0.421      -0.061\n",
            "C(children_age_v212, Treatment(reference='0-5'))[T.36-41]                      -0.2641      0.093     -2.849      0.004      -0.446      -0.082\n",
            "C(children_age_v212, Treatment(reference='0-5'))[T.42-47]                      -0.2402      0.091     -2.640      0.008      -0.419      -0.062\n",
            "C(children_age_v212, Treatment(reference='0-5'))[T.48-53]                      -0.1770      0.091     -1.945      0.052      -0.355       0.001\n",
            "C(children_age_v212, Treatment(reference='0-5'))[T.54-59]                      -0.1477      0.091     -1.628      0.104      -0.325       0.030\n",
            "C(children_age_v212, Treatment(reference='0-5'))[T.6-11]                       -0.1389      0.089     -1.568      0.117      -0.312       0.035\n",
            "C(sex_of_child_b4, Treatment(reference='male'))[T.female]                      -0.1234      0.040     -3.105      0.002      -0.201      -0.046\n",
            "C(is_twin_child_b0, Treatment(reference='single birth'))[T.1st of multiple]    -0.0641      0.271     -0.236      0.813      -0.596       0.467\n",
            "C(is_twin_child_b0, Treatment(reference='single birth'))[T.2nd of multiple]     0.0388      0.251      0.154      0.878      -0.454       0.532\n",
            "C(is_twin_child_b0, Treatment(reference='single birth'))[T.3rd of multiple]    36.8398   3.36e+07    1.1e-06      1.000   -6.58e+07    6.58e+07\n",
            "C(mothers_age_at_birth_v212, Treatment(reference='10-14'))[T.15-19]             0.0381      0.068      0.557      0.577      -0.096       0.172\n",
            "C(mothers_age_at_birth_v212, Treatment(reference='10-14'))[T.20-24]             0.0361      0.079      0.456      0.648      -0.119       0.191\n",
            "C(mothers_age_at_birth_v212, Treatment(reference='10-14'))[T.25-29]             0.0761      0.128      0.594      0.552      -0.175       0.327\n",
            "C(mothers_age_at_birth_v212, Treatment(reference='10-14'))[T.30-34]            -0.3340      0.315     -1.061      0.289      -0.951       0.283\n",
            "C(mothers_age_at_birth_v212, Treatment(reference='10-14'))[T.35-39]            -0.0134      0.630     -0.021      0.983      -1.247       1.220\n",
            "C(mothers_age_at_birth_v212, Treatment(reference='10-14'))[T.40-44]           -23.3630   1.18e+05     -0.000      1.000   -2.32e+05    2.32e+05\n",
            "C(mothers_age_at_birth_v212, Treatment(reference='10-14'))[T.45-49]            16.4791   1473.321      0.011      0.991   -2871.178    2904.136\n",
            "C(mom_marital_stats_v501, Treatment(reference='married'))[T.non-married]       -0.0125      0.161     -0.078      0.938      -0.327       0.302\n",
            "C(mother_education_v701, Treatment(reference='no education'))[T.higher]        -0.2707      0.110     -2.468      0.014      -0.486      -0.056\n",
            "C(mother_education_v701, Treatment(reference='no education'))[T.primary]        0.0158      0.057      0.280      0.779      -0.095       0.127\n",
            "C(mother_education_v701, Treatment(reference='no education'))[T.secondary]     -0.1920      0.062     -3.099      0.002      -0.313      -0.071\n",
            "C(maternal_height_v438, Treatment(reference='>=145'))[T.<145]                   0.1493      0.056      2.647      0.008       0.039       0.260\n",
            "C(mothers_bmi_v445, Treatment(reference='>=18.5'))[T.<18.5]                     0.4986      0.043     11.659      0.000       0.415       0.582\n",
            "C(work_of_mom_v714)[T.True]                                                     0.0841      0.051      1.659      0.097      -0.015       0.183\n",
            "C(partner_occupation_v704)[T.True]                                              0.3505      0.144      2.427      0.015       0.067       0.633\n",
            "C(partner_education_v701, Treatment(reference='no education'))[T.higher]       -0.0617      0.088     -0.698      0.485      -0.235       0.112\n",
            "C(partner_education_v701, Treatment(reference='no education'))[T.primary]       0.0076      0.053      0.143      0.886      -0.097       0.112\n",
            "C(partner_education_v701, Treatment(reference='no education'))[T.secondary]    -0.0362      0.060     -0.606      0.545      -0.153       0.081\n",
            "log_GDP_PC_PPP                                                                 -0.3484      0.157     -2.214      0.027      -0.657      -0.040\n",
            "===============================================================================================================================================\n"
          ]
        },
        {
          "name": "stderr",
          "output_type": "stream",
          "text": [
            "/usr/local/lib/python3.6/dist-packages/statsmodels/base/model.py:512: ConvergenceWarning: Maximum Likelihood optimization failed to converge. Check mle_retvals\n",
            "  \"Check mle_retvals\", ConvergenceWarning)\n"
          ]
        }
      ],
      "source": [
        "result = mod.fit()\n",
        "print(result.summary())"
      ]
    },
    {
      "cell_type": "code",
      "execution_count": null,
      "metadata": {
        "colab": {
          "base_uri": "https://localhost:8080/",
          "height": 622
        },
        "id": "2Ig899YTDHH3",
        "outputId": "b48d46a2-4c8c-44ec-a59b-8b33094708ac",
        "vscode": {
          "languageId": "python"
        }
      },
      "outputs": [
        {
          "name": "stdout",
          "output_type": "stream",
          "text": [
            "Odd Ratio:\n",
            "Intercept                                                                      2.327277e+00\n",
            "C(children_age_v212, Treatment(reference='0-5'))[T.12-17]                      1.009476e+00\n",
            "C(children_age_v212, Treatment(reference='0-5'))[T.18-23]                      9.750340e-01\n",
            "C(children_age_v212, Treatment(reference='0-5'))[T.24-29]                      7.836169e-01\n",
            "C(children_age_v212, Treatment(reference='0-5'))[T.30-35]                      7.861460e-01\n",
            "C(children_age_v212, Treatment(reference='0-5'))[T.36-41]                      7.679152e-01\n",
            "C(children_age_v212, Treatment(reference='0-5'))[T.42-47]                      7.864675e-01\n",
            "C(children_age_v212, Treatment(reference='0-5'))[T.48-53]                      8.377672e-01\n",
            "C(children_age_v212, Treatment(reference='0-5'))[T.54-59]                      8.627323e-01\n",
            "C(children_age_v212, Treatment(reference='0-5'))[T.6-11]                       8.703523e-01\n",
            "C(sex_of_child_b4, Treatment(reference='male'))[T.female]                      8.839501e-01\n",
            "C(is_twin_child_b0, Treatment(reference='single birth'))[T.1st of multiple]    9.378858e-01\n",
            "C(is_twin_child_b0, Treatment(reference='single birth'))[T.2nd of multiple]    1.039518e+00\n",
            "C(is_twin_child_b0, Treatment(reference='single birth'))[T.3rd of multiple]    9.984263e+15\n",
            "C(mothers_age_at_birth_v212, Treatment(reference='10-14'))[T.15-19]            1.038856e+00\n",
            "C(mothers_age_at_birth_v212, Treatment(reference='10-14'))[T.20-24]            1.036770e+00\n",
            "C(mothers_age_at_birth_v212, Treatment(reference='10-14'))[T.25-29]            1.079065e+00\n",
            "C(mothers_age_at_birth_v212, Treatment(reference='10-14'))[T.30-34]            7.160463e-01\n",
            "C(mothers_age_at_birth_v212, Treatment(reference='10-14'))[T.35-39]            9.866603e-01\n",
            "C(mothers_age_at_birth_v212, Treatment(reference='10-14'))[T.40-44]            7.138185e-11\n",
            "C(mothers_age_at_birth_v212, Treatment(reference='10-14'))[T.45-49]            1.434759e+07\n",
            "C(mom_marital_stats_v501, Treatment(reference='married'))[T.non-married]       9.875738e-01\n",
            "C(mother_education_v701, Treatment(reference='no education'))[T.higher]        7.628226e-01\n",
            "C(mother_education_v701, Treatment(reference='no education'))[T.primary]       1.015970e+00\n",
            "C(mother_education_v701, Treatment(reference='no education'))[T.secondary]     8.253327e-01\n",
            "C(maternal_height_v438, Treatment(reference='>=145'))[T.<145]                  1.160966e+00\n",
            "C(mothers_bmi_v445, Treatment(reference='>=18.5'))[T.<18.5]                    1.646355e+00\n",
            "C(work_of_mom_v714)[T.True]                                                    1.087753e+00\n",
            "C(partner_occupation_v704)[T.True]                                             1.419714e+00\n",
            "C(partner_education_v701, Treatment(reference='no education'))[T.higher]       9.401487e-01\n",
            "C(partner_education_v701, Treatment(reference='no education'))[T.primary]      1.007628e+00\n",
            "C(partner_education_v701, Treatment(reference='no education'))[T.secondary]    9.644349e-01\n",
            "log_GDP_PC_PPP                                                                 7.057897e-01\n",
            "dtype: float64\n"
          ]
        }
      ],
      "source": [
        "# For odd ration:\n",
        "print(\"Odd Ratio:\")\n",
        "print(np.exp(result.params))"
      ]
    },
    {
      "cell_type": "code",
      "execution_count": null,
      "metadata": {
        "colab": {
          "base_uri": "https://localhost:8080/",
          "height": 745
        },
        "id": "fhc-S3RIDKVo",
        "outputId": "5e975478-1e74-45f9-8508-3b0a55a52f2b",
        "vscode": {
          "languageId": "python"
        }
      },
      "outputs": [
        {
          "name": "stdout",
          "output_type": "stream",
          "text": [
            "        Logit Marginal Effects       \n",
            "=====================================\n",
            "Dep. Variable:                 wasted\n",
            "Method:                          dydx\n",
            "At:                           overall\n",
            "===============================================================================================================================================\n",
            "                                                                                 dy/dx    std err          z      P>|z|      [0.025      0.975]\n",
            "-----------------------------------------------------------------------------------------------------------------------------------------------\n",
            "C(children_age_v212, Treatment(reference='0-5'))[T.12-17]                       0.0012      0.011      0.108      0.914      -0.021       0.023\n",
            "C(children_age_v212, Treatment(reference='0-5'))[T.18-23]                      -0.0033      0.012     -0.283      0.777      -0.026       0.019\n",
            "C(children_age_v212, Treatment(reference='0-5'))[T.24-29]                      -0.0315      0.012     -2.618      0.009      -0.055      -0.008\n",
            "C(children_age_v212, Treatment(reference='0-5'))[T.30-35]                      -0.0311      0.012     -2.622      0.009      -0.054      -0.008\n",
            "C(children_age_v212, Treatment(reference='0-5'))[T.36-41]                      -0.0341      0.012     -2.850      0.004      -0.058      -0.011\n",
            "C(children_age_v212, Treatment(reference='0-5'))[T.42-47]                      -0.0310      0.012     -2.640      0.008      -0.054      -0.008\n",
            "C(children_age_v212, Treatment(reference='0-5'))[T.48-53]                      -0.0229      0.012     -1.945      0.052      -0.046       0.000\n",
            "C(children_age_v212, Treatment(reference='0-5'))[T.54-59]                      -0.0191      0.012     -1.628      0.104      -0.042       0.004\n",
            "C(children_age_v212, Treatment(reference='0-5'))[T.6-11]                       -0.0179      0.011     -1.568      0.117      -0.040       0.004\n",
            "C(sex_of_child_b4, Treatment(reference='male'))[T.female]                      -0.0159      0.005     -3.106      0.002      -0.026      -0.006\n",
            "C(is_twin_child_b0, Treatment(reference='single birth'))[T.1st of multiple]    -0.0083      0.035     -0.236      0.813      -0.077       0.060\n",
            "C(is_twin_child_b0, Treatment(reference='single birth'))[T.2nd of multiple]     0.0050      0.032      0.154      0.878      -0.059       0.069\n",
            "C(is_twin_child_b0, Treatment(reference='single birth'))[T.3rd of multiple]     4.7556   4.33e+06    1.1e-06      1.000   -8.49e+06    8.49e+06\n",
            "C(mothers_age_at_birth_v212, Treatment(reference='10-14'))[T.15-19]             0.0049      0.009      0.557      0.577      -0.012       0.022\n",
            "C(mothers_age_at_birth_v212, Treatment(reference='10-14'))[T.20-24]             0.0047      0.010      0.456      0.648      -0.015       0.025\n",
            "C(mothers_age_at_birth_v212, Treatment(reference='10-14'))[T.25-29]             0.0098      0.017      0.594      0.552      -0.023       0.042\n",
            "C(mothers_age_at_birth_v212, Treatment(reference='10-14'))[T.30-34]            -0.0431      0.041     -1.061      0.289      -0.123       0.037\n",
            "C(mothers_age_at_birth_v212, Treatment(reference='10-14'))[T.35-39]            -0.0017      0.081     -0.021      0.983      -0.161       0.158\n",
            "C(mothers_age_at_birth_v212, Treatment(reference='10-14'))[T.40-44]            -3.0159   1.53e+04     -0.000      1.000   -2.99e+04    2.99e+04\n",
            "C(mothers_age_at_birth_v212, Treatment(reference='10-14'))[T.45-49]             2.1273    190.191      0.011      0.991    -370.640     374.894\n",
            "C(mom_marital_stats_v501, Treatment(reference='married'))[T.non-married]       -0.0016      0.021     -0.078      0.938      -0.042       0.039\n",
            "C(mother_education_v701, Treatment(reference='no education'))[T.higher]        -0.0349      0.014     -2.468      0.014      -0.063      -0.007\n",
            "C(mother_education_v701, Treatment(reference='no education'))[T.primary]        0.0020      0.007      0.280      0.779      -0.012       0.016\n",
            "C(mother_education_v701, Treatment(reference='no education'))[T.secondary]     -0.0248      0.008     -3.099      0.002      -0.040      -0.009\n",
            "C(maternal_height_v438, Treatment(reference='>=145'))[T.<145]                   0.0193      0.007      2.647      0.008       0.005       0.034\n",
            "C(mothers_bmi_v445, Treatment(reference='>=18.5'))[T.<18.5]                     0.0644      0.006     11.696      0.000       0.054       0.075\n",
            "C(work_of_mom_v714)[T.True]                                                     0.0109      0.007      1.660      0.097      -0.002       0.024\n",
            "C(partner_occupation_v704)[T.True]                                              0.0452      0.019      2.427      0.015       0.009       0.082\n",
            "C(partner_education_v701, Treatment(reference='no education'))[T.higher]       -0.0080      0.011     -0.698      0.485      -0.030       0.014\n",
            "C(partner_education_v701, Treatment(reference='no education'))[T.primary]       0.0010      0.007      0.143      0.886      -0.012       0.014\n",
            "C(partner_education_v701, Treatment(reference='no education'))[T.secondary]    -0.0047      0.008     -0.606      0.545      -0.020       0.010\n",
            "log_GDP_PC_PPP                                                                 -0.0450      0.020     -2.214      0.027      -0.085      -0.005\n",
            "===============================================================================================================================================\n"
          ]
        }
      ],
      "source": [
        "# for marginal effects\n",
        "merge_eff = result.get_margeff() # default overwall with method dydx\n",
        "print(merge_eff.summary())"
      ]
    },
    {
      "cell_type": "markdown",
      "metadata": {
        "id": "OKXEI6pSDhR9"
      },
      "source": [
        "## Model 4 stunted new"
      ]
    },
    {
      "cell_type": "code",
      "execution_count": null,
      "metadata": {
        "colab": {
          "base_uri": "https://localhost:8080/",
          "height": 484
        },
        "id": "cnzfTkYaDjxx",
        "outputId": "b48cb56c-b33e-4fae-8bf9-cefb4da5f8e4",
        "vscode": {
          "languageId": "python"
        }
      },
      "outputs": [
        {
          "name": "stdout",
          "output_type": "stream",
          "text": [
            "<class 'pandas.core.frame.DataFrame'>\n",
            "RangeIndex: 19752 entries, 0 to 19751\n",
            "Data columns (total 20 columns):\n",
            " #   Column                     Non-Null Count  Dtype   \n",
            "---  ------                     --------------  -----   \n",
            " 0   log_GDP_PC_PPP             19752 non-null  float64 \n",
            " 1   children_age_v212          19752 non-null  category\n",
            " 2   sex_of_child_b4            19752 non-null  category\n",
            " 3   is_twin_child_b0           19752 non-null  category\n",
            " 4   mothers_age_at_birth_v212  19752 non-null  category\n",
            " 5   mom_marital_stats_v501     19752 non-null  category\n",
            " 6   mother_education_v701      19752 non-null  category\n",
            " 7   maternal_height_v438       19752 non-null  category\n",
            " 8   mothers_bmi_v445           19752 non-null  category\n",
            " 9   work_of_mom_v714           19752 non-null  category\n",
            " 10  partner_occupation_v704    19752 non-null  category\n",
            " 11  partner_education_v701     19752 non-null  category\n",
            " 12  wealth_index_v190          19752 non-null  category\n",
            " 13  type_of_toilet_v116        19752 non-null  category\n",
            " 14  water_type_v113            19752 non-null  category\n",
            " 15  num_of_house_members_v136  19752 non-null  category\n",
            " 16  num_under_five_child_v137  19752 non-null  category\n",
            " 17  sex_house_head_v151        19752 non-null  category\n",
            " 18  place_of_residence_v025    19752 non-null  category\n",
            " 19  stunted                    19752 non-null  int64   \n",
            "dtypes: category(18), float64(1), int64(1)\n",
            "memory usage: 658.6 KB\n"
          ]
        }
      ],
      "source": [
        "model_4_data = ultimate_data[['log_GDP_PC_PPP','children_age_v212', \n",
        "                              'sex_of_child_b4', \"is_twin_child_b0\", \n",
        "                              \"mothers_age_at_birth_v212\", \n",
        "                              'mom_marital_stats_v501', \n",
        "                              'mother_education_v701', \n",
        "                              'maternal_height_v438', \n",
        "                              'mothers_bmi_v445', \n",
        "                              'work_of_mom_v714', \n",
        "                              'partner_occupation_v704', \n",
        "                              'partner_education_v701',\n",
        "                              \"wealth_index_v190\",\n",
        "                              \"type_of_toilet_v116\",\n",
        "                              \"water_type_v113\",\n",
        "                              \"num_of_house_members_v136\",\n",
        "                              \"num_under_five_child_v137\",\n",
        "                              \"sex_house_head_v151\",\n",
        "                              \"place_of_residence_v025\",\n",
        "                              'stunted']]\n",
        "model_4_data.info()"
      ]
    },
    {
      "cell_type": "code",
      "execution_count": null,
      "metadata": {
        "id": "dVPeR7XlD65H",
        "vscode": {
          "languageId": "python"
        }
      },
      "outputs": [],
      "source": [
        "mod = smf.logit(formula=\"stunted ~ log_GDP_PC_PPP + C(children_age_v212, Treatment(reference='0-5')) + C(sex_of_child_b4, Treatment(reference='male')) + C(is_twin_child_b0, Treatment(reference='single birth')) + C(mothers_age_at_birth_v212, Treatment(reference='10-14')) + C(mom_marital_stats_v501, Treatment(reference='married')) + C(mother_education_v701, Treatment(reference='no education')) + C(maternal_height_v438, Treatment(reference='>=145')) + C(mothers_bmi_v445, Treatment(reference='>=18.5')) + C(maternal_height_v438, Treatment(reference='>=145')) + C(mothers_bmi_v445, Treatment(reference='>=18.5')) + C(work_of_mom_v714) + C(partner_occupation_v704) + C(partner_education_v701, Treatment(reference='no education')) + C(wealth_index_v190, Treatment(reference='poorest')) + C(type_of_toilet_v116, Treatment(reference='unimproved')) + C(water_type_v113, Treatment(reference='unsafe')) + C(num_of_house_members_v136, Treatment(reference='1-3')) + C(num_under_five_child_v137, Treatment(reference='>2')) + C(sex_house_head_v151, Treatment(reference='male')) + C(place_of_residence_v025, Treatment(reference='urban'))\", data=model_4_data)"
      ]
    },
    {
      "cell_type": "code",
      "execution_count": null,
      "metadata": {
        "colab": {
          "base_uri": "https://localhost:8080/",
          "height": 1000
        },
        "id": "2ZcNp0Y_ECmW",
        "outputId": "1fdb8c25-6435-4de7-e60c-7e1a37c56b4d",
        "vscode": {
          "languageId": "python"
        }
      },
      "outputs": [
        {
          "name": "stdout",
          "output_type": "stream",
          "text": [
            "Warning: Maximum number of iterations has been exceeded.\n",
            "         Current function value: 0.598142\n",
            "         Iterations: 35\n",
            "                           Logit Regression Results                           \n",
            "==============================================================================\n",
            "Dep. Variable:                stunted   No. Observations:                19752\n",
            "Model:                          Logit   Df Residuals:                    19708\n",
            "Method:                           MLE   Df Model:                           43\n",
            "Date:                Mon, 10 Aug 2020   Pseudo R-squ.:                  0.1086\n",
            "Time:                        15:57:21   Log-Likelihood:                -11815.\n",
            "converged:                      False   LL-Null:                       -13254.\n",
            "Covariance Type:            nonrobust   LLR p-value:                     0.000\n",
            "===============================================================================================================================================\n",
            "                                                                                  coef    std err          z      P>|z|      [0.025      0.975]\n",
            "-----------------------------------------------------------------------------------------------------------------------------------------------\n",
            "Intercept                                                                       1.9233      1.044      1.843      0.065      -0.123       3.969\n",
            "C(children_age_v212, Treatment(reference='0-5'))[T.12-17]                       1.3284      0.085     15.648      0.000       1.162       1.495\n",
            "C(children_age_v212, Treatment(reference='0-5'))[T.18-23]                       1.7420      0.085     20.462      0.000       1.575       1.909\n",
            "C(children_age_v212, Treatment(reference='0-5'))[T.24-29]                       1.6199      0.085     18.957      0.000       1.452       1.787\n",
            "C(children_age_v212, Treatment(reference='0-5'))[T.30-35]                       1.7692      0.085     20.918      0.000       1.603       1.935\n",
            "C(children_age_v212, Treatment(reference='0-5'))[T.36-41]                       1.7508      0.085     20.620      0.000       1.584       1.917\n",
            "C(children_age_v212, Treatment(reference='0-5'))[T.42-47]                       1.7337      0.084     20.628      0.000       1.569       1.898\n",
            "C(children_age_v212, Treatment(reference='0-5'))[T.48-53]                       1.3363      0.085     15.681      0.000       1.169       1.503\n",
            "C(children_age_v212, Treatment(reference='0-5'))[T.54-59]                       1.4977      0.085     17.648      0.000       1.331       1.664\n",
            "C(children_age_v212, Treatment(reference='0-5'))[T.6-11]                        0.4709      0.088      5.347      0.000       0.298       0.643\n",
            "C(sex_of_child_b4, Treatment(reference='male'))[T.female]                      -0.0702      0.031     -2.237      0.025      -0.132      -0.009\n",
            "C(is_twin_child_b0, Treatment(reference='single birth'))[T.1st of multiple]     0.7725      0.202      3.832      0.000       0.377       1.168\n",
            "C(is_twin_child_b0, Treatment(reference='single birth'))[T.2nd of multiple]     0.7052      0.195      3.616      0.000       0.323       1.087\n",
            "C(is_twin_child_b0, Treatment(reference='single birth'))[T.3rd of multiple]   -14.6051   2021.528     -0.007      0.994   -3976.727    3947.517\n",
            "C(mothers_age_at_birth_v212, Treatment(reference='10-14'))[T.15-19]            -0.0620      0.053     -1.159      0.246      -0.167       0.043\n",
            "C(mothers_age_at_birth_v212, Treatment(reference='10-14'))[T.20-24]            -0.0647      0.062     -1.040      0.298      -0.187       0.057\n",
            "C(mothers_age_at_birth_v212, Treatment(reference='10-14'))[T.25-29]            -0.1362      0.105     -1.299      0.194      -0.342       0.069\n",
            "C(mothers_age_at_birth_v212, Treatment(reference='10-14'))[T.30-34]            -0.2828      0.236     -1.199      0.230      -0.745       0.179\n",
            "C(mothers_age_at_birth_v212, Treatment(reference='10-14'))[T.35-39]            -0.1612      0.503     -0.321      0.749      -1.147       0.825\n",
            "C(mothers_age_at_birth_v212, Treatment(reference='10-14'))[T.40-44]             0.0692      0.979      0.071      0.944      -1.850       1.988\n",
            "C(mothers_age_at_birth_v212, Treatment(reference='10-14'))[T.45-49]            11.0680     90.851      0.122      0.903    -166.996     189.132\n",
            "C(mom_marital_stats_v501, Treatment(reference='married'))[T.non-married]        0.0231      0.130      0.179      0.858      -0.231       0.277\n",
            "C(mother_education_v701, Treatment(reference='no education'))[T.higher]        -0.4140      0.090     -4.586      0.000      -0.591      -0.237\n",
            "C(mother_education_v701, Treatment(reference='no education'))[T.primary]       -0.0266      0.045     -0.586      0.558      -0.116       0.062\n",
            "C(mother_education_v701, Treatment(reference='no education'))[T.secondary]     -0.2086      0.050     -4.195      0.000      -0.306      -0.111\n",
            "C(maternal_height_v438, Treatment(reference='>=145'))[T.<145]                   0.9670      0.047     20.698      0.000       0.875       1.059\n",
            "C(mothers_bmi_v445, Treatment(reference='>=18.5'))[T.<18.5]                     0.2863      0.036      8.007      0.000       0.216       0.356\n",
            "C(work_of_mom_v714)[T.True]                                                    -0.0134      0.040     -0.332      0.740      -0.093       0.066\n",
            "C(partner_occupation_v704)[T.True]                                              0.1707      0.103      1.651      0.099      -0.032       0.373\n",
            "C(partner_education_v701, Treatment(reference='no education'))[T.higher]       -0.5614      0.073     -7.683      0.000      -0.705      -0.418\n",
            "C(partner_education_v701, Treatment(reference='no education'))[T.primary]      -0.0554      0.042     -1.313      0.189      -0.138       0.027\n",
            "C(partner_education_v701, Treatment(reference='no education'))[T.secondary]    -0.2741      0.048     -5.680      0.000      -0.369      -0.180\n",
            "C(wealth_index_v190, Treatment(reference='poorest'))[T.middle]                 -0.3208      0.051     -6.263      0.000      -0.421      -0.220\n",
            "C(wealth_index_v190, Treatment(reference='poorest'))[T.poorer]                 -0.1868      0.048     -3.867      0.000      -0.282      -0.092\n",
            "C(wealth_index_v190, Treatment(reference='poorest'))[T.richer]                 -0.4539      0.056     -8.097      0.000      -0.564      -0.344\n",
            "C(wealth_index_v190, Treatment(reference='poorest'))[T.richest]                -0.8044      0.067    -11.984      0.000      -0.936      -0.673\n",
            "C(type_of_toilet_v116, Treatment(reference='unimproved'))[T.improved]          -0.1090      0.037     -2.979      0.003      -0.181      -0.037\n",
            "C(water_type_v113, Treatment(reference='unsafe'))[T.safe]                       0.0186      0.055      0.340      0.734      -0.088       0.126\n",
            "C(num_of_house_members_v136, Treatment(reference='1-3'))[T.4-6]                -0.0888      0.054     -1.659      0.097      -0.194       0.016\n",
            "C(num_of_house_members_v136, Treatment(reference='1-3'))[T.>6]                  0.0430      0.058      0.736      0.462      -0.072       0.157\n",
            "C(num_under_five_child_v137, Treatment(reference='>2'))[T.<=2]                 -0.2008      0.064     -3.136      0.002      -0.326      -0.075\n",
            "C(sex_house_head_v151, Treatment(reference='male'))[T.female]                   0.0117      0.058      0.203      0.839      -0.102       0.125\n",
            "C(place_of_residence_v025, Treatment(reference='urban'))[T.rural]              -0.0626      0.039     -1.610      0.107      -0.139       0.014\n",
            "log_GDP_PC_PPP                                                                 -0.3862      0.129     -2.997      0.003      -0.639      -0.134\n",
            "===============================================================================================================================================\n"
          ]
        },
        {
          "name": "stderr",
          "output_type": "stream",
          "text": [
            "/usr/local/lib/python3.6/dist-packages/statsmodels/base/model.py:512: ConvergenceWarning: Maximum Likelihood optimization failed to converge. Check mle_retvals\n",
            "  \"Check mle_retvals\", ConvergenceWarning)\n"
          ]
        }
      ],
      "source": [
        "result = mod.fit()\n",
        "print(result.summary())"
      ]
    },
    {
      "cell_type": "code",
      "execution_count": null,
      "metadata": {
        "colab": {
          "base_uri": "https://localhost:8080/",
          "height": 812
        },
        "id": "MCT4Z0OiELfu",
        "outputId": "00d52e10-dfb8-4749-cea2-e0090a6f6627",
        "vscode": {
          "languageId": "python"
        }
      },
      "outputs": [
        {
          "name": "stdout",
          "output_type": "stream",
          "text": [
            "Odd Ratio:\n",
            "Intercept                                                                      6.843830e+00\n",
            "C(children_age_v212, Treatment(reference='0-5'))[T.12-17]                      3.774990e+00\n",
            "C(children_age_v212, Treatment(reference='0-5'))[T.18-23]                      5.708729e+00\n",
            "C(children_age_v212, Treatment(reference='0-5'))[T.24-29]                      5.052564e+00\n",
            "C(children_age_v212, Treatment(reference='0-5'))[T.30-35]                      5.866398e+00\n",
            "C(children_age_v212, Treatment(reference='0-5'))[T.36-41]                      5.758921e+00\n",
            "C(children_age_v212, Treatment(reference='0-5'))[T.42-47]                      5.661689e+00\n",
            "C(children_age_v212, Treatment(reference='0-5'))[T.48-53]                      3.804770e+00\n",
            "C(children_age_v212, Treatment(reference='0-5'))[T.54-59]                      4.471532e+00\n",
            "C(children_age_v212, Treatment(reference='0-5'))[T.6-11]                       1.601421e+00\n",
            "C(sex_of_child_b4, Treatment(reference='male'))[T.female]                      9.322201e-01\n",
            "C(is_twin_child_b0, Treatment(reference='single birth'))[T.1st of multiple]    2.165195e+00\n",
            "C(is_twin_child_b0, Treatment(reference='single birth'))[T.2nd of multiple]    2.024155e+00\n",
            "C(is_twin_child_b0, Treatment(reference='single birth'))[T.3rd of multiple]    4.540434e-07\n",
            "C(mothers_age_at_birth_v212, Treatment(reference='10-14'))[T.15-19]            9.399222e-01\n",
            "C(mothers_age_at_birth_v212, Treatment(reference='10-14'))[T.20-24]            9.373650e-01\n",
            "C(mothers_age_at_birth_v212, Treatment(reference='10-14'))[T.25-29]            8.726594e-01\n",
            "C(mothers_age_at_birth_v212, Treatment(reference='10-14'))[T.30-34]            7.536807e-01\n",
            "C(mothers_age_at_birth_v212, Treatment(reference='10-14'))[T.35-39]            8.510906e-01\n",
            "C(mothers_age_at_birth_v212, Treatment(reference='10-14'))[T.40-44]            1.071684e+00\n",
            "C(mothers_age_at_birth_v212, Treatment(reference='10-14'))[T.45-49]            6.408595e+04\n",
            "C(mom_marital_stats_v501, Treatment(reference='married'))[T.non-married]       1.023410e+00\n",
            "C(mother_education_v701, Treatment(reference='no education'))[T.higher]        6.610186e-01\n",
            "C(mother_education_v701, Treatment(reference='no education'))[T.primary]       9.737166e-01\n",
            "C(mother_education_v701, Treatment(reference='no education'))[T.secondary]     8.116987e-01\n",
            "C(maternal_height_v438, Treatment(reference='>=145'))[T.<145]                  2.630151e+00\n",
            "C(mothers_bmi_v445, Treatment(reference='>=18.5'))[T.<18.5]                    1.331484e+00\n",
            "C(work_of_mom_v714)[T.True]                                                    9.866822e-01\n",
            "C(partner_occupation_v704)[T.True]                                             1.186173e+00\n",
            "C(partner_education_v701, Treatment(reference='no education'))[T.higher]       5.703857e-01\n",
            "C(partner_education_v701, Treatment(reference='no education'))[T.primary]      9.460691e-01\n",
            "C(partner_education_v701, Treatment(reference='no education'))[T.secondary]    7.602545e-01\n",
            "C(wealth_index_v190, Treatment(reference='poorest'))[T.middle]                 7.255808e-01\n",
            "C(wealth_index_v190, Treatment(reference='poorest'))[T.poorer]                 8.295713e-01\n",
            "C(wealth_index_v190, Treatment(reference='poorest'))[T.richer]                 6.351568e-01\n",
            "C(wealth_index_v190, Treatment(reference='poorest'))[T.richest]                4.473514e-01\n",
            "C(type_of_toilet_v116, Treatment(reference='unimproved'))[T.improved]          8.966997e-01\n",
            "C(water_type_v113, Treatment(reference='unsafe'))[T.safe]                      1.018744e+00\n",
            "C(num_of_house_members_v136, Treatment(reference='1-3'))[T.4-6]                9.149895e-01\n",
            "C(num_of_house_members_v136, Treatment(reference='1-3'))[T.>6]                 1.043892e+00\n",
            "C(num_under_five_child_v137, Treatment(reference='>2'))[T.<=2]                 8.180910e-01\n",
            "C(sex_house_head_v151, Treatment(reference='male'))[T.female]                  1.011777e+00\n",
            "C(place_of_residence_v025, Treatment(reference='urban'))[T.rural]              9.392893e-01\n",
            "log_GDP_PC_PPP                                                                 6.796411e-01\n",
            "dtype: float64\n"
          ]
        }
      ],
      "source": [
        "# For odd ration:\n",
        "print(\"Odd Ratio:\")\n",
        "print(np.exp(result.params))"
      ]
    },
    {
      "cell_type": "code",
      "execution_count": null,
      "metadata": {
        "colab": {
          "base_uri": "https://localhost:8080/",
          "height": 935
        },
        "id": "_qnf0-v5EMIk",
        "outputId": "89c76fa7-5564-489e-b1e4-68ba440bf466",
        "vscode": {
          "languageId": "python"
        }
      },
      "outputs": [
        {
          "name": "stdout",
          "output_type": "stream",
          "text": [
            "        Logit Marginal Effects       \n",
            "=====================================\n",
            "Dep. Variable:                stunted\n",
            "Method:                          dydx\n",
            "At:                           overall\n",
            "===============================================================================================================================================\n",
            "                                                                                 dy/dx    std err          z      P>|z|      [0.025      0.975]\n",
            "-----------------------------------------------------------------------------------------------------------------------------------------------\n",
            "C(children_age_v212, Treatment(reference='0-5'))[T.12-17]                       0.2742      0.017     15.956      0.000       0.241       0.308\n",
            "C(children_age_v212, Treatment(reference='0-5'))[T.18-23]                       0.3596      0.017     21.203      0.000       0.326       0.393\n",
            "C(children_age_v212, Treatment(reference='0-5'))[T.24-29]                       0.3344      0.017     19.535      0.000       0.301       0.368\n",
            "C(children_age_v212, Treatment(reference='0-5'))[T.30-35]                       0.3652      0.017     21.715      0.000       0.332       0.398\n",
            "C(children_age_v212, Treatment(reference='0-5'))[T.36-41]                       0.3614      0.017     21.381      0.000       0.328       0.394\n",
            "C(children_age_v212, Treatment(reference='0-5'))[T.42-47]                       0.3578      0.017     21.388      0.000       0.325       0.391\n",
            "C(children_age_v212, Treatment(reference='0-5'))[T.48-53]                       0.2758      0.017     15.992      0.000       0.242       0.310\n",
            "C(children_age_v212, Treatment(reference='0-5'))[T.54-59]                       0.3091      0.017     18.105      0.000       0.276       0.343\n",
            "C(children_age_v212, Treatment(reference='0-5'))[T.6-11]                        0.0972      0.018      5.357      0.000       0.062       0.133\n",
            "C(sex_of_child_b4, Treatment(reference='male'))[T.female]                      -0.0145      0.006     -2.238      0.025      -0.027      -0.002\n",
            "C(is_twin_child_b0, Treatment(reference='single birth'))[T.1st of multiple]     0.1594      0.042      3.837      0.000       0.078       0.241\n",
            "C(is_twin_child_b0, Treatment(reference='single birth'))[T.2nd of multiple]     0.1455      0.040      3.621      0.000       0.067       0.224\n",
            "C(is_twin_child_b0, Treatment(reference='single birth'))[T.3rd of multiple]    -3.0145    417.251     -0.007      0.994    -820.811     814.782\n",
            "C(mothers_age_at_birth_v212, Treatment(reference='10-14'))[T.15-19]            -0.0128      0.011     -1.159      0.246      -0.034       0.009\n",
            "C(mothers_age_at_birth_v212, Treatment(reference='10-14'))[T.20-24]            -0.0134      0.013     -1.040      0.298      -0.039       0.012\n",
            "C(mothers_age_at_birth_v212, Treatment(reference='10-14'))[T.25-29]            -0.0281      0.022     -1.299      0.194      -0.071       0.014\n",
            "C(mothers_age_at_birth_v212, Treatment(reference='10-14'))[T.30-34]            -0.0584      0.049     -1.200      0.230      -0.154       0.037\n",
            "C(mothers_age_at_birth_v212, Treatment(reference='10-14'))[T.35-39]            -0.0333      0.104     -0.321      0.749      -0.237       0.170\n",
            "C(mothers_age_at_birth_v212, Treatment(reference='10-14'))[T.40-44]             0.0143      0.202      0.071      0.944      -0.382       0.410\n",
            "C(mothers_age_at_birth_v212, Treatment(reference='10-14'))[T.45-49]             2.2845     18.752      0.122      0.903     -34.469      39.037\n",
            "C(mom_marital_stats_v501, Treatment(reference='married'))[T.non-married]        0.0048      0.027      0.179      0.858      -0.048       0.057\n",
            "C(mother_education_v701, Treatment(reference='no education'))[T.higher]        -0.0854      0.019     -4.594      0.000      -0.122      -0.049\n",
            "C(mother_education_v701, Treatment(reference='no education'))[T.primary]       -0.0055      0.009     -0.586      0.558      -0.024       0.013\n",
            "C(mother_education_v701, Treatment(reference='no education'))[T.secondary]     -0.0431      0.010     -4.203      0.000      -0.063      -0.023\n",
            "C(maternal_height_v438, Treatment(reference='>=145'))[T.<145]                   0.1996      0.009     21.574      0.000       0.181       0.218\n",
            "C(mothers_bmi_v445, Treatment(reference='>=18.5'))[T.<18.5]                     0.0591      0.007      8.056      0.000       0.045       0.073\n",
            "C(work_of_mom_v714)[T.True]                                                    -0.0028      0.008     -0.332      0.740      -0.019       0.014\n",
            "C(partner_occupation_v704)[T.True]                                              0.0352      0.021      1.651      0.099      -0.007       0.077\n",
            "C(partner_education_v701, Treatment(reference='no education'))[T.higher]       -0.1159      0.015     -7.723      0.000      -0.145      -0.086\n",
            "C(partner_education_v701, Treatment(reference='no education'))[T.primary]      -0.0114      0.009     -1.313      0.189      -0.029       0.006\n",
            "C(partner_education_v701, Treatment(reference='no education'))[T.secondary]    -0.0566      0.010     -5.697      0.000      -0.076      -0.037\n",
            "C(wealth_index_v190, Treatment(reference='poorest'))[T.middle]                 -0.0662      0.011     -6.288      0.000      -0.087      -0.046\n",
            "C(wealth_index_v190, Treatment(reference='poorest'))[T.poorer]                 -0.0386      0.010     -3.873      0.000      -0.058      -0.019\n",
            "C(wealth_index_v190, Treatment(reference='poorest'))[T.richer]                 -0.0937      0.011     -8.149      0.000      -0.116      -0.071\n",
            "C(wealth_index_v190, Treatment(reference='poorest'))[T.richest]                -0.1660      0.014    -12.143      0.000      -0.193      -0.139\n",
            "C(type_of_toilet_v116, Treatment(reference='unimproved'))[T.improved]          -0.0225      0.008     -2.981      0.003      -0.037      -0.008\n",
            "C(water_type_v113, Treatment(reference='unsafe'))[T.safe]                       0.0038      0.011      0.340      0.734      -0.018       0.026\n",
            "C(num_of_house_members_v136, Treatment(reference='1-3'))[T.4-6]                -0.0183      0.011     -1.659      0.097      -0.040       0.003\n",
            "C(num_of_house_members_v136, Treatment(reference='1-3'))[T.>6]                  0.0089      0.012      0.736      0.462      -0.015       0.032\n",
            "C(num_under_five_child_v137, Treatment(reference='>2'))[T.<=2]                 -0.0414      0.013     -3.139      0.002      -0.067      -0.016\n",
            "C(sex_house_head_v151, Treatment(reference='male'))[T.female]                   0.0024      0.012      0.203      0.839      -0.021       0.026\n",
            "C(place_of_residence_v025, Treatment(reference='urban'))[T.rural]              -0.0129      0.008     -1.611      0.107      -0.029       0.003\n",
            "log_GDP_PC_PPP                                                                 -0.0797      0.027     -3.000      0.003      -0.132      -0.028\n",
            "===============================================================================================================================================\n"
          ]
        }
      ],
      "source": [
        "# for marginal effects\n",
        "merge_eff = result.get_margeff() # default overwall with method dydx\n",
        "print(merge_eff.summary())"
      ]
    },
    {
      "cell_type": "markdown",
      "metadata": {
        "id": "N-pmatmCGqxp"
      },
      "source": [
        "## Model 4 underweight new"
      ]
    },
    {
      "cell_type": "code",
      "execution_count": null,
      "metadata": {
        "colab": {
          "base_uri": "https://localhost:8080/",
          "height": 484
        },
        "id": "SUWuqNjDGqGQ",
        "outputId": "524585e0-db48-4eda-cce7-cc9b54e48b89",
        "vscode": {
          "languageId": "python"
        }
      },
      "outputs": [
        {
          "name": "stdout",
          "output_type": "stream",
          "text": [
            "<class 'pandas.core.frame.DataFrame'>\n",
            "RangeIndex: 19752 entries, 0 to 19751\n",
            "Data columns (total 20 columns):\n",
            " #   Column                     Non-Null Count  Dtype   \n",
            "---  ------                     --------------  -----   \n",
            " 0   log_GDP_PC_PPP             19752 non-null  float64 \n",
            " 1   children_age_v212          19752 non-null  category\n",
            " 2   sex_of_child_b4            19752 non-null  category\n",
            " 3   is_twin_child_b0           19752 non-null  category\n",
            " 4   mothers_age_at_birth_v212  19752 non-null  category\n",
            " 5   mom_marital_stats_v501     19752 non-null  category\n",
            " 6   mother_education_v701      19752 non-null  category\n",
            " 7   maternal_height_v438       19752 non-null  category\n",
            " 8   mothers_bmi_v445           19752 non-null  category\n",
            " 9   work_of_mom_v714           19752 non-null  category\n",
            " 10  partner_occupation_v704    19752 non-null  category\n",
            " 11  partner_education_v701     19752 non-null  category\n",
            " 12  wealth_index_v190          19752 non-null  category\n",
            " 13  type_of_toilet_v116        19752 non-null  category\n",
            " 14  water_type_v113            19752 non-null  category\n",
            " 15  num_of_house_members_v136  19752 non-null  category\n",
            " 16  num_under_five_child_v137  19752 non-null  category\n",
            " 17  sex_house_head_v151        19752 non-null  category\n",
            " 18  place_of_residence_v025    19752 non-null  category\n",
            " 19  underweight                19752 non-null  int64   \n",
            "dtypes: category(18), float64(1), int64(1)\n",
            "memory usage: 658.6 KB\n"
          ]
        }
      ],
      "source": [
        "model_4_data = ultimate_data[['log_GDP_PC_PPP','children_age_v212', \n",
        "                              'sex_of_child_b4', \"is_twin_child_b0\", \n",
        "                              \"mothers_age_at_birth_v212\", \n",
        "                              'mom_marital_stats_v501', \n",
        "                              'mother_education_v701', \n",
        "                              'maternal_height_v438', \n",
        "                              'mothers_bmi_v445', \n",
        "                              'work_of_mom_v714', \n",
        "                              'partner_occupation_v704', \n",
        "                              'partner_education_v701',\n",
        "                              \"wealth_index_v190\",\n",
        "                              \"type_of_toilet_v116\",\n",
        "                              \"water_type_v113\",\n",
        "                              \"num_of_house_members_v136\",\n",
        "                              \"num_under_five_child_v137\",\n",
        "                              \"sex_house_head_v151\",\n",
        "                              \"place_of_residence_v025\",\n",
        "                              'underweight']]\n",
        "model_4_data.info()"
      ]
    },
    {
      "cell_type": "code",
      "execution_count": null,
      "metadata": {
        "id": "6aF6OwNgGxt_",
        "vscode": {
          "languageId": "python"
        }
      },
      "outputs": [],
      "source": [
        "mod = smf.logit(formula=\"underweight ~ log_GDP_PC_PPP + C(children_age_v212, Treatment(reference='0-5')) + C(sex_of_child_b4, Treatment(reference='male')) + C(is_twin_child_b0, Treatment(reference='single birth')) + C(mothers_age_at_birth_v212, Treatment(reference='10-14')) + C(mom_marital_stats_v501, Treatment(reference='married')) + C(mother_education_v701, Treatment(reference='no education')) + C(maternal_height_v438, Treatment(reference='>=145')) + C(mothers_bmi_v445, Treatment(reference='>=18.5')) + C(maternal_height_v438, Treatment(reference='>=145')) + C(mothers_bmi_v445, Treatment(reference='>=18.5')) + C(work_of_mom_v714) + C(partner_occupation_v704) + C(partner_education_v701, Treatment(reference='no education')) + C(wealth_index_v190, Treatment(reference='poorest')) + C(type_of_toilet_v116, Treatment(reference='unimproved')) + C(water_type_v113, Treatment(reference='unsafe')) + C(num_of_house_members_v136, Treatment(reference='1-3')) + C(num_under_five_child_v137, Treatment(reference='>2')) + C(sex_house_head_v151, Treatment(reference='male')) + C(place_of_residence_v025, Treatment(reference='urban'))\", data=model_4_data)"
      ]
    },
    {
      "cell_type": "code",
      "execution_count": null,
      "metadata": {
        "colab": {
          "base_uri": "https://localhost:8080/",
          "height": 1000
        },
        "id": "ZjzWN1YRG4Lv",
        "outputId": "b51eeaaa-b75f-4366-c89a-903f44991410",
        "vscode": {
          "languageId": "python"
        }
      },
      "outputs": [
        {
          "name": "stdout",
          "output_type": "stream",
          "text": [
            "Warning: Maximum number of iterations has been exceeded.\n",
            "         Current function value: 0.593989\n",
            "         Iterations: 35\n",
            "                           Logit Regression Results                           \n",
            "==============================================================================\n",
            "Dep. Variable:            underweight   No. Observations:                19752\n",
            "Model:                          Logit   Df Residuals:                    19708\n",
            "Method:                           MLE   Df Model:                           43\n",
            "Date:                Mon, 10 Aug 2020   Pseudo R-squ.:                 0.08858\n",
            "Time:                        16:04:39   Log-Likelihood:                -11732.\n",
            "converged:                      False   LL-Null:                       -12873.\n",
            "Covariance Type:            nonrobust   LLR p-value:                     0.000\n",
            "===============================================================================================================================================\n",
            "                                                                                  coef    std err          z      P>|z|      [0.025      0.975]\n",
            "-----------------------------------------------------------------------------------------------------------------------------------------------\n",
            "Intercept                                                                       4.3598      1.047      4.162      0.000       2.307       6.413\n",
            "C(children_age_v212, Treatment(reference='0-5'))[T.12-17]                       0.7186      0.081      8.838      0.000       0.559       0.878\n",
            "C(children_age_v212, Treatment(reference='0-5'))[T.18-23]                       0.9574      0.081     11.780      0.000       0.798       1.117\n",
            "C(children_age_v212, Treatment(reference='0-5'))[T.24-29]                       1.0208      0.081     12.545      0.000       0.861       1.180\n",
            "C(children_age_v212, Treatment(reference='0-5'))[T.30-35]                       1.1530      0.080     14.366      0.000       0.996       1.310\n",
            "C(children_age_v212, Treatment(reference='0-5'))[T.36-41]                       1.0806      0.081     13.383      0.000       0.922       1.239\n",
            "C(children_age_v212, Treatment(reference='0-5'))[T.42-47]                       1.1926      0.080     14.978      0.000       1.037       1.349\n",
            "C(children_age_v212, Treatment(reference='0-5'))[T.48-53]                       1.0493      0.081     13.015      0.000       0.891       1.207\n",
            "C(children_age_v212, Treatment(reference='0-5'))[T.54-59]                       1.2010      0.080     14.961      0.000       1.044       1.358\n",
            "C(children_age_v212, Treatment(reference='0-5'))[T.6-11]                        0.2173      0.083      2.610      0.009       0.054       0.380\n",
            "C(sex_of_child_b4, Treatment(reference='male'))[T.female]                       0.0747      0.032      2.370      0.018       0.013       0.137\n",
            "C(is_twin_child_b0, Treatment(reference='single birth'))[T.1st of multiple]     0.6158      0.199      3.102      0.002       0.227       1.005\n",
            "C(is_twin_child_b0, Treatment(reference='single birth'))[T.2nd of multiple]     0.6908      0.191      3.608      0.000       0.316       1.066\n",
            "C(is_twin_child_b0, Treatment(reference='single birth'))[T.3rd of multiple]   -15.0117   2698.420     -0.006      0.996   -5303.818    5273.795\n",
            "C(mothers_age_at_birth_v212, Treatment(reference='10-14'))[T.15-19]            -0.0534      0.053     -1.002      0.316      -0.158       0.051\n",
            "C(mothers_age_at_birth_v212, Treatment(reference='10-14'))[T.20-24]            -0.0809      0.062     -1.298      0.194      -0.203       0.041\n",
            "C(mothers_age_at_birth_v212, Treatment(reference='10-14'))[T.25-29]             0.0462      0.105      0.442      0.659      -0.159       0.251\n",
            "C(mothers_age_at_birth_v212, Treatment(reference='10-14'))[T.30-34]            -0.2511      0.242     -1.037      0.300      -0.726       0.224\n",
            "C(mothers_age_at_birth_v212, Treatment(reference='10-14'))[T.35-39]             0.1213      0.507      0.240      0.811      -0.872       1.114\n",
            "C(mothers_age_at_birth_v212, Treatment(reference='10-14'))[T.40-44]             0.1664      0.966      0.172      0.863      -1.727       2.060\n",
            "C(mothers_age_at_birth_v212, Treatment(reference='10-14'))[T.45-49]            26.5387   2.01e+05      0.000      1.000   -3.93e+05    3.93e+05\n",
            "C(mom_marital_stats_v501, Treatment(reference='married'))[T.non-married]        0.1221      0.128      0.954      0.340      -0.129       0.373\n",
            "C(mother_education_v701, Treatment(reference='no education'))[T.higher]        -0.4923      0.093     -5.315      0.000      -0.674      -0.311\n",
            "C(mother_education_v701, Treatment(reference='no education'))[T.primary]       -0.0113      0.045     -0.250      0.802      -0.100       0.077\n",
            "C(mother_education_v701, Treatment(reference='no education'))[T.secondary]     -0.2223      0.050     -4.468      0.000      -0.320      -0.125\n",
            "C(maternal_height_v438, Treatment(reference='>=145'))[T.<145]                   0.6972      0.045     15.414      0.000       0.609       0.786\n",
            "C(mothers_bmi_v445, Treatment(reference='>=18.5'))[T.<18.5]                     0.5967      0.035     16.877      0.000       0.527       0.666\n",
            "C(work_of_mom_v714)[T.True]                                                     0.0094      0.041      0.231      0.817      -0.070       0.089\n",
            "C(partner_occupation_v704)[T.True]                                              0.1716      0.105      1.631      0.103      -0.035       0.378\n",
            "C(partner_education_v701, Treatment(reference='no education'))[T.higher]       -0.3123      0.074     -4.229      0.000      -0.457      -0.168\n",
            "C(partner_education_v701, Treatment(reference='no education'))[T.primary]      -0.0013      0.042     -0.031      0.975      -0.084       0.081\n",
            "C(partner_education_v701, Treatment(reference='no education'))[T.secondary]    -0.1713      0.049     -3.527      0.000      -0.267      -0.076\n",
            "C(wealth_index_v190, Treatment(reference='poorest'))[T.middle]                 -0.2739      0.051     -5.374      0.000      -0.374      -0.174\n",
            "C(wealth_index_v190, Treatment(reference='poorest'))[T.poorer]                 -0.1611      0.048     -3.369      0.001      -0.255      -0.067\n",
            "C(wealth_index_v190, Treatment(reference='poorest'))[T.richer]                 -0.4967      0.056     -8.810      0.000      -0.607      -0.386\n",
            "C(wealth_index_v190, Treatment(reference='poorest'))[T.richest]                -0.7445      0.068    -10.988      0.000      -0.877      -0.612\n",
            "C(type_of_toilet_v116, Treatment(reference='unimproved'))[T.improved]          -0.0468      0.037     -1.271      0.204      -0.119       0.025\n",
            "C(water_type_v113, Treatment(reference='unsafe'))[T.safe]                       0.0220      0.055      0.402      0.687      -0.085       0.129\n",
            "C(num_of_house_members_v136, Treatment(reference='1-3'))[T.4-6]                 0.0020      0.054      0.037      0.970      -0.104       0.108\n",
            "C(num_of_house_members_v136, Treatment(reference='1-3'))[T.>6]                  0.0592      0.059      1.003      0.316      -0.057       0.175\n",
            "C(num_under_five_child_v137, Treatment(reference='>2'))[T.<=2]                 -0.1075      0.064     -1.673      0.094      -0.233       0.018\n",
            "C(sex_house_head_v151, Treatment(reference='male'))[T.female]                   0.0455      0.058      0.783      0.434      -0.068       0.160\n",
            "C(place_of_residence_v025, Treatment(reference='urban'))[T.rural]               0.0145      0.039      0.370      0.712      -0.062       0.091\n",
            "log_GDP_PC_PPP                                                                 -0.7081      0.129     -5.475      0.000      -0.962      -0.455\n",
            "===============================================================================================================================================\n"
          ]
        },
        {
          "name": "stderr",
          "output_type": "stream",
          "text": [
            "/usr/local/lib/python3.6/dist-packages/statsmodels/base/model.py:512: ConvergenceWarning: Maximum Likelihood optimization failed to converge. Check mle_retvals\n",
            "  \"Check mle_retvals\", ConvergenceWarning)\n"
          ]
        }
      ],
      "source": [
        "result = mod.fit()\n",
        "print(result.summary())"
      ]
    },
    {
      "cell_type": "code",
      "execution_count": null,
      "metadata": {
        "colab": {
          "base_uri": "https://localhost:8080/",
          "height": 812
        },
        "id": "ec-_H6rUG-L2",
        "outputId": "6edf7471-df36-411f-cc18-6751850f5eba",
        "vscode": {
          "languageId": "python"
        }
      },
      "outputs": [
        {
          "name": "stdout",
          "output_type": "stream",
          "text": [
            "Odd Ratio:\n",
            "Intercept                                                                      7.824343e+01\n",
            "C(children_age_v212, Treatment(reference='0-5'))[T.12-17]                      2.051580e+00\n",
            "C(children_age_v212, Treatment(reference='0-5'))[T.18-23]                      2.604838e+00\n",
            "C(children_age_v212, Treatment(reference='0-5'))[T.24-29]                      2.775529e+00\n",
            "C(children_age_v212, Treatment(reference='0-5'))[T.30-35]                      3.167624e+00\n",
            "C(children_age_v212, Treatment(reference='0-5'))[T.36-41]                      2.946368e+00\n",
            "C(children_age_v212, Treatment(reference='0-5'))[T.42-47]                      3.295692e+00\n",
            "C(children_age_v212, Treatment(reference='0-5'))[T.48-53]                      2.855742e+00\n",
            "C(children_age_v212, Treatment(reference='0-5'))[T.54-59]                      3.323527e+00\n",
            "C(children_age_v212, Treatment(reference='0-5'))[T.6-11]                       1.242678e+00\n",
            "C(sex_of_child_b4, Treatment(reference='male'))[T.female]                      1.077611e+00\n",
            "C(is_twin_child_b0, Treatment(reference='single birth'))[T.1st of multiple]    1.851200e+00\n",
            "C(is_twin_child_b0, Treatment(reference='single birth'))[T.2nd of multiple]    1.995221e+00\n",
            "C(is_twin_child_b0, Treatment(reference='single birth'))[T.3rd of multiple]    3.023425e-07\n",
            "C(mothers_age_at_birth_v212, Treatment(reference='10-14'))[T.15-19]            9.479663e-01\n",
            "C(mothers_age_at_birth_v212, Treatment(reference='10-14'))[T.20-24]            9.223134e-01\n",
            "C(mothers_age_at_birth_v212, Treatment(reference='10-14'))[T.25-29]            1.047294e+00\n",
            "C(mothers_age_at_birth_v212, Treatment(reference='10-14'))[T.30-34]            7.779098e-01\n",
            "C(mothers_age_at_birth_v212, Treatment(reference='10-14'))[T.35-39]            1.129005e+00\n",
            "C(mothers_age_at_birth_v212, Treatment(reference='10-14'))[T.40-44]            1.181089e+00\n",
            "C(mothers_age_at_birth_v212, Treatment(reference='10-14'))[T.45-49]            3.354209e+11\n",
            "C(mom_marital_stats_v501, Treatment(reference='married'))[T.non-married]       1.129876e+00\n",
            "C(mother_education_v701, Treatment(reference='no education'))[T.higher]        6.112487e-01\n",
            "C(mother_education_v701, Treatment(reference='no education'))[T.primary]       9.887584e-01\n",
            "C(mother_education_v701, Treatment(reference='no education'))[T.secondary]     8.006961e-01\n",
            "C(maternal_height_v438, Treatment(reference='>=145'))[T.<145]                  2.008054e+00\n",
            "C(mothers_bmi_v445, Treatment(reference='>=18.5'))[T.<18.5]                    1.816072e+00\n",
            "C(work_of_mom_v714)[T.True]                                                    1.009409e+00\n",
            "C(partner_occupation_v704)[T.True]                                             1.187163e+00\n",
            "C(partner_education_v701, Treatment(reference='no education'))[T.higher]       7.317610e-01\n",
            "C(partner_education_v701, Treatment(reference='no education'))[T.primary]      9.986978e-01\n",
            "C(partner_education_v701, Treatment(reference='no education'))[T.secondary]    8.425512e-01\n",
            "C(wealth_index_v190, Treatment(reference='poorest'))[T.middle]                 7.604036e-01\n",
            "C(wealth_index_v190, Treatment(reference='poorest'))[T.poorer]                 8.511863e-01\n",
            "C(wealth_index_v190, Treatment(reference='poorest'))[T.richer]                 6.085098e-01\n",
            "C(wealth_index_v190, Treatment(reference='poorest'))[T.richest]                4.749648e-01\n",
            "C(type_of_toilet_v116, Treatment(reference='unimproved'))[T.improved]          9.543062e-01\n",
            "C(water_type_v113, Treatment(reference='unsafe'))[T.safe]                      1.022276e+00\n",
            "C(num_of_house_members_v136, Treatment(reference='1-3'))[T.4-6]                1.002011e+00\n",
            "C(num_of_house_members_v136, Treatment(reference='1-3'))[T.>6]                 1.061032e+00\n",
            "C(num_under_five_child_v137, Treatment(reference='>2'))[T.<=2]                 8.980665e-01\n",
            "C(sex_house_head_v151, Treatment(reference='male'))[T.female]                  1.046585e+00\n",
            "C(place_of_residence_v025, Treatment(reference='urban'))[T.rural]              1.014620e+00\n",
            "log_GDP_PC_PPP                                                                 4.925676e-01\n",
            "dtype: float64\n"
          ]
        }
      ],
      "source": [
        "# For odd ration:\n",
        "print(\"Odd Ratio:\")\n",
        "print(np.exp(result.params))"
      ]
    },
    {
      "cell_type": "code",
      "execution_count": null,
      "metadata": {
        "colab": {
          "base_uri": "https://localhost:8080/",
          "height": 935
        },
        "id": "NOGe9WWtHDDK",
        "outputId": "adc29627-c53f-424d-a57c-fb95aa489609",
        "vscode": {
          "languageId": "python"
        }
      },
      "outputs": [
        {
          "name": "stdout",
          "output_type": "stream",
          "text": [
            "        Logit Marginal Effects       \n",
            "=====================================\n",
            "Dep. Variable:            underweight\n",
            "Method:                          dydx\n",
            "At:                           overall\n",
            "===============================================================================================================================================\n",
            "                                                                                 dy/dx    std err          z      P>|z|      [0.025      0.975]\n",
            "-----------------------------------------------------------------------------------------------------------------------------------------------\n",
            "C(children_age_v212, Treatment(reference='0-5'))[T.12-17]                       0.1467      0.016      8.891      0.000       0.114       0.179\n",
            "C(children_age_v212, Treatment(reference='0-5'))[T.18-23]                       0.1954      0.016     11.913      0.000       0.163       0.228\n",
            "C(children_age_v212, Treatment(reference='0-5'))[T.24-29]                       0.2084      0.016     12.708      0.000       0.176       0.241\n",
            "C(children_age_v212, Treatment(reference='0-5'))[T.30-35]                       0.2354      0.016     14.616      0.000       0.204       0.267\n",
            "C(children_age_v212, Treatment(reference='0-5'))[T.36-41]                       0.2206      0.016     13.583      0.000       0.189       0.252\n",
            "C(children_age_v212, Treatment(reference='0-5'))[T.42-47]                       0.2435      0.016     15.263      0.000       0.212       0.275\n",
            "C(children_age_v212, Treatment(reference='0-5'))[T.48-53]                       0.2142      0.016     13.198      0.000       0.182       0.246\n",
            "C(children_age_v212, Treatment(reference='0-5'))[T.54-59]                       0.2452      0.016     15.246      0.000       0.214       0.277\n",
            "C(children_age_v212, Treatment(reference='0-5'))[T.6-11]                        0.0444      0.017      2.611      0.009       0.011       0.078\n",
            "C(sex_of_child_b4, Treatment(reference='male'))[T.female]                       0.0153      0.006      2.371      0.018       0.003       0.028\n",
            "C(is_twin_child_b0, Treatment(reference='single birth'))[T.1st of multiple]     0.1257      0.040      3.104      0.002       0.046       0.205\n",
            "C(is_twin_child_b0, Treatment(reference='single birth'))[T.2nd of multiple]     0.1410      0.039      3.613      0.000       0.065       0.218\n",
            "C(is_twin_child_b0, Treatment(reference='single birth'))[T.3rd of multiple]    -3.0644    550.844     -0.006      0.996   -1082.700    1076.571\n",
            "C(mothers_age_at_birth_v212, Treatment(reference='10-14'))[T.15-19]            -0.0109      0.011     -1.002      0.316      -0.032       0.010\n",
            "C(mothers_age_at_birth_v212, Treatment(reference='10-14'))[T.20-24]            -0.0165      0.013     -1.298      0.194      -0.041       0.008\n",
            "C(mothers_age_at_birth_v212, Treatment(reference='10-14'))[T.25-29]             0.0094      0.021      0.442      0.659      -0.032       0.051\n",
            "C(mothers_age_at_birth_v212, Treatment(reference='10-14'))[T.30-34]            -0.0513      0.049     -1.037      0.300      -0.148       0.046\n",
            "C(mothers_age_at_birth_v212, Treatment(reference='10-14'))[T.35-39]             0.0248      0.103      0.240      0.811      -0.178       0.227\n",
            "C(mothers_age_at_birth_v212, Treatment(reference='10-14'))[T.40-44]             0.0340      0.197      0.172      0.863      -0.353       0.421\n",
            "C(mothers_age_at_birth_v212, Treatment(reference='10-14'))[T.45-49]             5.4175   4.09e+04      0.000      1.000   -8.02e+04    8.02e+04\n",
            "C(mom_marital_stats_v501, Treatment(reference='married'))[T.non-married]        0.0249      0.026      0.954      0.340      -0.026       0.076\n",
            "C(mother_education_v701, Treatment(reference='no education'))[T.higher]        -0.1005      0.019     -5.326      0.000      -0.137      -0.064\n",
            "C(mother_education_v701, Treatment(reference='no education'))[T.primary]       -0.0023      0.009     -0.250      0.802      -0.020       0.016\n",
            "C(mother_education_v701, Treatment(reference='no education'))[T.secondary]     -0.0454      0.010     -4.476      0.000      -0.065      -0.026\n",
            "C(maternal_height_v438, Treatment(reference='>=145'))[T.<145]                   0.1423      0.009     15.770      0.000       0.125       0.160\n",
            "C(mothers_bmi_v445, Treatment(reference='>=18.5'))[T.<18.5]                     0.1218      0.007     17.350      0.000       0.108       0.136\n",
            "C(work_of_mom_v714)[T.True]                                                     0.0019      0.008      0.231      0.817      -0.014       0.018\n",
            "C(partner_occupation_v704)[T.True]                                              0.0350      0.021      1.631      0.103      -0.007       0.077\n",
            "C(partner_education_v701, Treatment(reference='no education'))[T.higher]       -0.0638      0.015     -4.235      0.000      -0.093      -0.034\n",
            "C(partner_education_v701, Treatment(reference='no education'))[T.primary]      -0.0003      0.009     -0.031      0.975      -0.017       0.017\n",
            "C(partner_education_v701, Treatment(reference='no education'))[T.secondary]    -0.0350      0.010     -3.531      0.000      -0.054      -0.016\n",
            "C(wealth_index_v190, Treatment(reference='poorest'))[T.middle]                 -0.0559      0.010     -5.390      0.000      -0.076      -0.036\n",
            "C(wealth_index_v190, Treatment(reference='poorest'))[T.poorer]                 -0.0329      0.010     -3.372      0.001      -0.052      -0.014\n",
            "C(wealth_index_v190, Treatment(reference='poorest'))[T.richer]                 -0.1014      0.011     -8.876      0.000      -0.124      -0.079\n",
            "C(wealth_index_v190, Treatment(reference='poorest'))[T.richest]                -0.1520      0.014    -11.106      0.000      -0.179      -0.125\n",
            "C(type_of_toilet_v116, Treatment(reference='unimproved'))[T.improved]          -0.0095      0.008     -1.271      0.204      -0.024       0.005\n",
            "C(water_type_v113, Treatment(reference='unsafe'))[T.safe]                       0.0045      0.011      0.402      0.687      -0.017       0.026\n",
            "C(num_of_house_members_v136, Treatment(reference='1-3'))[T.4-6]                 0.0004      0.011      0.037      0.970      -0.021       0.022\n",
            "C(num_of_house_members_v136, Treatment(reference='1-3'))[T.>6]                  0.0121      0.012      1.003      0.316      -0.012       0.036\n",
            "C(num_under_five_child_v137, Treatment(reference='>2'))[T.<=2]                 -0.0219      0.013     -1.674      0.094      -0.048       0.004\n",
            "C(sex_house_head_v151, Treatment(reference='male'))[T.female]                   0.0093      0.012      0.783      0.434      -0.014       0.033\n",
            "C(place_of_residence_v025, Treatment(reference='urban'))[T.rural]               0.0030      0.008      0.370      0.712      -0.013       0.019\n",
            "log_GDP_PC_PPP                                                                 -0.1446      0.026     -5.490      0.000      -0.196      -0.093\n",
            "===============================================================================================================================================\n"
          ]
        }
      ],
      "source": [
        "# for marginal effects\n",
        "merge_eff = result.get_margeff() # default overwall with method dydx\n",
        "print(merge_eff.summary())"
      ]
    },
    {
      "cell_type": "markdown",
      "metadata": {
        "id": "8DrsB17QHFt3"
      },
      "source": [
        "## model 4 wasted new"
      ]
    },
    {
      "cell_type": "code",
      "execution_count": null,
      "metadata": {
        "colab": {
          "base_uri": "https://localhost:8080/",
          "height": 484
        },
        "id": "UHVZ5V2RHHmJ",
        "outputId": "77d47227-0bd5-4403-9620-2a3d2de63782",
        "vscode": {
          "languageId": "python"
        }
      },
      "outputs": [
        {
          "name": "stdout",
          "output_type": "stream",
          "text": [
            "<class 'pandas.core.frame.DataFrame'>\n",
            "RangeIndex: 19752 entries, 0 to 19751\n",
            "Data columns (total 20 columns):\n",
            " #   Column                     Non-Null Count  Dtype   \n",
            "---  ------                     --------------  -----   \n",
            " 0   log_GDP_PC_PPP             19752 non-null  float64 \n",
            " 1   children_age_v212          19752 non-null  category\n",
            " 2   sex_of_child_b4            19752 non-null  category\n",
            " 3   is_twin_child_b0           19752 non-null  category\n",
            " 4   mothers_age_at_birth_v212  19752 non-null  category\n",
            " 5   mom_marital_stats_v501     19752 non-null  category\n",
            " 6   mother_education_v701      19752 non-null  category\n",
            " 7   maternal_height_v438       19752 non-null  category\n",
            " 8   mothers_bmi_v445           19752 non-null  category\n",
            " 9   work_of_mom_v714           19752 non-null  category\n",
            " 10  partner_occupation_v704    19752 non-null  category\n",
            " 11  partner_education_v701     19752 non-null  category\n",
            " 12  wealth_index_v190          19752 non-null  category\n",
            " 13  type_of_toilet_v116        19752 non-null  category\n",
            " 14  water_type_v113            19752 non-null  category\n",
            " 15  num_of_house_members_v136  19752 non-null  category\n",
            " 16  num_under_five_child_v137  19752 non-null  category\n",
            " 17  sex_house_head_v151        19752 non-null  category\n",
            " 18  place_of_residence_v025    19752 non-null  category\n",
            " 19  wasted                     19752 non-null  int64   \n",
            "dtypes: category(18), float64(1), int64(1)\n",
            "memory usage: 658.6 KB\n"
          ]
        }
      ],
      "source": [
        "model_4_data = ultimate_data[['log_GDP_PC_PPP','children_age_v212', \n",
        "                              'sex_of_child_b4', \"is_twin_child_b0\", \n",
        "                              \"mothers_age_at_birth_v212\", \n",
        "                              'mom_marital_stats_v501', \n",
        "                              'mother_education_v701', \n",
        "                              'maternal_height_v438', \n",
        "                              'mothers_bmi_v445', \n",
        "                              'work_of_mom_v714', \n",
        "                              'partner_occupation_v704', \n",
        "                              'partner_education_v701',\n",
        "                              \"wealth_index_v190\",\n",
        "                              \"type_of_toilet_v116\",\n",
        "                              \"water_type_v113\",\n",
        "                              \"num_of_house_members_v136\",\n",
        "                              \"num_under_five_child_v137\",\n",
        "                              \"sex_house_head_v151\",\n",
        "                              \"place_of_residence_v025\",\n",
        "                              'wasted']]\n",
        "model_4_data.info()"
      ]
    },
    {
      "cell_type": "code",
      "execution_count": null,
      "metadata": {
        "id": "ADGd7l7NHJn0",
        "vscode": {
          "languageId": "python"
        }
      },
      "outputs": [],
      "source": [
        "mod = smf.logit(formula=\"wasted ~ log_GDP_PC_PPP + C(children_age_v212, Treatment(reference='0-5')) + C(sex_of_child_b4, Treatment(reference='male')) + C(is_twin_child_b0, Treatment(reference='single birth')) + C(mothers_age_at_birth_v212, Treatment(reference='10-14')) + C(mom_marital_stats_v501, Treatment(reference='married')) + C(mother_education_v701, Treatment(reference='no education')) + C(maternal_height_v438, Treatment(reference='>=145')) + C(mothers_bmi_v445, Treatment(reference='>=18.5')) + C(maternal_height_v438, Treatment(reference='>=145')) + C(mothers_bmi_v445, Treatment(reference='>=18.5')) + C(work_of_mom_v714) + C(partner_occupation_v704) + C(partner_education_v701, Treatment(reference='no education')) + C(wealth_index_v190, Treatment(reference='poorest')) + C(type_of_toilet_v116, Treatment(reference='unimproved')) + C(water_type_v113, Treatment(reference='unsafe')) + C(num_of_house_members_v136, Treatment(reference='1-3')) + C(num_under_five_child_v137, Treatment(reference='>2')) + C(sex_house_head_v151, Treatment(reference='male')) + C(place_of_residence_v025, Treatment(reference='urban'))\", data=model_4_data)"
      ]
    },
    {
      "cell_type": "code",
      "execution_count": null,
      "metadata": {
        "colab": {
          "base_uri": "https://localhost:8080/",
          "height": 1000
        },
        "id": "NzumGwGZHL1L",
        "outputId": "2bac8090-0298-44c1-e013-b00a6203617d",
        "vscode": {
          "languageId": "python"
        }
      },
      "outputs": [
        {
          "name": "stdout",
          "output_type": "stream",
          "text": [
            "Warning: Maximum number of iterations has been exceeded.\n",
            "         Current function value: 0.423696\n",
            "         Iterations: 35\n",
            "                           Logit Regression Results                           \n",
            "==============================================================================\n",
            "Dep. Variable:                 wasted   No. Observations:                19752\n",
            "Model:                          Logit   Df Residuals:                    19708\n",
            "Method:                           MLE   Df Model:                           43\n",
            "Date:                Mon, 10 Aug 2020   Pseudo R-squ.:                 0.01807\n",
            "Time:                        16:04:59   Log-Likelihood:                -8368.8\n",
            "converged:                      False   LL-Null:                       -8522.9\n",
            "Covariance Type:            nonrobust   LLR p-value:                 9.284e-42\n",
            "===============================================================================================================================================\n",
            "                                                                                  coef    std err          z      P>|z|      [0.025      0.975]\n",
            "-----------------------------------------------------------------------------------------------------------------------------------------------\n",
            "Intercept                                                                       1.4237      1.315      1.082      0.279      -1.155       4.002\n",
            "C(children_age_v212, Treatment(reference='0-5'))[T.12-17]                       0.0139      0.088      0.158      0.875      -0.159       0.186\n",
            "C(children_age_v212, Treatment(reference='0-5'))[T.18-23]                      -0.0196      0.090     -0.219      0.827      -0.195       0.156\n",
            "C(children_age_v212, Treatment(reference='0-5'))[T.24-29]                      -0.2383      0.093     -2.550      0.011      -0.421      -0.055\n",
            "C(children_age_v212, Treatment(reference='0-5'))[T.30-35]                      -0.2362      0.092     -2.564      0.010      -0.417      -0.056\n",
            "C(children_age_v212, Treatment(reference='0-5'))[T.36-41]                      -0.2605      0.093     -2.801      0.005      -0.443      -0.078\n",
            "C(children_age_v212, Treatment(reference='0-5'))[T.42-47]                      -0.2388      0.091     -2.613      0.009      -0.418      -0.060\n",
            "C(children_age_v212, Treatment(reference='0-5'))[T.48-53]                      -0.1714      0.091     -1.875      0.061      -0.350       0.008\n",
            "C(children_age_v212, Treatment(reference='0-5'))[T.54-59]                      -0.1473      0.091     -1.617      0.106      -0.326       0.031\n",
            "C(children_age_v212, Treatment(reference='0-5'))[T.6-11]                       -0.1353      0.089     -1.524      0.127      -0.309       0.039\n",
            "C(sex_of_child_b4, Treatment(reference='male'))[T.female]                      -0.1254      0.040     -3.154      0.002      -0.203      -0.047\n",
            "C(is_twin_child_b0, Treatment(reference='single birth'))[T.1st of multiple]    -0.0468      0.272     -0.172      0.863      -0.580       0.487\n",
            "C(is_twin_child_b0, Treatment(reference='single birth'))[T.2nd of multiple]     0.0552      0.252      0.219      0.827      -0.439       0.550\n",
            "C(is_twin_child_b0, Treatment(reference='single birth'))[T.3rd of multiple]    34.8587    1.4e+07   2.49e-06      1.000   -2.74e+07    2.74e+07\n",
            "C(mothers_age_at_birth_v212, Treatment(reference='10-14'))[T.15-19]             0.0395      0.069      0.576      0.565      -0.095       0.174\n",
            "C(mothers_age_at_birth_v212, Treatment(reference='10-14'))[T.20-24]             0.0492      0.079      0.620      0.535      -0.106       0.205\n",
            "C(mothers_age_at_birth_v212, Treatment(reference='10-14'))[T.25-29]             0.1004      0.129      0.781      0.435      -0.152       0.352\n",
            "C(mothers_age_at_birth_v212, Treatment(reference='10-14'))[T.30-34]            -0.2998      0.315     -0.950      0.342      -0.918       0.319\n",
            "C(mothers_age_at_birth_v212, Treatment(reference='10-14'))[T.35-39]             0.0085      0.631      0.014      0.989      -1.227       1.244\n",
            "C(mothers_age_at_birth_v212, Treatment(reference='10-14'))[T.40-44]           -22.8341   8.91e+04     -0.000      1.000   -1.75e+05    1.75e+05\n",
            "C(mothers_age_at_birth_v212, Treatment(reference='10-14'))[T.45-49]            17.4067   2125.925      0.008      0.993   -4149.330    4184.143\n",
            "C(mom_marital_stats_v501, Treatment(reference='married'))[T.non-married]        0.0238      0.163      0.145      0.884      -0.297       0.344\n",
            "C(mother_education_v701, Treatment(reference='no education'))[T.higher]        -0.2046      0.112     -1.829      0.067      -0.424       0.015\n",
            "C(mother_education_v701, Treatment(reference='no education'))[T.primary]        0.0209      0.057      0.367      0.714      -0.091       0.132\n",
            "C(mother_education_v701, Treatment(reference='no education'))[T.secondary]     -0.1661      0.064     -2.607      0.009      -0.291      -0.041\n",
            "C(maternal_height_v438, Treatment(reference='>=145'))[T.<145]                   0.1445      0.056      2.558      0.011       0.034       0.255\n",
            "C(mothers_bmi_v445, Treatment(reference='>=18.5'))[T.<18.5]                     0.4705      0.043     10.864      0.000       0.386       0.555\n",
            "C(work_of_mom_v714)[T.True]                                                     0.0784      0.051      1.538      0.124      -0.021       0.178\n",
            "C(partner_occupation_v704)[T.True]                                              0.3297      0.145      2.273      0.023       0.045       0.614\n",
            "C(partner_education_v701, Treatment(reference='no education'))[T.higher]        0.0344      0.092      0.376      0.707      -0.145       0.214\n",
            "C(partner_education_v701, Treatment(reference='no education'))[T.primary]       0.0269      0.054      0.500      0.617      -0.078       0.132\n",
            "C(partner_education_v701, Treatment(reference='no education'))[T.secondary]     0.0220      0.062      0.355      0.722      -0.099       0.143\n",
            "C(wealth_index_v190, Treatment(reference='poorest'))[T.middle]                 -0.0155      0.064     -0.242      0.809      -0.141       0.110\n",
            "C(wealth_index_v190, Treatment(reference='poorest'))[T.poorer]                 -0.0249      0.060     -0.413      0.680      -0.143       0.093\n",
            "C(wealth_index_v190, Treatment(reference='poorest'))[T.richer]                 -0.1497      0.072     -2.080      0.037      -0.291      -0.009\n",
            "C(wealth_index_v190, Treatment(reference='poorest'))[T.richest]                -0.1985      0.086     -2.321      0.020      -0.366      -0.031\n",
            "C(type_of_toilet_v116, Treatment(reference='unimproved'))[T.improved]          -0.0025      0.047     -0.054      0.957      -0.094       0.089\n",
            "C(water_type_v113, Treatment(reference='unsafe'))[T.safe]                      -0.0281      0.068     -0.413      0.679      -0.161       0.105\n",
            "C(num_of_house_members_v136, Treatment(reference='1-3'))[T.4-6]                -0.0194      0.068     -0.284      0.776      -0.153       0.114\n",
            "C(num_of_house_members_v136, Treatment(reference='1-3'))[T.>6]                 -0.0727      0.075     -0.975      0.329      -0.219       0.073\n",
            "C(num_under_five_child_v137, Treatment(reference='>2'))[T.<=2]                 -0.0244      0.081     -0.301      0.763      -0.183       0.134\n",
            "C(sex_house_head_v151, Treatment(reference='male'))[T.female]                  -0.0366      0.074     -0.493      0.622      -0.182       0.109\n",
            "C(place_of_residence_v025, Treatment(reference='urban'))[T.rural]               0.0942      0.050      1.888      0.059      -0.004       0.192\n",
            "log_GDP_PC_PPP                                                                 -0.4124      0.162     -2.544      0.011      -0.730      -0.095\n",
            "===============================================================================================================================================\n"
          ]
        },
        {
          "name": "stderr",
          "output_type": "stream",
          "text": [
            "/usr/local/lib/python3.6/dist-packages/statsmodels/base/model.py:512: ConvergenceWarning: Maximum Likelihood optimization failed to converge. Check mle_retvals\n",
            "  \"Check mle_retvals\", ConvergenceWarning)\n"
          ]
        }
      ],
      "source": [
        "result = mod.fit()\n",
        "print(result.summary())"
      ]
    },
    {
      "cell_type": "code",
      "execution_count": null,
      "metadata": {
        "colab": {
          "base_uri": "https://localhost:8080/",
          "height": 812
        },
        "id": "egQz9ctfHOw5",
        "outputId": "b328bdca-3921-4418-fe11-979b3a8b9b56",
        "vscode": {
          "languageId": "python"
        }
      },
      "outputs": [
        {
          "name": "stdout",
          "output_type": "stream",
          "text": [
            "Odd Ratio:\n",
            "Intercept                                                                      4.152378e+00\n",
            "C(children_age_v212, Treatment(reference='0-5'))[T.12-17]                      1.013952e+00\n",
            "C(children_age_v212, Treatment(reference='0-5'))[T.18-23]                      9.805654e-01\n",
            "C(children_age_v212, Treatment(reference='0-5'))[T.24-29]                      7.879469e-01\n",
            "C(children_age_v212, Treatment(reference='0-5'))[T.30-35]                      7.896415e-01\n",
            "C(children_age_v212, Treatment(reference='0-5'))[T.36-41]                      7.706407e-01\n",
            "C(children_age_v212, Treatment(reference='0-5'))[T.42-47]                      7.875455e-01\n",
            "C(children_age_v212, Treatment(reference='0-5'))[T.48-53]                      8.425169e-01\n",
            "C(children_age_v212, Treatment(reference='0-5'))[T.54-59]                      8.629938e-01\n",
            "C(children_age_v212, Treatment(reference='0-5'))[T.6-11]                       8.734849e-01\n",
            "C(sex_of_child_b4, Treatment(reference='male'))[T.female]                      8.821424e-01\n",
            "C(is_twin_child_b0, Treatment(reference='single birth'))[T.1st of multiple]    9.542501e-01\n",
            "C(is_twin_child_b0, Treatment(reference='single birth'))[T.2nd of multiple]    1.056767e+00\n",
            "C(is_twin_child_b0, Treatment(reference='single birth'))[T.3rd of multiple]    1.377077e+15\n",
            "C(mothers_age_at_birth_v212, Treatment(reference='10-14'))[T.15-19]            1.040262e+00\n",
            "C(mothers_age_at_birth_v212, Treatment(reference='10-14'))[T.20-24]            1.050454e+00\n",
            "C(mothers_age_at_birth_v212, Treatment(reference='10-14'))[T.25-29]            1.105579e+00\n",
            "C(mothers_age_at_birth_v212, Treatment(reference='10-14'))[T.30-34]            7.409838e-01\n",
            "C(mothers_age_at_birth_v212, Treatment(reference='10-14'))[T.35-39]            1.008563e+00\n",
            "C(mothers_age_at_birth_v212, Treatment(reference='10-14'))[T.40-44]            1.211425e-10\n",
            "C(mothers_age_at_birth_v212, Treatment(reference='10-14'))[T.45-49]            3.627616e+07\n",
            "C(mom_marital_stats_v501, Treatment(reference='married'))[T.non-married]       1.024035e+00\n",
            "C(mother_education_v701, Treatment(reference='no education'))[T.higher]        8.149614e-01\n",
            "C(mother_education_v701, Treatment(reference='no education'))[T.primary]       1.021080e+00\n",
            "C(mother_education_v701, Treatment(reference='no education'))[T.secondary]     8.469198e-01\n",
            "C(maternal_height_v438, Treatment(reference='>=145'))[T.<145]                  1.155412e+00\n",
            "C(mothers_bmi_v445, Treatment(reference='>=18.5'))[T.<18.5]                    1.600742e+00\n",
            "C(work_of_mom_v714)[T.True]                                                    1.081535e+00\n",
            "C(partner_occupation_v704)[T.True]                                             1.390541e+00\n",
            "C(partner_education_v701, Treatment(reference='no education'))[T.higher]       1.034981e+00\n",
            "C(partner_education_v701, Treatment(reference='no education'))[T.primary]      1.027218e+00\n",
            "C(partner_education_v701, Treatment(reference='no education'))[T.secondary]    1.022202e+00\n",
            "C(wealth_index_v190, Treatment(reference='poorest'))[T.middle]                 9.845854e-01\n",
            "C(wealth_index_v190, Treatment(reference='poorest'))[T.poorer]                 9.753909e-01\n",
            "C(wealth_index_v190, Treatment(reference='poorest'))[T.richer]                 8.609791e-01\n",
            "C(wealth_index_v190, Treatment(reference='poorest'))[T.richest]                8.199868e-01\n",
            "C(type_of_toilet_v116, Treatment(reference='unimproved'))[T.improved]          9.974772e-01\n",
            "C(water_type_v113, Treatment(reference='unsafe'))[T.safe]                      9.723266e-01\n",
            "C(num_of_house_members_v136, Treatment(reference='1-3'))[T.4-6]                9.808009e-01\n",
            "C(num_of_house_members_v136, Treatment(reference='1-3'))[T.>6]                 9.298526e-01\n",
            "C(num_under_five_child_v137, Treatment(reference='>2'))[T.<=2]                 9.759041e-01\n",
            "C(sex_house_head_v151, Treatment(reference='male'))[T.female]                  9.641017e-01\n",
            "C(place_of_residence_v025, Treatment(reference='urban'))[T.rural]              1.098820e+00\n",
            "log_GDP_PC_PPP                                                                 6.620311e-01\n",
            "dtype: float64\n"
          ]
        }
      ],
      "source": [
        "# For odd ration:\n",
        "print(\"Odd Ratio:\")\n",
        "print(np.exp(result.params))"
      ]
    },
    {
      "cell_type": "code",
      "execution_count": null,
      "metadata": {
        "colab": {
          "base_uri": "https://localhost:8080/",
          "height": 935
        },
        "id": "p19f6yoWHQmD",
        "outputId": "95f15b05-9355-481f-9f39-d41b1e3eee4e",
        "vscode": {
          "languageId": "python"
        }
      },
      "outputs": [
        {
          "name": "stdout",
          "output_type": "stream",
          "text": [
            "        Logit Marginal Effects       \n",
            "=====================================\n",
            "Dep. Variable:                 wasted\n",
            "Method:                          dydx\n",
            "At:                           overall\n",
            "===============================================================================================================================================\n",
            "                                                                                 dy/dx    std err          z      P>|z|      [0.025      0.975]\n",
            "-----------------------------------------------------------------------------------------------------------------------------------------------\n",
            "C(children_age_v212, Treatment(reference='0-5'))[T.12-17]                       0.0018      0.011      0.158      0.875      -0.020       0.024\n",
            "C(children_age_v212, Treatment(reference='0-5'))[T.18-23]                      -0.0025      0.012     -0.219      0.827      -0.025       0.020\n",
            "C(children_age_v212, Treatment(reference='0-5'))[T.24-29]                      -0.0307      0.012     -2.551      0.011      -0.054      -0.007\n",
            "C(children_age_v212, Treatment(reference='0-5'))[T.30-35]                      -0.0305      0.012     -2.565      0.010      -0.054      -0.007\n",
            "C(children_age_v212, Treatment(reference='0-5'))[T.36-41]                      -0.0336      0.012     -2.801      0.005      -0.057      -0.010\n",
            "C(children_age_v212, Treatment(reference='0-5'))[T.42-47]                      -0.0308      0.012     -2.614      0.009      -0.054      -0.008\n",
            "C(children_age_v212, Treatment(reference='0-5'))[T.48-53]                      -0.0221      0.012     -1.875      0.061      -0.045       0.001\n",
            "C(children_age_v212, Treatment(reference='0-5'))[T.54-59]                      -0.0190      0.012     -1.618      0.106      -0.042       0.004\n",
            "C(children_age_v212, Treatment(reference='0-5'))[T.6-11]                       -0.0174      0.011     -1.525      0.127      -0.040       0.005\n",
            "C(sex_of_child_b4, Treatment(reference='male'))[T.female]                      -0.0162      0.005     -3.155      0.002      -0.026      -0.006\n",
            "C(is_twin_child_b0, Treatment(reference='single birth'))[T.1st of multiple]    -0.0060      0.035     -0.172      0.863      -0.075       0.063\n",
            "C(is_twin_child_b0, Treatment(reference='single birth'))[T.2nd of multiple]     0.0071      0.033      0.219      0.827      -0.057       0.071\n",
            "C(is_twin_child_b0, Treatment(reference='single birth'))[T.3rd of multiple]     4.4945    1.8e+06   2.49e-06      1.000   -3.54e+06    3.54e+06\n",
            "C(mothers_age_at_birth_v212, Treatment(reference='10-14'))[T.15-19]             0.0051      0.009      0.576      0.565      -0.012       0.022\n",
            "C(mothers_age_at_birth_v212, Treatment(reference='10-14'))[T.20-24]             0.0063      0.010      0.620      0.535      -0.014       0.026\n",
            "C(mothers_age_at_birth_v212, Treatment(reference='10-14'))[T.25-29]             0.0129      0.017      0.781      0.435      -0.020       0.045\n",
            "C(mothers_age_at_birth_v212, Treatment(reference='10-14'))[T.30-34]            -0.0387      0.041     -0.950      0.342      -0.118       0.041\n",
            "C(mothers_age_at_birth_v212, Treatment(reference='10-14'))[T.35-39]             0.0011      0.081      0.014      0.989      -0.158       0.160\n",
            "C(mothers_age_at_birth_v212, Treatment(reference='10-14'))[T.40-44]            -2.9441   1.15e+04     -0.000      1.000   -2.25e+04    2.25e+04\n",
            "C(mothers_age_at_birth_v212, Treatment(reference='10-14'))[T.45-49]             2.2443    274.104      0.008      0.993    -534.989     539.478\n",
            "C(mom_marital_stats_v501, Treatment(reference='married'))[T.non-married]        0.0031      0.021      0.145      0.884      -0.038       0.044\n",
            "C(mother_education_v701, Treatment(reference='no education'))[T.higher]        -0.0264      0.014     -1.829      0.067      -0.055       0.002\n",
            "C(mother_education_v701, Treatment(reference='no education'))[T.primary]        0.0027      0.007      0.367      0.714      -0.012       0.017\n",
            "C(mother_education_v701, Treatment(reference='no education'))[T.secondary]     -0.0214      0.008     -2.607      0.009      -0.038      -0.005\n",
            "C(maternal_height_v438, Treatment(reference='>=145'))[T.<145]                   0.0186      0.007      2.559      0.011       0.004       0.033\n",
            "C(mothers_bmi_v445, Treatment(reference='>=18.5'))[T.<18.5]                     0.0607      0.006     10.895      0.000       0.050       0.072\n",
            "C(work_of_mom_v714)[T.True]                                                     0.0101      0.007      1.538      0.124      -0.003       0.023\n",
            "C(partner_occupation_v704)[T.True]                                              0.0425      0.019      2.273      0.023       0.006       0.079\n",
            "C(partner_education_v701, Treatment(reference='no education'))[T.higher]        0.0044      0.012      0.376      0.707      -0.019       0.028\n",
            "C(partner_education_v701, Treatment(reference='no education'))[T.primary]       0.0035      0.007      0.500      0.617      -0.010       0.017\n",
            "C(partner_education_v701, Treatment(reference='no education'))[T.secondary]     0.0028      0.008      0.355      0.722      -0.013       0.018\n",
            "C(wealth_index_v190, Treatment(reference='poorest'))[T.middle]                 -0.0020      0.008     -0.242      0.809      -0.018       0.014\n",
            "C(wealth_index_v190, Treatment(reference='poorest'))[T.poorer]                 -0.0032      0.008     -0.413      0.680      -0.018       0.012\n",
            "C(wealth_index_v190, Treatment(reference='poorest'))[T.richer]                 -0.0193      0.009     -2.080      0.037      -0.037      -0.001\n",
            "C(wealth_index_v190, Treatment(reference='poorest'))[T.richest]                -0.0256      0.011     -2.321      0.020      -0.047      -0.004\n",
            "C(type_of_toilet_v116, Treatment(reference='unimproved'))[T.improved]          -0.0003      0.006     -0.054      0.957      -0.012       0.011\n",
            "C(water_type_v113, Treatment(reference='unsafe'))[T.safe]                      -0.0036      0.009     -0.413      0.679      -0.021       0.014\n",
            "C(num_of_house_members_v136, Treatment(reference='1-3'))[T.4-6]                -0.0025      0.009     -0.284      0.776      -0.020       0.015\n",
            "C(num_of_house_members_v136, Treatment(reference='1-3'))[T.>6]                 -0.0094      0.010     -0.975      0.329      -0.028       0.009\n",
            "C(num_under_five_child_v137, Treatment(reference='>2'))[T.<=2]                 -0.0031      0.010     -0.301      0.763      -0.024       0.017\n",
            "C(sex_house_head_v151, Treatment(reference='male'))[T.female]                  -0.0047      0.010     -0.493      0.622      -0.023       0.014\n",
            "C(place_of_residence_v025, Treatment(reference='urban'))[T.rural]               0.0122      0.006      1.888      0.059      -0.000       0.025\n",
            "log_GDP_PC_PPP                                                                 -0.0532      0.021     -2.544      0.011      -0.094      -0.012\n",
            "===============================================================================================================================================\n"
          ]
        }
      ],
      "source": [
        "# for marginal effects\n",
        "merge_eff = result.get_margeff() # default overwall with method dydx\n",
        "print(merge_eff.summary())"
      ]
    },
    {
      "cell_type": "markdown",
      "metadata": {
        "id": "px765IFVHxb9"
      },
      "source": [
        "## Model 5 stunted new"
      ]
    },
    {
      "cell_type": "code",
      "execution_count": null,
      "metadata": {
        "colab": {
          "base_uri": "https://localhost:8080/",
          "height": 501
        },
        "id": "KYySQbd1H0PJ",
        "outputId": "47767f00-1c50-45ce-c5d0-3467eb2f7a13",
        "vscode": {
          "languageId": "python"
        }
      },
      "outputs": [
        {
          "name": "stdout",
          "output_type": "stream",
          "text": [
            "<class 'pandas.core.frame.DataFrame'>\n",
            "RangeIndex: 19752 entries, 0 to 19751\n",
            "Data columns (total 21 columns):\n",
            " #   Column                     Non-Null Count  Dtype   \n",
            "---  ------                     --------------  -----   \n",
            " 0   log_GDP_PC_PPP             19752 non-null  float64 \n",
            " 1   children_age_v212          19752 non-null  category\n",
            " 2   sex_of_child_b4            19752 non-null  category\n",
            " 3   is_twin_child_b0           19752 non-null  category\n",
            " 4   mothers_age_at_birth_v212  19752 non-null  category\n",
            " 5   mom_marital_stats_v501     19752 non-null  category\n",
            " 6   mother_education_v701      19752 non-null  category\n",
            " 7   maternal_height_v438       19752 non-null  category\n",
            " 8   mothers_bmi_v445           19752 non-null  category\n",
            " 9   work_of_mom_v714           19752 non-null  category\n",
            " 10  partner_occupation_v704    19752 non-null  category\n",
            " 11  partner_education_v701     19752 non-null  category\n",
            " 12  wealth_index_v190          19752 non-null  category\n",
            " 13  type_of_toilet_v116        19752 non-null  category\n",
            " 14  water_type_v113            19752 non-null  category\n",
            " 15  num_of_house_members_v136  19752 non-null  category\n",
            " 16  num_under_five_child_v137  19752 non-null  category\n",
            " 17  sex_house_head_v151        19752 non-null  category\n",
            " 18  place_of_residence_v025    19752 non-null  category\n",
            " 19  year_interview_v007        19752 non-null  int64   \n",
            " 20  stunted                    19752 non-null  int64   \n",
            "dtypes: category(18), float64(1), int64(2)\n",
            "memory usage: 812.9 KB\n"
          ]
        }
      ],
      "source": [
        "model_5_data = ultimate_data[['log_GDP_PC_PPP','children_age_v212', \n",
        "                              'sex_of_child_b4', \"is_twin_child_b0\", \n",
        "                              \"mothers_age_at_birth_v212\", \n",
        "                              'mom_marital_stats_v501', \n",
        "                              'mother_education_v701', \n",
        "                              'maternal_height_v438', \n",
        "                              'mothers_bmi_v445', \n",
        "                              'work_of_mom_v714', \n",
        "                              'partner_occupation_v704', \n",
        "                              'partner_education_v701',\n",
        "                              \"wealth_index_v190\",\n",
        "                              \"type_of_toilet_v116\",\n",
        "                              \"water_type_v113\",\n",
        "                              \"num_of_house_members_v136\",\n",
        "                              \"num_under_five_child_v137\",\n",
        "                              \"sex_house_head_v151\",\n",
        "                              \"place_of_residence_v025\",\n",
        "                              \"year_interview_v007\",\n",
        "                              'stunted']]\n",
        "model_5_data.info()"
      ]
    },
    {
      "cell_type": "code",
      "execution_count": null,
      "metadata": {
        "id": "qZLZmHidILKR",
        "vscode": {
          "languageId": "python"
        }
      },
      "outputs": [],
      "source": [
        "mod = smf.logit(formula=\"stunted ~ log_GDP_PC_PPP + C(children_age_v212, Treatment(reference='0-5')) + C(sex_of_child_b4, Treatment(reference='male')) + C(is_twin_child_b0, Treatment(reference='single birth')) + C(mothers_age_at_birth_v212, Treatment(reference='10-14')) + C(mom_marital_stats_v501, Treatment(reference='married')) + C(mother_education_v701, Treatment(reference='no education')) + C(maternal_height_v438, Treatment(reference='>=145')) + C(mothers_bmi_v445, Treatment(reference='>=18.5')) + C(maternal_height_v438, Treatment(reference='>=145')) + C(mothers_bmi_v445, Treatment(reference='>=18.5')) + C(work_of_mom_v714) + C(partner_occupation_v704) + C(partner_education_v701, Treatment(reference='no education')) + C(wealth_index_v190, Treatment(reference='poorest')) + C(type_of_toilet_v116, Treatment(reference='unimproved')) + C(water_type_v113, Treatment(reference='unsafe')) + C(num_of_house_members_v136, Treatment(reference='1-3')) + C(num_under_five_child_v137, Treatment(reference='>2')) + C(sex_house_head_v151, Treatment(reference='male')) + C(place_of_residence_v025, Treatment(reference='urban')) + year_interview_v007\", data=model_5_data)"
      ]
    },
    {
      "cell_type": "code",
      "execution_count": null,
      "metadata": {
        "colab": {
          "base_uri": "https://localhost:8080/",
          "height": 1000
        },
        "id": "cl213c4-ILuT",
        "outputId": "8a58b342-51df-48c4-892f-05325413fe19",
        "vscode": {
          "languageId": "python"
        }
      },
      "outputs": [
        {
          "name": "stdout",
          "output_type": "stream",
          "text": [
            "Warning: Maximum number of iterations has been exceeded.\n",
            "         Current function value: 0.597975\n",
            "         Iterations: 35\n",
            "                           Logit Regression Results                           \n",
            "==============================================================================\n",
            "Dep. Variable:                stunted   No. Observations:                19752\n",
            "Model:                          Logit   Df Residuals:                    19707\n",
            "Method:                           MLE   Df Model:                           44\n",
            "Date:                Mon, 10 Aug 2020   Pseudo R-squ.:                  0.1089\n",
            "Time:                        16:24:23   Log-Likelihood:                -11811.\n",
            "converged:                      False   LL-Null:                       -13254.\n",
            "Covariance Type:            nonrobust   LLR p-value:                     0.000\n",
            "===============================================================================================================================================\n",
            "                                                                                  coef    std err          z      P>|z|      [0.025      0.975]\n",
            "-----------------------------------------------------------------------------------------------------------------------------------------------\n",
            "Intercept                                                                   -1097.2425    428.045     -2.563      0.010   -1936.195    -258.290\n",
            "C(children_age_v212, Treatment(reference='0-5'))[T.12-17]                       1.3298      0.085     15.663      0.000       1.163       1.496\n",
            "C(children_age_v212, Treatment(reference='0-5'))[T.18-23]                       1.7451      0.085     20.493      0.000       1.578       1.912\n",
            "C(children_age_v212, Treatment(reference='0-5'))[T.24-29]                       1.6209      0.085     18.967      0.000       1.453       1.788\n",
            "C(children_age_v212, Treatment(reference='0-5'))[T.30-35]                       1.7701      0.085     20.926      0.000       1.604       1.936\n",
            "C(children_age_v212, Treatment(reference='0-5'))[T.36-41]                       1.7489      0.085     20.595      0.000       1.582       1.915\n",
            "C(children_age_v212, Treatment(reference='0-5'))[T.42-47]                       1.7298      0.084     20.577      0.000       1.565       1.895\n",
            "C(children_age_v212, Treatment(reference='0-5'))[T.48-53]                       1.3345      0.085     15.660      0.000       1.168       1.502\n",
            "C(children_age_v212, Treatment(reference='0-5'))[T.54-59]                       1.4947      0.085     17.609      0.000       1.328       1.661\n",
            "C(children_age_v212, Treatment(reference='0-5'))[T.6-11]                        0.4717      0.088      5.356      0.000       0.299       0.644\n",
            "C(sex_of_child_b4, Treatment(reference='male'))[T.female]                      -0.0701      0.031     -2.234      0.025      -0.132      -0.009\n",
            "C(is_twin_child_b0, Treatment(reference='single birth'))[T.1st of multiple]     0.7728      0.202      3.833      0.000       0.378       1.168\n",
            "C(is_twin_child_b0, Treatment(reference='single birth'))[T.2nd of multiple]     0.6997      0.195      3.586      0.000       0.317       1.082\n",
            "C(is_twin_child_b0, Treatment(reference='single birth'))[T.3rd of multiple]   -17.6908   9635.383     -0.002      0.999   -1.89e+04    1.89e+04\n",
            "C(mothers_age_at_birth_v212, Treatment(reference='10-14'))[T.15-19]            -0.0607      0.053     -1.136      0.256      -0.165       0.044\n",
            "C(mothers_age_at_birth_v212, Treatment(reference='10-14'))[T.20-24]            -0.0628      0.062     -1.010      0.313      -0.185       0.059\n",
            "C(mothers_age_at_birth_v212, Treatment(reference='10-14'))[T.25-29]            -0.1380      0.105     -1.316      0.188      -0.344       0.068\n",
            "C(mothers_age_at_birth_v212, Treatment(reference='10-14'))[T.30-34]            -0.2883      0.236     -1.222      0.222      -0.751       0.174\n",
            "C(mothers_age_at_birth_v212, Treatment(reference='10-14'))[T.35-39]            -0.1603      0.502     -0.319      0.749      -1.144       0.824\n",
            "C(mothers_age_at_birth_v212, Treatment(reference='10-14'))[T.40-44]             0.0651      0.983      0.066      0.947      -1.861       1.991\n",
            "C(mothers_age_at_birth_v212, Treatment(reference='10-14'))[T.45-49]            15.2078    714.885      0.021      0.983   -1385.942    1416.357\n",
            "C(mom_marital_stats_v501, Treatment(reference='married'))[T.non-married]        0.0173      0.130      0.134      0.894      -0.237       0.271\n",
            "C(mother_education_v701, Treatment(reference='no education'))[T.higher]        -0.4145      0.090     -4.590      0.000      -0.592      -0.238\n",
            "C(mother_education_v701, Treatment(reference='no education'))[T.primary]       -0.0290      0.045     -0.638      0.523      -0.118       0.060\n",
            "C(mother_education_v701, Treatment(reference='no education'))[T.secondary]     -0.2113      0.050     -4.246      0.000      -0.309      -0.114\n",
            "C(maternal_height_v438, Treatment(reference='>=145'))[T.<145]                   0.9685      0.047     20.724      0.000       0.877       1.060\n",
            "C(mothers_bmi_v445, Treatment(reference='>=18.5'))[T.<18.5]                     0.2850      0.036      7.967      0.000       0.215       0.355\n",
            "C(work_of_mom_v714)[T.True]                                                     0.0076      0.041      0.185      0.853      -0.073       0.088\n",
            "C(partner_occupation_v704)[T.True]                                              0.1671      0.103      1.615      0.106      -0.036       0.370\n",
            "C(partner_education_v701, Treatment(reference='no education'))[T.higher]       -0.5644      0.073     -7.720      0.000      -0.708      -0.421\n",
            "C(partner_education_v701, Treatment(reference='no education'))[T.primary]      -0.0557      0.042     -1.318      0.188      -0.138       0.027\n",
            "C(partner_education_v701, Treatment(reference='no education'))[T.secondary]    -0.2751      0.048     -5.699      0.000      -0.370      -0.180\n",
            "C(wealth_index_v190, Treatment(reference='poorest'))[T.middle]                 -0.3202      0.051     -6.250      0.000      -0.421      -0.220\n",
            "C(wealth_index_v190, Treatment(reference='poorest'))[T.poorer]                 -0.1859      0.048     -3.847      0.000      -0.281      -0.091\n",
            "C(wealth_index_v190, Treatment(reference='poorest'))[T.richer]                 -0.4540      0.056     -8.098      0.000      -0.564      -0.344\n",
            "C(wealth_index_v190, Treatment(reference='poorest'))[T.richest]                -0.8037      0.067    -11.971      0.000      -0.935      -0.672\n",
            "C(type_of_toilet_v116, Treatment(reference='unimproved'))[T.improved]          -0.1042      0.037     -2.841      0.004      -0.176      -0.032\n",
            "C(water_type_v113, Treatment(reference='unsafe'))[T.safe]                       0.0144      0.055      0.263      0.792      -0.093       0.121\n",
            "C(num_of_house_members_v136, Treatment(reference='1-3'))[T.4-6]                -0.0898      0.054     -1.676      0.094      -0.195       0.015\n",
            "C(num_of_house_members_v136, Treatment(reference='1-3'))[T.>6]                  0.0439      0.058      0.752      0.452      -0.071       0.158\n",
            "C(num_under_five_child_v137, Treatment(reference='>2'))[T.<=2]                 -0.1992      0.064     -3.111      0.002      -0.325      -0.074\n",
            "C(sex_house_head_v151, Treatment(reference='male'))[T.female]                   0.0155      0.058      0.268      0.789      -0.098       0.129\n",
            "C(place_of_residence_v025, Treatment(reference='urban'))[T.rural]              -0.0636      0.039     -1.634      0.102      -0.140       0.013\n",
            "log_GDP_PC_PPP                                                                -13.2643      5.017     -2.644      0.008     -23.097      -3.432\n",
            "year_interview_v007                                                             0.5979      0.233      2.568      0.010       0.142       1.054\n",
            "===============================================================================================================================================\n"
          ]
        },
        {
          "name": "stderr",
          "output_type": "stream",
          "text": [
            "/usr/local/lib/python3.6/dist-packages/statsmodels/base/model.py:512: ConvergenceWarning: Maximum Likelihood optimization failed to converge. Check mle_retvals\n",
            "  \"Check mle_retvals\", ConvergenceWarning)\n"
          ]
        }
      ],
      "source": [
        "result = mod.fit()\n",
        "print(result.summary())"
      ]
    },
    {
      "cell_type": "code",
      "execution_count": null,
      "metadata": {
        "colab": {
          "base_uri": "https://localhost:8080/",
          "height": 829
        },
        "id": "FMgyX86FIx7Q",
        "outputId": "513f3692-5d8a-4601-afe2-5f73eeab94b8",
        "vscode": {
          "languageId": "python"
        }
      },
      "outputs": [
        {
          "name": "stdout",
          "output_type": "stream",
          "text": [
            "Odd Ratio:\n",
            "Intercept                                                                      0.000000e+00\n",
            "C(children_age_v212, Treatment(reference='0-5'))[T.12-17]                      3.780325e+00\n",
            "C(children_age_v212, Treatment(reference='0-5'))[T.18-23]                      5.726470e+00\n",
            "C(children_age_v212, Treatment(reference='0-5'))[T.24-29]                      5.057416e+00\n",
            "C(children_age_v212, Treatment(reference='0-5'))[T.30-35]                      5.871670e+00\n",
            "C(children_age_v212, Treatment(reference='0-5'))[T.36-41]                      5.748217e+00\n",
            "C(children_age_v212, Treatment(reference='0-5'))[T.42-47]                      5.639249e+00\n",
            "C(children_age_v212, Treatment(reference='0-5'))[T.48-53]                      3.798259e+00\n",
            "C(children_age_v212, Treatment(reference='0-5'))[T.54-59]                      4.457870e+00\n",
            "C(children_age_v212, Treatment(reference='0-5'))[T.6-11]                       1.602707e+00\n",
            "C(sex_of_child_b4, Treatment(reference='male'))[T.female]                      9.322815e-01\n",
            "C(is_twin_child_b0, Treatment(reference='single birth'))[T.1st of multiple]    2.165738e+00\n",
            "C(is_twin_child_b0, Treatment(reference='single birth'))[T.2nd of multiple]    2.013077e+00\n",
            "C(is_twin_child_b0, Treatment(reference='single birth'))[T.3rd of multiple]    2.074801e-08\n",
            "C(mothers_age_at_birth_v212, Treatment(reference='10-14'))[T.15-19]            9.411062e-01\n",
            "C(mothers_age_at_birth_v212, Treatment(reference='10-14'))[T.20-24]            9.391139e-01\n",
            "C(mothers_age_at_birth_v212, Treatment(reference='10-14'))[T.25-29]            8.710890e-01\n",
            "C(mothers_age_at_birth_v212, Treatment(reference='10-14'))[T.30-34]            7.495237e-01\n",
            "C(mothers_age_at_birth_v212, Treatment(reference='10-14'))[T.35-39]            8.518463e-01\n",
            "C(mothers_age_at_birth_v212, Treatment(reference='10-14'))[T.40-44]            1.067318e+00\n",
            "C(mothers_age_at_birth_v212, Treatment(reference='10-14'))[T.45-49]            4.024187e+06\n",
            "C(mom_marital_stats_v501, Treatment(reference='married'))[T.non-married]       1.017477e+00\n",
            "C(mother_education_v701, Treatment(reference='no education'))[T.higher]        6.606567e-01\n",
            "C(mother_education_v701, Treatment(reference='no education'))[T.primary]       9.713716e-01\n",
            "C(mother_education_v701, Treatment(reference='no education'))[T.secondary]     8.095664e-01\n",
            "C(maternal_height_v438, Treatment(reference='>=145'))[T.<145]                  2.634035e+00\n",
            "C(mothers_bmi_v445, Treatment(reference='>=18.5'))[T.<18.5]                    1.329700e+00\n",
            "C(work_of_mom_v714)[T.True]                                                    1.007655e+00\n",
            "C(partner_occupation_v704)[T.True]                                             1.181825e+00\n",
            "C(partner_education_v701, Treatment(reference='no education'))[T.higher]       5.687078e-01\n",
            "C(partner_education_v701, Treatment(reference='no education'))[T.primary]      9.458534e-01\n",
            "C(partner_education_v701, Treatment(reference='no education'))[T.secondary]    7.595240e-01\n",
            "C(wealth_index_v190, Treatment(reference='poorest'))[T.middle]                 7.260194e-01\n",
            "C(wealth_index_v190, Treatment(reference='poorest'))[T.poorer]                 8.303382e-01\n",
            "C(wealth_index_v190, Treatment(reference='poorest'))[T.richer]                 6.350511e-01\n",
            "C(wealth_index_v190, Treatment(reference='poorest'))[T.richest]                4.476557e-01\n",
            "C(type_of_toilet_v116, Treatment(reference='unimproved'))[T.improved]          9.010753e-01\n",
            "C(water_type_v113, Treatment(reference='unsafe'))[T.safe]                      1.014484e+00\n",
            "C(num_of_house_members_v136, Treatment(reference='1-3'))[T.4-6]                9.141474e-01\n",
            "C(num_of_house_members_v136, Treatment(reference='1-3'))[T.>6]                 1.044885e+00\n",
            "C(num_under_five_child_v137, Treatment(reference='>2'))[T.<=2]                 8.193738e-01\n",
            "C(sex_house_head_v151, Treatment(reference='male'))[T.female]                  1.015625e+00\n",
            "C(place_of_residence_v025, Treatment(reference='urban'))[T.rural]              9.384116e-01\n",
            "log_GDP_PC_PPP                                                                 1.735354e-06\n",
            "year_interview_v007                                                            1.818385e+00\n",
            "dtype: float64\n"
          ]
        }
      ],
      "source": [
        "# For odd ration:\n",
        "print(\"Odd Ratio:\")\n",
        "print(np.exp(result.params))"
      ]
    },
    {
      "cell_type": "code",
      "execution_count": null,
      "metadata": {
        "id": "1kZ65rwwIyRg",
        "vscode": {
          "languageId": "python"
        }
      },
      "outputs": [],
      "source": [
        "# for marginal effects\n",
        "merge_eff = result.get_margeff() # default overwall with method dydx\n",
        "print(merge_eff.summary())"
      ]
    },
    {
      "cell_type": "markdown",
      "metadata": {
        "id": "y68cW9lHIyta"
      },
      "source": [
        "## Model 5 underweight new"
      ]
    },
    {
      "cell_type": "code",
      "execution_count": null,
      "metadata": {
        "colab": {
          "base_uri": "https://localhost:8080/",
          "height": 501
        },
        "id": "CemWOmj9I2lA",
        "outputId": "d5e15cc3-59c1-4ba6-8fbb-a580ef527dc9",
        "vscode": {
          "languageId": "python"
        }
      },
      "outputs": [
        {
          "name": "stdout",
          "output_type": "stream",
          "text": [
            "<class 'pandas.core.frame.DataFrame'>\n",
            "RangeIndex: 19752 entries, 0 to 19751\n",
            "Data columns (total 21 columns):\n",
            " #   Column                     Non-Null Count  Dtype   \n",
            "---  ------                     --------------  -----   \n",
            " 0   log_GDP_PC_PPP             19752 non-null  float64 \n",
            " 1   children_age_v212          19752 non-null  category\n",
            " 2   sex_of_child_b4            19752 non-null  category\n",
            " 3   is_twin_child_b0           19752 non-null  category\n",
            " 4   mothers_age_at_birth_v212  19752 non-null  category\n",
            " 5   mom_marital_stats_v501     19752 non-null  category\n",
            " 6   mother_education_v701      19752 non-null  category\n",
            " 7   maternal_height_v438       19752 non-null  category\n",
            " 8   mothers_bmi_v445           19752 non-null  category\n",
            " 9   work_of_mom_v714           19752 non-null  category\n",
            " 10  partner_occupation_v704    19752 non-null  category\n",
            " 11  partner_education_v701     19752 non-null  category\n",
            " 12  wealth_index_v190          19752 non-null  category\n",
            " 13  type_of_toilet_v116        19752 non-null  category\n",
            " 14  water_type_v113            19752 non-null  category\n",
            " 15  num_of_house_members_v136  19752 non-null  category\n",
            " 16  num_under_five_child_v137  19752 non-null  category\n",
            " 17  sex_house_head_v151        19752 non-null  category\n",
            " 18  place_of_residence_v025    19752 non-null  category\n",
            " 19  year_interview_v007        19752 non-null  int64   \n",
            " 20  underweight                19752 non-null  int64   \n",
            "dtypes: category(18), float64(1), int64(2)\n",
            "memory usage: 812.9 KB\n"
          ]
        }
      ],
      "source": [
        "model_5_data = ultimate_data[['log_GDP_PC_PPP','children_age_v212', \n",
        "                              'sex_of_child_b4', \"is_twin_child_b0\", \n",
        "                              \"mothers_age_at_birth_v212\", \n",
        "                              'mom_marital_stats_v501', \n",
        "                              'mother_education_v701', \n",
        "                              'maternal_height_v438', \n",
        "                              'mothers_bmi_v445', \n",
        "                              'work_of_mom_v714', \n",
        "                              'partner_occupation_v704', \n",
        "                              'partner_education_v701',\n",
        "                              \"wealth_index_v190\",\n",
        "                              \"type_of_toilet_v116\",\n",
        "                              \"water_type_v113\",\n",
        "                              \"num_of_house_members_v136\",\n",
        "                              \"num_under_five_child_v137\",\n",
        "                              \"sex_house_head_v151\",\n",
        "                              \"place_of_residence_v025\",\n",
        "                              \"year_interview_v007\",\n",
        "                              \n",
        "                              'underweight']]\n",
        "model_5_data.info()"
      ]
    },
    {
      "cell_type": "code",
      "execution_count": null,
      "metadata": {
        "id": "ft9C9utTJAbE",
        "vscode": {
          "languageId": "python"
        }
      },
      "outputs": [],
      "source": [
        "mod = smf.logit(formula=\"underweight ~ log_GDP_PC_PPP + C(children_age_v212, Treatment(reference='0-5')) + C(sex_of_child_b4, Treatment(reference='male')) + C(is_twin_child_b0, Treatment(reference='single birth')) + C(mothers_age_at_birth_v212, Treatment(reference='10-14')) + C(mom_marital_stats_v501, Treatment(reference='married')) + C(mother_education_v701, Treatment(reference='no education')) + C(maternal_height_v438, Treatment(reference='>=145')) + C(mothers_bmi_v445, Treatment(reference='>=18.5')) + C(maternal_height_v438, Treatment(reference='>=145')) + C(mothers_bmi_v445, Treatment(reference='>=18.5')) + C(work_of_mom_v714) + C(partner_occupation_v704) + C(partner_education_v701, Treatment(reference='no education')) + C(wealth_index_v190, Treatment(reference='poorest')) + C(type_of_toilet_v116, Treatment(reference='unimproved')) + C(water_type_v113, Treatment(reference='unsafe')) + C(num_of_house_members_v136, Treatment(reference='1-3')) + C(num_under_five_child_v137, Treatment(reference='>2')) + C(sex_house_head_v151, Treatment(reference='male')) + C(place_of_residence_v025, Treatment(reference='urban')) + year_interview_v007 \", data=model_5_data)"
      ]
    },
    {
      "cell_type": "code",
      "execution_count": null,
      "metadata": {
        "colab": {
          "base_uri": "https://localhost:8080/",
          "height": 1000
        },
        "id": "Mla2RLaSJCOl",
        "outputId": "6c9c9974-b3ae-409f-8d3f-6138b34b060e",
        "vscode": {
          "languageId": "python"
        }
      },
      "outputs": [
        {
          "name": "stdout",
          "output_type": "stream",
          "text": [
            "Warning: Maximum number of iterations has been exceeded.\n",
            "         Current function value: 0.593986\n",
            "         Iterations: 35\n",
            "                           Logit Regression Results                           \n",
            "==============================================================================\n",
            "Dep. Variable:            underweight   No. Observations:                19752\n",
            "Model:                          Logit   Df Residuals:                    19707\n",
            "Method:                           MLE   Df Model:                           44\n",
            "Date:                Mon, 10 Aug 2020   Pseudo R-squ.:                 0.08858\n",
            "Time:                        16:28:32   Log-Likelihood:                -11732.\n",
            "converged:                      False   LL-Null:                       -12873.\n",
            "Covariance Type:            nonrobust   LLR p-value:                     0.000\n",
            "===============================================================================================================================================\n",
            "                                                                                  coef    std err          z      P>|z|      [0.025      0.975]\n",
            "-----------------------------------------------------------------------------------------------------------------------------------------------\n",
            "Intercept                                                                     159.5847    430.812      0.370      0.711    -684.791    1003.960\n",
            "C(children_age_v212, Treatment(reference='0-5'))[T.12-17]                       0.7185      0.081      8.836      0.000       0.559       0.878\n",
            "C(children_age_v212, Treatment(reference='0-5'))[T.18-23]                       0.9570      0.081     11.775      0.000       0.798       1.116\n",
            "C(children_age_v212, Treatment(reference='0-5'))[T.24-29]                       1.0208      0.081     12.544      0.000       0.861       1.180\n",
            "C(children_age_v212, Treatment(reference='0-5'))[T.30-35]                       1.1530      0.080     14.366      0.000       0.996       1.310\n",
            "C(children_age_v212, Treatment(reference='0-5'))[T.36-41]                       1.0809      0.081     13.386      0.000       0.923       1.239\n",
            "C(children_age_v212, Treatment(reference='0-5'))[T.42-47]                       1.1933      0.080     14.982      0.000       1.037       1.349\n",
            "C(children_age_v212, Treatment(reference='0-5'))[T.48-53]                       1.0496      0.081     13.018      0.000       0.892       1.208\n",
            "C(children_age_v212, Treatment(reference='0-5'))[T.54-59]                       1.2015      0.080     14.965      0.000       1.044       1.359\n",
            "C(children_age_v212, Treatment(reference='0-5'))[T.6-11]                        0.2172      0.083      2.609      0.009       0.054       0.380\n",
            "C(sex_of_child_b4, Treatment(reference='male'))[T.female]                       0.0747      0.032      2.370      0.018       0.013       0.137\n",
            "C(is_twin_child_b0, Treatment(reference='single birth'))[T.1st of multiple]     0.6159      0.199      3.102      0.002       0.227       1.005\n",
            "C(is_twin_child_b0, Treatment(reference='single birth'))[T.2nd of multiple]     0.6917      0.191      3.613      0.000       0.316       1.067\n",
            "C(is_twin_child_b0, Treatment(reference='single birth'))[T.3rd of multiple]   -14.6000   2190.703     -0.007      0.995   -4308.299    4279.099\n",
            "C(mothers_age_at_birth_v212, Treatment(reference='10-14'))[T.15-19]            -0.0536      0.053     -1.006      0.315      -0.158       0.051\n",
            "C(mothers_age_at_birth_v212, Treatment(reference='10-14'))[T.20-24]            -0.0811      0.062     -1.302      0.193      -0.203       0.041\n",
            "C(mothers_age_at_birth_v212, Treatment(reference='10-14'))[T.25-29]             0.0464      0.105      0.444      0.657      -0.158       0.251\n",
            "C(mothers_age_at_birth_v212, Treatment(reference='10-14'))[T.30-34]            -0.2503      0.242     -1.033      0.301      -0.725       0.224\n",
            "C(mothers_age_at_birth_v212, Treatment(reference='10-14'))[T.35-39]             0.1213      0.507      0.239      0.811      -0.872       1.115\n",
            "C(mothers_age_at_birth_v212, Treatment(reference='10-14'))[T.40-44]             0.1669      0.965      0.173      0.863      -1.725       2.059\n",
            "C(mothers_age_at_birth_v212, Treatment(reference='10-14'))[T.45-49]            17.2922   1971.225      0.009      0.993   -3846.237    3880.822\n",
            "C(mom_marital_stats_v501, Treatment(reference='married'))[T.non-married]        0.1230      0.128      0.960      0.337      -0.128       0.374\n",
            "C(mother_education_v701, Treatment(reference='no education'))[T.higher]        -0.4922      0.093     -5.315      0.000      -0.674      -0.311\n",
            "C(mother_education_v701, Treatment(reference='no education'))[T.primary]       -0.0110      0.045     -0.243      0.808      -0.099       0.077\n",
            "C(mother_education_v701, Treatment(reference='no education'))[T.secondary]     -0.2219      0.050     -4.460      0.000      -0.319      -0.124\n",
            "C(maternal_height_v438, Treatment(reference='>=145'))[T.<145]                   0.6970      0.045     15.410      0.000       0.608       0.786\n",
            "C(mothers_bmi_v445, Treatment(reference='>=18.5'))[T.<18.5]                     0.5969      0.035     16.881      0.000       0.528       0.666\n",
            "C(work_of_mom_v714)[T.True]                                                     0.0064      0.041      0.154      0.877      -0.075       0.087\n",
            "C(partner_occupation_v704)[T.True]                                              0.1720      0.105      1.635      0.102      -0.034       0.378\n",
            "C(partner_education_v701, Treatment(reference='no education'))[T.higher]       -0.3119      0.074     -4.224      0.000      -0.457      -0.167\n",
            "C(partner_education_v701, Treatment(reference='no education'))[T.primary]      -0.0013      0.042     -0.030      0.976      -0.084       0.081\n",
            "C(partner_education_v701, Treatment(reference='no education'))[T.secondary]    -0.1712      0.049     -3.524      0.000      -0.266      -0.076\n",
            "C(wealth_index_v190, Treatment(reference='poorest'))[T.middle]                 -0.2740      0.051     -5.376      0.000      -0.374      -0.174\n",
            "C(wealth_index_v190, Treatment(reference='poorest'))[T.poorer]                 -0.1613      0.048     -3.372      0.001      -0.255      -0.068\n",
            "C(wealth_index_v190, Treatment(reference='poorest'))[T.richer]                 -0.4968      0.056     -8.810      0.000      -0.607      -0.386\n",
            "C(wealth_index_v190, Treatment(reference='poorest'))[T.richest]                -0.7447      0.068    -10.991      0.000      -0.877      -0.612\n",
            "C(type_of_toilet_v116, Treatment(reference='unimproved'))[T.improved]          -0.0474      0.037     -1.288      0.198      -0.120       0.025\n",
            "C(water_type_v113, Treatment(reference='unsafe'))[T.safe]                       0.0226      0.055      0.413      0.680      -0.085       0.130\n",
            "C(num_of_house_members_v136, Treatment(reference='1-3'))[T.4-6]                 0.0021      0.054      0.039      0.969      -0.104       0.108\n",
            "C(num_of_house_members_v136, Treatment(reference='1-3'))[T.>6]                  0.0591      0.059      1.000      0.317      -0.057       0.175\n",
            "C(num_under_five_child_v137, Treatment(reference='>2'))[T.<=2]                 -0.1078      0.064     -1.677      0.094      -0.234       0.018\n",
            "C(sex_house_head_v151, Treatment(reference='male'))[T.female]                   0.0450      0.058      0.774      0.439      -0.069       0.159\n",
            "C(place_of_residence_v025, Treatment(reference='urban'))[T.rural]               0.0146      0.039      0.373      0.709      -0.062       0.092\n",
            "log_GDP_PC_PPP                                                                  1.1111      5.051      0.220      0.826      -8.788      11.010\n",
            "year_interview_v007                                                            -0.0844      0.234     -0.360      0.719      -0.544       0.375\n",
            "===============================================================================================================================================\n"
          ]
        },
        {
          "name": "stderr",
          "output_type": "stream",
          "text": [
            "/usr/local/lib/python3.6/dist-packages/statsmodels/base/model.py:512: ConvergenceWarning: Maximum Likelihood optimization failed to converge. Check mle_retvals\n",
            "  \"Check mle_retvals\", ConvergenceWarning)\n"
          ]
        }
      ],
      "source": [
        "result = mod.fit()\n",
        "print(result.summary())"
      ]
    },
    {
      "cell_type": "code",
      "execution_count": null,
      "metadata": {
        "colab": {
          "base_uri": "https://localhost:8080/",
          "height": 829
        },
        "id": "hLx7-sVXJEVd",
        "outputId": "371869c6-2e9c-4e34-c067-f999f4387b06",
        "vscode": {
          "languageId": "python"
        }
      },
      "outputs": [
        {
          "name": "stdout",
          "output_type": "stream",
          "text": [
            "Odd Ratio:\n",
            "Intercept                                                                      2.026556e+69\n",
            "C(children_age_v212, Treatment(reference='0-5'))[T.12-17]                      2.051327e+00\n",
            "C(children_age_v212, Treatment(reference='0-5'))[T.18-23]                      2.603983e+00\n",
            "C(children_age_v212, Treatment(reference='0-5'))[T.24-29]                      2.775348e+00\n",
            "C(children_age_v212, Treatment(reference='0-5'))[T.30-35]                      3.167586e+00\n",
            "C(children_age_v212, Treatment(reference='0-5'))[T.36-41]                      2.947453e+00\n",
            "C(children_age_v212, Treatment(reference='0-5'))[T.42-47]                      3.297860e+00\n",
            "C(children_age_v212, Treatment(reference='0-5'))[T.48-53]                      2.856649e+00\n",
            "C(children_age_v212, Treatment(reference='0-5'))[T.54-59]                      3.325260e+00\n",
            "C(children_age_v212, Treatment(reference='0-5'))[T.6-11]                       1.242559e+00\n",
            "C(sex_of_child_b4, Treatment(reference='male'))[T.female]                      1.077593e+00\n",
            "C(is_twin_child_b0, Treatment(reference='single birth'))[T.1st of multiple]    1.851399e+00\n",
            "C(is_twin_child_b0, Treatment(reference='single birth'))[T.2nd of multiple]    1.997088e+00\n",
            "C(is_twin_child_b0, Treatment(reference='single birth'))[T.3rd of multiple]    4.563602e-07\n",
            "C(mothers_age_at_birth_v212, Treatment(reference='10-14'))[T.15-19]            9.477961e-01\n",
            "C(mothers_age_at_birth_v212, Treatment(reference='10-14'))[T.20-24]            9.220579e-01\n",
            "C(mothers_age_at_birth_v212, Treatment(reference='10-14'))[T.25-29]            1.047545e+00\n",
            "C(mothers_age_at_birth_v212, Treatment(reference='10-14'))[T.30-34]            7.785630e-01\n",
            "C(mothers_age_at_birth_v212, Treatment(reference='10-14'))[T.35-39]            1.128986e+00\n",
            "C(mothers_age_at_birth_v212, Treatment(reference='10-14'))[T.40-44]            1.181587e+00\n",
            "C(mothers_age_at_birth_v212, Treatment(reference='10-14'))[T.45-49]            3.235379e+07\n",
            "C(mom_marital_stats_v501, Treatment(reference='married'))[T.non-married]       1.130848e+00\n",
            "C(mother_education_v701, Treatment(reference='no education'))[T.higher]        6.112620e-01\n",
            "C(mother_education_v701, Treatment(reference='no education'))[T.primary]       9.890727e-01\n",
            "C(mother_education_v701, Treatment(reference='no education'))[T.secondary]     8.009690e-01\n",
            "C(maternal_height_v438, Treatment(reference='>=145'))[T.<145]                  2.007735e+00\n",
            "C(mothers_bmi_v445, Treatment(reference='>=18.5'))[T.<18.5]                    1.816451e+00\n",
            "C(work_of_mom_v714)[T.True]                                                    1.006406e+00\n",
            "C(partner_occupation_v704)[T.True]                                             1.187732e+00\n",
            "C(partner_education_v701, Treatment(reference='no education'))[T.higher]       7.320424e-01\n",
            "C(partner_education_v701, Treatment(reference='no education'))[T.primary]      9.987355e-01\n",
            "C(partner_education_v701, Treatment(reference='no education'))[T.secondary]    8.426848e-01\n",
            "C(wealth_index_v190, Treatment(reference='poorest'))[T.middle]                 7.603220e-01\n",
            "C(wealth_index_v190, Treatment(reference='poorest'))[T.poorer]                 8.510529e-01\n",
            "C(wealth_index_v190, Treatment(reference='poorest'))[T.richer]                 6.085037e-01\n",
            "C(wealth_index_v190, Treatment(reference='poorest'))[T.richest]                4.748830e-01\n",
            "C(type_of_toilet_v116, Treatment(reference='unimproved'))[T.improved]          9.536687e-01\n",
            "C(water_type_v113, Treatment(reference='unsafe'))[T.safe]                      1.022874e+00\n",
            "C(num_of_house_members_v136, Treatment(reference='1-3'))[T.4-6]                1.002136e+00\n",
            "C(num_of_house_members_v136, Treatment(reference='1-3'))[T.>6]                 1.060893e+00\n",
            "C(num_under_five_child_v137, Treatment(reference='>2'))[T.<=2]                 8.978428e-01\n",
            "C(sex_house_head_v151, Treatment(reference='male'))[T.female]                  1.046037e+00\n",
            "C(place_of_residence_v025, Treatment(reference='urban'))[T.rural]              1.014756e+00\n",
            "log_GDP_PC_PPP                                                                 3.037728e+00\n",
            "year_interview_v007                                                            9.190222e-01\n",
            "dtype: float64\n"
          ]
        }
      ],
      "source": [
        "# For odd ration:\n",
        "print(\"Odd Ratio:\")\n",
        "print(np.exp(result.params))"
      ]
    },
    {
      "cell_type": "code",
      "execution_count": null,
      "metadata": {
        "colab": {
          "base_uri": "https://localhost:8080/",
          "height": 953
        },
        "id": "cNeV-hevJaBJ",
        "outputId": "5755bc4f-92dd-472f-e581-651a82e69364",
        "vscode": {
          "languageId": "python"
        }
      },
      "outputs": [
        {
          "name": "stdout",
          "output_type": "stream",
          "text": [
            "        Logit Marginal Effects       \n",
            "=====================================\n",
            "Dep. Variable:            underweight\n",
            "Method:                          dydx\n",
            "At:                           overall\n",
            "===============================================================================================================================================\n",
            "                                                                                 dy/dx    std err          z      P>|z|      [0.025      0.975]\n",
            "-----------------------------------------------------------------------------------------------------------------------------------------------\n",
            "C(children_age_v212, Treatment(reference='0-5'))[T.12-17]                       0.1467      0.016      8.890      0.000       0.114       0.179\n",
            "C(children_age_v212, Treatment(reference='0-5'))[T.18-23]                       0.1954      0.016     11.908      0.000       0.163       0.228\n",
            "C(children_age_v212, Treatment(reference='0-5'))[T.24-29]                       0.2084      0.016     12.707      0.000       0.176       0.241\n",
            "C(children_age_v212, Treatment(reference='0-5'))[T.30-35]                       0.2354      0.016     14.616      0.000       0.204       0.267\n",
            "C(children_age_v212, Treatment(reference='0-5'))[T.36-41]                       0.2207      0.016     13.586      0.000       0.189       0.252\n",
            "C(children_age_v212, Treatment(reference='0-5'))[T.42-47]                       0.2436      0.016     15.267      0.000       0.212       0.275\n",
            "C(children_age_v212, Treatment(reference='0-5'))[T.48-53]                       0.2143      0.016     13.201      0.000       0.182       0.246\n",
            "C(children_age_v212, Treatment(reference='0-5'))[T.54-59]                       0.2453      0.016     15.250      0.000       0.214       0.277\n",
            "C(children_age_v212, Treatment(reference='0-5'))[T.6-11]                        0.0443      0.017      2.610      0.009       0.011       0.078\n",
            "C(sex_of_child_b4, Treatment(reference='male'))[T.female]                       0.0153      0.006      2.371      0.018       0.003       0.028\n",
            "C(is_twin_child_b0, Treatment(reference='single birth'))[T.1st of multiple]     0.1257      0.040      3.105      0.002       0.046       0.205\n",
            "C(is_twin_child_b0, Treatment(reference='single birth'))[T.2nd of multiple]     0.1412      0.039      3.617      0.000       0.065       0.218\n",
            "C(is_twin_child_b0, Treatment(reference='single birth'))[T.3rd of multiple]    -2.9804    447.197     -0.007      0.995    -879.471     873.510\n",
            "C(mothers_age_at_birth_v212, Treatment(reference='10-14'))[T.15-19]            -0.0109      0.011     -1.006      0.315      -0.032       0.010\n",
            "C(mothers_age_at_birth_v212, Treatment(reference='10-14'))[T.20-24]            -0.0166      0.013     -1.303      0.193      -0.041       0.008\n",
            "C(mothers_age_at_birth_v212, Treatment(reference='10-14'))[T.25-29]             0.0095      0.021      0.444      0.657      -0.032       0.051\n",
            "C(mothers_age_at_birth_v212, Treatment(reference='10-14'))[T.30-34]            -0.0511      0.049     -1.033      0.301      -0.148       0.046\n",
            "C(mothers_age_at_birth_v212, Treatment(reference='10-14'))[T.35-39]             0.0248      0.103      0.239      0.811      -0.178       0.228\n",
            "C(mothers_age_at_birth_v212, Treatment(reference='10-14'))[T.40-44]             0.0341      0.197      0.173      0.863      -0.352       0.420\n",
            "C(mothers_age_at_birth_v212, Treatment(reference='10-14'))[T.45-49]             3.5299    402.394      0.009      0.993    -785.148     792.208\n",
            "C(mom_marital_stats_v501, Treatment(reference='married'))[T.non-married]        0.0251      0.026      0.960      0.337      -0.026       0.076\n",
            "C(mother_education_v701, Treatment(reference='no education'))[T.higher]        -0.1005      0.019     -5.326      0.000      -0.137      -0.064\n",
            "C(mother_education_v701, Treatment(reference='no education'))[T.primary]       -0.0022      0.009     -0.243      0.808      -0.020       0.016\n",
            "C(mother_education_v701, Treatment(reference='no education'))[T.secondary]     -0.0453      0.010     -4.468      0.000      -0.065      -0.025\n",
            "C(maternal_height_v438, Treatment(reference='>=145'))[T.<145]                   0.1423      0.009     15.766      0.000       0.125       0.160\n",
            "C(mothers_bmi_v445, Treatment(reference='>=18.5'))[T.<18.5]                     0.1218      0.007     17.353      0.000       0.108       0.136\n",
            "C(work_of_mom_v714)[T.True]                                                     0.0013      0.008      0.154      0.877      -0.015       0.018\n",
            "C(partner_occupation_v704)[T.True]                                              0.0351      0.021      1.636      0.102      -0.007       0.077\n",
            "C(partner_education_v701, Treatment(reference='no education'))[T.higher]       -0.0637      0.015     -4.230      0.000      -0.093      -0.034\n",
            "C(partner_education_v701, Treatment(reference='no education'))[T.primary]      -0.0003      0.009     -0.030      0.976      -0.017       0.017\n",
            "C(partner_education_v701, Treatment(reference='no education'))[T.secondary]    -0.0349      0.010     -3.528      0.000      -0.054      -0.016\n",
            "C(wealth_index_v190, Treatment(reference='poorest'))[T.middle]                 -0.0559      0.010     -5.392      0.000      -0.076      -0.036\n",
            "C(wealth_index_v190, Treatment(reference='poorest'))[T.poorer]                 -0.0329      0.010     -3.376      0.001      -0.052      -0.014\n",
            "C(wealth_index_v190, Treatment(reference='poorest'))[T.richer]                 -0.1014      0.011     -8.876      0.000      -0.124      -0.079\n",
            "C(wealth_index_v190, Treatment(reference='poorest'))[T.richest]                -0.1520      0.014    -11.108      0.000      -0.179      -0.125\n",
            "C(type_of_toilet_v116, Treatment(reference='unimproved'))[T.improved]          -0.0097      0.008     -1.288      0.198      -0.024       0.005\n",
            "C(water_type_v113, Treatment(reference='unsafe'))[T.safe]                       0.0046      0.011      0.413      0.680      -0.017       0.027\n",
            "C(num_of_house_members_v136, Treatment(reference='1-3'))[T.4-6]                 0.0004      0.011      0.039      0.969      -0.021       0.022\n",
            "C(num_of_house_members_v136, Treatment(reference='1-3'))[T.>6]                  0.0121      0.012      1.001      0.317      -0.012       0.036\n",
            "C(num_under_five_child_v137, Treatment(reference='>2'))[T.<=2]                 -0.0220      0.013     -1.677      0.093      -0.048       0.004\n",
            "C(sex_house_head_v151, Treatment(reference='male'))[T.female]                   0.0092      0.012      0.774      0.439      -0.014       0.032\n",
            "C(place_of_residence_v025, Treatment(reference='urban'))[T.rural]               0.0030      0.008      0.373      0.709      -0.013       0.019\n",
            "log_GDP_PC_PPP                                                                  0.2268      1.031      0.220      0.826      -1.794       2.248\n",
            "year_interview_v007                                                            -0.0172      0.048     -0.360      0.719      -0.111       0.077\n",
            "===============================================================================================================================================\n"
          ]
        }
      ],
      "source": [
        "# for marginal effects\n",
        "merge_eff = result.get_margeff() # default overwall with method dydx\n",
        "print(merge_eff.summary())"
      ]
    },
    {
      "cell_type": "markdown",
      "metadata": {
        "id": "m4RU46vMJb24"
      },
      "source": [
        "## Model 5 wasted new"
      ]
    },
    {
      "cell_type": "code",
      "execution_count": null,
      "metadata": {
        "colab": {
          "base_uri": "https://localhost:8080/",
          "height": 501
        },
        "id": "k1L6A_6ZJgG5",
        "outputId": "cb05f0dd-441d-41f4-a178-90ee36cb5c1e",
        "vscode": {
          "languageId": "python"
        }
      },
      "outputs": [
        {
          "name": "stdout",
          "output_type": "stream",
          "text": [
            "<class 'pandas.core.frame.DataFrame'>\n",
            "RangeIndex: 19752 entries, 0 to 19751\n",
            "Data columns (total 21 columns):\n",
            " #   Column                     Non-Null Count  Dtype   \n",
            "---  ------                     --------------  -----   \n",
            " 0   log_GDP_PC_PPP             19752 non-null  float64 \n",
            " 1   children_age_v212          19752 non-null  category\n",
            " 2   sex_of_child_b4            19752 non-null  category\n",
            " 3   is_twin_child_b0           19752 non-null  category\n",
            " 4   mothers_age_at_birth_v212  19752 non-null  category\n",
            " 5   mom_marital_stats_v501     19752 non-null  category\n",
            " 6   mother_education_v701      19752 non-null  category\n",
            " 7   maternal_height_v438       19752 non-null  category\n",
            " 8   mothers_bmi_v445           19752 non-null  category\n",
            " 9   work_of_mom_v714           19752 non-null  category\n",
            " 10  partner_occupation_v704    19752 non-null  category\n",
            " 11  partner_education_v701     19752 non-null  category\n",
            " 12  wealth_index_v190          19752 non-null  category\n",
            " 13  type_of_toilet_v116        19752 non-null  category\n",
            " 14  water_type_v113            19752 non-null  category\n",
            " 15  num_of_house_members_v136  19752 non-null  category\n",
            " 16  num_under_five_child_v137  19752 non-null  category\n",
            " 17  sex_house_head_v151        19752 non-null  category\n",
            " 18  place_of_residence_v025    19752 non-null  category\n",
            " 19  year_interview_v007        19752 non-null  int64   \n",
            " 20  wasted                     19752 non-null  int64   \n",
            "dtypes: category(18), float64(1), int64(2)\n",
            "memory usage: 812.9 KB\n"
          ]
        }
      ],
      "source": [
        "model_5_data = ultimate_data[['log_GDP_PC_PPP','children_age_v212', \n",
        "                              'sex_of_child_b4', \"is_twin_child_b0\", \n",
        "                              \"mothers_age_at_birth_v212\", \n",
        "                              'mom_marital_stats_v501', \n",
        "                              'mother_education_v701', \n",
        "                              'maternal_height_v438', \n",
        "                              'mothers_bmi_v445', \n",
        "                              'work_of_mom_v714', \n",
        "                              'partner_occupation_v704', \n",
        "                              'partner_education_v701',\n",
        "                              \"wealth_index_v190\",\n",
        "                              \"type_of_toilet_v116\",\n",
        "                              \"water_type_v113\",\n",
        "                              \"num_of_house_members_v136\",\n",
        "                              \"num_under_five_child_v137\",\n",
        "                              \"sex_house_head_v151\",\n",
        "                              \"place_of_residence_v025\",\n",
        "                              \"year_interview_v007\",\n",
        "                              \n",
        "                              'wasted']]\n",
        "model_5_data.info()"
      ]
    },
    {
      "cell_type": "code",
      "execution_count": null,
      "metadata": {
        "id": "Z6_nuzznJiVU",
        "vscode": {
          "languageId": "python"
        }
      },
      "outputs": [],
      "source": [
        "mod = smf.logit(formula=\"wasted ~ log_GDP_PC_PPP + C(children_age_v212, Treatment(reference='0-5')) + C(sex_of_child_b4, Treatment(reference='male')) + C(is_twin_child_b0, Treatment(reference='single birth')) + C(mothers_age_at_birth_v212, Treatment(reference='10-14')) + C(mom_marital_stats_v501, Treatment(reference='married')) + C(mother_education_v701, Treatment(reference='no education')) + C(maternal_height_v438, Treatment(reference='>=145')) + C(mothers_bmi_v445, Treatment(reference='>=18.5')) + C(maternal_height_v438, Treatment(reference='>=145')) + C(mothers_bmi_v445, Treatment(reference='>=18.5')) + C(work_of_mom_v714) + C(partner_occupation_v704) + C(partner_education_v701, Treatment(reference='no education')) + C(wealth_index_v190, Treatment(reference='poorest')) + C(type_of_toilet_v116, Treatment(reference='unimproved')) + C(water_type_v113, Treatment(reference='unsafe')) + C(num_of_house_members_v136, Treatment(reference='1-3')) + C(num_under_five_child_v137, Treatment(reference='>2')) + C(sex_house_head_v151, Treatment(reference='male')) + C(place_of_residence_v025, Treatment(reference='urban')) + year_interview_v007 \", data=model_5_data)"
      ]
    },
    {
      "cell_type": "code",
      "execution_count": null,
      "metadata": {
        "colab": {
          "base_uri": "https://localhost:8080/",
          "height": 1000
        },
        "id": "jVdHBrB1JmSb",
        "outputId": "1659d507-f0b7-4eb9-897f-d887725589fa",
        "vscode": {
          "languageId": "python"
        }
      },
      "outputs": [
        {
          "name": "stdout",
          "output_type": "stream",
          "text": [
            "Warning: Maximum number of iterations has been exceeded.\n",
            "         Current function value: 0.436396\n",
            "         Iterations: 35\n",
            "                           Logit Regression Results                           \n",
            "==============================================================================\n",
            "Dep. Variable:                 wasted   No. Observations:                19752\n",
            "Model:                          Logit   Df Residuals:                    19707\n",
            "Method:                           MLE   Df Model:                           44\n",
            "Date:                Mon, 10 Aug 2020   Pseudo R-squ.:                -0.01136\n",
            "Time:                        16:29:38   Log-Likelihood:                -8619.7\n",
            "converged:                      False   LL-Null:                       -8522.9\n",
            "Covariance Type:            nonrobust   LLR p-value:                     1.000\n",
            "===============================================================================================================================================\n",
            "                                                                                  coef    std err          z      P>|z|      [0.025      0.975]\n",
            "-----------------------------------------------------------------------------------------------------------------------------------------------\n",
            "Intercept                                                                    1.003e+04    543.872     18.437      0.000    8961.179    1.11e+04\n",
            "C(children_age_v212, Treatment(reference='0-5'))[T.12-17]                      -0.0006      0.083     -0.007      0.995      -0.163       0.162\n",
            "C(children_age_v212, Treatment(reference='0-5'))[T.18-23]                      -0.0446      0.084     -0.529      0.597      -0.210       0.121\n",
            "C(children_age_v212, Treatment(reference='0-5'))[T.24-29]                      -0.2143      0.087     -2.463      0.014      -0.385      -0.044\n",
            "C(children_age_v212, Treatment(reference='0-5'))[T.30-35]                      -0.2054      0.086     -2.396      0.017      -0.373      -0.037\n",
            "C(children_age_v212, Treatment(reference='0-5'))[T.36-41]                      -0.1988      0.086     -2.299      0.022      -0.368      -0.029\n",
            "C(children_age_v212, Treatment(reference='0-5'))[T.42-47]                      -0.1600      0.085     -1.883      0.060      -0.327       0.007\n",
            "C(children_age_v212, Treatment(reference='0-5'))[T.48-53]                      -0.1236      0.085     -1.449      0.147      -0.291       0.044\n",
            "C(children_age_v212, Treatment(reference='0-5'))[T.54-59]                      -0.0887      0.085     -1.042      0.297      -0.255       0.078\n",
            "C(children_age_v212, Treatment(reference='0-5'))[T.6-11]                       -0.1314      0.083     -1.583      0.113      -0.294       0.031\n",
            "C(sex_of_child_b4, Treatment(reference='male'))[T.female]                      -0.1090      0.037     -2.944      0.003      -0.181      -0.036\n",
            "C(is_twin_child_b0, Treatment(reference='single birth'))[T.1st of multiple]     0.0031      0.249      0.013      0.990      -0.484       0.490\n",
            "C(is_twin_child_b0, Treatment(reference='single birth'))[T.2nd of multiple]     0.1389      0.233      0.596      0.551      -0.318       0.596\n",
            "C(is_twin_child_b0, Treatment(reference='single birth'))[T.3rd of multiple]    15.4693   1153.575      0.013      0.989   -2245.496    2276.434\n",
            "C(mothers_age_at_birth_v212, Treatment(reference='10-14'))[T.15-19]             0.0161      0.064      0.252      0.801      -0.110       0.142\n",
            "C(mothers_age_at_birth_v212, Treatment(reference='10-14'))[T.20-24]             0.0225      0.074      0.304      0.761      -0.123       0.168\n",
            "C(mothers_age_at_birth_v212, Treatment(reference='10-14'))[T.25-29]             0.1135      0.119      0.956      0.339      -0.119       0.346\n",
            "C(mothers_age_at_birth_v212, Treatment(reference='10-14'))[T.30-34]            -0.1807      0.278     -0.650      0.516      -0.726       0.364\n",
            "C(mothers_age_at_birth_v212, Treatment(reference='10-14'))[T.35-39]             0.0160      0.581      0.028      0.978      -1.123       1.155\n",
            "C(mothers_age_at_birth_v212, Treatment(reference='10-14'))[T.40-44]           -22.8246   8.02e+04     -0.000      1.000   -1.57e+05    1.57e+05\n",
            "C(mothers_age_at_birth_v212, Treatment(reference='10-14'))[T.45-49]            23.8762   6.34e+04      0.000      1.000   -1.24e+05    1.24e+05\n",
            "C(mom_marital_stats_v501, Treatment(reference='married'))[T.non-married]        0.0922      0.154      0.601      0.548      -0.209       0.393\n",
            "C(mother_education_v701, Treatment(reference='no education'))[T.higher]        -0.1761      0.102     -1.719      0.086      -0.377       0.025\n",
            "C(mother_education_v701, Treatment(reference='no education'))[T.primary]        0.0499      0.054      0.929      0.353      -0.055       0.155\n",
            "C(mother_education_v701, Treatment(reference='no education'))[T.secondary]     -0.1067      0.060     -1.788      0.074      -0.224       0.010\n",
            "C(maternal_height_v438, Treatment(reference='>=145'))[T.<145]                   0.1150      0.053      2.158      0.031       0.011       0.219\n",
            "C(mothers_bmi_v445, Treatment(reference='>=18.5'))[T.<18.5]                     0.4216      0.041     10.290      0.000       0.341       0.502\n",
            "C(work_of_mom_v714)[T.True]                                                    -0.1976      0.049     -4.032      0.000      -0.294      -0.102\n",
            "C(partner_occupation_v704)[T.True]                                              0.3200      0.131      2.436      0.015       0.063       0.578\n",
            "C(partner_education_v701, Treatment(reference='no education'))[T.higher]        0.0613      0.084      0.728      0.466      -0.104       0.226\n",
            "C(partner_education_v701, Treatment(reference='no education'))[T.primary]       0.0263      0.050      0.522      0.602      -0.073       0.125\n",
            "C(partner_education_v701, Treatment(reference='no education'))[T.secondary]     0.0313      0.058      0.542      0.588      -0.082       0.144\n",
            "C(wealth_index_v190, Treatment(reference='poorest'))[T.middle]                 -0.0264      0.060     -0.438      0.662      -0.145       0.092\n",
            "C(wealth_index_v190, Treatment(reference='poorest'))[T.poorer]                 -0.0390      0.057     -0.685      0.493      -0.150       0.072\n",
            "C(wealth_index_v190, Treatment(reference='poorest'))[T.richer]                 -0.1322      0.067     -1.976      0.048      -0.263      -0.001\n",
            "C(wealth_index_v190, Treatment(reference='poorest'))[T.richest]                -0.1882      0.079     -2.382      0.017      -0.343      -0.033\n",
            "C(type_of_toilet_v116, Treatment(reference='unimproved'))[T.improved]          -0.0515      0.044     -1.176      0.240      -0.137       0.034\n",
            "C(water_type_v113, Treatment(reference='unsafe'))[T.safe]                       0.0147      0.064      0.232      0.816      -0.110       0.139\n",
            "C(num_of_house_members_v136, Treatment(reference='1-3'))[T.4-6]                -0.0060      0.064     -0.095      0.924      -0.131       0.118\n",
            "C(num_of_house_members_v136, Treatment(reference='1-3'))[T.>6]                 -0.0740      0.069     -1.068      0.286      -0.210       0.062\n",
            "C(num_under_five_child_v137, Treatment(reference='>2'))[T.<=2]                 -0.0449      0.075     -0.596      0.551      -0.193       0.103\n",
            "C(sex_house_head_v151, Treatment(reference='male'))[T.female]                  -0.0739      0.069     -1.075      0.282      -0.209       0.061\n",
            "C(place_of_residence_v025, Treatment(reference='urban'))[T.rural]               0.0856      0.046      1.854      0.064      -0.005       0.176\n",
            "log_GDP_PC_PPP                                                                117.1357      6.376     18.371      0.000     104.639     129.632\n",
            "year_interview_v007                                                            -5.4542      0.296    -18.434      0.000      -6.034      -4.874\n",
            "===============================================================================================================================================\n"
          ]
        },
        {
          "name": "stderr",
          "output_type": "stream",
          "text": [
            "/usr/local/lib/python3.6/dist-packages/statsmodels/base/model.py:512: ConvergenceWarning: Maximum Likelihood optimization failed to converge. Check mle_retvals\n",
            "  \"Check mle_retvals\", ConvergenceWarning)\n"
          ]
        }
      ],
      "source": [
        "result = mod.fit()\n",
        "print(result.summary())"
      ]
    },
    {
      "cell_type": "code",
      "execution_count": null,
      "metadata": {
        "colab": {
          "base_uri": "https://localhost:8080/",
          "height": 864
        },
        "id": "1fskWxYZJnIt",
        "outputId": "fbda7364-93e0-41cd-ad56-019cbf4db57c",
        "vscode": {
          "languageId": "python"
        }
      },
      "outputs": [
        {
          "name": "stdout",
          "output_type": "stream",
          "text": [
            "Odd Ratio:\n",
            "Intercept                                                                               inf\n",
            "C(children_age_v212, Treatment(reference='0-5'))[T.12-17]                      9.994425e-01\n",
            "C(children_age_v212, Treatment(reference='0-5'))[T.18-23]                      9.563803e-01\n",
            "C(children_age_v212, Treatment(reference='0-5'))[T.24-29]                      8.071155e-01\n",
            "C(children_age_v212, Treatment(reference='0-5'))[T.30-35]                      8.142869e-01\n",
            "C(children_age_v212, Treatment(reference='0-5'))[T.36-41]                      8.196752e-01\n",
            "C(children_age_v212, Treatment(reference='0-5'))[T.42-47]                      8.521320e-01\n",
            "C(children_age_v212, Treatment(reference='0-5'))[T.48-53]                      8.837489e-01\n",
            "C(children_age_v212, Treatment(reference='0-5'))[T.54-59]                      9.151464e-01\n",
            "C(children_age_v212, Treatment(reference='0-5'))[T.6-11]                       8.768323e-01\n",
            "C(sex_of_child_b4, Treatment(reference='male'))[T.female]                      8.967715e-01\n",
            "C(is_twin_child_b0, Treatment(reference='single birth'))[T.1st of multiple]    1.003148e+00\n",
            "C(is_twin_child_b0, Treatment(reference='single birth'))[T.2nd of multiple]    1.149066e+00\n",
            "C(is_twin_child_b0, Treatment(reference='single birth'))[T.3rd of multiple]    5.226544e+06\n",
            "C(mothers_age_at_birth_v212, Treatment(reference='10-14'))[T.15-19]            1.016261e+00\n",
            "C(mothers_age_at_birth_v212, Treatment(reference='10-14'))[T.20-24]            1.022793e+00\n",
            "C(mothers_age_at_birth_v212, Treatment(reference='10-14'))[T.25-29]            1.120146e+00\n",
            "C(mothers_age_at_birth_v212, Treatment(reference='10-14'))[T.30-34]            8.346909e-01\n",
            "C(mothers_age_at_birth_v212, Treatment(reference='10-14'))[T.35-39]            1.016155e+00\n",
            "C(mothers_age_at_birth_v212, Treatment(reference='10-14'))[T.40-44]            1.222905e-10\n",
            "C(mothers_age_at_birth_v212, Treatment(reference='10-14'))[T.45-49]            2.340482e+10\n",
            "C(mom_marital_stats_v501, Treatment(reference='married'))[T.non-married]       1.096618e+00\n",
            "C(mother_education_v701, Treatment(reference='no education'))[T.higher]        8.385005e-01\n",
            "C(mother_education_v701, Treatment(reference='no education'))[T.primary]       1.051127e+00\n",
            "C(mother_education_v701, Treatment(reference='no education'))[T.secondary]     8.987965e-01\n",
            "C(maternal_height_v438, Treatment(reference='>=145'))[T.<145]                  1.121822e+00\n",
            "C(mothers_bmi_v445, Treatment(reference='>=18.5'))[T.<18.5]                    1.524373e+00\n",
            "C(work_of_mom_v714)[T.True]                                                    8.207141e-01\n",
            "C(partner_occupation_v704)[T.True]                                             1.377156e+00\n",
            "C(partner_education_v701, Treatment(reference='no education'))[T.higher]       1.063184e+00\n",
            "C(partner_education_v701, Treatment(reference='no education'))[T.primary]      1.026646e+00\n",
            "C(partner_education_v701, Treatment(reference='no education'))[T.secondary]    1.031795e+00\n",
            "C(wealth_index_v190, Treatment(reference='poorest'))[T.middle]                 9.739426e-01\n",
            "C(wealth_index_v190, Treatment(reference='poorest'))[T.poorer]                 9.617597e-01\n",
            "C(wealth_index_v190, Treatment(reference='poorest'))[T.richer]                 8.761410e-01\n",
            "C(wealth_index_v190, Treatment(reference='poorest'))[T.richest]                8.284236e-01\n",
            "C(type_of_toilet_v116, Treatment(reference='unimproved'))[T.improved]          9.498058e-01\n",
            "C(water_type_v113, Treatment(reference='unsafe'))[T.safe]                      1.014851e+00\n",
            "C(num_of_house_members_v136, Treatment(reference='1-3'))[T.4-6]                9.939761e-01\n",
            "C(num_of_house_members_v136, Treatment(reference='1-3'))[T.>6]                 9.286784e-01\n",
            "C(num_under_five_child_v137, Treatment(reference='>2'))[T.<=2]                 9.560963e-01\n",
            "C(sex_house_head_v151, Treatment(reference='male'))[T.female]                  9.288014e-01\n",
            "C(place_of_residence_v025, Treatment(reference='urban'))[T.rural]              1.089347e+00\n",
            "log_GDP_PC_PPP                                                                 7.437136e+50\n",
            "year_interview_v007                                                            4.278172e-03\n",
            "dtype: float64\n"
          ]
        },
        {
          "name": "stderr",
          "output_type": "stream",
          "text": [
            "/usr/local/lib/python3.6/dist-packages/pandas/core/series.py:679: RuntimeWarning: overflow encountered in exp\n",
            "  result = getattr(ufunc, method)(*inputs, **kwargs)\n"
          ]
        }
      ],
      "source": [
        "# For odd ration:\n",
        "print(\"Odd Ratio:\")\n",
        "print(np.exp(result.params))"
      ]
    },
    {
      "cell_type": "code",
      "execution_count": null,
      "metadata": {
        "colab": {
          "base_uri": "https://localhost:8080/",
          "height": 953
        },
        "id": "Q2JTLP4VJpr8",
        "outputId": "bf465440-1f80-46cf-a222-d67865864303",
        "vscode": {
          "languageId": "python"
        }
      },
      "outputs": [
        {
          "name": "stdout",
          "output_type": "stream",
          "text": [
            "        Logit Marginal Effects       \n",
            "=====================================\n",
            "Dep. Variable:                 wasted\n",
            "Method:                          dydx\n",
            "At:                           overall\n",
            "===============================================================================================================================================\n",
            "                                                                                 dy/dx    std err          z      P>|z|      [0.025      0.975]\n",
            "-----------------------------------------------------------------------------------------------------------------------------------------------\n",
            "C(children_age_v212, Treatment(reference='0-5'))[T.12-17]                   -8.291e-05      0.012     -0.007      0.995      -0.024       0.024\n",
            "C(children_age_v212, Treatment(reference='0-5'))[T.18-23]                      -0.0066      0.013     -0.529      0.597      -0.031       0.018\n",
            "C(children_age_v212, Treatment(reference='0-5'))[T.24-29]                      -0.0319      0.013     -2.463      0.014      -0.057      -0.007\n",
            "C(children_age_v212, Treatment(reference='0-5'))[T.30-35]                      -0.0305      0.013     -2.397      0.017      -0.056      -0.006\n",
            "C(children_age_v212, Treatment(reference='0-5'))[T.36-41]                      -0.0296      0.013     -2.300      0.021      -0.055      -0.004\n",
            "C(children_age_v212, Treatment(reference='0-5'))[T.42-47]                      -0.0238      0.013     -1.883      0.060      -0.049       0.001\n",
            "C(children_age_v212, Treatment(reference='0-5'))[T.48-53]                      -0.0184      0.013     -1.449      0.147      -0.043       0.006\n",
            "C(children_age_v212, Treatment(reference='0-5'))[T.54-59]                      -0.0132      0.013     -1.042      0.297      -0.038       0.012\n",
            "C(children_age_v212, Treatment(reference='0-5'))[T.6-11]                       -0.0195      0.012     -1.584      0.113      -0.044       0.005\n",
            "C(sex_of_child_b4, Treatment(reference='male'))[T.female]                      -0.0162      0.005     -2.945      0.003      -0.027      -0.005\n",
            "C(is_twin_child_b0, Treatment(reference='single birth'))[T.1st of multiple]     0.0005      0.037      0.013      0.990      -0.072       0.073\n",
            "C(is_twin_child_b0, Treatment(reference='single birth'))[T.2nd of multiple]     0.0207      0.035      0.596      0.551      -0.047       0.089\n",
            "C(is_twin_child_b0, Treatment(reference='single birth'))[T.3rd of multiple]     2.2998    171.503      0.013      0.989    -333.839     338.439\n",
            "C(mothers_age_at_birth_v212, Treatment(reference='10-14'))[T.15-19]             0.0024      0.010      0.252      0.801      -0.016       0.021\n",
            "C(mothers_age_at_birth_v212, Treatment(reference='10-14'))[T.20-24]             0.0034      0.011      0.304      0.761      -0.018       0.025\n",
            "C(mothers_age_at_birth_v212, Treatment(reference='10-14'))[T.25-29]             0.0169      0.018      0.957      0.339      -0.018       0.051\n",
            "C(mothers_age_at_birth_v212, Treatment(reference='10-14'))[T.30-34]            -0.0269      0.041     -0.650      0.516      -0.108       0.054\n",
            "C(mothers_age_at_birth_v212, Treatment(reference='10-14'))[T.35-39]             0.0024      0.086      0.028      0.978      -0.167       0.172\n",
            "C(mothers_age_at_birth_v212, Treatment(reference='10-14'))[T.40-44]            -3.3934   1.19e+04     -0.000      1.000   -2.34e+04    2.34e+04\n",
            "C(mothers_age_at_birth_v212, Treatment(reference='10-14'))[T.45-49]             3.5497   9433.104      0.000      1.000   -1.85e+04    1.85e+04\n",
            "C(mom_marital_stats_v501, Treatment(reference='married'))[T.non-married]        0.0137      0.023      0.601      0.548      -0.031       0.058\n",
            "C(mother_education_v701, Treatment(reference='no education'))[T.higher]        -0.0262      0.015     -1.720      0.085      -0.056       0.004\n",
            "C(mother_education_v701, Treatment(reference='no education'))[T.primary]        0.0074      0.008      0.929      0.353      -0.008       0.023\n",
            "C(mother_education_v701, Treatment(reference='no education'))[T.secondary]     -0.0159      0.009     -1.788      0.074      -0.033       0.002\n",
            "C(maternal_height_v438, Treatment(reference='>=145'))[T.<145]                   0.0171      0.008      2.158      0.031       0.002       0.033\n",
            "C(mothers_bmi_v445, Treatment(reference='>=18.5'))[T.<18.5]                     0.0627      0.006     10.348      0.000       0.051       0.075\n",
            "C(work_of_mom_v714)[T.True]                                                    -0.0294      0.007     -4.035      0.000      -0.044      -0.015\n",
            "C(partner_occupation_v704)[T.True]                                              0.0476      0.020      2.436      0.015       0.009       0.086\n",
            "C(partner_education_v701, Treatment(reference='no education'))[T.higher]        0.0091      0.013      0.728      0.466      -0.015       0.034\n",
            "C(partner_education_v701, Treatment(reference='no education'))[T.primary]       0.0039      0.007      0.522      0.602      -0.011       0.019\n",
            "C(partner_education_v701, Treatment(reference='no education'))[T.secondary]     0.0047      0.009      0.542      0.588      -0.012       0.021\n",
            "C(wealth_index_v190, Treatment(reference='poorest'))[T.middle]                 -0.0039      0.009     -0.438      0.662      -0.022       0.014\n",
            "C(wealth_index_v190, Treatment(reference='poorest'))[T.poorer]                 -0.0058      0.008     -0.686      0.493      -0.022       0.011\n",
            "C(wealth_index_v190, Treatment(reference='poorest'))[T.richer]                 -0.0197      0.010     -1.976      0.048      -0.039      -0.000\n",
            "C(wealth_index_v190, Treatment(reference='poorest'))[T.richest]                -0.0280      0.012     -2.383      0.017      -0.051      -0.005\n",
            "C(type_of_toilet_v116, Treatment(reference='unimproved'))[T.improved]          -0.0077      0.007     -1.176      0.240      -0.020       0.005\n",
            "C(water_type_v113, Treatment(reference='unsafe'))[T.safe]                       0.0022      0.009      0.232      0.816      -0.016       0.021\n",
            "C(num_of_house_members_v136, Treatment(reference='1-3'))[T.4-6]                -0.0009      0.009     -0.095      0.924      -0.019       0.018\n",
            "C(num_of_house_members_v136, Treatment(reference='1-3'))[T.>6]                 -0.0110      0.010     -1.068      0.286      -0.031       0.009\n",
            "C(num_under_five_child_v137, Treatment(reference='>2'))[T.<=2]                 -0.0067      0.011     -0.596      0.551      -0.029       0.015\n",
            "C(sex_house_head_v151, Treatment(reference='male'))[T.female]                  -0.0110      0.010     -1.075      0.282      -0.031       0.009\n",
            "C(place_of_residence_v025, Treatment(reference='urban'))[T.rural]               0.0127      0.007      1.855      0.064      -0.001       0.026\n",
            "log_GDP_PC_PPP                                                                 17.4146      0.935     18.619      0.000      15.581      19.248\n",
            "year_interview_v007                                                            -0.8109      0.043    -18.684      0.000      -0.896      -0.726\n",
            "===============================================================================================================================================\n"
          ]
        }
      ],
      "source": [
        "# for marginal effects\n",
        "merge_eff = result.get_margeff() # default overwall with method dydx\n",
        "print(merge_eff.summary())"
      ]
    },
    {
      "cell_type": "markdown",
      "metadata": {
        "id": "jH4aP0KXI8Df"
      },
      "source": []
    },
    {
      "cell_type": "markdown",
      "metadata": {
        "id": "vzidO5UNUp0w"
      },
      "source": [
        "# Model 2 fix test finish"
      ]
    },
    {
      "cell_type": "markdown",
      "metadata": {
        "id": "afYIDUXW_ZL7"
      },
      "source": [
        "# Model 2 Stunted\n",
        "\n",
        "children_age_v212 is actually hw1"
      ]
    },
    {
      "cell_type": "code",
      "execution_count": null,
      "metadata": {
        "id": "78622Z0Hlo5s",
        "vscode": {
          "languageId": "python"
        }
      },
      "outputs": [],
      "source": [
        "ultimate_data = ultimate_data.astype({  \"children_age_v212\": \"category\", \"sex_of_child_b4\":\"category\",\n",
        "                      \"is_twin_child_b0\":\"category\"\n",
        "                                      })"
      ]
    },
    {
      "cell_type": "code",
      "execution_count": null,
      "metadata": {
        "colab": {
          "base_uri": "https://localhost:8080/",
          "height": 225
        },
        "id": "Z9JsCAre_sJq",
        "outputId": "e79b62be-4d31-4974-c606-cb83ffe7e201",
        "vscode": {
          "languageId": "python"
        }
      },
      "outputs": [
        {
          "name": "stdout",
          "output_type": "stream",
          "text": [
            "<class 'pandas.core.frame.DataFrame'>\n",
            "RangeIndex: 19752 entries, 0 to 19751\n",
            "Data columns (total 5 columns):\n",
            " #   Column             Non-Null Count  Dtype   \n",
            "---  ------             --------------  -----   \n",
            " 0   log_GDP_PC_PPP     19752 non-null  float64 \n",
            " 1   children_age_v212  19752 non-null  category\n",
            " 2   sex_of_child_b4    19752 non-null  category\n",
            " 3   is_twin_child_b0   19752 non-null  category\n",
            " 4   stunted            19752 non-null  int64   \n",
            "dtypes: category(3), float64(1), int64(1)\n",
            "memory usage: 367.3 KB\n"
          ]
        }
      ],
      "source": [
        "# Model 2 with Stunting\n",
        "model_2_data = ultimate_data[['log_GDP_PC_PPP','children_age_v212', 'sex_of_child_b4', \"is_twin_child_b0\", 'stunted']]\n",
        "model_2_data.info()"
      ]
    },
    {
      "cell_type": "code",
      "execution_count": null,
      "metadata": {
        "colab": {
          "base_uri": "https://localhost:8080/",
          "height": 138
        },
        "id": "Tcbo6-N5Acq2",
        "outputId": "5c0e441c-706d-42b9-d5d5-2dfac3a5859b",
        "vscode": {
          "languageId": "python"
        }
      },
      "outputs": [
        {
          "name": "stdout",
          "output_type": "stream",
          "text": [
            "For children_age_v212\n",
            "\n",
            "For sex_of_child_b4\n",
            "{0: 'female', 1: 'male'}\n",
            "\n",
            "For is_twin_child_b0\n",
            "{0: '1st of multiple', 1: '2nd of multiple', 2: '3rd of multiple', 3: 'single birth'}\n"
          ]
        }
      ],
      "source": [
        "# Mappings for 3 variables.\n",
        "print(\"For children_age_v212\")\n",
        "# print(dict( enumerate(model_2_data['children_age_v212'].cat.categories ) ))\n",
        "print()\n",
        "print(\"For sex_of_child_b4\")\n",
        "print(dict( enumerate(model_2_data['sex_of_child_b4'].cat.categories ) ))\n",
        "print()\n",
        "print(\"For is_twin_child_b0\")\n",
        "print(dict( enumerate(model_2_data['is_twin_child_b0'].cat.categories ) ))"
      ]
    },
    {
      "cell_type": "code",
      "execution_count": null,
      "metadata": {
        "id": "Dh7aKhUEBK9h",
        "vscode": {
          "languageId": "python"
        }
      },
      "outputs": [],
      "source": [
        "# Converting categories to numbers\n",
        "model_2_data[\"children_age_v212\"] = model_2_data[\"children_age_v212\"].cat.codes\n",
        "model_2_data[\"sex_of_child_b4\"] = model_2_data[\"sex_of_child_b4\"].cat.codes\n",
        "model_2_data[\"is_twin_child_b0\"] = model_2_data[\"is_twin_child_b0\"].cat.codes"
      ]
    },
    {
      "cell_type": "code",
      "execution_count": null,
      "metadata": {
        "colab": {
          "base_uri": "https://localhost:8080/",
          "height": 69
        },
        "id": "ddXdcaNmCPwc",
        "outputId": "66cc4e9b-378c-489a-b095-0dff98621dc4",
        "vscode": {
          "languageId": "python"
        }
      },
      "outputs": [
        {
          "name": "stdout",
          "output_type": "stream",
          "text": [
            "Optimization terminated successfully.\n",
            "         Current function value: 0.670632\n",
            "         Iterations 4\n"
          ]
        }
      ],
      "source": [
        "# Regression\n",
        "X = model_2_data.iloc[:, :-1].values # independent\n",
        "y = model_2_data.iloc[:, -1].values # dependent\n",
        "\n",
        "logit_model = sm.Logit(y,X)\n",
        "result = logit_model.fit()"
      ]
    },
    {
      "cell_type": "code",
      "execution_count": null,
      "metadata": {
        "colab": {
          "base_uri": "https://localhost:8080/",
          "height": 363
        },
        "id": "oycOigl5CZwc",
        "outputId": "203648bb-547f-4fb0-e90f-03f5d5e155eb",
        "vscode": {
          "languageId": "python"
        }
      },
      "outputs": [
        {
          "name": "stdout",
          "output_type": "stream",
          "text": [
            "                         Results: Logit\n",
            "=================================================================\n",
            "Model:              Logit            Pseudo R-squared: 0.001     \n",
            "Dependent Variable: y                AIC:              26500.6333\n",
            "Date:               2020-08-09 14:21 BIC:              26532.1973\n",
            "No. Observations:   19752            Log-Likelihood:   -13246.   \n",
            "Df Model:           3                LL-Null:          -13254.   \n",
            "Df Residuals:       19748            LLR p-value:      0.0016188 \n",
            "Converged:          1.0000           Scale:            1.0000    \n",
            "No. Iterations:     4.0000                                       \n",
            "--------------------------------------------------------------------\n",
            "       Coef.     Std.Err.       z       P>|z|      [0.025     0.975]\n",
            "--------------------------------------------------------------------\n",
            "x1    -0.0136      0.0190    -0.7145    0.4749    -0.0508     0.0237\n",
            "x2     0.0068      0.0051     1.3296    0.1836    -0.0032     0.0167\n",
            "x3     0.0425      0.0291     1.4592    0.1445    -0.0146     0.0996\n",
            "x4    -0.1250      0.0502    -2.4882    0.0128    -0.2234    -0.0265\n",
            "=================================================================\n",
            "\n",
            "Odd Ratios are:  [0.98651752 1.00679236 1.04342305 0.88251253]\n"
          ]
        }
      ],
      "source": [
        "print(result.summary2())\n",
        "# For odd ration:\n",
        "print(\"Odd Ratios are: \", np.exp(result.params))"
      ]
    },
    {
      "cell_type": "code",
      "execution_count": null,
      "metadata": {
        "colab": {
          "base_uri": "https://localhost:8080/",
          "height": 242
        },
        "id": "b9dLlQyUXK2k",
        "outputId": "63ef56c4-8f17-454c-fe0c-63ed69254cd0",
        "vscode": {
          "languageId": "python"
        }
      },
      "outputs": [
        {
          "name": "stdout",
          "output_type": "stream",
          "text": [
            "        Logit Marginal Effects       \n",
            "=====================================\n",
            "Dep. Variable:                      y\n",
            "Method:                          dydx\n",
            "At:                           overall\n",
            "==============================================================================\n",
            "                dy/dx    std err          z      P>|z|      [0.025      0.975]\n",
            "------------------------------------------------------------------------------\n",
            "x1            -0.0032      0.005     -0.715      0.475      -0.012       0.006\n",
            "x2             0.0016      0.001      1.330      0.184      -0.001       0.004\n",
            "x3             0.0102      0.007      1.459      0.144      -0.003       0.024\n",
            "x4            -0.0298      0.012     -2.490      0.013      -0.053      -0.006\n",
            "==============================================================================\n"
          ]
        }
      ],
      "source": [
        "# for marginal effects\n",
        "merge_eff = result.get_margeff() # default overwall with method dydx\n",
        "print(merge_eff.summary())"
      ]
    },
    {
      "cell_type": "markdown",
      "metadata": {
        "id": "uS2hYeCz_oxP"
      },
      "source": [
        "## Model 2 Underweight"
      ]
    },
    {
      "cell_type": "code",
      "execution_count": null,
      "metadata": {
        "colab": {
          "base_uri": "https://localhost:8080/",
          "height": 225
        },
        "id": "O1m2tsiKCr_Q",
        "outputId": "116dc19f-2d21-4056-eaf3-926354bc054e",
        "vscode": {
          "languageId": "python"
        }
      },
      "outputs": [
        {
          "name": "stdout",
          "output_type": "stream",
          "text": [
            "<class 'pandas.core.frame.DataFrame'>\n",
            "RangeIndex: 19752 entries, 0 to 19751\n",
            "Data columns (total 5 columns):\n",
            " #   Column             Non-Null Count  Dtype   \n",
            "---  ------             --------------  -----   \n",
            " 0   log_GDP_PC_PPP     19752 non-null  float64 \n",
            " 1   children_age_v212  19752 non-null  category\n",
            " 2   sex_of_child_b4    19752 non-null  category\n",
            " 3   is_twin_child_b0   19752 non-null  category\n",
            " 4   underweight        19752 non-null  int64   \n",
            "dtypes: category(3), float64(1), int64(1)\n",
            "memory usage: 367.3 KB\n"
          ]
        }
      ],
      "source": [
        "# Model 2 with Stunting\n",
        "model_2_data = ultimate_data[['log_GDP_PC_PPP','children_age_v212', 'sex_of_child_b4', \"is_twin_child_b0\", 'underweight']]\n",
        "model_2_data.info()"
      ]
    },
    {
      "cell_type": "code",
      "execution_count": null,
      "metadata": {
        "colab": {
          "base_uri": "https://localhost:8080/",
          "height": 155
        },
        "id": "uebts13IC3YU",
        "outputId": "d43fad63-3d8c-4653-b164-b57aa60121be",
        "vscode": {
          "languageId": "python"
        }
      },
      "outputs": [
        {
          "name": "stdout",
          "output_type": "stream",
          "text": [
            "For children_age_v212\n",
            "{0: '0-5', 1: '12-17', 2: '18-23', 3: '24-29', 4: '30-35', 5: '36-41', 6: '42-47', 7: '48-53', 8: '54-59', 9: '6-11'}\n",
            "\n",
            "For sex_of_child_b4\n",
            "{0: 'female', 1: 'male'}\n",
            "\n",
            "For is_twin_child_b0\n",
            "{0: '1st of multiple', 1: '2nd of multiple', 2: '3rd of multiple', 3: 'single birth'}\n"
          ]
        }
      ],
      "source": [
        "# Mappings for 3 variables.\n",
        "print(\"For children_age_v212\")\n",
        "print(dict( enumerate(model_2_data['children_age_v212'].cat.categories ) ))\n",
        "print()\n",
        "print(\"For sex_of_child_b4\")\n",
        "print(dict( enumerate(model_2_data['sex_of_child_b4'].cat.categories ) ))\n",
        "print()\n",
        "print(\"For is_twin_child_b0\")\n",
        "print(dict( enumerate(model_2_data['is_twin_child_b0'].cat.categories ) ))"
      ]
    },
    {
      "cell_type": "code",
      "execution_count": null,
      "metadata": {
        "id": "2OIlNCMeC2d-",
        "vscode": {
          "languageId": "python"
        }
      },
      "outputs": [],
      "source": [
        "# Converting categories to numbers\n",
        "model_2_data[\"children_age_v212\"] = model_2_data[\"children_age_v212\"].cat.codes\n",
        "model_2_data[\"sex_of_child_b4\"] = model_2_data[\"sex_of_child_b4\"].cat.codes\n",
        "model_2_data[\"is_twin_child_b0\"] = model_2_data[\"is_twin_child_b0\"].cat.codes"
      ]
    },
    {
      "cell_type": "code",
      "execution_count": null,
      "metadata": {
        "id": "9oNI2jlfC9x_",
        "vscode": {
          "languageId": "python"
        }
      },
      "outputs": [],
      "source": [
        "model_2_data.head()"
      ]
    },
    {
      "cell_type": "code",
      "execution_count": null,
      "metadata": {
        "colab": {
          "base_uri": "https://localhost:8080/",
          "height": 69
        },
        "id": "XrTj5bnpDBd3",
        "outputId": "4623877c-2d2d-4212-df24-9f4843177c88",
        "vscode": {
          "languageId": "python"
        }
      },
      "outputs": [
        {
          "name": "stdout",
          "output_type": "stream",
          "text": [
            "Optimization terminated successfully.\n",
            "         Current function value: 0.650373\n",
            "         Iterations 4\n"
          ]
        }
      ],
      "source": [
        "# Regression\n",
        "X = model_2_data.iloc[:, :-1].values # independent\n",
        "y = model_2_data.iloc[:, -1].values # dependent\n",
        "\n",
        "logit_model = sm.Logit(y,X)\n",
        "result = logit_model.fit()"
      ]
    },
    {
      "cell_type": "code",
      "execution_count": null,
      "metadata": {
        "colab": {
          "base_uri": "https://localhost:8080/",
          "height": 363
        },
        "id": "2LDWEfC7DCxU",
        "outputId": "60768e39-8b3f-4d80-d1bd-da04754bdb09",
        "vscode": {
          "languageId": "python"
        }
      },
      "outputs": [
        {
          "name": "stdout",
          "output_type": "stream",
          "text": [
            "                         Results: Logit\n",
            "=================================================================\n",
            "Model:              Logit            Pseudo R-squared: 0.002     \n",
            "Dependent Variable: y                AIC:              25700.3525\n",
            "Date:               2020-08-09 14:22 BIC:              25731.9165\n",
            "No. Observations:   19752            Log-Likelihood:   -12846.   \n",
            "Df Model:           3                LL-Null:          -12873.   \n",
            "Df Residuals:       19748            LLR p-value:      1.7227e-11\n",
            "Converged:          1.0000           Scale:            1.0000    \n",
            "No. Iterations:     4.0000                                       \n",
            "--------------------------------------------------------------------\n",
            "       Coef.     Std.Err.       z       P>|z|      [0.025     0.975]\n",
            "--------------------------------------------------------------------\n",
            "x1    -0.0552      0.0193    -2.8611    0.0042    -0.0931    -0.0174\n",
            "x2     0.0297      0.0052     5.6976    0.0000     0.0195     0.0399\n",
            "x3    -0.0823      0.0297    -2.7657    0.0057    -0.1406    -0.0240\n",
            "x4    -0.0819      0.0510    -1.6055    0.1084    -0.1819     0.0181\n",
            "=================================================================\n",
            "\n",
            "Odd Ratios are:  [0.94626049 1.03010621 0.92102943 0.92133657]\n"
          ]
        }
      ],
      "source": [
        "print(result.summary2())\n",
        "# For odd ration:\n",
        "print(\"Odd Ratios are: \", np.exp(result.params))"
      ]
    },
    {
      "cell_type": "code",
      "execution_count": null,
      "metadata": {
        "colab": {
          "base_uri": "https://localhost:8080/",
          "height": 242
        },
        "id": "yFWI0-wYXM_H",
        "outputId": "b65aea8b-60a0-4cb8-eb62-ba8915bc4690",
        "vscode": {
          "languageId": "python"
        }
      },
      "outputs": [
        {
          "name": "stdout",
          "output_type": "stream",
          "text": [
            "        Logit Marginal Effects       \n",
            "=====================================\n",
            "Dep. Variable:                      y\n",
            "Method:                          dydx\n",
            "At:                           overall\n",
            "==============================================================================\n",
            "                dy/dx    std err          z      P>|z|      [0.025      0.975]\n",
            "------------------------------------------------------------------------------\n",
            "x1            -0.0126      0.004     -2.863      0.004      -0.021      -0.004\n",
            "x2             0.0068      0.001      5.715      0.000       0.004       0.009\n",
            "x3            -0.0188      0.007     -2.768      0.006      -0.032      -0.005\n",
            "x4            -0.0188      0.012     -1.606      0.108      -0.042       0.004\n",
            "==============================================================================\n"
          ]
        }
      ],
      "source": [
        "# for marginal effects\n",
        "merge_eff = result.get_margeff() # default overwall with method dydx\n",
        "print(merge_eff.summary())"
      ]
    },
    {
      "cell_type": "markdown",
      "metadata": {
        "id": "IxEFXMGqDRvT"
      },
      "source": [
        "## Model 2 wasted\n"
      ]
    },
    {
      "cell_type": "code",
      "execution_count": null,
      "metadata": {
        "id": "sufzMYpdDT3Q",
        "vscode": {
          "languageId": "python"
        }
      },
      "outputs": [],
      "source": [
        "# Model 2 with Stunting\n",
        "model_2_data = ultimate_data[['log_GDP_PC_PPP','children_age_v212', 'sex_of_child_b4', \"is_twin_child_b0\", 'wasted']]\n",
        "model_2_data.info()\n",
        "\n",
        "# Mappings for 3 variables.\n",
        "print(\"For children_age_v212\")\n",
        "print(dict( enumerate(model_2_data['children_age_v212'].cat.categories ) ))\n",
        "print()\n",
        "print(\"For sex_of_child_b4\")\n",
        "print(dict( enumerate(model_2_data['sex_of_child_b4'].cat.categories ) ))\n",
        "print()\n",
        "print(\"For is_twin_child_b0\")\n",
        "print(dict( enumerate(model_2_data['is_twin_child_b0'].cat.categories ) ))\n",
        "\n",
        "# Converting categories to numbers\n",
        "model_2_data[\"children_age_v212\"] = model_2_data[\"children_age_v212\"].cat.codes\n",
        "model_2_data[\"sex_of_child_b4\"] = model_2_data[\"sex_of_child_b4\"].cat.codes\n",
        "model_2_data[\"is_twin_child_b0\"] = model_2_data[\"is_twin_child_b0\"].cat.codes"
      ]
    },
    {
      "cell_type": "code",
      "execution_count": null,
      "metadata": {
        "colab": {
          "base_uri": "https://localhost:8080/",
          "height": 69
        },
        "id": "lQRujyYqDjDB",
        "outputId": "4a9f5b9f-1610-4bc0-e4e4-ae38e5587440",
        "vscode": {
          "languageId": "python"
        }
      },
      "outputs": [
        {
          "name": "stdout",
          "output_type": "stream",
          "text": [
            "Optimization terminated successfully.\n",
            "         Current function value: 0.430886\n",
            "         Iterations 6\n"
          ]
        }
      ],
      "source": [
        "# Regression\n",
        "X = model_2_data.iloc[:, :-1].values # independent\n",
        "y = model_2_data.iloc[:, -1].values # dependent\n",
        "\n",
        "logit_model = sm.Logit(y,X)\n",
        "result = logit_model.fit()"
      ]
    },
    {
      "cell_type": "code",
      "execution_count": null,
      "metadata": {
        "colab": {
          "base_uri": "https://localhost:8080/",
          "height": 363
        },
        "id": "O3jKdRxODlZV",
        "outputId": "98abda50-8901-4d4a-d88d-bfe01675a35b",
        "vscode": {
          "languageId": "python"
        }
      },
      "outputs": [
        {
          "name": "stdout",
          "output_type": "stream",
          "text": [
            "                         Results: Logit\n",
            "=================================================================\n",
            "Model:              Logit            Pseudo R-squared: 0.001     \n",
            "Dependent Variable: y                AIC:              17029.7214\n",
            "Date:               2020-08-09 14:23 BIC:              17061.2854\n",
            "No. Observations:   19752            Log-Likelihood:   -8510.9   \n",
            "Df Model:           3                LL-Null:          -8522.9   \n",
            "Df Residuals:       19748            LLR p-value:      2.4593e-05\n",
            "Converged:          1.0000           Scale:            1.0000    \n",
            "No. Iterations:     6.0000                                       \n",
            "--------------------------------------------------------------------\n",
            "       Coef.     Std.Err.       z       P>|z|      [0.025     0.975]\n",
            "--------------------------------------------------------------------\n",
            "x1    -0.2323      0.0278    -8.3658    0.0000    -0.2868    -0.1779\n",
            "x2    -0.0168      0.0069    -2.4409    0.0147    -0.0303    -0.0033\n",
            "x3     0.1151      0.0394     2.9213    0.0035     0.0379     0.1924\n",
            "x4     0.0620      0.0736     0.8435    0.3990    -0.0821     0.2062\n",
            "=================================================================\n",
            "\n",
            "Odd Ratios are:  [0.7926833  0.98335826 1.12201844 1.06401016]\n"
          ]
        }
      ],
      "source": [
        "print(result.summary2())\n",
        "# For odd ration:\n",
        "print(\"Odd Ratios are: \", np.exp(result.params))"
      ]
    },
    {
      "cell_type": "code",
      "execution_count": null,
      "metadata": {
        "colab": {
          "base_uri": "https://localhost:8080/",
          "height": 242
        },
        "id": "h064rXRLXPD4",
        "outputId": "b2a145d7-2c75-4254-f406-b10c8e332216",
        "vscode": {
          "languageId": "python"
        }
      },
      "outputs": [
        {
          "name": "stdout",
          "output_type": "stream",
          "text": [
            "        Logit Marginal Effects       \n",
            "=====================================\n",
            "Dep. Variable:                      y\n",
            "Method:                          dydx\n",
            "At:                           overall\n",
            "==============================================================================\n",
            "                dy/dx    std err          z      P>|z|      [0.025      0.975]\n",
            "------------------------------------------------------------------------------\n",
            "x1            -0.0304      0.004     -8.400      0.000      -0.038      -0.023\n",
            "x2            -0.0022      0.001     -2.441      0.015      -0.004      -0.000\n",
            "x3             0.0151      0.005      2.922      0.003       0.005       0.025\n",
            "x4             0.0081      0.010      0.843      0.399      -0.011       0.027\n",
            "==============================================================================\n"
          ]
        }
      ],
      "source": [
        "# for marginal effects\n",
        "merge_eff = result.get_margeff() # default overwall with method dydx\n",
        "print(merge_eff.summary())"
      ]
    },
    {
      "cell_type": "markdown",
      "metadata": {
        "id": "T9O1XT8DDvir"
      },
      "source": [
        "## Model 3 Stunted\n",
        "\n",
        "### Need to fix v106 value. Here written as mother_education_v701"
      ]
    },
    {
      "cell_type": "code",
      "execution_count": null,
      "metadata": {
        "id": "rpGJsSdXIkF5",
        "vscode": {
          "languageId": "python"
        }
      },
      "outputs": [],
      "source": [
        "# Reading new data with missing marital status\n",
        "ultimate_data = pd.read_csv(\"/content/bq-results-20200809-181509-okvakmhu2un.csv\")"
      ]
    },
    {
      "cell_type": "code",
      "execution_count": null,
      "metadata": {
        "id": "aVt-IUWiLab8",
        "vscode": {
          "languageId": "python"
        }
      },
      "outputs": [],
      "source": [
        "ultimate_data = ultimate_data.astype({\"wealth_index_v190\": \"category\", \"place_of_residence_v025\" : \"category\",\n",
        "                                      \"sex_house_head_v151\": \"category\", \"sex_of_child_b4\":\"category\",\n",
        "                                      \"is_twin_child_b0\":\"category\", \"type_of_toilet_v116\":\"category\",\n",
        "                                      \"water_type_v113\":\"category\", \"partner_education_v701\":\"category\",\n",
        "                                      \"num_of_house_members_v136\":\"category\", \"num_under_five_child_v137\":\"category\",\n",
        "                                      \"mothers_age_at_birth_v212\":\"category\", \"maternal_height_v438\":\"category\",\n",
        "                                      \"mothers_bmi_v445\":\"category\", \"mother_education_v701\":\"category\",\n",
        "                                      \"children_age_v212\":\"category\", \"mom_marital_stats_v501\":\"category\",\n",
        "                                      \"partner_occupation_v704\": \"category\", \"partner_education_v701\": \"category\",\n",
        "                                      \"work_of_mom_v714\": \"category\"\n",
        "                                      })"
      ]
    },
    {
      "cell_type": "code",
      "execution_count": null,
      "metadata": {
        "id": "nPGDuHdSIuDU",
        "vscode": {
          "languageId": "python"
        }
      },
      "outputs": [],
      "source": [
        "ultimate_data.info()"
      ]
    },
    {
      "cell_type": "code",
      "execution_count": null,
      "metadata": {
        "id": "7WB3Lh9zDxdu",
        "vscode": {
          "languageId": "python"
        }
      },
      "outputs": [],
      "source": [
        "# Model 3 with Stunting\n",
        "# Added new data as marital status was missing\n",
        "# v106 wrongly named as mother_education_v701\n",
        "\n",
        "model_3_data = ultimate_data[['log_GDP_PC_PPP','children_age_v212', \n",
        "                              'sex_of_child_b4', \"is_twin_child_b0\", \n",
        "                              \"mothers_age_at_birth_v212\", \n",
        "                              'mom_marital_stats_v501', \n",
        "                              'mother_education_v701', \n",
        "                              'maternal_height_v438', \n",
        "                              'mothers_bmi_v445', \n",
        "                              'work_of_mom_v714', \n",
        "                              'partner_occupation_v704', \n",
        "                              'partner_education_v701',\n",
        "                              'stunted']]\n",
        "model_3_data.info()"
      ]
    },
    {
      "cell_type": "code",
      "execution_count": null,
      "metadata": {
        "colab": {
          "base_uri": "https://localhost:8080/",
          "height": 397
        },
        "id": "ctjNsbVzKI82",
        "outputId": "10a16977-c9e5-47ee-bda2-6d5702647720",
        "vscode": {
          "languageId": "python"
        }
      },
      "outputs": [
        {
          "name": "stdout",
          "output_type": "stream",
          "text": [
            "For children_age_v212\n",
            "{0: '0-5', 1: '12-17', 2: '18-23', 3: '24-29', 4: '30-35', 5: '36-41', 6: '42-47', 7: '48-53', 8: '54-59', 9: '6-11'}\n",
            "\n",
            "For sex_of_child_b4\n",
            "{0: 'female', 1: 'male'}\n",
            "\n",
            "For is_twin_child_b0\n",
            "{0: '10-14', 1: '15-19', 2: '20-24', 3: '25-29', 4: '30-34', 5: '35-39', 6: '40-44', 7: '45-49'}\n",
            "\n",
            "{0: 'divorced', 1: 'married', 2: 'no longer living together/separated', 3: 'not living together', 4: 'widowed'}\n",
            "\n",
            "{0: 'higher', 1: 'no education', 2: 'primary', 3: 'secondary'}\n",
            "\n",
            "{0: '<145', 1: '>=145'}\n",
            "\n",
            "{0: '<18.5', 1: '>=18.5'}\n",
            "\n",
            "{0: False, 1: True}\n",
            "\n",
            "{0: False, 1: True}\n",
            "\n",
            "{0: 'higher', 1: 'no education', 2: 'primary', 3: 'secondary'}\n"
          ]
        }
      ],
      "source": [
        "# Mappings for 3 variables.\n",
        "print(\"For children_age_v212\")\n",
        "print(dict( enumerate(model_3_data['children_age_v212'].cat.categories ) ))\n",
        "print()\n",
        "print(\"For sex_of_child_b4\")\n",
        "print(dict( enumerate(model_3_data['sex_of_child_b4'].cat.categories ) ))\n",
        "print()\n",
        "print(\"For is_twin_child_b0\")\n",
        "print(dict( enumerate(model_3_data['mothers_age_at_birth_v212'].cat.categories ) ))\n",
        "\n",
        "\n",
        "print()\n",
        "print(dict( enumerate(model_3_data['mom_marital_stats_v501'].cat.categories ) ))\n",
        "print()\n",
        "print(dict( enumerate(model_3_data['mother_education_v701'].cat.categories ) ))\n",
        "print()\n",
        "print(dict( enumerate(model_3_data['maternal_height_v438'].cat.categories ) ))\n",
        "print()\n",
        "print(dict( enumerate(model_3_data['mothers_bmi_v445'].cat.categories ) ))\n",
        "print()\n",
        "print(dict( enumerate(model_3_data['work_of_mom_v714'].cat.categories ) ))\n",
        "print()\n",
        "print(dict( enumerate(model_3_data['partner_occupation_v704'].cat.categories ) ))\n",
        "print()\n",
        "print(dict( enumerate(model_3_data['partner_education_v701'].cat.categories ) ))"
      ]
    },
    {
      "cell_type": "code",
      "execution_count": null,
      "metadata": {
        "id": "0myUfsRyQbsx",
        "vscode": {
          "languageId": "python"
        }
      },
      "outputs": [],
      "source": [
        "# Converting categories to numbers\n",
        "model_3_data[\"children_age_v212\"] = model_3_data[\"children_age_v212\"].cat.codes\n",
        "model_3_data[\"sex_of_child_b4\"] = model_3_data[\"sex_of_child_b4\"].cat.codes\n",
        "model_3_data[\"is_twin_child_b0\"] = model_3_data[\"is_twin_child_b0\"].cat.codes\n",
        "model_3_data[\"mom_marital_stats_v501\"] = model_3_data[\"mom_marital_stats_v501\"].cat.codes\n",
        "model_3_data[\"mother_education_v701\"] = model_3_data[\"mother_education_v701\"].cat.codes\n",
        "model_3_data[\"maternal_height_v438\"] = model_3_data[\"maternal_height_v438\"].cat.codes\n",
        "model_3_data[\"work_of_mom_v714\"] = model_3_data[\"work_of_mom_v714\"].cat.codes\n",
        "model_3_data[\"partner_occupation_v704\"] = model_3_data[\"partner_occupation_v704\"].cat.codes\n",
        "model_3_data[\"partner_education_v701\"] = model_3_data[\"partner_education_v701\"].cat.codes\n",
        "model_3_data[\"mothers_bmi_v445\"] = model_3_data[\"mothers_bmi_v445\"].cat.codes\n",
        "model_3_data[\"mothers_age_at_birth_v212\"] = model_3_data[\"mothers_age_at_birth_v212\"].cat.codes"
      ]
    },
    {
      "cell_type": "code",
      "execution_count": null,
      "metadata": {
        "colab": {
          "base_uri": "https://localhost:8080/",
          "height": 69
        },
        "id": "Mq6aDZZ2RzNC",
        "outputId": "e5052a83-e9ac-4426-ebe4-1a8a01914e70",
        "vscode": {
          "languageId": "python"
        }
      },
      "outputs": [
        {
          "name": "stdout",
          "output_type": "stream",
          "text": [
            "Optimization terminated successfully.\n",
            "         Current function value: 0.647166\n",
            "         Iterations 5\n"
          ]
        }
      ],
      "source": [
        "# Regression\n",
        "X = model_3_data.iloc[:, :-1].values # independent\n",
        "y = model_3_data.iloc[:, -1].values # dependent\n",
        "\n",
        "logit_model = sm.Logit(y,X)\n",
        "result = logit_model.fit()"
      ]
    },
    {
      "cell_type": "code",
      "execution_count": null,
      "metadata": {
        "colab": {
          "base_uri": "https://localhost:8080/",
          "height": 518
        },
        "id": "kVOzrDRDSCKJ",
        "outputId": "479b082d-5756-4716-8898-8109858a4023",
        "vscode": {
          "languageId": "python"
        }
      },
      "outputs": [
        {
          "name": "stdout",
          "output_type": "stream",
          "text": [
            "                          Results: Logit\n",
            "==================================================================\n",
            "Model:              Logit            Pseudo R-squared: 0.036      \n",
            "Dependent Variable: y                AIC:              25589.6472 \n",
            "Date:               2020-08-09 14:25 BIC:              25684.3393 \n",
            "No. Observations:   19752            Log-Likelihood:   -12783.    \n",
            "Df Model:           11               LL-Null:          -13254.    \n",
            "Df Residuals:       19740            LLR p-value:      5.1462e-195\n",
            "Converged:          1.0000           Scale:            1.0000     \n",
            "No. Iterations:     5.0000                                        \n",
            "--------------------------------------------------------------------\n",
            "           Coef.    Std.Err.      z       P>|z|     [0.025    0.975]\n",
            "--------------------------------------------------------------------\n",
            "x1         0.1665     0.0253     6.5861   0.0000    0.1170    0.2161\n",
            "x2         0.0054     0.0052     1.0416   0.2976   -0.0048    0.0157\n",
            "x3         0.0516     0.0299     1.7288   0.0839   -0.0069    0.1101\n",
            "x4        -0.1681     0.0515    -3.2640   0.0011   -0.2691   -0.0672\n",
            "x5        -0.2401     0.0223   -10.7638   0.0000   -0.2838   -0.1964\n",
            "x6         0.0207     0.0579     0.3576   0.7206   -0.0927    0.1341\n",
            "x7        -0.0769     0.0166    -4.6368   0.0000   -0.1094   -0.0444\n",
            "x8        -0.9748     0.0438   -22.2529   0.0000   -1.0607   -0.8890\n",
            "x9        -0.4734     0.0332   -14.2482   0.0000   -0.5385   -0.4082\n",
            "x10        0.1248     0.0382     3.2697   0.0011    0.0500    0.1997\n",
            "x11        0.2620     0.0990     2.6476   0.0081    0.0680    0.4559\n",
            "x12        0.0088     0.0158     0.5589   0.5763   -0.0221    0.0397\n",
            "==================================================================\n",
            "\n",
            "Odd Ratios are:  [1.18118189 1.00545938 1.05296452 0.84525088 0.78655882 1.0209065\n",
            " 0.92601249 0.37725877 0.62290818 1.13295873 1.299512   1.00885598]\n"
          ]
        }
      ],
      "source": [
        "print(result.summary2())\n",
        "# For odd ration:\n",
        "print(\"Odd Ratios are: \", np.exp(result.params))"
      ]
    },
    {
      "cell_type": "code",
      "execution_count": null,
      "metadata": {
        "colab": {
          "base_uri": "https://localhost:8080/",
          "height": 380
        },
        "id": "A6hIoITmXSkI",
        "outputId": "a48e0638-4dfb-4276-e665-dcec6414d6c6",
        "vscode": {
          "languageId": "python"
        }
      },
      "outputs": [
        {
          "name": "stdout",
          "output_type": "stream",
          "text": [
            "        Logit Marginal Effects       \n",
            "=====================================\n",
            "Dep. Variable:                      y\n",
            "Method:                          dydx\n",
            "At:                           overall\n",
            "==============================================================================\n",
            "                dy/dx    std err          z      P>|z|      [0.025      0.975]\n",
            "------------------------------------------------------------------------------\n",
            "x1             0.0379      0.006      6.614      0.000       0.027       0.049\n",
            "x2             0.0012      0.001      1.042      0.298      -0.001       0.004\n",
            "x3             0.0117      0.007      1.729      0.084      -0.002       0.025\n",
            "x4            -0.0383      0.012     -3.267      0.001      -0.061      -0.015\n",
            "x5            -0.0546      0.005    -10.879      0.000      -0.064      -0.045\n",
            "x6             0.0047      0.013      0.358      0.721      -0.021       0.031\n",
            "x7            -0.0175      0.004     -4.646      0.000      -0.025      -0.010\n",
            "x8            -0.2219      0.009    -23.412      0.000      -0.240      -0.203\n",
            "x9            -0.1077      0.007    -14.532      0.000      -0.122      -0.093\n",
            "x10            0.0284      0.009      3.273      0.001       0.011       0.045\n",
            "x11            0.0596      0.023      2.649      0.008       0.016       0.104\n",
            "x12            0.0020      0.004      0.559      0.576      -0.005       0.009\n",
            "==============================================================================\n"
          ]
        }
      ],
      "source": [
        "# for marginal effects\n",
        "merge_eff = result.get_margeff() # default overwall with method dydx\n",
        "print(merge_eff.summary())"
      ]
    },
    {
      "cell_type": "markdown",
      "metadata": {
        "id": "E-nPGJOESFMi"
      },
      "source": [
        "# Model 3 underweight"
      ]
    },
    {
      "cell_type": "code",
      "execution_count": null,
      "metadata": {
        "colab": {
          "base_uri": "https://localhost:8080/",
          "height": 363
        },
        "id": "z-VM1Dv6SH9z",
        "outputId": "bf70271c-2cf0-40b6-8467-f3d027351f30",
        "vscode": {
          "languageId": "python"
        }
      },
      "outputs": [
        {
          "name": "stdout",
          "output_type": "stream",
          "text": [
            "<class 'pandas.core.frame.DataFrame'>\n",
            "RangeIndex: 19752 entries, 0 to 19751\n",
            "Data columns (total 13 columns):\n",
            " #   Column                     Non-Null Count  Dtype   \n",
            "---  ------                     --------------  -----   \n",
            " 0   log_GDP_PC_PPP             19752 non-null  float64 \n",
            " 1   children_age_v212          19752 non-null  category\n",
            " 2   sex_of_child_b4            19752 non-null  category\n",
            " 3   is_twin_child_b0           19752 non-null  category\n",
            " 4   mothers_age_at_birth_v212  19752 non-null  category\n",
            " 5   mom_marital_stats_v501     19752 non-null  category\n",
            " 6   mother_education_v701      19752 non-null  category\n",
            " 7   maternal_height_v438       19752 non-null  category\n",
            " 8   mothers_bmi_v445           19752 non-null  category\n",
            " 9   work_of_mom_v714           19752 non-null  category\n",
            " 10  partner_occupation_v704    19752 non-null  category\n",
            " 11  partner_education_v701     19752 non-null  category\n",
            " 12  underweight                19752 non-null  int64   \n",
            "dtypes: category(11), float64(1), int64(1)\n",
            "memory usage: 522.9 KB\n"
          ]
        }
      ],
      "source": [
        "# Model 3 with Stunting\n",
        "# Added new data as marital status was missing\n",
        "# v106 wrongly named as mother_education_v701\n",
        "\n",
        "model_3_data = ultimate_data[['log_GDP_PC_PPP','children_age_v212', \n",
        "                              'sex_of_child_b4', \"is_twin_child_b0\", \n",
        "                              \"mothers_age_at_birth_v212\", \n",
        "                              'mom_marital_stats_v501', \n",
        "                              'mother_education_v701', \n",
        "                              'maternal_height_v438', \n",
        "                              'mothers_bmi_v445', \n",
        "                              'work_of_mom_v714', \n",
        "                              'partner_occupation_v704', \n",
        "                              'partner_education_v701',\n",
        "                              'underweight']]\n",
        "model_3_data.info()"
      ]
    },
    {
      "cell_type": "code",
      "execution_count": null,
      "metadata": {
        "colab": {
          "base_uri": "https://localhost:8080/",
          "height": 345
        },
        "id": "c7YsFNb5SV3x",
        "outputId": "58056447-c22f-4dbd-9389-0be7a7712a14",
        "vscode": {
          "languageId": "python"
        }
      },
      "outputs": [
        {
          "name": "stdout",
          "output_type": "stream",
          "text": [
            "{0: '0-5', 1: '12-17', 2: '18-23', 3: '24-29', 4: '30-35', 5: '36-41', 6: '42-47', 7: '48-53', 8: '54-59', 9: '6-11'}\n",
            "\n",
            "{0: 'female', 1: 'male'}\n",
            "\n",
            "{0: '10-14', 1: '15-19', 2: '20-24', 3: '25-29', 4: '30-34', 5: '35-39', 6: '40-44', 7: '45-49'}\n",
            "\n",
            "{0: 'divorced', 1: 'married', 2: 'no longer living together/separated', 3: 'not living together', 4: 'widowed'}\n",
            "\n",
            "{0: 'higher', 1: 'no education', 2: 'primary', 3: 'secondary'}\n",
            "\n",
            "{0: '<145', 1: '>=145'}\n",
            "\n",
            "{0: '<18.5', 1: '>=18.5'}\n",
            "\n",
            "{0: False, 1: True}\n",
            "\n",
            "{0: False, 1: True}\n",
            "\n",
            "{0: 'higher', 1: 'no education', 2: 'primary', 3: 'secondary'}\n"
          ]
        }
      ],
      "source": [
        "# Mappings for 3 variables.\n",
        "print(dict( enumerate(model_3_data['children_age_v212'].cat.categories ) ))\n",
        "print()\n",
        "print(dict( enumerate(model_3_data['sex_of_child_b4'].cat.categories ) ))\n",
        "print()\n",
        "print(dict( enumerate(model_3_data['mothers_age_at_birth_v212'].cat.categories ) ))\n",
        "print()\n",
        "print(dict( enumerate(model_3_data['mom_marital_stats_v501'].cat.categories ) ))\n",
        "print()\n",
        "print(dict( enumerate(model_3_data['mother_education_v701'].cat.categories ) ))\n",
        "print()\n",
        "print(dict( enumerate(model_3_data['maternal_height_v438'].cat.categories ) ))\n",
        "print()\n",
        "print(dict( enumerate(model_3_data['mothers_bmi_v445'].cat.categories ) ))\n",
        "print()\n",
        "print(dict( enumerate(model_3_data['work_of_mom_v714'].cat.categories ) ))\n",
        "print()\n",
        "print(dict( enumerate(model_3_data['partner_occupation_v704'].cat.categories ) ))\n",
        "print()\n",
        "print(dict( enumerate(model_3_data['partner_education_v701'].cat.categories ) ))"
      ]
    },
    {
      "cell_type": "code",
      "execution_count": null,
      "metadata": {
        "id": "KavBPqDMSfEX",
        "vscode": {
          "languageId": "python"
        }
      },
      "outputs": [],
      "source": [
        "# Converting categories to numbers\n",
        "model_3_data[\"children_age_v212\"] = model_3_data[\"children_age_v212\"].cat.codes\n",
        "model_3_data[\"sex_of_child_b4\"] = model_3_data[\"sex_of_child_b4\"].cat.codes\n",
        "model_3_data[\"is_twin_child_b0\"] = model_3_data[\"is_twin_child_b0\"].cat.codes\n",
        "model_3_data[\"mom_marital_stats_v501\"] = model_3_data[\"mom_marital_stats_v501\"].cat.codes\n",
        "model_3_data[\"mother_education_v701\"] = model_3_data[\"mother_education_v701\"].cat.codes\n",
        "model_3_data[\"maternal_height_v438\"] = model_3_data[\"maternal_height_v438\"].cat.codes\n",
        "model_3_data[\"work_of_mom_v714\"] = model_3_data[\"work_of_mom_v714\"].cat.codes\n",
        "model_3_data[\"partner_occupation_v704\"] = model_3_data[\"partner_occupation_v704\"].cat.codes\n",
        "model_3_data[\"partner_education_v701\"] = model_3_data[\"partner_education_v701\"].cat.codes\n",
        "model_3_data[\"mothers_bmi_v445\"] = model_3_data[\"mothers_bmi_v445\"].cat.codes\n",
        "model_3_data[\"mothers_age_at_birth_v212\"] = model_3_data[\"mothers_age_at_birth_v212\"].cat.codes"
      ]
    },
    {
      "cell_type": "code",
      "execution_count": null,
      "metadata": {
        "colab": {
          "base_uri": "https://localhost:8080/",
          "height": 570
        },
        "id": "9XO8XQ0zShsC",
        "outputId": "0aeb3d63-d6d9-45b9-aa74-7039fc84366e",
        "vscode": {
          "languageId": "python"
        }
      },
      "outputs": [
        {
          "name": "stdout",
          "output_type": "stream",
          "text": [
            "Optimization terminated successfully.\n",
            "         Current function value: 0.625395\n",
            "         Iterations 5\n",
            "                          Results: Logit\n",
            "==================================================================\n",
            "Model:              Logit            Pseudo R-squared: 0.040      \n",
            "Dependent Variable: y                AIC:              24729.5899 \n",
            "Date:               2020-08-09 14:26 BIC:              24824.2820 \n",
            "No. Observations:   19752            Log-Likelihood:   -12353.    \n",
            "Df Model:           11               LL-Null:          -12873.    \n",
            "Df Residuals:       19740            LLR p-value:      4.9841e-216\n",
            "Converged:          1.0000           Scale:            1.0000     \n",
            "No. Iterations:     5.0000                                        \n",
            "--------------------------------------------------------------------\n",
            "           Coef.    Std.Err.      z       P>|z|     [0.025    0.975]\n",
            "--------------------------------------------------------------------\n",
            "x1         0.1061     0.0257     4.1287   0.0000    0.0557    0.1565\n",
            "x2         0.0302     0.0054     5.6349   0.0000    0.0197    0.0407\n",
            "x3        -0.0777     0.0305    -2.5451   0.0109   -0.1376   -0.0179\n",
            "x4        -0.1366     0.0523    -2.6126   0.0090   -0.2390   -0.0341\n",
            "x5        -0.2068     0.0228    -9.0604   0.0000   -0.2515   -0.1621\n",
            "x6         0.1382     0.0575     2.4055   0.0162    0.0256    0.2509\n",
            "x7        -0.0730     0.0170    -4.2944   0.0000   -0.1063   -0.0397\n",
            "x8        -0.7540     0.0435   -17.3313   0.0000   -0.8393   -0.6688\n",
            "x9        -0.7466     0.0334   -22.3219   0.0000   -0.8122   -0.6810\n",
            "x10        0.1190     0.0389     3.0590   0.0022    0.0428    0.1953\n",
            "x11        0.2858     0.1025     2.7886   0.0053    0.0849    0.4867\n",
            "x12       -0.0008     0.0162    -0.0506   0.9596   -0.0326    0.0310\n",
            "==================================================================\n",
            "\n",
            "Odd Ratios are:  [1.11193325 1.03063742 0.92522825 0.87235796 0.81317257 1.14826103\n",
            " 0.92958593 0.47046238 0.47397665 1.12639855 1.3308275  0.99917991]\n"
          ]
        }
      ],
      "source": [
        "# Regression\n",
        "X = model_3_data.iloc[:, :-1].values # independent\n",
        "y = model_3_data.iloc[:, -1].values # dependent\n",
        "\n",
        "logit_model = sm.Logit(y,X)\n",
        "result = logit_model.fit()\n",
        "\n",
        "print(result.summary2())\n",
        "# For odd ration:\n",
        "print(\"Odd Ratios are: \", np.exp(result.params))"
      ]
    },
    {
      "cell_type": "code",
      "execution_count": null,
      "metadata": {
        "colab": {
          "base_uri": "https://localhost:8080/",
          "height": 380
        },
        "id": "RM4rJuzzXVND",
        "outputId": "909d0b22-914d-4f20-a2fb-f3cbe95d7383",
        "vscode": {
          "languageId": "python"
        }
      },
      "outputs": [
        {
          "name": "stdout",
          "output_type": "stream",
          "text": [
            "        Logit Marginal Effects       \n",
            "=====================================\n",
            "Dep. Variable:                      y\n",
            "Method:                          dydx\n",
            "At:                           overall\n",
            "==============================================================================\n",
            "                dy/dx    std err          z      P>|z|      [0.025      0.975]\n",
            "------------------------------------------------------------------------------\n",
            "x1             0.0231      0.006      4.135      0.000       0.012       0.034\n",
            "x2             0.0066      0.001      5.651      0.000       0.004       0.009\n",
            "x3            -0.0169      0.007     -2.547      0.011      -0.030      -0.004\n",
            "x4            -0.0297      0.011     -2.614      0.009      -0.052      -0.007\n",
            "x5            -0.0450      0.005     -9.126      0.000      -0.055      -0.035\n",
            "x6             0.0301      0.012      2.407      0.016       0.006       0.055\n",
            "x7            -0.0159      0.004     -4.301      0.000      -0.023      -0.009\n",
            "x8            -0.1639      0.009    -17.847      0.000      -0.182      -0.146\n",
            "x9            -0.1623      0.007    -23.446      0.000      -0.176      -0.149\n",
            "x10            0.0259      0.008      3.062      0.002       0.009       0.042\n",
            "x11            0.0621      0.022      2.790      0.005       0.018       0.106\n",
            "x12           -0.0002      0.004     -0.051      0.960      -0.007       0.007\n",
            "==============================================================================\n"
          ]
        }
      ],
      "source": [
        "# for marginal effects\n",
        "merge_eff = result.get_margeff() # default overwall with method dydx\n",
        "print(merge_eff.summary())"
      ]
    },
    {
      "cell_type": "markdown",
      "metadata": {
        "id": "Ct29YIwHS45N"
      },
      "source": [
        "# Model 3 wasted"
      ]
    },
    {
      "cell_type": "code",
      "execution_count": null,
      "metadata": {
        "colab": {
          "base_uri": "https://localhost:8080/",
          "height": 363
        },
        "id": "JzIuea25S6-s",
        "outputId": "23ce43ea-2b75-40a3-8f62-754b4e4eb0d6",
        "vscode": {
          "languageId": "python"
        }
      },
      "outputs": [
        {
          "name": "stdout",
          "output_type": "stream",
          "text": [
            "<class 'pandas.core.frame.DataFrame'>\n",
            "RangeIndex: 19752 entries, 0 to 19751\n",
            "Data columns (total 13 columns):\n",
            " #   Column                     Non-Null Count  Dtype   \n",
            "---  ------                     --------------  -----   \n",
            " 0   log_GDP_PC_PPP             19752 non-null  float64 \n",
            " 1   children_age_v212          19752 non-null  category\n",
            " 2   sex_of_child_b4            19752 non-null  category\n",
            " 3   is_twin_child_b0           19752 non-null  category\n",
            " 4   mothers_age_at_birth_v212  19752 non-null  category\n",
            " 5   mom_marital_stats_v501     19752 non-null  category\n",
            " 6   mother_education_v701      19752 non-null  category\n",
            " 7   maternal_height_v438       19752 non-null  category\n",
            " 8   mothers_bmi_v445           19752 non-null  category\n",
            " 9   work_of_mom_v714           19752 non-null  category\n",
            " 10  partner_occupation_v704    19752 non-null  category\n",
            " 11  partner_education_v701     19752 non-null  category\n",
            " 12  wasted                     19752 non-null  int64   \n",
            "dtypes: category(11), float64(1), int64(1)\n",
            "memory usage: 522.9 KB\n"
          ]
        }
      ],
      "source": [
        "# Model 3 with Stunting\n",
        "# Added new data as marital status was missing\n",
        "# v106 wrongly named as mother_education_v701\n",
        "\n",
        "model_3_data = ultimate_data[['log_GDP_PC_PPP','children_age_v212', \n",
        "                              'sex_of_child_b4', \"is_twin_child_b0\", \n",
        "                              \"mothers_age_at_birth_v212\", \n",
        "                              'mom_marital_stats_v501', \n",
        "                              'mother_education_v701', \n",
        "                              'maternal_height_v438', \n",
        "                              'mothers_bmi_v445', \n",
        "                              'work_of_mom_v714', \n",
        "                              'partner_occupation_v704', \n",
        "                              'partner_education_v701',\n",
        "                              'wasted']]\n",
        "model_3_data.info()"
      ]
    },
    {
      "cell_type": "code",
      "execution_count": null,
      "metadata": {
        "colab": {
          "base_uri": "https://localhost:8080/",
          "height": 345
        },
        "id": "fkvdN_nGTA2-",
        "outputId": "2814d3bc-e734-4ecd-f4a6-da199c338cfb",
        "vscode": {
          "languageId": "python"
        }
      },
      "outputs": [
        {
          "name": "stdout",
          "output_type": "stream",
          "text": [
            "{0: '0-5', 1: '12-17', 2: '18-23', 3: '24-29', 4: '30-35', 5: '36-41', 6: '42-47', 7: '48-53', 8: '54-59', 9: '6-11'}\n",
            "\n",
            "{0: 'female', 1: 'male'}\n",
            "\n",
            "{0: '10-14', 1: '15-19', 2: '20-24', 3: '25-29', 4: '30-34', 5: '35-39', 6: '40-44', 7: '45-49'}\n",
            "\n",
            "{0: 'divorced', 1: 'married', 2: 'no longer living together/separated', 3: 'not living together', 4: 'widowed'}\n",
            "\n",
            "{0: 'higher', 1: 'no education', 2: 'primary', 3: 'secondary'}\n",
            "\n",
            "{0: '<145', 1: '>=145'}\n",
            "\n",
            "{0: '<18.5', 1: '>=18.5'}\n",
            "\n",
            "{0: False, 1: True}\n",
            "\n",
            "{0: False, 1: True}\n",
            "\n",
            "{0: 'higher', 1: 'no education', 2: 'primary', 3: 'secondary'}\n"
          ]
        }
      ],
      "source": [
        "# Mappings for 3 variables.\n",
        "print(dict( enumerate(model_3_data['children_age_v212'].cat.categories ) ))\n",
        "print()\n",
        "print(dict( enumerate(model_3_data['sex_of_child_b4'].cat.categories ) ))\n",
        "print()\n",
        "print(dict( enumerate(model_3_data['mothers_age_at_birth_v212'].cat.categories ) ))\n",
        "print()\n",
        "print(dict( enumerate(model_3_data['mom_marital_stats_v501'].cat.categories ) ))\n",
        "print()\n",
        "print(dict( enumerate(model_3_data['mother_education_v701'].cat.categories ) ))\n",
        "print()\n",
        "print(dict( enumerate(model_3_data['maternal_height_v438'].cat.categories ) ))\n",
        "print()\n",
        "print(dict( enumerate(model_3_data['mothers_bmi_v445'].cat.categories ) ))\n",
        "print()\n",
        "print(dict( enumerate(model_3_data['work_of_mom_v714'].cat.categories ) ))\n",
        "print()\n",
        "print(dict( enumerate(model_3_data['partner_occupation_v704'].cat.categories ) ))\n",
        "print()\n",
        "print(dict( enumerate(model_3_data['partner_education_v701'].cat.categories ) ))"
      ]
    },
    {
      "cell_type": "code",
      "execution_count": null,
      "metadata": {
        "id": "DbdHtRZMTB4u",
        "vscode": {
          "languageId": "python"
        }
      },
      "outputs": [],
      "source": [
        "# Converting categories to numbers\n",
        "model_3_data[\"children_age_v212\"] = model_3_data[\"children_age_v212\"].cat.codes\n",
        "model_3_data[\"sex_of_child_b4\"] = model_3_data[\"sex_of_child_b4\"].cat.codes\n",
        "model_3_data[\"is_twin_child_b0\"] = model_3_data[\"is_twin_child_b0\"].cat.codes\n",
        "model_3_data[\"mom_marital_stats_v501\"] = model_3_data[\"mom_marital_stats_v501\"].cat.codes\n",
        "model_3_data[\"mother_education_v701\"] = model_3_data[\"mother_education_v701\"].cat.codes\n",
        "model_3_data[\"maternal_height_v438\"] = model_3_data[\"maternal_height_v438\"].cat.codes\n",
        "model_3_data[\"work_of_mom_v714\"] = model_3_data[\"work_of_mom_v714\"].cat.codes\n",
        "model_3_data[\"partner_occupation_v704\"] = model_3_data[\"partner_occupation_v704\"].cat.codes\n",
        "model_3_data[\"partner_education_v701\"] = model_3_data[\"partner_education_v701\"].cat.codes\n",
        "model_3_data[\"mothers_bmi_v445\"] = model_3_data[\"mothers_bmi_v445\"].cat.codes\n",
        "model_3_data[\"mothers_age_at_birth_v212\"] = model_3_data[\"mothers_age_at_birth_v212\"].cat.codes"
      ]
    },
    {
      "cell_type": "code",
      "execution_count": null,
      "metadata": {
        "colab": {
          "base_uri": "https://localhost:8080/",
          "height": 570
        },
        "id": "EqvSGV8wTFT6",
        "outputId": "2d1cd3b0-1b5b-4cf1-89f9-9ca1798c1db8",
        "vscode": {
          "languageId": "python"
        }
      },
      "outputs": [
        {
          "name": "stdout",
          "output_type": "stream",
          "text": [
            "Optimization terminated successfully.\n",
            "         Current function value: 0.425899\n",
            "         Iterations 6\n",
            "                         Results: Logit\n",
            "=================================================================\n",
            "Model:              Logit            Pseudo R-squared: 0.013     \n",
            "Dependent Variable: y                AIC:              16848.7231\n",
            "Date:               2020-08-09 14:26 BIC:              16943.4152\n",
            "No. Observations:   19752            Log-Likelihood:   -8412.4   \n",
            "Df Model:           11               LL-Null:          -8522.9   \n",
            "Df Residuals:       19740            LLR p-value:      3.1493e-41\n",
            "Converged:          1.0000           Scale:            1.0000    \n",
            "No. Iterations:     6.0000                                       \n",
            "-------------------------------------------------------------------\n",
            "          Coef.    Std.Err.      z       P>|z|     [0.025    0.975]\n",
            "-------------------------------------------------------------------\n",
            "x1       -0.1913     0.0354    -5.4068   0.0000   -0.2606   -0.1220\n",
            "x2       -0.0168     0.0069    -2.4240   0.0154   -0.0304   -0.0032\n",
            "x3        0.1230     0.0396     3.1036   0.0019    0.0453    0.2007\n",
            "x4        0.0264     0.0730     0.3622   0.7172   -0.1167    0.1695\n",
            "x5       -0.0432     0.0292    -1.4798   0.1389   -0.1004    0.0140\n",
            "x6        0.0172     0.0750     0.2297   0.8183   -0.1297    0.1642\n",
            "x7       -0.0383     0.0221    -1.7371   0.0824   -0.0816    0.0049\n",
            "x8       -0.1802     0.0560    -3.2180   0.0013   -0.2899   -0.0704\n",
            "x9       -0.5424     0.0418   -12.9650   0.0000   -0.6244   -0.4604\n",
            "x10       0.0772     0.0502     1.5377   0.1241   -0.0212    0.1756\n",
            "x11       0.3891     0.1446     2.6912   0.0071    0.1057    0.6726\n",
            "x12       0.0116     0.0211     0.5490   0.5830   -0.0298    0.0530\n",
            "=================================================================\n",
            "\n",
            "Odd Ratios are:  [0.82588309 0.98335022 1.13090135 1.02679539 0.95774245 1.01737676\n",
            " 0.96239509 0.83513595 0.58132802 1.08025724 1.47571618 1.01166438]\n"
          ]
        }
      ],
      "source": [
        "# Regression\n",
        "X = model_3_data.iloc[:, :-1].values # independent\n",
        "y = model_3_data.iloc[:, -1].values # dependent\n",
        "\n",
        "logit_model = sm.Logit(y,X)\n",
        "result = logit_model.fit()\n",
        "\n",
        "print(result.summary2())\n",
        "# For odd ration:\n",
        "print(\"Odd Ratios are: \", np.exp(result.params))"
      ]
    },
    {
      "cell_type": "code",
      "execution_count": null,
      "metadata": {
        "colab": {
          "base_uri": "https://localhost:8080/",
          "height": 380
        },
        "id": "DaPtR8FVViR9",
        "outputId": "738aa40d-04c6-4702-95ce-ab9dd6635be0",
        "vscode": {
          "languageId": "python"
        }
      },
      "outputs": [
        {
          "name": "stdout",
          "output_type": "stream",
          "text": [
            "        Logit Marginal Effects       \n",
            "=====================================\n",
            "Dep. Variable:                      y\n",
            "Method:                          dydx\n",
            "At:                           overall\n",
            "==============================================================================\n",
            "                dy/dx    std err          z      P>|z|      [0.025      0.975]\n",
            "------------------------------------------------------------------------------\n",
            "x1            -0.0248      0.005     -5.417      0.000      -0.034      -0.016\n",
            "x2            -0.0022      0.001     -2.424      0.015      -0.004      -0.000\n",
            "x3             0.0159      0.005      3.104      0.002       0.006       0.026\n",
            "x4             0.0034      0.009      0.362      0.717      -0.015       0.022\n",
            "x5            -0.0056      0.004     -1.480      0.139      -0.013       0.002\n",
            "x6             0.0022      0.010      0.230      0.818      -0.017       0.021\n",
            "x7            -0.0050      0.003     -1.737      0.082      -0.011       0.001\n",
            "x8            -0.0233      0.007     -3.219      0.001      -0.038      -0.009\n",
            "x9            -0.0703      0.005    -13.010      0.000      -0.081      -0.060\n",
            "x10            0.0100      0.007      1.538      0.124      -0.003       0.023\n",
            "x11            0.0504      0.019      2.691      0.007       0.014       0.087\n",
            "x12            0.0015      0.003      0.549      0.583      -0.004       0.007\n",
            "==============================================================================\n"
          ]
        }
      ],
      "source": [
        "# for marginal effects\n",
        "merge_eff = result.get_margeff() # default overwall with method dydx\n",
        "print(merge_eff.summary())"
      ]
    },
    {
      "cell_type": "markdown",
      "metadata": {
        "id": "RUnGzELqYlzU"
      },
      "source": [
        "# Model 4 Stunted"
      ]
    },
    {
      "cell_type": "code",
      "execution_count": null,
      "metadata": {
        "id": "2Sg-S4Z3Yn9q",
        "vscode": {
          "languageId": "python"
        }
      },
      "outputs": [],
      "source": [
        "model_4_data = ultimate_data[['log_GDP_PC_PPP','children_age_v212', \n",
        "                              'sex_of_child_b4', \"is_twin_child_b0\", \n",
        "                              \"mothers_age_at_birth_v212\", \n",
        "                              'mom_marital_stats_v501', \n",
        "                              'mother_education_v701', \n",
        "                              'maternal_height_v438', \n",
        "                              'mothers_bmi_v445', \n",
        "                              'work_of_mom_v714', \n",
        "                              'partner_occupation_v704', \n",
        "                              'partner_education_v701',\n",
        "                              \"wealth_index_v190\",\n",
        "                              \"type_of_toilet_v116\",\n",
        "                              \"water_type_v113\",\n",
        "                              \"num_of_house_members_v136\",\n",
        "                              \"num_under_five_child_v137\",\n",
        "                              \"sex_house_head_v151\",\n",
        "                              \"place_of_residence_v025\",\n",
        "                              'stunted']]\n",
        "model_4_data.info()"
      ]
    },
    {
      "cell_type": "code",
      "execution_count": null,
      "metadata": {
        "colab": {
          "base_uri": "https://localhost:8080/",
          "height": 587
        },
        "id": "XxqJNKeJZzPD",
        "outputId": "8a79406e-c9ac-442c-f482-390cd249bb46",
        "vscode": {
          "languageId": "python"
        }
      },
      "outputs": [
        {
          "name": "stdout",
          "output_type": "stream",
          "text": [
            "{0: '0-5', 1: '12-17', 2: '18-23', 3: '24-29', 4: '30-35', 5: '36-41', 6: '42-47', 7: '48-53', 8: '54-59', 9: '6-11'}\n",
            "\n",
            "{0: 'female', 1: 'male'}\n",
            "\n",
            "{0: '10-14', 1: '15-19', 2: '20-24', 3: '25-29', 4: '30-34', 5: '35-39', 6: '40-44', 7: '45-49'}\n",
            "\n",
            "{0: 'divorced', 1: 'married', 2: 'no longer living together/separated', 3: 'not living together', 4: 'widowed'}\n",
            "\n",
            "{0: 'higher', 1: 'no education', 2: 'primary', 3: 'secondary'}\n",
            "\n",
            "{0: '<145', 1: '>=145'}\n",
            "\n",
            "{0: '<18.5', 1: '>=18.5'}\n",
            "\n",
            "{0: False, 1: True}\n",
            "\n",
            "{0: False, 1: True}\n",
            "\n",
            "{0: 'higher', 1: 'no education', 2: 'primary', 3: 'secondary'}\n",
            "\n",
            "{0: 'middle', 1: 'poorer', 2: 'poorest', 3: 'richer', 4: 'richest'}\n",
            "\n",
            "{0: 'improved', 1: 'unimproved'}\n",
            "\n",
            "{0: 'safe', 1: 'unsafe'}\n",
            "\n",
            "{0: '1-3', 1: '4-6', 2: '>6'}\n",
            "\n",
            "{0: '<=2', 1: '>2'}\n",
            "\n",
            "{0: 'female', 1: 'male'}\n",
            "\n",
            "{0: 'rural', 1: 'urban'}\n"
          ]
        }
      ],
      "source": [
        "# Mappings for 3 variables.\n",
        "print(dict( enumerate(model_4_data['children_age_v212'].cat.categories ) ))\n",
        "print()\n",
        "print(dict( enumerate(model_4_data['sex_of_child_b4'].cat.categories ) ))\n",
        "print()\n",
        "print(dict( enumerate(model_4_data['mothers_age_at_birth_v212'].cat.categories ) ))\n",
        "print()\n",
        "print(dict( enumerate(model_4_data['mom_marital_stats_v501'].cat.categories ) ))\n",
        "print()\n",
        "print(dict( enumerate(model_4_data['mother_education_v701'].cat.categories ) ))\n",
        "print()\n",
        "print(dict( enumerate(model_4_data['maternal_height_v438'].cat.categories ) ))\n",
        "print()\n",
        "print(dict( enumerate(model_4_data['mothers_bmi_v445'].cat.categories ) ))\n",
        "print()\n",
        "print(dict( enumerate(model_4_data['work_of_mom_v714'].cat.categories ) ))\n",
        "print()\n",
        "print(dict( enumerate(model_4_data['partner_occupation_v704'].cat.categories ) ))\n",
        "print()\n",
        "print(dict( enumerate(model_4_data['partner_education_v701'].cat.categories ) ))\n",
        "print()\n",
        "print(dict( enumerate(model_4_data['wealth_index_v190'].cat.categories ) ))\n",
        "print()\n",
        "print(dict( enumerate(model_4_data['type_of_toilet_v116'].cat.categories ) ))\n",
        "print()\n",
        "print(dict( enumerate(model_4_data['water_type_v113'].cat.categories ) ))\n",
        "print()\n",
        "print(dict( enumerate(model_4_data['num_of_house_members_v136'].cat.categories ) ))\n",
        "print()\n",
        "print(dict( enumerate(model_4_data['num_under_five_child_v137'].cat.categories ) ))\n",
        "print()\n",
        "print(dict( enumerate(model_4_data['sex_house_head_v151'].cat.categories ) ))\n",
        "print()\n",
        "print(dict( enumerate(model_4_data['place_of_residence_v025'].cat.categories ) ))"
      ]
    },
    {
      "cell_type": "code",
      "execution_count": null,
      "metadata": {
        "id": "x-hs8_OQaiWv",
        "vscode": {
          "languageId": "python"
        }
      },
      "outputs": [],
      "source": [
        "# Converting categories to numbers\n",
        "model_4_data[\"children_age_v212\"] = model_4_data[\"children_age_v212\"].cat.codes\n",
        "model_4_data[\"sex_of_child_b4\"] = model_4_data[\"sex_of_child_b4\"].cat.codes\n",
        "model_4_data[\"is_twin_child_b0\"] = model_4_data[\"is_twin_child_b0\"].cat.codes\n",
        "model_4_data[\"mom_marital_stats_v501\"] = model_4_data[\"mom_marital_stats_v501\"].cat.codes\n",
        "model_4_data[\"mother_education_v701\"] = model_4_data[\"mother_education_v701\"].cat.codes\n",
        "model_4_data[\"maternal_height_v438\"] = model_4_data[\"maternal_height_v438\"].cat.codes\n",
        "model_4_data[\"work_of_mom_v714\"] = model_4_data[\"work_of_mom_v714\"].cat.codes\n",
        "model_4_data[\"partner_occupation_v704\"] = model_4_data[\"partner_occupation_v704\"].cat.codes\n",
        "model_4_data[\"partner_education_v701\"] = model_4_data[\"partner_education_v701\"].cat.codes\n",
        "model_4_data[\"mothers_bmi_v445\"] = model_4_data[\"mothers_bmi_v445\"].cat.codes\n",
        "model_4_data[\"mothers_age_at_birth_v212\"] = model_4_data[\"mothers_age_at_birth_v212\"].cat.codes\n",
        "model_4_data[\"wealth_index_v190\"] = model_4_data[\"wealth_index_v190\"].cat.codes\n",
        "model_4_data[\"type_of_toilet_v116\"] = model_4_data[\"type_of_toilet_v116\"].cat.codes\n",
        "model_4_data[\"water_type_v113\"] = model_4_data[\"water_type_v113\"].cat.codes\n",
        "model_4_data[\"num_of_house_members_v136\"] = model_4_data[\"num_of_house_members_v136\"].cat.codes\n",
        "model_4_data[\"num_under_five_child_v137\"] = model_4_data[\"num_under_five_child_v137\"].cat.codes\n",
        "model_4_data[\"sex_house_head_v151\"] = model_4_data[\"sex_house_head_v151\"].cat.codes\n",
        "model_4_data[\"place_of_residence_v025\"] = model_4_data[\"place_of_residence_v025\"].cat.codes"
      ]
    },
    {
      "cell_type": "code",
      "execution_count": null,
      "metadata": {
        "colab": {
          "base_uri": "https://localhost:8080/",
          "height": 725
        },
        "id": "uuyNCHuvchUD",
        "outputId": "e1cd4be8-2d4c-460f-9032-47216600b0db",
        "vscode": {
          "languageId": "python"
        }
      },
      "outputs": [
        {
          "name": "stdout",
          "output_type": "stream",
          "text": [
            "Optimization terminated successfully.\n",
            "         Current function value: 0.639015\n",
            "         Iterations 5\n",
            "                          Results: Logit\n",
            "==================================================================\n",
            "Model:              Logit            Pseudo R-squared: 0.048      \n",
            "Dependent Variable: y                AIC:              25281.6631 \n",
            "Date:               2020-08-09 14:27 BIC:              25431.5923 \n",
            "No. Observations:   19752            Log-Likelihood:   -12622.    \n",
            "Df Model:           18               LL-Null:          -13254.    \n",
            "Df Residuals:       19733            LLR p-value:      1.9297e-257\n",
            "Converged:          1.0000           Scale:            1.0000     \n",
            "No. Iterations:     5.0000                                        \n",
            "--------------------------------------------------------------------\n",
            "           Coef.    Std.Err.      z       P>|z|     [0.025    0.975]\n",
            "--------------------------------------------------------------------\n",
            "x1         0.1681     0.0269     6.2594   0.0000    0.1155    0.2207\n",
            "x2         0.0043     0.0053     0.8097   0.4181   -0.0061    0.0146\n",
            "x3         0.0566     0.0301     1.8807   0.0600   -0.0024    0.1156\n",
            "x4        -0.1878     0.0523    -3.5914   0.0003   -0.2903   -0.0853\n",
            "x5        -0.1699     0.0228    -7.4401   0.0000   -0.2147   -0.1252\n",
            "x6         0.0266     0.0590     0.4511   0.6519   -0.0890    0.1422\n",
            "x7        -0.0688     0.0169    -4.0609   0.0000   -0.1020   -0.0356\n",
            "x8        -0.9465     0.0442   -21.4359   0.0000   -1.0330   -0.8599\n",
            "x9        -0.3873     0.0338   -11.4628   0.0000   -0.4535   -0.3211\n",
            "x10        0.1055     0.0386     2.7311   0.0063    0.0298    0.1813\n",
            "x11        0.1965     0.1002     1.9602   0.0500    0.0000    0.3929\n",
            "x12        0.0035     0.0161     0.2162   0.8288   -0.0281    0.0351\n",
            "x13       -0.1164     0.0120    -9.6730   0.0000   -0.1400   -0.0928\n",
            "x14        0.3383     0.0326    10.3778   0.0000    0.2744    0.4022\n",
            "x15       -0.2525     0.0515    -4.9004   0.0000   -0.3535   -0.1515\n",
            "x16       -0.0079     0.0258    -0.3077   0.7583   -0.0585    0.0426\n",
            "x17        0.1822     0.0607     3.0005   0.0027    0.0632    0.3012\n",
            "x18        0.0470     0.0555     0.8467   0.3972   -0.0617    0.1557\n",
            "x19       -0.0941     0.0354    -2.6603   0.0078   -0.1635   -0.0248\n",
            "==================================================================\n",
            "\n",
            "Odd Ratios are:  [1.18304653 1.00428076 1.05825313 0.82876827 0.84370744 1.02697028\n",
            " 0.93351636 0.38810098 0.67888982 1.11131734 1.21709783 1.00349086\n",
            " 0.89014339 1.40262365 0.77684754 0.99209256 1.19983156 1.04807947\n",
            " 0.91016309]\n"
          ]
        }
      ],
      "source": [
        "# Regression\n",
        "X = model_4_data.iloc[:, :-1].values # independent\n",
        "y = model_4_data.iloc[:, -1].values # dependent\n",
        "\n",
        "logit_model = sm.Logit(y,X)\n",
        "result = logit_model.fit()\n",
        "\n",
        "print(result.summary2())\n",
        "# For odd ration:\n",
        "print(\"Odd Ratios are: \", np.exp(result.params))"
      ]
    },
    {
      "cell_type": "code",
      "execution_count": null,
      "metadata": {
        "colab": {
          "base_uri": "https://localhost:8080/",
          "height": 501
        },
        "id": "6BD7a3S_cmrM",
        "outputId": "8c978b79-f4b7-4717-a36d-56a87dc75e42",
        "vscode": {
          "languageId": "python"
        }
      },
      "outputs": [
        {
          "name": "stdout",
          "output_type": "stream",
          "text": [
            "        Logit Marginal Effects       \n",
            "=====================================\n",
            "Dep. Variable:                      y\n",
            "Method:                          dydx\n",
            "At:                           overall\n",
            "==============================================================================\n",
            "                dy/dx    std err          z      P>|z|      [0.025      0.975]\n",
            "------------------------------------------------------------------------------\n",
            "x1             0.0376      0.006      6.283      0.000       0.026       0.049\n",
            "x2             0.0010      0.001      0.810      0.418      -0.001       0.003\n",
            "x3             0.0127      0.007      1.881      0.060      -0.001       0.026\n",
            "x4            -0.0420      0.012     -3.596      0.000      -0.065      -0.019\n",
            "x5            -0.0380      0.005     -7.477      0.000      -0.048      -0.028\n",
            "x6             0.0060      0.013      0.451      0.652      -0.020       0.032\n",
            "x7            -0.0154      0.004     -4.067      0.000      -0.023      -0.008\n",
            "x8            -0.2119      0.009    -22.457      0.000      -0.230      -0.193\n",
            "x9            -0.0867      0.007    -11.608      0.000      -0.101      -0.072\n",
            "x10            0.0236      0.009      2.733      0.006       0.007       0.041\n",
            "x11            0.0440      0.022      1.961      0.050    2.06e-05       0.088\n",
            "x12            0.0008      0.004      0.216      0.829      -0.006       0.008\n",
            "x13           -0.0261      0.003     -9.756      0.000      -0.031      -0.021\n",
            "x14            0.0758      0.007     10.484      0.000       0.062       0.090\n",
            "x15           -0.0565      0.012     -4.912      0.000      -0.079      -0.034\n",
            "x16           -0.0018      0.006     -0.308      0.758      -0.013       0.010\n",
            "x17            0.0408      0.014      3.003      0.003       0.014       0.067\n",
            "x18            0.0105      0.012      0.847      0.397      -0.014       0.035\n",
            "x19           -0.0211      0.008     -2.662      0.008      -0.037      -0.006\n",
            "==============================================================================\n"
          ]
        }
      ],
      "source": [
        "# for marginal effects\n",
        "merge_eff = result.get_margeff() # default overwall with method dydx\n",
        "print(merge_eff.summary())"
      ]
    },
    {
      "cell_type": "markdown",
      "metadata": {
        "id": "aGG9Dyfpc43P"
      },
      "source": [
        "# Model 4 underweight"
      ]
    },
    {
      "cell_type": "code",
      "execution_count": null,
      "metadata": {
        "id": "-HbVQvONc7dD",
        "vscode": {
          "languageId": "python"
        }
      },
      "outputs": [],
      "source": [
        "model_4_data = ultimate_data[['log_GDP_PC_PPP','children_age_v212', \n",
        "                              'sex_of_child_b4', \"is_twin_child_b0\", \n",
        "                              \"mothers_age_at_birth_v212\", \n",
        "                              'mom_marital_stats_v501', \n",
        "                              'mother_education_v701', \n",
        "                              'maternal_height_v438', \n",
        "                              'mothers_bmi_v445', \n",
        "                              'work_of_mom_v714', \n",
        "                              'partner_occupation_v704', \n",
        "                              'partner_education_v701',\n",
        "                              \"wealth_index_v190\",\n",
        "                              \"type_of_toilet_v116\",\n",
        "                              \"water_type_v113\",\n",
        "                              \"num_of_house_members_v136\",\n",
        "                              \"num_under_five_child_v137\",\n",
        "                              \"sex_house_head_v151\",\n",
        "                              \"place_of_residence_v025\",\n",
        "                              'underweight']]\n",
        "model_4_data.info()"
      ]
    },
    {
      "cell_type": "code",
      "execution_count": null,
      "metadata": {
        "colab": {
          "base_uri": "https://localhost:8080/",
          "height": 587
        },
        "id": "D94BmlXbdCil",
        "outputId": "e619af91-53da-425e-d3e2-193e7b18d255",
        "vscode": {
          "languageId": "python"
        }
      },
      "outputs": [
        {
          "name": "stdout",
          "output_type": "stream",
          "text": [
            "{0: '0-5', 1: '12-17', 2: '18-23', 3: '24-29', 4: '30-35', 5: '36-41', 6: '42-47', 7: '48-53', 8: '54-59', 9: '6-11'}\n",
            "\n",
            "{0: 'female', 1: 'male'}\n",
            "\n",
            "{0: '10-14', 1: '15-19', 2: '20-24', 3: '25-29', 4: '30-34', 5: '35-39', 6: '40-44', 7: '45-49'}\n",
            "\n",
            "{0: 'divorced', 1: 'married', 2: 'no longer living together/separated', 3: 'not living together', 4: 'widowed'}\n",
            "\n",
            "{0: 'higher', 1: 'no education', 2: 'primary', 3: 'secondary'}\n",
            "\n",
            "{0: '<145', 1: '>=145'}\n",
            "\n",
            "{0: '<18.5', 1: '>=18.5'}\n",
            "\n",
            "{0: False, 1: True}\n",
            "\n",
            "{0: False, 1: True}\n",
            "\n",
            "{0: 'higher', 1: 'no education', 2: 'primary', 3: 'secondary'}\n",
            "\n",
            "{0: 'middle', 1: 'poorer', 2: 'poorest', 3: 'richer', 4: 'richest'}\n",
            "\n",
            "{0: 'improved', 1: 'unimproved'}\n",
            "\n",
            "{0: 'safe', 1: 'unsafe'}\n",
            "\n",
            "{0: '1-3', 1: '4-6', 2: '>6'}\n",
            "\n",
            "{0: '<=2', 1: '>2'}\n",
            "\n",
            "{0: 'female', 1: 'male'}\n",
            "\n",
            "{0: 'rural', 1: 'urban'}\n"
          ]
        }
      ],
      "source": [
        "# Mappings for 3 variables.\n",
        "print(dict( enumerate(model_4_data['children_age_v212'].cat.categories ) ))\n",
        "print()\n",
        "print(dict( enumerate(model_4_data['sex_of_child_b4'].cat.categories ) ))\n",
        "print()\n",
        "print(dict( enumerate(model_4_data['mothers_age_at_birth_v212'].cat.categories ) ))\n",
        "print()\n",
        "print(dict( enumerate(model_4_data['mom_marital_stats_v501'].cat.categories ) ))\n",
        "print()\n",
        "print(dict( enumerate(model_4_data['mother_education_v701'].cat.categories ) ))\n",
        "print()\n",
        "print(dict( enumerate(model_4_data['maternal_height_v438'].cat.categories ) ))\n",
        "print()\n",
        "print(dict( enumerate(model_4_data['mothers_bmi_v445'].cat.categories ) ))\n",
        "print()\n",
        "print(dict( enumerate(model_4_data['work_of_mom_v714'].cat.categories ) ))\n",
        "print()\n",
        "print(dict( enumerate(model_4_data['partner_occupation_v704'].cat.categories ) ))\n",
        "print()\n",
        "print(dict( enumerate(model_4_data['partner_education_v701'].cat.categories ) ))\n",
        "print()\n",
        "print(dict( enumerate(model_4_data['wealth_index_v190'].cat.categories ) ))\n",
        "print()\n",
        "print(dict( enumerate(model_4_data['type_of_toilet_v116'].cat.categories ) ))\n",
        "print()\n",
        "print(dict( enumerate(model_4_data['water_type_v113'].cat.categories ) ))\n",
        "print()\n",
        "print(dict( enumerate(model_4_data['num_of_house_members_v136'].cat.categories ) ))\n",
        "print()\n",
        "print(dict( enumerate(model_4_data['num_under_five_child_v137'].cat.categories ) ))\n",
        "print()\n",
        "print(dict( enumerate(model_4_data['sex_house_head_v151'].cat.categories ) ))\n",
        "print()\n",
        "print(dict( enumerate(model_4_data['place_of_residence_v025'].cat.categories ) ))"
      ]
    },
    {
      "cell_type": "code",
      "execution_count": null,
      "metadata": {
        "id": "wqkUbFyRdKNQ",
        "vscode": {
          "languageId": "python"
        }
      },
      "outputs": [],
      "source": [
        "# Converting categories to numbers\n",
        "model_4_data[\"children_age_v212\"] = model_4_data[\"children_age_v212\"].cat.codes\n",
        "model_4_data[\"sex_of_child_b4\"] = model_4_data[\"sex_of_child_b4\"].cat.codes\n",
        "model_4_data[\"is_twin_child_b0\"] = model_4_data[\"is_twin_child_b0\"].cat.codes\n",
        "model_4_data[\"mom_marital_stats_v501\"] = model_4_data[\"mom_marital_stats_v501\"].cat.codes\n",
        "model_4_data[\"mother_education_v701\"] = model_4_data[\"mother_education_v701\"].cat.codes\n",
        "model_4_data[\"maternal_height_v438\"] = model_4_data[\"maternal_height_v438\"].cat.codes\n",
        "model_4_data[\"work_of_mom_v714\"] = model_4_data[\"work_of_mom_v714\"].cat.codes\n",
        "model_4_data[\"partner_occupation_v704\"] = model_4_data[\"partner_occupation_v704\"].cat.codes\n",
        "model_4_data[\"partner_education_v701\"] = model_4_data[\"partner_education_v701\"].cat.codes\n",
        "model_4_data[\"mothers_bmi_v445\"] = model_4_data[\"mothers_bmi_v445\"].cat.codes\n",
        "model_4_data[\"mothers_age_at_birth_v212\"] = model_4_data[\"mothers_age_at_birth_v212\"].cat.codes\n",
        "model_4_data[\"wealth_index_v190\"] = model_4_data[\"wealth_index_v190\"].cat.codes\n",
        "model_4_data[\"type_of_toilet_v116\"] = model_4_data[\"type_of_toilet_v116\"].cat.codes\n",
        "model_4_data[\"water_type_v113\"] = model_4_data[\"water_type_v113\"].cat.codes\n",
        "model_4_data[\"num_of_house_members_v136\"] = model_4_data[\"num_of_house_members_v136\"].cat.codes\n",
        "model_4_data[\"num_under_five_child_v137\"] = model_4_data[\"num_under_five_child_v137\"].cat.codes\n",
        "model_4_data[\"sex_house_head_v151\"] = model_4_data[\"sex_house_head_v151\"].cat.codes\n",
        "model_4_data[\"place_of_residence_v025\"] = model_4_data[\"place_of_residence_v025\"].cat.codes"
      ]
    },
    {
      "cell_type": "code",
      "execution_count": null,
      "metadata": {
        "colab": {
          "base_uri": "https://localhost:8080/",
          "height": 725
        },
        "id": "U_QQJtCSdWDA",
        "outputId": "c795a5eb-ea3b-47f6-991e-b1f9b343e703",
        "vscode": {
          "languageId": "python"
        }
      },
      "outputs": [
        {
          "name": "stdout",
          "output_type": "stream",
          "text": [
            "Optimization terminated successfully.\n",
            "         Current function value: 0.618099\n",
            "         Iterations 5\n",
            "                          Results: Logit\n",
            "==================================================================\n",
            "Model:              Logit            Pseudo R-squared: 0.052      \n",
            "Dependent Variable: y                AIC:              24455.3760 \n",
            "Date:               2020-08-09 14:28 BIC:              24605.3051 \n",
            "No. Observations:   19752            Log-Likelihood:   -12209.    \n",
            "Df Model:           18               LL-Null:          -12873.    \n",
            "Df Residuals:       19733            LLR p-value:      3.8314e-271\n",
            "Converged:          1.0000           Scale:            1.0000     \n",
            "No. Iterations:     5.0000                                        \n",
            "--------------------------------------------------------------------\n",
            "           Coef.    Std.Err.      z       P>|z|     [0.025    0.975]\n",
            "--------------------------------------------------------------------\n",
            "x1         0.1163     0.0273     4.2687   0.0000    0.0629    0.1698\n",
            "x2         0.0291     0.0054     5.3920   0.0000    0.0185    0.0397\n",
            "x3        -0.0737     0.0308    -2.3949   0.0166   -0.1340   -0.0134\n",
            "x4        -0.1591     0.0529    -3.0084   0.0026   -0.2628   -0.0554\n",
            "x5        -0.1381     0.0234    -5.9067   0.0000   -0.1839   -0.0923\n",
            "x6         0.1476     0.0586     2.5181   0.0118    0.0327    0.2624\n",
            "x7        -0.0682     0.0174    -3.9188   0.0001   -0.1023   -0.0341\n",
            "x8        -0.7236     0.0438   -16.5101   0.0000   -0.8095   -0.6377\n",
            "x9        -0.6657     0.0340   -19.6080   0.0000   -0.7322   -0.5992\n",
            "x10        0.0997     0.0393     2.5333   0.0113    0.0226    0.1768\n",
            "x11        0.2319     0.1037     2.2367   0.0253    0.0287    0.4352\n",
            "x12       -0.0073     0.0166    -0.4384   0.6611   -0.0398    0.0252\n",
            "x13       -0.1167     0.0123    -9.4683   0.0000   -0.1409   -0.0926\n",
            "x14        0.2853     0.0333     8.5782   0.0000    0.2201    0.3505\n",
            "x15       -0.2282     0.0527    -4.3289   0.0000   -0.3315   -0.1249\n",
            "x16       -0.0071     0.0264    -0.2703   0.7870   -0.0589    0.0446\n",
            "x17        0.1014     0.0621     1.6312   0.1028   -0.0204    0.2232\n",
            "x18        0.0263     0.0567     0.4637   0.6429   -0.0849    0.1375\n",
            "x19       -0.1513     0.0364    -4.1629   0.0000   -0.2226   -0.0801\n",
            "==================================================================\n",
            "\n",
            "Odd Ratios are:  [1.12338757 1.02953819 0.92897371 0.85290324 0.87100728 1.15901071\n",
            " 0.93410074 0.48498745 0.51391239 1.10481294 1.26103715 0.99275643\n",
            " 0.88981481 1.33012718 0.79597627 0.99289176 1.10668496 1.02666379\n",
            " 0.85955065]\n"
          ]
        }
      ],
      "source": [
        "# Regression\n",
        "X = model_4_data.iloc[:, :-1].values # independent\n",
        "y = model_4_data.iloc[:, -1].values # dependent\n",
        "\n",
        "logit_model = sm.Logit(y,X)\n",
        "result = logit_model.fit()\n",
        "\n",
        "print(result.summary2())\n",
        "# For odd ration:\n",
        "print(\"Odd Ratios are: \", np.exp(result.params))"
      ]
    },
    {
      "cell_type": "code",
      "execution_count": null,
      "metadata": {
        "colab": {
          "base_uri": "https://localhost:8080/",
          "height": 501
        },
        "id": "IM_D-rWgdYWY",
        "outputId": "a20810dd-bd1d-4221-ead1-8ce94025bcfe",
        "vscode": {
          "languageId": "python"
        }
      },
      "outputs": [
        {
          "name": "stdout",
          "output_type": "stream",
          "text": [
            "        Logit Marginal Effects       \n",
            "=====================================\n",
            "Dep. Variable:                      y\n",
            "Method:                          dydx\n",
            "At:                           overall\n",
            "==============================================================================\n",
            "                dy/dx    std err          z      P>|z|      [0.025      0.975]\n",
            "------------------------------------------------------------------------------\n",
            "x1             0.0249      0.006      4.276      0.000       0.013       0.036\n",
            "x2             0.0062      0.001      5.406      0.000       0.004       0.008\n",
            "x3            -0.0158      0.007     -2.396      0.017      -0.029      -0.003\n",
            "x4            -0.0341      0.011     -3.011      0.003      -0.056      -0.012\n",
            "x5            -0.0296      0.005     -5.924      0.000      -0.039      -0.020\n",
            "x6             0.0316      0.013      2.520      0.012       0.007       0.056\n",
            "x7            -0.0146      0.004     -3.924      0.000      -0.022      -0.007\n",
            "x8            -0.1550      0.009    -16.953      0.000      -0.173      -0.137\n",
            "x9            -0.1426      0.007    -20.358      0.000      -0.156      -0.129\n",
            "x10            0.0214      0.008      2.535      0.011       0.005       0.038\n",
            "x11            0.0497      0.022      2.238      0.025       0.006       0.093\n",
            "x12           -0.0016      0.004     -0.438      0.661      -0.009       0.005\n",
            "x13           -0.0250      0.003     -9.542      0.000      -0.030      -0.020\n",
            "x14            0.0611      0.007      8.636      0.000       0.047       0.075\n",
            "x15           -0.0489      0.011     -4.336      0.000      -0.071      -0.027\n",
            "x16           -0.0015      0.006     -0.270      0.787      -0.013       0.010\n",
            "x17            0.0217      0.013      1.632      0.103      -0.004       0.048\n",
            "x18            0.0056      0.012      0.464      0.643      -0.018       0.029\n",
            "x19           -0.0324      0.008     -4.169      0.000      -0.048      -0.017\n",
            "==============================================================================\n"
          ]
        }
      ],
      "source": [
        "# for marginal effects\n",
        "merge_eff = result.get_margeff() # default overwall with method dydx\n",
        "print(merge_eff.summary())"
      ]
    },
    {
      "cell_type": "markdown",
      "metadata": {
        "id": "5QA7jgrtdieJ"
      },
      "source": [
        "# Model 4 wasted"
      ]
    },
    {
      "cell_type": "code",
      "execution_count": null,
      "metadata": {
        "id": "KiAWhurJdpIS",
        "vscode": {
          "languageId": "python"
        }
      },
      "outputs": [],
      "source": [
        "model_4_data = ultimate_data[['log_GDP_PC_PPP','children_age_v212', \n",
        "                              'sex_of_child_b4', \"is_twin_child_b0\", \n",
        "                              \"mothers_age_at_birth_v212\", \n",
        "                              'mom_marital_stats_v501', \n",
        "                              'mother_education_v701', \n",
        "                              'maternal_height_v438', \n",
        "                              'mothers_bmi_v445', \n",
        "                              'work_of_mom_v714', \n",
        "                              'partner_occupation_v704', \n",
        "                              'partner_education_v701',\n",
        "                              \"wealth_index_v190\",\n",
        "                              \"type_of_toilet_v116\",\n",
        "                              \"water_type_v113\",\n",
        "                              \"num_of_house_members_v136\",\n",
        "                              \"num_under_five_child_v137\",\n",
        "                              \"sex_house_head_v151\",\n",
        "                              \"place_of_residence_v025\",\n",
        "                              'wasted']]\n",
        "model_4_data.info()"
      ]
    },
    {
      "cell_type": "code",
      "execution_count": null,
      "metadata": {
        "colab": {
          "base_uri": "https://localhost:8080/",
          "height": 587
        },
        "id": "-FBsBftzdtmq",
        "outputId": "27f9d44b-0af4-486b-9140-01e431282e60",
        "vscode": {
          "languageId": "python"
        }
      },
      "outputs": [
        {
          "name": "stdout",
          "output_type": "stream",
          "text": [
            "{0: '0-5', 1: '12-17', 2: '18-23', 3: '24-29', 4: '30-35', 5: '36-41', 6: '42-47', 7: '48-53', 8: '54-59', 9: '6-11'}\n",
            "\n",
            "{0: 'female', 1: 'male'}\n",
            "\n",
            "{0: '10-14', 1: '15-19', 2: '20-24', 3: '25-29', 4: '30-34', 5: '35-39', 6: '40-44', 7: '45-49'}\n",
            "\n",
            "{0: 'divorced', 1: 'married', 2: 'no longer living together/separated', 3: 'not living together', 4: 'widowed'}\n",
            "\n",
            "{0: 'higher', 1: 'no education', 2: 'primary', 3: 'secondary'}\n",
            "\n",
            "{0: '<145', 1: '>=145'}\n",
            "\n",
            "{0: '<18.5', 1: '>=18.5'}\n",
            "\n",
            "{0: False, 1: True}\n",
            "\n",
            "{0: False, 1: True}\n",
            "\n",
            "{0: 'higher', 1: 'no education', 2: 'primary', 3: 'secondary'}\n",
            "\n",
            "{0: 'middle', 1: 'poorer', 2: 'poorest', 3: 'richer', 4: 'richest'}\n",
            "\n",
            "{0: 'improved', 1: 'unimproved'}\n",
            "\n",
            "{0: 'safe', 1: 'unsafe'}\n",
            "\n",
            "{0: '1-3', 1: '4-6', 2: '>6'}\n",
            "\n",
            "{0: '<=2', 1: '>2'}\n",
            "\n",
            "{0: 'female', 1: 'male'}\n",
            "\n",
            "{0: 'rural', 1: 'urban'}\n"
          ]
        }
      ],
      "source": [
        "# Mappings for 3 variables.\n",
        "print(dict( enumerate(model_4_data['children_age_v212'].cat.categories ) ))\n",
        "print()\n",
        "print(dict( enumerate(model_4_data['sex_of_child_b4'].cat.categories ) ))\n",
        "print()\n",
        "print(dict( enumerate(model_4_data['mothers_age_at_birth_v212'].cat.categories ) ))\n",
        "print()\n",
        "print(dict( enumerate(model_4_data['mom_marital_stats_v501'].cat.categories ) ))\n",
        "print()\n",
        "print(dict( enumerate(model_4_data['mother_education_v701'].cat.categories ) ))\n",
        "print()\n",
        "print(dict( enumerate(model_4_data['maternal_height_v438'].cat.categories ) ))\n",
        "print()\n",
        "print(dict( enumerate(model_4_data['mothers_bmi_v445'].cat.categories ) ))\n",
        "print()\n",
        "print(dict( enumerate(model_4_data['work_of_mom_v714'].cat.categories ) ))\n",
        "print()\n",
        "print(dict( enumerate(model_4_data['partner_occupation_v704'].cat.categories ) ))\n",
        "print()\n",
        "print(dict( enumerate(model_4_data['partner_education_v701'].cat.categories ) ))\n",
        "print()\n",
        "print(dict( enumerate(model_4_data['wealth_index_v190'].cat.categories ) ))\n",
        "print()\n",
        "print(dict( enumerate(model_4_data['type_of_toilet_v116'].cat.categories ) ))\n",
        "print()\n",
        "print(dict( enumerate(model_4_data['water_type_v113'].cat.categories ) ))\n",
        "print()\n",
        "print(dict( enumerate(model_4_data['num_of_house_members_v136'].cat.categories ) ))\n",
        "print()\n",
        "print(dict( enumerate(model_4_data['num_under_five_child_v137'].cat.categories ) ))\n",
        "print()\n",
        "print(dict( enumerate(model_4_data['sex_house_head_v151'].cat.categories ) ))\n",
        "print()\n",
        "print(dict( enumerate(model_4_data['place_of_residence_v025'].cat.categories ) ))"
      ]
    },
    {
      "cell_type": "code",
      "execution_count": null,
      "metadata": {
        "id": "ZDbX__42dztT",
        "vscode": {
          "languageId": "python"
        }
      },
      "outputs": [],
      "source": [
        "# Converting categories to numbers\n",
        "model_4_data[\"children_age_v212\"] = model_4_data[\"children_age_v212\"].cat.codes\n",
        "model_4_data[\"sex_of_child_b4\"] = model_4_data[\"sex_of_child_b4\"].cat.codes\n",
        "model_4_data[\"is_twin_child_b0\"] = model_4_data[\"is_twin_child_b0\"].cat.codes\n",
        "model_4_data[\"mom_marital_stats_v501\"] = model_4_data[\"mom_marital_stats_v501\"].cat.codes\n",
        "model_4_data[\"mother_education_v701\"] = model_4_data[\"mother_education_v701\"].cat.codes\n",
        "model_4_data[\"maternal_height_v438\"] = model_4_data[\"maternal_height_v438\"].cat.codes\n",
        "model_4_data[\"work_of_mom_v714\"] = model_4_data[\"work_of_mom_v714\"].cat.codes\n",
        "model_4_data[\"partner_occupation_v704\"] = model_4_data[\"partner_occupation_v704\"].cat.codes\n",
        "model_4_data[\"partner_education_v701\"] = model_4_data[\"partner_education_v701\"].cat.codes\n",
        "model_4_data[\"mothers_bmi_v445\"] = model_4_data[\"mothers_bmi_v445\"].cat.codes\n",
        "model_4_data[\"mothers_age_at_birth_v212\"] = model_4_data[\"mothers_age_at_birth_v212\"].cat.codes\n",
        "model_4_data[\"wealth_index_v190\"] = model_4_data[\"wealth_index_v190\"].cat.codes\n",
        "model_4_data[\"type_of_toilet_v116\"] = model_4_data[\"type_of_toilet_v116\"].cat.codes\n",
        "model_4_data[\"water_type_v113\"] = model_4_data[\"water_type_v113\"].cat.codes\n",
        "model_4_data[\"num_of_house_members_v136\"] = model_4_data[\"num_of_house_members_v136\"].cat.codes\n",
        "model_4_data[\"num_under_five_child_v137\"] = model_4_data[\"num_under_five_child_v137\"].cat.codes\n",
        "model_4_data[\"sex_house_head_v151\"] = model_4_data[\"sex_house_head_v151\"].cat.codes\n",
        "model_4_data[\"place_of_residence_v025\"] = model_4_data[\"place_of_residence_v025\"].cat.codes"
      ]
    },
    {
      "cell_type": "code",
      "execution_count": null,
      "metadata": {
        "colab": {
          "base_uri": "https://localhost:8080/",
          "height": 725
        },
        "id": "50AS-1IdeDEJ",
        "outputId": "fed008fd-8545-4287-e173-8f15cdf544b6",
        "vscode": {
          "languageId": "python"
        }
      },
      "outputs": [
        {
          "name": "stdout",
          "output_type": "stream",
          "text": [
            "Optimization terminated successfully.\n",
            "         Current function value: 0.425046\n",
            "         Iterations 6\n",
            "                         Results: Logit\n",
            "=================================================================\n",
            "Model:              Logit            Pseudo R-squared: 0.015     \n",
            "Dependent Variable: y                AIC:              16829.0073\n",
            "Date:               2020-08-09 14:28 BIC:              16978.9365\n",
            "No. Observations:   19752            Log-Likelihood:   -8395.5   \n",
            "Df Model:           18               LL-Null:          -8522.9   \n",
            "Df Residuals:       19733            LLR p-value:      8.8212e-44\n",
            "Converged:          1.0000           Scale:            1.0000    \n",
            "No. Iterations:     6.0000                                       \n",
            "-------------------------------------------------------------------\n",
            "          Coef.    Std.Err.      z       P>|z|     [0.025    0.975]\n",
            "-------------------------------------------------------------------\n",
            "x1       -0.1821     0.0371    -4.9115   0.0000   -0.2548   -0.1094\n",
            "x2       -0.0174     0.0069    -2.5058   0.0122   -0.0310   -0.0038\n",
            "x3        0.1260     0.0397     3.1761   0.0015    0.0483    0.2038\n",
            "x4        0.0154     0.0734     0.2092   0.8343   -0.1285    0.1592\n",
            "x5       -0.0165     0.0297    -0.5543   0.5794   -0.0748    0.0418\n",
            "x6        0.0343     0.0762     0.4499   0.6528   -0.1151    0.1837\n",
            "x7       -0.0410     0.0224    -1.8333   0.0668   -0.0848    0.0028\n",
            "x8       -0.1652     0.0561    -2.9443   0.0032   -0.2752   -0.0552\n",
            "x9       -0.5035     0.0424   -11.8714   0.0000   -0.5866   -0.4204\n",
            "x10       0.0706     0.0505     1.3974   0.1623   -0.0284    0.1695\n",
            "x11       0.3636     0.1452     2.5032   0.0123    0.0789    0.6483\n",
            "x12       0.0087     0.0214     0.4054   0.6852   -0.0333    0.0506\n",
            "x13      -0.0504     0.0160    -3.1539   0.0016   -0.0818   -0.0191\n",
            "x14       0.0689     0.0431     1.5989   0.1099   -0.0156    0.1534\n",
            "x15      -0.0060     0.0668    -0.0892   0.9289   -0.1369    0.1250\n",
            "x16      -0.0379     0.0339    -1.1171   0.2640   -0.1043    0.0286\n",
            "x17       0.0358     0.0803     0.4461   0.6555   -0.1215    0.1931\n",
            "x18       0.0561     0.0739     0.7591   0.4478   -0.0888    0.2010\n",
            "x19      -0.1183     0.0473    -2.5014   0.0124   -0.2110   -0.0256\n",
            "=================================================================\n",
            "\n",
            "Odd Ratios are:  [0.83350639 0.98275797 1.1343074  1.01547717 0.98365104 1.03489175\n",
            " 0.95983318 0.84770215 0.60442331 1.07310903 1.43847172 1.00871518\n",
            " 0.95081386 1.07134844 0.99405535 0.96283926 1.03645884 1.05771797\n",
            " 0.88842466]\n"
          ]
        }
      ],
      "source": [
        "# Regression\n",
        "X = model_4_data.iloc[:, :-1].values # independent\n",
        "y = model_4_data.iloc[:, -1].values # dependent\n",
        "\n",
        "logit_model = sm.Logit(y,X)\n",
        "result = logit_model.fit()\n",
        "\n",
        "print(result.summary2())\n",
        "# For odd ration:\n",
        "print(\"Odd Ratios are: \", np.exp(result.params))"
      ]
    },
    {
      "cell_type": "code",
      "execution_count": null,
      "metadata": {
        "colab": {
          "base_uri": "https://localhost:8080/",
          "height": 501
        },
        "id": "tjyCTWt1eMSC",
        "outputId": "ec9a1bac-0a5d-4f33-a4de-7d236a6e1cea",
        "vscode": {
          "languageId": "python"
        }
      },
      "outputs": [
        {
          "name": "stdout",
          "output_type": "stream",
          "text": [
            "        Logit Marginal Effects       \n",
            "=====================================\n",
            "Dep. Variable:                      y\n",
            "Method:                          dydx\n",
            "At:                           overall\n",
            "==============================================================================\n",
            "                dy/dx    std err          z      P>|z|      [0.025      0.975]\n",
            "------------------------------------------------------------------------------\n",
            "x1            -0.0235      0.005     -4.920      0.000      -0.033      -0.014\n",
            "x2            -0.0022      0.001     -2.506      0.012      -0.004      -0.000\n",
            "x3             0.0163      0.005      3.177      0.001       0.006       0.026\n",
            "x4             0.0020      0.009      0.209      0.834      -0.017       0.021\n",
            "x5            -0.0021      0.004     -0.554      0.579      -0.010       0.005\n",
            "x6             0.0044      0.010      0.450      0.653      -0.015       0.024\n",
            "x7            -0.0053      0.003     -1.833      0.067      -0.011       0.000\n",
            "x8            -0.0214      0.007     -2.945      0.003      -0.036      -0.007\n",
            "x9            -0.0651      0.005    -11.908      0.000      -0.076      -0.054\n",
            "x10            0.0091      0.007      1.397      0.162      -0.004       0.022\n",
            "x11            0.0470      0.019      2.503      0.012       0.010       0.084\n",
            "x12            0.0011      0.003      0.405      0.685      -0.004       0.007\n",
            "x13           -0.0065      0.002     -3.154      0.002      -0.011      -0.002\n",
            "x14            0.0089      0.006      1.599      0.110      -0.002       0.020\n",
            "x15           -0.0008      0.009     -0.089      0.929      -0.018       0.016\n",
            "x16           -0.0049      0.004     -1.117      0.264      -0.013       0.004\n",
            "x17            0.0046      0.010      0.446      0.656      -0.016       0.025\n",
            "x18            0.0073      0.010      0.759      0.448      -0.011       0.026\n",
            "x19           -0.0153      0.006     -2.502      0.012      -0.027      -0.003\n",
            "==============================================================================\n"
          ]
        }
      ],
      "source": [
        "# for marginal effects\n",
        "merge_eff = result.get_margeff() # default overwall with method dydx\n",
        "print(merge_eff.summary())"
      ]
    },
    {
      "cell_type": "markdown",
      "metadata": {
        "id": "10eO57oFfgZF"
      },
      "source": [
        "# Model 5 Stunted"
      ]
    },
    {
      "cell_type": "code",
      "execution_count": null,
      "metadata": {
        "id": "zAxPT39Dfk0W",
        "vscode": {
          "languageId": "python"
        }
      },
      "outputs": [],
      "source": [
        "model_5_data = ultimate_data[['log_GDP_PC_PPP','children_age_v212', \n",
        "                              'sex_of_child_b4', \"is_twin_child_b0\", \n",
        "                              \"mothers_age_at_birth_v212\", \n",
        "                              'mom_marital_stats_v501', \n",
        "                              'mother_education_v701', \n",
        "                              'maternal_height_v438', \n",
        "                              'mothers_bmi_v445', \n",
        "                              'work_of_mom_v714', \n",
        "                              'partner_occupation_v704', \n",
        "                              'partner_education_v701',\n",
        "                              \"wealth_index_v190\",\n",
        "                              \"type_of_toilet_v116\",\n",
        "                              \"water_type_v113\",\n",
        "                              \"num_of_house_members_v136\",\n",
        "                              \"num_under_five_child_v137\",\n",
        "                              \"sex_house_head_v151\",\n",
        "                              \"place_of_residence_v025\",\n",
        "                              \"year_interview_v007\",\n",
        "                              'stunted']]\n",
        "model_5_data.info()"
      ]
    },
    {
      "cell_type": "code",
      "execution_count": null,
      "metadata": {
        "colab": {
          "base_uri": "https://localhost:8080/",
          "height": 587
        },
        "id": "IbmcFyORgqSH",
        "outputId": "13b59988-2da1-437a-87d7-4f79d6a831a2",
        "vscode": {
          "languageId": "python"
        }
      },
      "outputs": [
        {
          "name": "stdout",
          "output_type": "stream",
          "text": [
            "{0: '0-5', 1: '12-17', 2: '18-23', 3: '24-29', 4: '30-35', 5: '36-41', 6: '42-47', 7: '48-53', 8: '54-59', 9: '6-11'}\n",
            "\n",
            "{0: 'female', 1: 'male'}\n",
            "\n",
            "{0: '10-14', 1: '15-19', 2: '20-24', 3: '25-29', 4: '30-34', 5: '35-39', 6: '40-44', 7: '45-49'}\n",
            "\n",
            "{0: 'divorced', 1: 'married', 2: 'no longer living together/separated', 3: 'not living together', 4: 'widowed'}\n",
            "\n",
            "{0: 'higher', 1: 'no education', 2: 'primary', 3: 'secondary'}\n",
            "\n",
            "{0: '<145', 1: '>=145'}\n",
            "\n",
            "{0: '<18.5', 1: '>=18.5'}\n",
            "\n",
            "{0: False, 1: True}\n",
            "\n",
            "{0: False, 1: True}\n",
            "\n",
            "{0: 'higher', 1: 'no education', 2: 'primary', 3: 'secondary'}\n",
            "\n",
            "{0: 'middle', 1: 'poorer', 2: 'poorest', 3: 'richer', 4: 'richest'}\n",
            "\n",
            "{0: 'improved', 1: 'unimproved'}\n",
            "\n",
            "{0: 'safe', 1: 'unsafe'}\n",
            "\n",
            "{0: '1-3', 1: '4-6', 2: '>6'}\n",
            "\n",
            "{0: '<=2', 1: '>2'}\n",
            "\n",
            "{0: 'female', 1: 'male'}\n",
            "\n",
            "{0: 'rural', 1: 'urban'}\n"
          ]
        }
      ],
      "source": [
        "# Mappings for 3 variables.\n",
        "print(dict( enumerate(model_5_data['children_age_v212'].cat.categories ) ))\n",
        "print()\n",
        "print(dict( enumerate(model_5_data['sex_of_child_b4'].cat.categories ) ))\n",
        "print()\n",
        "print(dict( enumerate(model_5_data['mothers_age_at_birth_v212'].cat.categories ) ))\n",
        "print()\n",
        "print(dict( enumerate(model_5_data['mom_marital_stats_v501'].cat.categories ) ))\n",
        "print()\n",
        "print(dict( enumerate(model_5_data['mother_education_v701'].cat.categories ) ))\n",
        "print()\n",
        "print(dict( enumerate(model_5_data['maternal_height_v438'].cat.categories ) ))\n",
        "print()\n",
        "print(dict( enumerate(model_5_data['mothers_bmi_v445'].cat.categories ) ))\n",
        "print()\n",
        "print(dict( enumerate(model_5_data['work_of_mom_v714'].cat.categories ) ))\n",
        "print()\n",
        "print(dict( enumerate(model_5_data['partner_occupation_v704'].cat.categories ) ))\n",
        "print()\n",
        "print(dict( enumerate(model_5_data['partner_education_v701'].cat.categories ) ))\n",
        "print()\n",
        "print(dict( enumerate(model_5_data['wealth_index_v190'].cat.categories ) ))\n",
        "print()\n",
        "print(dict( enumerate(model_5_data['type_of_toilet_v116'].cat.categories ) ))\n",
        "print()\n",
        "print(dict( enumerate(model_5_data['water_type_v113'].cat.categories ) ))\n",
        "print()\n",
        "print(dict( enumerate(model_5_data['num_of_house_members_v136'].cat.categories ) ))\n",
        "print()\n",
        "print(dict( enumerate(model_5_data['num_under_five_child_v137'].cat.categories ) ))\n",
        "print()\n",
        "print(dict( enumerate(model_5_data['sex_house_head_v151'].cat.categories ) ))\n",
        "print()\n",
        "print(dict( enumerate(model_5_data['place_of_residence_v025'].cat.categories ) ))"
      ]
    },
    {
      "cell_type": "code",
      "execution_count": null,
      "metadata": {
        "id": "OdUDIL4xg4Ax",
        "vscode": {
          "languageId": "python"
        }
      },
      "outputs": [],
      "source": [
        "# Converting categories to numbers\n",
        "model_5_data[\"children_age_v212\"] = model_5_data[\"children_age_v212\"].cat.codes\n",
        "model_5_data[\"sex_of_child_b4\"] = model_5_data[\"sex_of_child_b4\"].cat.codes\n",
        "model_5_data[\"is_twin_child_b0\"] = model_5_data[\"is_twin_child_b0\"].cat.codes\n",
        "model_5_data[\"mom_marital_stats_v501\"] = model_5_data[\"mom_marital_stats_v501\"].cat.codes\n",
        "model_5_data[\"mother_education_v701\"] = model_5_data[\"mother_education_v701\"].cat.codes\n",
        "model_5_data[\"maternal_height_v438\"] = model_5_data[\"maternal_height_v438\"].cat.codes\n",
        "model_5_data[\"work_of_mom_v714\"] = model_5_data[\"work_of_mom_v714\"].cat.codes\n",
        "model_5_data[\"partner_occupation_v704\"] = model_5_data[\"partner_occupation_v704\"].cat.codes\n",
        "model_5_data[\"partner_education_v701\"] = model_5_data[\"partner_education_v701\"].cat.codes\n",
        "model_5_data[\"mothers_bmi_v445\"] = model_5_data[\"mothers_bmi_v445\"].cat.codes\n",
        "model_5_data[\"mothers_age_at_birth_v212\"] = model_5_data[\"mothers_age_at_birth_v212\"].cat.codes\n",
        "model_5_data[\"wealth_index_v190\"] = model_5_data[\"wealth_index_v190\"].cat.codes\n",
        "model_5_data[\"type_of_toilet_v116\"] = model_5_data[\"type_of_toilet_v116\"].cat.codes\n",
        "model_5_data[\"water_type_v113\"] = model_5_data[\"water_type_v113\"].cat.codes\n",
        "model_5_data[\"num_of_house_members_v136\"] = model_5_data[\"num_of_house_members_v136\"].cat.codes\n",
        "model_5_data[\"num_under_five_child_v137\"] = model_5_data[\"num_under_five_child_v137\"].cat.codes\n",
        "model_5_data[\"sex_house_head_v151\"] = model_5_data[\"sex_house_head_v151\"].cat.codes\n",
        "model_5_data[\"place_of_residence_v025\"] = model_5_data[\"place_of_residence_v025\"].cat.codes"
      ]
    },
    {
      "cell_type": "code",
      "execution_count": null,
      "metadata": {
        "colab": {
          "base_uri": "https://localhost:8080/",
          "height": 743
        },
        "id": "gRYGgNTOhd6i",
        "outputId": "8dbd409a-99fb-4670-d399-cd4572e366b2",
        "vscode": {
          "languageId": "python"
        }
      },
      "outputs": [
        {
          "name": "stdout",
          "output_type": "stream",
          "text": [
            "Optimization terminated successfully.\n",
            "         Current function value: 0.638625\n",
            "         Iterations 5\n",
            "                          Results: Logit\n",
            "==================================================================\n",
            "Model:              Logit            Pseudo R-squared: 0.048      \n",
            "Dependent Variable: y                AIC:              25268.2387 \n",
            "Date:               2020-08-09 14:29 BIC:              25426.0589 \n",
            "No. Observations:   19752            Log-Likelihood:   -12614.    \n",
            "Df Model:           19               LL-Null:          -13254.    \n",
            "Df Residuals:       19732            LLR p-value:      8.1368e-260\n",
            "Converged:          1.0000           Scale:            1.0000     \n",
            "No. Iterations:     5.0000                                        \n",
            "--------------------------------------------------------------------\n",
            "           Coef.    Std.Err.      z       P>|z|     [0.025    0.975]\n",
            "--------------------------------------------------------------------\n",
            "x1        -0.3468     0.1338    -2.5931   0.0095   -0.6090   -0.0847\n",
            "x2         0.0038     0.0053     0.7165   0.4737   -0.0066    0.0141\n",
            "x3         0.0562     0.0301     1.8660   0.0620   -0.0028    0.1152\n",
            "x4        -0.2221     0.0530    -4.1926   0.0000   -0.3260   -0.1183\n",
            "x5        -0.1722     0.0229    -7.5285   0.0000   -0.2170   -0.1273\n",
            "x6         0.0037     0.0595     0.0630   0.9498   -0.1128    0.1203\n",
            "x7        -0.0678     0.0170    -3.9995   0.0001   -0.1010   -0.0346\n",
            "x8        -0.9517     0.0442   -21.5309   0.0000   -1.0383   -0.8651\n",
            "x9        -0.3821     0.0338   -11.3008   0.0000   -0.4484   -0.3159\n",
            "x10        0.1080     0.0387     2.7921   0.0052    0.0322    0.1838\n",
            "x11        0.1639     0.1000     1.6387   0.1013   -0.0321    0.3599\n",
            "x12        0.0027     0.0161     0.1667   0.8676   -0.0289    0.0343\n",
            "x13       -0.1193     0.0121    -9.8993   0.0000   -0.1430   -0.0957\n",
            "x14        0.3102     0.0334     9.2952   0.0000    0.2448    0.3757\n",
            "x15       -0.2440     0.0516    -4.7293   0.0000   -0.3451   -0.1429\n",
            "x16       -0.0152     0.0259    -0.5866   0.5575   -0.0659    0.0355\n",
            "x17        0.1736     0.0608     2.8567   0.0043    0.0545    0.2927\n",
            "x18        0.0357     0.0555     0.6426   0.5205   -0.0731    0.1444\n",
            "x19       -0.1015     0.0355    -2.8623   0.0042   -0.1710   -0.0320\n",
            "x20        0.0022     0.0005     3.9287   0.0001    0.0011    0.0032\n",
            "==================================================================\n",
            "\n",
            "Odd Ratios are:  [0.70691576 1.00379001 1.05781202 0.80082195 0.84183749 1.00375278\n",
            " 0.9344522  0.38608687 0.68240105 1.11405282 1.17810792 1.00269044\n",
            " 0.88750166 1.36375109 0.78348182 0.9849363  1.18958375 1.03630001\n",
            " 0.9035009  1.00215759]\n"
          ]
        }
      ],
      "source": [
        "# Regression\n",
        "X = model_5_data.iloc[:, :-1].values # independent\n",
        "y = model_5_data.iloc[:, -1].values # dependent\n",
        "\n",
        "logit_model = sm.Logit(y,X)\n",
        "result = logit_model.fit()\n",
        "\n",
        "print(result.summary2())\n",
        "# For odd ration:\n",
        "print(\"Odd Ratios are: \", np.exp(result.params))"
      ]
    },
    {
      "cell_type": "code",
      "execution_count": null,
      "metadata": {
        "colab": {
          "base_uri": "https://localhost:8080/",
          "height": 518
        },
        "id": "IirD_arAhmvN",
        "outputId": "5f2c77e0-8db7-4a0a-99d9-60ba596ec2c7",
        "vscode": {
          "languageId": "python"
        }
      },
      "outputs": [
        {
          "name": "stdout",
          "output_type": "stream",
          "text": [
            "        Logit Marginal Effects       \n",
            "=====================================\n",
            "Dep. Variable:                      y\n",
            "Method:                          dydx\n",
            "At:                           overall\n",
            "==============================================================================\n",
            "                dy/dx    std err          z      P>|z|      [0.025      0.975]\n",
            "------------------------------------------------------------------------------\n",
            "x1            -0.0776      0.030     -2.595      0.009      -0.136      -0.019\n",
            "x2             0.0008      0.001      0.717      0.474      -0.001       0.003\n",
            "x3             0.0126      0.007      1.867      0.062      -0.001       0.026\n",
            "x4            -0.0497      0.012     -4.199      0.000      -0.073      -0.026\n",
            "x5            -0.0385      0.005     -7.567      0.000      -0.048      -0.029\n",
            "x6             0.0008      0.013      0.063      0.950      -0.025       0.027\n",
            "x7            -0.0152      0.004     -4.005      0.000      -0.023      -0.008\n",
            "x8            -0.2129      0.009    -22.565      0.000      -0.231      -0.194\n",
            "x9            -0.0855      0.007    -11.440      0.000      -0.100      -0.071\n",
            "x10            0.0242      0.009      2.794      0.005       0.007       0.041\n",
            "x11            0.0367      0.022      1.639      0.101      -0.007       0.081\n",
            "x12            0.0006      0.004      0.167      0.868      -0.006       0.008\n",
            "x13           -0.0267      0.003     -9.988      0.000      -0.032      -0.021\n",
            "x14            0.0694      0.007      9.371      0.000       0.055       0.084\n",
            "x15           -0.0546      0.012     -4.739      0.000      -0.077      -0.032\n",
            "x16           -0.0034      0.006     -0.587      0.557      -0.015       0.008\n",
            "x17            0.0388      0.014      2.859      0.004       0.012       0.065\n",
            "x18            0.0080      0.012      0.643      0.520      -0.016       0.032\n",
            "x19           -0.0227      0.008     -2.864      0.004      -0.038      -0.007\n",
            "x20            0.0005      0.000      3.934      0.000       0.000       0.001\n",
            "==============================================================================\n"
          ]
        }
      ],
      "source": [
        "# for marginal effects\n",
        "merge_eff = result.get_margeff() # default overwall with method dydx\n",
        "print(merge_eff.summary())"
      ]
    },
    {
      "cell_type": "markdown",
      "metadata": {
        "id": "RMlkfddshuNH"
      },
      "source": [
        "# Model 5 underweight"
      ]
    },
    {
      "cell_type": "code",
      "execution_count": null,
      "metadata": {
        "id": "dUExgA-YhxdK",
        "vscode": {
          "languageId": "python"
        }
      },
      "outputs": [],
      "source": [
        "model_5_data = ultimate_data[['log_GDP_PC_PPP','children_age_v212', \n",
        "                              'sex_of_child_b4', \"is_twin_child_b0\", \n",
        "                              \"mothers_age_at_birth_v212\", \n",
        "                              'mom_marital_stats_v501', \n",
        "                              'mother_education_v701', \n",
        "                              'maternal_height_v438', \n",
        "                              'mothers_bmi_v445', \n",
        "                              'work_of_mom_v714', \n",
        "                              'partner_occupation_v704', \n",
        "                              'partner_education_v701',\n",
        "                              \"wealth_index_v190\",\n",
        "                              \"type_of_toilet_v116\",\n",
        "                              \"water_type_v113\",\n",
        "                              \"num_of_house_members_v136\",\n",
        "                              \"num_under_five_child_v137\",\n",
        "                              \"sex_house_head_v151\",\n",
        "                              \"place_of_residence_v025\",\n",
        "                              \"year_interview_v007\",\n",
        "                              'underweight']]\n",
        "model_5_data.info()"
      ]
    },
    {
      "cell_type": "code",
      "execution_count": null,
      "metadata": {
        "colab": {
          "base_uri": "https://localhost:8080/",
          "height": 587
        },
        "id": "3NJJqMRHh5zi",
        "outputId": "9250062e-9b41-4796-96cf-73aa6dd0e4ca",
        "vscode": {
          "languageId": "python"
        }
      },
      "outputs": [
        {
          "name": "stdout",
          "output_type": "stream",
          "text": [
            "{0: '0-5', 1: '12-17', 2: '18-23', 3: '24-29', 4: '30-35', 5: '36-41', 6: '42-47', 7: '48-53', 8: '54-59', 9: '6-11'}\n",
            "\n",
            "{0: 'female', 1: 'male'}\n",
            "\n",
            "{0: '10-14', 1: '15-19', 2: '20-24', 3: '25-29', 4: '30-34', 5: '35-39', 6: '40-44', 7: '45-49'}\n",
            "\n",
            "{0: 'divorced', 1: 'married', 2: 'no longer living together/separated', 3: 'not living together', 4: 'widowed'}\n",
            "\n",
            "{0: 'higher', 1: 'no education', 2: 'primary', 3: 'secondary'}\n",
            "\n",
            "{0: '<145', 1: '>=145'}\n",
            "\n",
            "{0: '<18.5', 1: '>=18.5'}\n",
            "\n",
            "{0: False, 1: True}\n",
            "\n",
            "{0: False, 1: True}\n",
            "\n",
            "{0: 'higher', 1: 'no education', 2: 'primary', 3: 'secondary'}\n",
            "\n",
            "{0: 'middle', 1: 'poorer', 2: 'poorest', 3: 'richer', 4: 'richest'}\n",
            "\n",
            "{0: 'improved', 1: 'unimproved'}\n",
            "\n",
            "{0: 'safe', 1: 'unsafe'}\n",
            "\n",
            "{0: '1-3', 1: '4-6', 2: '>6'}\n",
            "\n",
            "{0: '<=2', 1: '>2'}\n",
            "\n",
            "{0: 'female', 1: 'male'}\n",
            "\n",
            "{0: 'rural', 1: 'urban'}\n"
          ]
        }
      ],
      "source": [
        "# Mappings for 3 variables.\n",
        "print(dict( enumerate(model_5_data['children_age_v212'].cat.categories ) ))\n",
        "print()\n",
        "print(dict( enumerate(model_5_data['sex_of_child_b4'].cat.categories ) ))\n",
        "print()\n",
        "print(dict( enumerate(model_5_data['mothers_age_at_birth_v212'].cat.categories ) ))\n",
        "print()\n",
        "print(dict( enumerate(model_5_data['mom_marital_stats_v501'].cat.categories ) ))\n",
        "print()\n",
        "print(dict( enumerate(model_5_data['mother_education_v701'].cat.categories ) ))\n",
        "print()\n",
        "print(dict( enumerate(model_5_data['maternal_height_v438'].cat.categories ) ))\n",
        "print()\n",
        "print(dict( enumerate(model_5_data['mothers_bmi_v445'].cat.categories ) ))\n",
        "print()\n",
        "print(dict( enumerate(model_5_data['work_of_mom_v714'].cat.categories ) ))\n",
        "print()\n",
        "print(dict( enumerate(model_5_data['partner_occupation_v704'].cat.categories ) ))\n",
        "print()\n",
        "print(dict( enumerate(model_5_data['partner_education_v701'].cat.categories ) ))\n",
        "print()\n",
        "print(dict( enumerate(model_5_data['wealth_index_v190'].cat.categories ) ))\n",
        "print()\n",
        "print(dict( enumerate(model_5_data['type_of_toilet_v116'].cat.categories ) ))\n",
        "print()\n",
        "print(dict( enumerate(model_5_data['water_type_v113'].cat.categories ) ))\n",
        "print()\n",
        "print(dict( enumerate(model_5_data['num_of_house_members_v136'].cat.categories ) ))\n",
        "print()\n",
        "print(dict( enumerate(model_5_data['num_under_five_child_v137'].cat.categories ) ))\n",
        "print()\n",
        "print(dict( enumerate(model_5_data['sex_house_head_v151'].cat.categories ) ))\n",
        "print()\n",
        "print(dict( enumerate(model_5_data['place_of_residence_v025'].cat.categories ) ))"
      ]
    },
    {
      "cell_type": "code",
      "execution_count": null,
      "metadata": {
        "id": "cpMTXvqjh9bg",
        "vscode": {
          "languageId": "python"
        }
      },
      "outputs": [],
      "source": [
        "# Converting categories to numbers\n",
        "model_5_data[\"children_age_v212\"] = model_5_data[\"children_age_v212\"].cat.codes\n",
        "model_5_data[\"sex_of_child_b4\"] = model_5_data[\"sex_of_child_b4\"].cat.codes\n",
        "model_5_data[\"is_twin_child_b0\"] = model_5_data[\"is_twin_child_b0\"].cat.codes\n",
        "model_5_data[\"mom_marital_stats_v501\"] = model_5_data[\"mom_marital_stats_v501\"].cat.codes\n",
        "model_5_data[\"mother_education_v701\"] = model_5_data[\"mother_education_v701\"].cat.codes\n",
        "model_5_data[\"maternal_height_v438\"] = model_5_data[\"maternal_height_v438\"].cat.codes\n",
        "model_5_data[\"work_of_mom_v714\"] = model_5_data[\"work_of_mom_v714\"].cat.codes\n",
        "model_5_data[\"partner_occupation_v704\"] = model_5_data[\"partner_occupation_v704\"].cat.codes\n",
        "model_5_data[\"partner_education_v701\"] = model_5_data[\"partner_education_v701\"].cat.codes\n",
        "model_5_data[\"mothers_bmi_v445\"] = model_5_data[\"mothers_bmi_v445\"].cat.codes\n",
        "model_5_data[\"mothers_age_at_birth_v212\"] = model_5_data[\"mothers_age_at_birth_v212\"].cat.codes\n",
        "model_5_data[\"wealth_index_v190\"] = model_5_data[\"wealth_index_v190\"].cat.codes\n",
        "model_5_data[\"type_of_toilet_v116\"] = model_5_data[\"type_of_toilet_v116\"].cat.codes\n",
        "model_5_data[\"water_type_v113\"] = model_5_data[\"water_type_v113\"].cat.codes\n",
        "model_5_data[\"num_of_house_members_v136\"] = model_5_data[\"num_of_house_members_v136\"].cat.codes\n",
        "model_5_data[\"num_under_five_child_v137\"] = model_5_data[\"num_under_five_child_v137\"].cat.codes\n",
        "model_5_data[\"sex_house_head_v151\"] = model_5_data[\"sex_house_head_v151\"].cat.codes\n",
        "model_5_data[\"place_of_residence_v025\"] = model_5_data[\"place_of_residence_v025\"].cat.codes"
      ]
    },
    {
      "cell_type": "code",
      "execution_count": null,
      "metadata": {
        "colab": {
          "base_uri": "https://localhost:8080/",
          "height": 743
        },
        "id": "M-gYZ_B-iEKF",
        "outputId": "a43fa5a5-9102-4797-8670-cf0e3204e409",
        "vscode": {
          "languageId": "python"
        }
      },
      "outputs": [
        {
          "name": "stdout",
          "output_type": "stream",
          "text": [
            "Optimization terminated successfully.\n",
            "         Current function value: 0.617179\n",
            "         Iterations 5\n",
            "                          Results: Logit\n",
            "==================================================================\n",
            "Model:              Logit            Pseudo R-squared: 0.053      \n",
            "Dependent Variable: y                AIC:              24421.0444 \n",
            "Date:               2020-08-09 14:29 BIC:              24578.8646 \n",
            "No. Observations:   19752            Log-Likelihood:   -12191.    \n",
            "Df Model:           19               LL-Null:          -12873.    \n",
            "Df Residuals:       19732            LLR p-value:      5.4185e-278\n",
            "Converged:          1.0000           Scale:            1.0000     \n",
            "No. Iterations:     5.0000                                        \n",
            "--------------------------------------------------------------------\n",
            "           Coef.    Std.Err.      z       P>|z|     [0.025    0.975]\n",
            "--------------------------------------------------------------------\n",
            "x1        -0.6908     0.1365    -5.0592   0.0000   -0.9584   -0.4232\n",
            "x2         0.0284     0.0054     5.2541   0.0000    0.0178    0.0390\n",
            "x3        -0.0746     0.0308    -2.4212   0.0155   -0.1349   -0.0142\n",
            "x4        -0.2117     0.0532    -3.9763   0.0001   -0.3161   -0.1074\n",
            "x5        -0.1416     0.0234    -6.0452   0.0000   -0.1875   -0.0957\n",
            "x6         0.1135     0.0591     1.9209   0.0547   -0.0023    0.2293\n",
            "x7        -0.0665     0.0174    -3.8191   0.0001   -0.1007   -0.0324\n",
            "x8        -0.7316     0.0439   -16.6727   0.0000   -0.8176   -0.6456\n",
            "x9        -0.6583     0.0340   -19.3712   0.0000   -0.7249   -0.5917\n",
            "x10        0.1031     0.0394     2.6152   0.0089    0.0258    0.1804\n",
            "x11        0.1792     0.1030     1.7401   0.0818   -0.0226    0.3811\n",
            "x12       -0.0086     0.0166    -0.5161   0.6058   -0.0411    0.0240\n",
            "x13       -0.1214     0.0124    -9.8217   0.0000   -0.1456   -0.0972\n",
            "x14        0.2412     0.0341     7.0800   0.0000    0.1744    0.3079\n",
            "x15       -0.2153     0.0528    -4.0765   0.0000   -0.3188   -0.1118\n",
            "x16       -0.0184     0.0265    -0.6952   0.4869   -0.0703    0.0335\n",
            "x17        0.0880     0.0622     1.4147   0.1572   -0.0339    0.2100\n",
            "x18        0.0085     0.0567     0.1505   0.8804   -0.1027    0.1197\n",
            "x19       -0.1632     0.0365    -4.4780   0.0000   -0.2347   -0.0918\n",
            "x20        0.0034     0.0006     6.0306   0.0000    0.0023    0.0045\n",
            "==================================================================\n",
            "\n",
            "Odd Ratios are:  [0.50118333 1.02880763 0.92815342 0.80920478 0.86795007 1.12018424\n",
            " 0.93564149 0.48112919 0.51772594 1.10860208 1.19627929 0.99147037\n",
            " 0.88569722 1.27273749 0.80633    0.98176032 1.09202373 1.00857499\n",
            " 0.84938609 1.00338191]\n"
          ]
        }
      ],
      "source": [
        "# Regression\n",
        "X = model_5_data.iloc[:, :-1].values # independent\n",
        "y = model_5_data.iloc[:, -1].values # dependent\n",
        "\n",
        "logit_model = sm.Logit(y,X)\n",
        "result = logit_model.fit()\n",
        "\n",
        "print(result.summary2())\n",
        "# For odd ration:\n",
        "print(\"Odd Ratios are: \", np.exp(result.params))"
      ]
    },
    {
      "cell_type": "code",
      "execution_count": null,
      "metadata": {
        "colab": {
          "base_uri": "https://localhost:8080/",
          "height": 518
        },
        "id": "6awrLp-siHok",
        "outputId": "c01e4564-0c1e-4ac0-ee3c-905648968bc2",
        "vscode": {
          "languageId": "python"
        }
      },
      "outputs": [
        {
          "name": "stdout",
          "output_type": "stream",
          "text": [
            "        Logit Marginal Effects       \n",
            "=====================================\n",
            "Dep. Variable:                      y\n",
            "Method:                          dydx\n",
            "At:                           overall\n",
            "==============================================================================\n",
            "                dy/dx    std err          z      P>|z|      [0.025      0.975]\n",
            "------------------------------------------------------------------------------\n",
            "x1            -0.1477      0.029     -5.071      0.000      -0.205      -0.091\n",
            "x2             0.0061      0.001      5.267      0.000       0.004       0.008\n",
            "x3            -0.0159      0.007     -2.422      0.015      -0.029      -0.003\n",
            "x4            -0.0453      0.011     -3.982      0.000      -0.068      -0.023\n",
            "x5            -0.0303      0.005     -6.064      0.000      -0.040      -0.020\n",
            "x6             0.0243      0.013      1.922      0.055      -0.000       0.049\n",
            "x7            -0.0142      0.004     -3.824      0.000      -0.022      -0.007\n",
            "x8            -0.1564      0.009    -17.128      0.000      -0.174      -0.139\n",
            "x9            -0.1408      0.007    -20.093      0.000      -0.154      -0.127\n",
            "x10            0.0220      0.008      2.617      0.009       0.006       0.039\n",
            "x11            0.0383      0.022      1.741      0.082      -0.005       0.081\n",
            "x12           -0.0018      0.004     -0.516      0.606      -0.009       0.005\n",
            "x13           -0.0260      0.003     -9.904      0.000      -0.031      -0.021\n",
            "x14            0.0516      0.007      7.112      0.000       0.037       0.066\n",
            "x15           -0.0460      0.011     -4.083      0.000      -0.068      -0.024\n",
            "x16           -0.0039      0.006     -0.695      0.487      -0.015       0.007\n",
            "x17            0.0188      0.013      1.415      0.157      -0.007       0.045\n",
            "x18            0.0018      0.012      0.150      0.880      -0.022       0.026\n",
            "x19           -0.0349      0.008     -4.486      0.000      -0.050      -0.020\n",
            "x20            0.0007      0.000      6.050      0.000       0.000       0.001\n",
            "==============================================================================\n"
          ]
        }
      ],
      "source": [
        "# for marginal effects\n",
        "merge_eff = result.get_margeff() # default overwall with method dydx\n",
        "print(merge_eff.summary())"
      ]
    },
    {
      "cell_type": "markdown",
      "metadata": {
        "id": "UDOZrufXiRI2"
      },
      "source": [
        "# Model 5 wasted"
      ]
    },
    {
      "cell_type": "code",
      "execution_count": null,
      "metadata": {
        "id": "vgbdlNwbiNId",
        "vscode": {
          "languageId": "python"
        }
      },
      "outputs": [],
      "source": [
        "model_5_data = ultimate_data[['log_GDP_PC_PPP','children_age_v212', \n",
        "                              'sex_of_child_b4', \"is_twin_child_b0\", \n",
        "                              \"mothers_age_at_birth_v212\", \n",
        "                              'mom_marital_stats_v501', \n",
        "                              'mother_education_v701', \n",
        "                              'maternal_height_v438', \n",
        "                              'mothers_bmi_v445', \n",
        "                              'work_of_mom_v714', \n",
        "                              'partner_occupation_v704', \n",
        "                              'partner_education_v701',\n",
        "                              \"wealth_index_v190\",\n",
        "                              \"type_of_toilet_v116\",\n",
        "                              \"water_type_v113\",\n",
        "                              \"num_of_house_members_v136\",\n",
        "                              \"num_under_five_child_v137\",\n",
        "                              \"sex_house_head_v151\",\n",
        "                              \"place_of_residence_v025\",\n",
        "                              \"year_interview_v007\",\n",
        "                              'wasted']]\n",
        "model_5_data.info()"
      ]
    },
    {
      "cell_type": "code",
      "execution_count": null,
      "metadata": {
        "colab": {
          "base_uri": "https://localhost:8080/",
          "height": 587
        },
        "id": "mwEU6VRtiXSc",
        "outputId": "3a60abf0-cdb5-44bd-8062-3de32e9aa016",
        "vscode": {
          "languageId": "python"
        }
      },
      "outputs": [
        {
          "name": "stdout",
          "output_type": "stream",
          "text": [
            "{0: '0-5', 1: '12-17', 2: '18-23', 3: '24-29', 4: '30-35', 5: '36-41', 6: '42-47', 7: '48-53', 8: '54-59', 9: '6-11'}\n",
            "\n",
            "{0: 'female', 1: 'male'}\n",
            "\n",
            "{0: '10-14', 1: '15-19', 2: '20-24', 3: '25-29', 4: '30-34', 5: '35-39', 6: '40-44', 7: '45-49'}\n",
            "\n",
            "{0: 'divorced', 1: 'married', 2: 'no longer living together/separated', 3: 'not living together', 4: 'widowed'}\n",
            "\n",
            "{0: 'higher', 1: 'no education', 2: 'primary', 3: 'secondary'}\n",
            "\n",
            "{0: '<145', 1: '>=145'}\n",
            "\n",
            "{0: '<18.5', 1: '>=18.5'}\n",
            "\n",
            "{0: False, 1: True}\n",
            "\n",
            "{0: False, 1: True}\n",
            "\n",
            "{0: 'higher', 1: 'no education', 2: 'primary', 3: 'secondary'}\n",
            "\n",
            "{0: 'middle', 1: 'poorer', 2: 'poorest', 3: 'richer', 4: 'richest'}\n",
            "\n",
            "{0: 'improved', 1: 'unimproved'}\n",
            "\n",
            "{0: 'safe', 1: 'unsafe'}\n",
            "\n",
            "{0: '1-3', 1: '4-6', 2: '>6'}\n",
            "\n",
            "{0: '<=2', 1: '>2'}\n",
            "\n",
            "{0: 'female', 1: 'male'}\n",
            "\n",
            "{0: 'rural', 1: 'urban'}\n"
          ]
        }
      ],
      "source": [
        "# Mappings for 3 variables.\n",
        "print(dict( enumerate(model_5_data['children_age_v212'].cat.categories ) ))\n",
        "print()\n",
        "print(dict( enumerate(model_5_data['sex_of_child_b4'].cat.categories ) ))\n",
        "print()\n",
        "print(dict( enumerate(model_5_data['mothers_age_at_birth_v212'].cat.categories ) ))\n",
        "print()\n",
        "print(dict( enumerate(model_5_data['mom_marital_stats_v501'].cat.categories ) ))\n",
        "print()\n",
        "print(dict( enumerate(model_5_data['mother_education_v701'].cat.categories ) ))\n",
        "print()\n",
        "print(dict( enumerate(model_5_data['maternal_height_v438'].cat.categories ) ))\n",
        "print()\n",
        "print(dict( enumerate(model_5_data['mothers_bmi_v445'].cat.categories ) ))\n",
        "print()\n",
        "print(dict( enumerate(model_5_data['work_of_mom_v714'].cat.categories ) ))\n",
        "print()\n",
        "print(dict( enumerate(model_5_data['partner_occupation_v704'].cat.categories ) ))\n",
        "print()\n",
        "print(dict( enumerate(model_5_data['partner_education_v701'].cat.categories ) ))\n",
        "print()\n",
        "print(dict( enumerate(model_5_data['wealth_index_v190'].cat.categories ) ))\n",
        "print()\n",
        "print(dict( enumerate(model_5_data['type_of_toilet_v116'].cat.categories ) ))\n",
        "print()\n",
        "print(dict( enumerate(model_5_data['water_type_v113'].cat.categories ) ))\n",
        "print()\n",
        "print(dict( enumerate(model_5_data['num_of_house_members_v136'].cat.categories ) ))\n",
        "print()\n",
        "print(dict( enumerate(model_5_data['num_under_five_child_v137'].cat.categories ) ))\n",
        "print()\n",
        "print(dict( enumerate(model_5_data['sex_house_head_v151'].cat.categories ) ))\n",
        "print()\n",
        "print(dict( enumerate(model_5_data['place_of_residence_v025'].cat.categories ) ))"
      ]
    },
    {
      "cell_type": "code",
      "execution_count": null,
      "metadata": {
        "id": "qLMbIgcPiZWQ",
        "vscode": {
          "languageId": "python"
        }
      },
      "outputs": [],
      "source": [
        "# Converting categories to numbers\n",
        "model_5_data[\"children_age_v212\"] = model_5_data[\"children_age_v212\"].cat.codes\n",
        "model_5_data[\"sex_of_child_b4\"] = model_5_data[\"sex_of_child_b4\"].cat.codes\n",
        "model_5_data[\"is_twin_child_b0\"] = model_5_data[\"is_twin_child_b0\"].cat.codes\n",
        "model_5_data[\"mom_marital_stats_v501\"] = model_5_data[\"mom_marital_stats_v501\"].cat.codes\n",
        "model_5_data[\"mother_education_v701\"] = model_5_data[\"mother_education_v701\"].cat.codes\n",
        "model_5_data[\"maternal_height_v438\"] = model_5_data[\"maternal_height_v438\"].cat.codes\n",
        "model_5_data[\"work_of_mom_v714\"] = model_5_data[\"work_of_mom_v714\"].cat.codes\n",
        "model_5_data[\"partner_occupation_v704\"] = model_5_data[\"partner_occupation_v704\"].cat.codes\n",
        "model_5_data[\"partner_education_v701\"] = model_5_data[\"partner_education_v701\"].cat.codes\n",
        "model_5_data[\"mothers_bmi_v445\"] = model_5_data[\"mothers_bmi_v445\"].cat.codes\n",
        "model_5_data[\"mothers_age_at_birth_v212\"] = model_5_data[\"mothers_age_at_birth_v212\"].cat.codes\n",
        "model_5_data[\"wealth_index_v190\"] = model_5_data[\"wealth_index_v190\"].cat.codes\n",
        "model_5_data[\"type_of_toilet_v116\"] = model_5_data[\"type_of_toilet_v116\"].cat.codes\n",
        "model_5_data[\"water_type_v113\"] = model_5_data[\"water_type_v113\"].cat.codes\n",
        "model_5_data[\"num_of_house_members_v136\"] = model_5_data[\"num_of_house_members_v136\"].cat.codes\n",
        "model_5_data[\"num_under_five_child_v137\"] = model_5_data[\"num_under_five_child_v137\"].cat.codes\n",
        "model_5_data[\"sex_house_head_v151\"] = model_5_data[\"sex_house_head_v151\"].cat.codes\n",
        "model_5_data[\"place_of_residence_v025\"] = model_5_data[\"place_of_residence_v025\"].cat.codes"
      ]
    },
    {
      "cell_type": "code",
      "execution_count": null,
      "metadata": {
        "colab": {
          "base_uri": "https://localhost:8080/",
          "height": 743
        },
        "id": "I_nt0j0rifhW",
        "outputId": "221d027b-a555-4e1a-a979-570985eeb7cd",
        "vscode": {
          "languageId": "python"
        }
      },
      "outputs": [
        {
          "name": "stdout",
          "output_type": "stream",
          "text": [
            "Optimization terminated successfully.\n",
            "         Current function value: 0.424992\n",
            "         Iterations 6\n",
            "                         Results: Logit\n",
            "=================================================================\n",
            "Model:              Logit            Pseudo R-squared: 0.015     \n",
            "Dependent Variable: y                AIC:              16828.8854\n",
            "Date:               2020-08-09 14:30 BIC:              16986.7056\n",
            "No. Observations:   19752            Log-Likelihood:   -8394.4   \n",
            "Df Model:           19               LL-Null:          -8522.9   \n",
            "Df Residuals:       19732            LLR p-value:      1.2542e-43\n",
            "Converged:          1.0000           Scale:            1.0000    \n",
            "No. Iterations:     6.0000                                       \n",
            "-------------------------------------------------------------------\n",
            "          Coef.    Std.Err.      z       P>|z|     [0.025    0.975]\n",
            "-------------------------------------------------------------------\n",
            "x1       -0.4316     0.1751    -2.4649   0.0137   -0.7748   -0.0884\n",
            "x2       -0.0176     0.0069    -2.5399   0.0111   -0.0312   -0.0040\n",
            "x3        0.1259     0.0397     3.1718   0.0015    0.0481    0.2036\n",
            "x4       -0.0036     0.0734    -0.0489   0.9610   -0.1474    0.1403\n",
            "x5       -0.0175     0.0298    -0.5884   0.5563   -0.0758    0.0408\n",
            "x6        0.0234     0.0770     0.3045   0.7607   -0.1274    0.1743\n",
            "x7       -0.0405     0.0224    -1.8103   0.0702   -0.0843    0.0033\n",
            "x8       -0.1674     0.0561    -2.9832   0.0029   -0.2773   -0.0574\n",
            "x9       -0.5008     0.0424   -11.7982   0.0000   -0.5839   -0.4176\n",
            "x10       0.0712     0.0505     1.4088   0.1589   -0.0278    0.1701\n",
            "x11       0.3433     0.1447     2.3723   0.0177    0.0597    0.6270\n",
            "x12       0.0083     0.0214     0.3886   0.6976   -0.0336    0.0503\n",
            "x13      -0.0517     0.0160    -3.2310   0.0012   -0.0831   -0.0203\n",
            "x14       0.0553     0.0441     1.2535   0.2100   -0.0312    0.1417\n",
            "x15      -0.0019     0.0669    -0.0279   0.9777   -0.1329    0.1292\n",
            "x16      -0.0414     0.0340    -1.2181   0.2232   -0.1080    0.0252\n",
            "x17       0.0318     0.0803     0.3960   0.6921   -0.1256    0.1893\n",
            "x18       0.0504     0.0739     0.6817   0.4954   -0.0945    0.1952\n",
            "x19      -0.1221     0.0474    -2.5775   0.0100   -0.2150   -0.0293\n",
            "x20       0.0010     0.0007     1.4580   0.1448   -0.0004    0.0025\n",
            "=================================================================\n",
            "\n",
            "Odd Ratios are:  [0.64945207 0.98251954 1.13411586 0.99641914 0.98264299 1.0237091\n",
            " 0.96031295 0.84589605 0.60607029 1.07374516 1.40964124 1.00835127\n",
            " 0.94959308 1.0568358  0.99813562 0.95944961 1.03231992 1.05167113\n",
            " 0.8850553  1.00104983]\n"
          ]
        }
      ],
      "source": [
        "# Regression\n",
        "X = model_5_data.iloc[:, :-1].values # independent\n",
        "y = model_5_data.iloc[:, -1].values # dependent\n",
        "\n",
        "logit_model = sm.Logit(y,X)\n",
        "result = logit_model.fit()\n",
        "\n",
        "print(result.summary2())\n",
        "# For odd ration:\n",
        "print(\"Odd Ratios are: \", np.exp(result.params))"
      ]
    },
    {
      "cell_type": "code",
      "execution_count": null,
      "metadata": {
        "colab": {
          "base_uri": "https://localhost:8080/",
          "height": 518
        },
        "id": "fHdw8E2uiiZt",
        "outputId": "e7ac4feb-e737-4bab-b0b5-b7b4dd62c4c5",
        "vscode": {
          "languageId": "python"
        }
      },
      "outputs": [
        {
          "name": "stdout",
          "output_type": "stream",
          "text": [
            "        Logit Marginal Effects       \n",
            "=====================================\n",
            "Dep. Variable:                      y\n",
            "Method:                          dydx\n",
            "At:                           overall\n",
            "==============================================================================\n",
            "                dy/dx    std err          z      P>|z|      [0.025      0.975]\n",
            "------------------------------------------------------------------------------\n",
            "x1            -0.0558      0.023     -2.465      0.014      -0.100      -0.011\n",
            "x2            -0.0023      0.001     -2.540      0.011      -0.004      -0.001\n",
            "x3             0.0163      0.005      3.172      0.002       0.006       0.026\n",
            "x4            -0.0005      0.009     -0.049      0.961      -0.019       0.018\n",
            "x5            -0.0023      0.004     -0.588      0.556      -0.010       0.005\n",
            "x6             0.0030      0.010      0.305      0.761      -0.016       0.023\n",
            "x7            -0.0052      0.003     -1.810      0.070      -0.011       0.000\n",
            "x8            -0.0216      0.007     -2.984      0.003      -0.036      -0.007\n",
            "x9            -0.0647      0.005    -11.835      0.000      -0.075      -0.054\n",
            "x10            0.0092      0.007      1.409      0.159      -0.004       0.022\n",
            "x11            0.0444      0.019      2.372      0.018       0.008       0.081\n",
            "x12            0.0011      0.003      0.389      0.698      -0.004       0.006\n",
            "x13           -0.0067      0.002     -3.231      0.001      -0.011      -0.003\n",
            "x14            0.0071      0.006      1.254      0.210      -0.004       0.018\n",
            "x15           -0.0002      0.009     -0.028      0.978      -0.017       0.017\n",
            "x16           -0.0054      0.004     -1.218      0.223      -0.014       0.003\n",
            "x17            0.0041      0.010      0.396      0.692      -0.016       0.024\n",
            "x18            0.0065      0.010      0.682      0.495      -0.012       0.025\n",
            "x19           -0.0158      0.006     -2.578      0.010      -0.028      -0.004\n",
            "x20            0.0001    9.3e-05      1.458      0.145   -4.67e-05       0.000\n",
            "==============================================================================\n"
          ]
        }
      ],
      "source": [
        "# for marginal effects\n",
        "merge_eff = result.get_margeff() # default overwall with method dydx\n",
        "print(merge_eff.summary())"
      ]
    },
    {
      "cell_type": "markdown",
      "metadata": {
        "id": "4jfCvif2WiNp"
      },
      "source": [
        "# Reference interpretation for marginal effects\n",
        "\n",
        "https://towardsdatascience.com/binary-logistic-regression-using-python-research-oriented-modelling-and-interpretation-49b025f1b510"
      ]
    },
    {
      "cell_type": "markdown",
      "metadata": {
        "id": "2Nq20qK9_pJf"
      },
      "source": [
        "## TESTING PURPOSES"
      ]
    },
    {
      "cell_type": "markdown",
      "metadata": {
        "id": "tKWc2NXi6QZn"
      },
      "source": [
        "# For my testing"
      ]
    },
    {
      "cell_type": "code",
      "execution_count": null,
      "metadata": {
        "colab": {
          "base_uri": "https://localhost:8080/",
          "height": 150
        },
        "id": "zsBf94tYAkqA",
        "outputId": "c067baa6-a386-4396-c1b2-5389c5d84c30",
        "vscode": {
          "languageId": "python"
        }
      },
      "outputs": [
        {
          "data": {
            "text/html": [
              "<div>\n",
              "<style scoped>\n",
              "    .dataframe tbody tr th:only-of-type {\n",
              "        vertical-align: middle;\n",
              "    }\n",
              "\n",
              "    .dataframe tbody tr th {\n",
              "        vertical-align: top;\n",
              "    }\n",
              "\n",
              "    .dataframe thead th {\n",
              "        text-align: right;\n",
              "    }\n",
              "</style>\n",
              "<table border=\"1\" class=\"dataframe\">\n",
              "  <thead>\n",
              "    <tr style=\"text-align: right;\">\n",
              "      <th></th>\n",
              "      <th>caseid</th>\n",
              "      <th>v190</th>\n",
              "      <th>v116</th>\n",
              "      <th>v113</th>\n",
              "      <th>v136</th>\n",
              "      <th>v025</th>\n",
              "      <th>v137</th>\n",
              "      <th>v151</th>\n",
              "      <th>v212</th>\n",
              "      <th>v501</th>\n",
              "      <th>v106</th>\n",
              "      <th>v438</th>\n",
              "      <th>v437</th>\n",
              "      <th>v445</th>\n",
              "      <th>v701</th>\n",
              "      <th>v714</th>\n",
              "      <th>v704</th>\n",
              "      <th>hw1</th>\n",
              "      <th>b4</th>\n",
              "      <th>b0</th>\n",
              "      <th>v001</th>\n",
              "      <th>v007</th>\n",
              "      <th>logGDPpc</th>\n",
              "      <th>GDPpc</th>\n",
              "      <th>stunted</th>\n",
              "      <th>underweight</th>\n",
              "      <th>wasted</th>\n",
              "    </tr>\n",
              "  </thead>\n",
              "  <tbody>\n",
              "    <tr>\n",
              "      <th>598</th>\n",
              "      <td>36124  5</td>\n",
              "      <td>richest</td>\n",
              "      <td>flush - to septic tank</td>\n",
              "      <td>tube well or borehole</td>\n",
              "      <td>6</td>\n",
              "      <td>urban</td>\n",
              "      <td>1</td>\n",
              "      <td>male</td>\n",
              "      <td>16</td>\n",
              "      <td>married</td>\n",
              "      <td>secondary</td>\n",
              "      <td>1534</td>\n",
              "      <td>462</td>\n",
              "      <td>1963</td>\n",
              "      <td>secondary</td>\n",
              "      <td>no</td>\n",
              "      <td>small business</td>\n",
              "      <td>51.0</td>\n",
              "      <td>female</td>\n",
              "      <td>single birth</td>\n",
              "      <td>36</td>\n",
              "      <td>2007</td>\n",
              "      <td>6.526968</td>\n",
              "      <td>683.322998</td>\n",
              "      <td>1.0</td>\n",
              "      <td>1.0</td>\n",
              "      <td>0.0</td>\n",
              "    </tr>\n",
              "  </tbody>\n",
              "</table>\n",
              "</div>"
            ],
            "text/plain": [
              "              caseid     v190  ... underweight wasted\n",
              "598         36124  5  richest  ...         1.0    0.0\n",
              "\n",
              "[1 rows x 27 columns]"
            ]
          },
          "execution_count": 65,
          "metadata": {
            "tags": []
          },
          "output_type": "execute_result"
        }
      ],
      "source": [
        "selected_data.iloc[[528]]"
      ]
    }
  ],
  "metadata": {
    "colab": {
      "provenance": [],
      "toc_visible": true
    },
    "kernelspec": {
      "display_name": "Python 3",
      "name": "python3"
    }
  },
  "nbformat": 4,
  "nbformat_minor": 0
}
